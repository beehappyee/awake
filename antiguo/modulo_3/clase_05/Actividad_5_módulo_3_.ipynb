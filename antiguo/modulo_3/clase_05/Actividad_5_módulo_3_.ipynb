{
 "nbformat": 4,
 "nbformat_minor": 0,
 "metadata": {
  "colab": {
   "provenance": []
  },
  "kernelspec": {
   "name": "python3",
   "language": "python",
   "display_name": "Python 3 (ipykernel)"
  },
  "language_info": {
   "name": "python"
  }
 },
 "cells": [
  {
   "cell_type": "markdown",
   "source": [
    "# Actividad 5 módulo 3"
   ],
   "metadata": {
    "id": "pip-w671fPoP"
   }
  },
  {
   "cell_type": "markdown",
   "source": [
    "Para este ejercicio, primero debe obtener los datos de gapminder de la URL\n",
    "de carpintería de software y cargarlos como marco de datos de pandas. Los\n",
    "datos de gapminder tienen información sobre la vida útil, la población y el pib\n",
    "de los países durante varios años."
   ],
   "metadata": {
    "id": "ApxZ9gSbfQJr"
   }
  },
  {
   "cell_type": "code",
   "source": [
    "import pandas as pd\n",
    "import seaborn as sns"
   ],
   "metadata": {
    "id": "eKEyZTs5esqf",
    "ExecuteTime": {
     "start_time": "2023-04-28T21:57:49.715214Z",
     "end_time": "2023-04-28T21:57:50.009146Z"
    }
   },
   "execution_count": 2,
   "outputs": []
  },
  {
   "cell_type": "code",
   "execution_count": 3,
   "metadata": {
    "colab": {
     "base_uri": "https://localhost:8080/"
    },
    "id": "TKmbG4pDegwM",
    "outputId": "5eaa055b-17d4-4d38-f3bb-e3ca672d5e77",
    "ExecuteTime": {
     "start_time": "2023-04-28T21:57:49.991100Z",
     "end_time": "2023-04-28T21:57:53.632270Z"
    }
   },
   "outputs": [
    {
     "name": "stdout",
     "output_type": "stream",
     "text": [
      "       country  year         pop continent  lifeExp   gdpPercap\n",
      "0  Afghanistan  1952   8425333.0      Asia   28.801  779.445314\n",
      "1  Afghanistan  1957   9240934.0      Asia   30.332  820.853030\n",
      "2  Afghanistan  1962  10267083.0      Asia   31.997  853.100710\n"
     ]
    }
   ],
   "source": [
    "gapminder_csv_url ='gapminder.csv'\n",
    "gapminder = pd.read_csv(gapminder_csv_url)\n",
    "print(gapminder.head(3))"
   ]
  },
  {
   "cell_type": "code",
   "source": [
    "gapminder"
   ],
   "metadata": {
    "colab": {
     "base_uri": "https://localhost:8080/",
     "height": 424
    },
    "id": "fpFWyiYjfDW7",
    "outputId": "e0c17bb2-cfaf-4afe-aa62-8f3bb5412d72",
    "ExecuteTime": {
     "start_time": "2023-04-28T21:57:53.633269Z",
     "end_time": "2023-04-28T21:57:53.732056Z"
    }
   },
   "execution_count": 4,
   "outputs": [
    {
     "data": {
      "text/plain": "          country  year         pop continent  lifeExp   gdpPercap\n0     Afghanistan  1952   8425333.0      Asia   28.801  779.445314\n1     Afghanistan  1957   9240934.0      Asia   30.332  820.853030\n2     Afghanistan  1962  10267083.0      Asia   31.997  853.100710\n3     Afghanistan  1967  11537966.0      Asia   34.020  836.197138\n4     Afghanistan  1972  13079460.0      Asia   36.088  739.981106\n...           ...   ...         ...       ...      ...         ...\n1699     Zimbabwe  1987   9216418.0    Africa   62.351  706.157306\n1700     Zimbabwe  1992  10704340.0    Africa   60.377  693.420786\n1701     Zimbabwe  1997  11404948.0    Africa   46.809  792.449960\n1702     Zimbabwe  2002  11926563.0    Africa   39.989  672.038623\n1703     Zimbabwe  2007  12311143.0    Africa   43.487  469.709298\n\n[1704 rows x 6 columns]",
      "text/html": "<div>\n<style scoped>\n    .dataframe tbody tr th:only-of-type {\n        vertical-align: middle;\n    }\n\n    .dataframe tbody tr th {\n        vertical-align: top;\n    }\n\n    .dataframe thead th {\n        text-align: right;\n    }\n</style>\n<table border=\"1\" class=\"dataframe\">\n  <thead>\n    <tr style=\"text-align: right;\">\n      <th></th>\n      <th>country</th>\n      <th>year</th>\n      <th>pop</th>\n      <th>continent</th>\n      <th>lifeExp</th>\n      <th>gdpPercap</th>\n    </tr>\n  </thead>\n  <tbody>\n    <tr>\n      <th>0</th>\n      <td>Afghanistan</td>\n      <td>1952</td>\n      <td>8425333.0</td>\n      <td>Asia</td>\n      <td>28.801</td>\n      <td>779.445314</td>\n    </tr>\n    <tr>\n      <th>1</th>\n      <td>Afghanistan</td>\n      <td>1957</td>\n      <td>9240934.0</td>\n      <td>Asia</td>\n      <td>30.332</td>\n      <td>820.853030</td>\n    </tr>\n    <tr>\n      <th>2</th>\n      <td>Afghanistan</td>\n      <td>1962</td>\n      <td>10267083.0</td>\n      <td>Asia</td>\n      <td>31.997</td>\n      <td>853.100710</td>\n    </tr>\n    <tr>\n      <th>3</th>\n      <td>Afghanistan</td>\n      <td>1967</td>\n      <td>11537966.0</td>\n      <td>Asia</td>\n      <td>34.020</td>\n      <td>836.197138</td>\n    </tr>\n    <tr>\n      <th>4</th>\n      <td>Afghanistan</td>\n      <td>1972</td>\n      <td>13079460.0</td>\n      <td>Asia</td>\n      <td>36.088</td>\n      <td>739.981106</td>\n    </tr>\n    <tr>\n      <th>...</th>\n      <td>...</td>\n      <td>...</td>\n      <td>...</td>\n      <td>...</td>\n      <td>...</td>\n      <td>...</td>\n    </tr>\n    <tr>\n      <th>1699</th>\n      <td>Zimbabwe</td>\n      <td>1987</td>\n      <td>9216418.0</td>\n      <td>Africa</td>\n      <td>62.351</td>\n      <td>706.157306</td>\n    </tr>\n    <tr>\n      <th>1700</th>\n      <td>Zimbabwe</td>\n      <td>1992</td>\n      <td>10704340.0</td>\n      <td>Africa</td>\n      <td>60.377</td>\n      <td>693.420786</td>\n    </tr>\n    <tr>\n      <th>1701</th>\n      <td>Zimbabwe</td>\n      <td>1997</td>\n      <td>11404948.0</td>\n      <td>Africa</td>\n      <td>46.809</td>\n      <td>792.449960</td>\n    </tr>\n    <tr>\n      <th>1702</th>\n      <td>Zimbabwe</td>\n      <td>2002</td>\n      <td>11926563.0</td>\n      <td>Africa</td>\n      <td>39.989</td>\n      <td>672.038623</td>\n    </tr>\n    <tr>\n      <th>1703</th>\n      <td>Zimbabwe</td>\n      <td>2007</td>\n      <td>12311143.0</td>\n      <td>Africa</td>\n      <td>43.487</td>\n      <td>469.709298</td>\n    </tr>\n  </tbody>\n</table>\n<p>1704 rows × 6 columns</p>\n</div>"
     },
     "execution_count": 4,
     "metadata": {},
     "output_type": "execute_result"
    }
   ]
  },
  {
   "cell_type": "markdown",
   "source": [
    "A partir de esto, realice lo siguiente:\n",
    "\n",
    "1. Realice un resumen estadístico de sus datos."
   ],
   "metadata": {
    "id": "30moWvDPgdLF"
   }
  },
  {
   "cell_type": "code",
   "source": [
    "gapminder.describe()"
   ],
   "metadata": {
    "colab": {
     "base_uri": "https://localhost:8080/",
     "height": 300
    },
    "id": "Kdp2Xw0OfGvu",
    "outputId": "bb99562f-6b1d-4bd1-d4d4-4f35f3821583",
    "ExecuteTime": {
     "start_time": "2023-04-28T21:57:53.719467Z",
     "end_time": "2023-04-28T21:57:53.845424Z"
    }
   },
   "execution_count": 5,
   "outputs": [
    {
     "data": {
      "text/plain": "             year           pop      lifeExp      gdpPercap\ncount  1704.00000  1.704000e+03  1704.000000    1704.000000\nmean   1979.50000  2.960121e+07    59.474439    7215.327081\nstd      17.26533  1.061579e+08    12.917107    9857.454543\nmin    1952.00000  6.001100e+04    23.599000     241.165876\n25%    1965.75000  2.793664e+06    48.198000    1202.060309\n50%    1979.50000  7.023596e+06    60.712500    3531.846988\n75%    1993.25000  1.958522e+07    70.845500    9325.462346\nmax    2007.00000  1.318683e+09    82.603000  113523.132900",
      "text/html": "<div>\n<style scoped>\n    .dataframe tbody tr th:only-of-type {\n        vertical-align: middle;\n    }\n\n    .dataframe tbody tr th {\n        vertical-align: top;\n    }\n\n    .dataframe thead th {\n        text-align: right;\n    }\n</style>\n<table border=\"1\" class=\"dataframe\">\n  <thead>\n    <tr style=\"text-align: right;\">\n      <th></th>\n      <th>year</th>\n      <th>pop</th>\n      <th>lifeExp</th>\n      <th>gdpPercap</th>\n    </tr>\n  </thead>\n  <tbody>\n    <tr>\n      <th>count</th>\n      <td>1704.00000</td>\n      <td>1.704000e+03</td>\n      <td>1704.000000</td>\n      <td>1704.000000</td>\n    </tr>\n    <tr>\n      <th>mean</th>\n      <td>1979.50000</td>\n      <td>2.960121e+07</td>\n      <td>59.474439</td>\n      <td>7215.327081</td>\n    </tr>\n    <tr>\n      <th>std</th>\n      <td>17.26533</td>\n      <td>1.061579e+08</td>\n      <td>12.917107</td>\n      <td>9857.454543</td>\n    </tr>\n    <tr>\n      <th>min</th>\n      <td>1952.00000</td>\n      <td>6.001100e+04</td>\n      <td>23.599000</td>\n      <td>241.165876</td>\n    </tr>\n    <tr>\n      <th>25%</th>\n      <td>1965.75000</td>\n      <td>2.793664e+06</td>\n      <td>48.198000</td>\n      <td>1202.060309</td>\n    </tr>\n    <tr>\n      <th>50%</th>\n      <td>1979.50000</td>\n      <td>7.023596e+06</td>\n      <td>60.712500</td>\n      <td>3531.846988</td>\n    </tr>\n    <tr>\n      <th>75%</th>\n      <td>1993.25000</td>\n      <td>1.958522e+07</td>\n      <td>70.845500</td>\n      <td>9325.462346</td>\n    </tr>\n    <tr>\n      <th>max</th>\n      <td>2007.00000</td>\n      <td>1.318683e+09</td>\n      <td>82.603000</td>\n      <td>113523.132900</td>\n    </tr>\n  </tbody>\n</table>\n</div>"
     },
     "execution_count": 5,
     "metadata": {},
     "output_type": "execute_result"
    }
   ]
  },
  {
   "cell_type": "markdown",
   "source": [
    "\n",
    "\n",
    "2. Agrupe por la variable “año”. Comente respecto al resultado al usar\n",
    "groupby."
   ],
   "metadata": {
    "id": "X_8JoD7ngTAO"
   }
  },
  {
   "cell_type": "code",
   "source": [
    "gapminder.groupby(['year']).aggregate(['mean','median','max'])"
   ],
   "metadata": {
    "colab": {
     "base_uri": "https://localhost:8080/",
     "height": 524
    },
    "id": "ZYiyYICmghxQ",
    "outputId": "caf92490-0289-4710-f8c7-8eddee4606ac",
    "ExecuteTime": {
     "start_time": "2023-04-28T21:57:53.795271Z",
     "end_time": "2023-04-28T21:57:54.061725Z"
    }
   },
   "execution_count": 6,
   "outputs": [
    {
     "name": "stderr",
     "output_type": "stream",
     "text": [
      "C:\\Users\\abaci\\AppData\\Local\\Temp\\ipykernel_42360\\3393800581.py:1: FutureWarning: ['country', 'continent'] did not aggregate successfully. If any error is raised this will raise in a future version of pandas. Drop these columns/ops to avoid this warning.\n",
      "  gapminder.groupby(['year']).aggregate(['mean','median','max'])\n"
     ]
    },
    {
     "data": {
      "text/plain": "               pop                              lifeExp                   \\\n              mean      median           max       mean   median     max   \nyear                                                                       \n1952  1.695040e+07   3943953.0  5.562635e+08  49.057620  45.1355  72.670   \n1957  1.876341e+07   4282942.0  6.374080e+08  51.507401  48.3605  73.470   \n1962  2.042101e+07   4686039.5  6.657700e+08  53.609249  50.8810  73.680   \n1967  2.265830e+07   5170175.5  7.545500e+08  55.678290  53.8250  74.160   \n1972  2.518998e+07   5877996.5  8.620300e+08  57.647386  56.5300  74.720   \n1977  2.767638e+07   6404036.5  9.434550e+08  59.570157  59.6720  76.110   \n1982  3.020730e+07   7007320.0  1.000281e+09  61.533197  62.4415  77.110   \n1987  3.303857e+07   7774861.5  1.084035e+09  63.212613  65.8340  78.670   \n1992  3.599092e+07   8688686.5  1.164970e+09  64.160338  67.7030  79.360   \n1997  3.883947e+07   9735063.5  1.230075e+09  65.014676  69.3940  80.690   \n2002  4.145759e+07  10372918.5  1.280400e+09  65.694923  70.8255  82.000   \n2007  4.402122e+07  10517531.0  1.318683e+09  67.007423  71.9355  82.603   \n\n         gdpPercap                             \n              mean       median           max  \nyear                                           \n1952   3725.276046  1968.528344  108382.35290  \n1957   4299.408345  2173.220291  113523.13290  \n1962   4725.812342  2335.439533   95458.11176  \n1967   5483.653047  2678.334740   80894.88326  \n1972   6770.082815  3339.129407  109347.86700  \n1977   7313.166421  3798.609244   59265.47714  \n1982   7518.901673  4216.228428   33693.17525  \n1987   7900.920218  4280.300366   31540.97480  \n1992   8158.608521  4386.085502   34932.91959  \n1997   9090.175363  4781.825478   41283.16433  \n2002   9917.848365  5319.804524   44683.97525  \n2007  11680.071820  6124.371108   49357.19017  ",
      "text/html": "<div>\n<style scoped>\n    .dataframe tbody tr th:only-of-type {\n        vertical-align: middle;\n    }\n\n    .dataframe tbody tr th {\n        vertical-align: top;\n    }\n\n    .dataframe thead tr th {\n        text-align: left;\n    }\n\n    .dataframe thead tr:last-of-type th {\n        text-align: right;\n    }\n</style>\n<table border=\"1\" class=\"dataframe\">\n  <thead>\n    <tr>\n      <th></th>\n      <th colspan=\"3\" halign=\"left\">pop</th>\n      <th colspan=\"3\" halign=\"left\">lifeExp</th>\n      <th colspan=\"3\" halign=\"left\">gdpPercap</th>\n    </tr>\n    <tr>\n      <th></th>\n      <th>mean</th>\n      <th>median</th>\n      <th>max</th>\n      <th>mean</th>\n      <th>median</th>\n      <th>max</th>\n      <th>mean</th>\n      <th>median</th>\n      <th>max</th>\n    </tr>\n    <tr>\n      <th>year</th>\n      <th></th>\n      <th></th>\n      <th></th>\n      <th></th>\n      <th></th>\n      <th></th>\n      <th></th>\n      <th></th>\n      <th></th>\n    </tr>\n  </thead>\n  <tbody>\n    <tr>\n      <th>1952</th>\n      <td>1.695040e+07</td>\n      <td>3943953.0</td>\n      <td>5.562635e+08</td>\n      <td>49.057620</td>\n      <td>45.1355</td>\n      <td>72.670</td>\n      <td>3725.276046</td>\n      <td>1968.528344</td>\n      <td>108382.35290</td>\n    </tr>\n    <tr>\n      <th>1957</th>\n      <td>1.876341e+07</td>\n      <td>4282942.0</td>\n      <td>6.374080e+08</td>\n      <td>51.507401</td>\n      <td>48.3605</td>\n      <td>73.470</td>\n      <td>4299.408345</td>\n      <td>2173.220291</td>\n      <td>113523.13290</td>\n    </tr>\n    <tr>\n      <th>1962</th>\n      <td>2.042101e+07</td>\n      <td>4686039.5</td>\n      <td>6.657700e+08</td>\n      <td>53.609249</td>\n      <td>50.8810</td>\n      <td>73.680</td>\n      <td>4725.812342</td>\n      <td>2335.439533</td>\n      <td>95458.11176</td>\n    </tr>\n    <tr>\n      <th>1967</th>\n      <td>2.265830e+07</td>\n      <td>5170175.5</td>\n      <td>7.545500e+08</td>\n      <td>55.678290</td>\n      <td>53.8250</td>\n      <td>74.160</td>\n      <td>5483.653047</td>\n      <td>2678.334740</td>\n      <td>80894.88326</td>\n    </tr>\n    <tr>\n      <th>1972</th>\n      <td>2.518998e+07</td>\n      <td>5877996.5</td>\n      <td>8.620300e+08</td>\n      <td>57.647386</td>\n      <td>56.5300</td>\n      <td>74.720</td>\n      <td>6770.082815</td>\n      <td>3339.129407</td>\n      <td>109347.86700</td>\n    </tr>\n    <tr>\n      <th>1977</th>\n      <td>2.767638e+07</td>\n      <td>6404036.5</td>\n      <td>9.434550e+08</td>\n      <td>59.570157</td>\n      <td>59.6720</td>\n      <td>76.110</td>\n      <td>7313.166421</td>\n      <td>3798.609244</td>\n      <td>59265.47714</td>\n    </tr>\n    <tr>\n      <th>1982</th>\n      <td>3.020730e+07</td>\n      <td>7007320.0</td>\n      <td>1.000281e+09</td>\n      <td>61.533197</td>\n      <td>62.4415</td>\n      <td>77.110</td>\n      <td>7518.901673</td>\n      <td>4216.228428</td>\n      <td>33693.17525</td>\n    </tr>\n    <tr>\n      <th>1987</th>\n      <td>3.303857e+07</td>\n      <td>7774861.5</td>\n      <td>1.084035e+09</td>\n      <td>63.212613</td>\n      <td>65.8340</td>\n      <td>78.670</td>\n      <td>7900.920218</td>\n      <td>4280.300366</td>\n      <td>31540.97480</td>\n    </tr>\n    <tr>\n      <th>1992</th>\n      <td>3.599092e+07</td>\n      <td>8688686.5</td>\n      <td>1.164970e+09</td>\n      <td>64.160338</td>\n      <td>67.7030</td>\n      <td>79.360</td>\n      <td>8158.608521</td>\n      <td>4386.085502</td>\n      <td>34932.91959</td>\n    </tr>\n    <tr>\n      <th>1997</th>\n      <td>3.883947e+07</td>\n      <td>9735063.5</td>\n      <td>1.230075e+09</td>\n      <td>65.014676</td>\n      <td>69.3940</td>\n      <td>80.690</td>\n      <td>9090.175363</td>\n      <td>4781.825478</td>\n      <td>41283.16433</td>\n    </tr>\n    <tr>\n      <th>2002</th>\n      <td>4.145759e+07</td>\n      <td>10372918.5</td>\n      <td>1.280400e+09</td>\n      <td>65.694923</td>\n      <td>70.8255</td>\n      <td>82.000</td>\n      <td>9917.848365</td>\n      <td>5319.804524</td>\n      <td>44683.97525</td>\n    </tr>\n    <tr>\n      <th>2007</th>\n      <td>4.402122e+07</td>\n      <td>10517531.0</td>\n      <td>1.318683e+09</td>\n      <td>67.007423</td>\n      <td>71.9355</td>\n      <td>82.603</td>\n      <td>11680.071820</td>\n      <td>6124.371108</td>\n      <td>49357.19017</td>\n    </tr>\n  </tbody>\n</table>\n</div>"
     },
     "execution_count": 6,
     "metadata": {},
     "output_type": "execute_result"
    }
   ]
  },
  {
   "cell_type": "markdown",
   "source": [
    "3. Ahora obtenga la suma (la cantidad), la media y la mediana para cada\n",
    "grupo, es decir, por año."
   ],
   "metadata": {
    "id": "n-cVRMw5giak"
   }
  },
  {
   "cell_type": "code",
   "source": [
    "gapminder.groupby('year').aggregate(['sum','mean','median'])"
   ],
   "metadata": {
    "colab": {
     "base_uri": "https://localhost:8080/",
     "height": 524
    },
    "id": "C__wz7I4gqkq",
    "outputId": "97a9feb4-7cb5-41ea-ca27-6c3dd1bab753",
    "ExecuteTime": {
     "start_time": "2023-04-28T21:57:53.975921Z",
     "end_time": "2023-04-28T21:57:54.260111Z"
    }
   },
   "execution_count": 7,
   "outputs": [
    {
     "name": "stderr",
     "output_type": "stream",
     "text": [
      "C:\\Users\\abaci\\AppData\\Local\\Temp\\ipykernel_42360\\4162069643.py:1: FutureWarning: ['country', 'continent'] did not aggregate successfully. If any error is raised this will raise in a future version of pandas. Drop these columns/ops to avoid this warning.\n",
      "  gapminder.groupby('year').aggregate(['sum','mean','median'])\n"
     ]
    },
    {
     "data": {
      "text/plain": "               pop                               lifeExp                      \\\n               sum          mean      median         sum       mean   median   \nyear                                                                           \n1952  2.406957e+09  1.695040e+07   3943953.0  6966.18200  49.057620  45.1355   \n1957  2.664405e+09  1.876341e+07   4282942.0  7314.05096  51.507401  48.3605   \n1962  2.899783e+09  2.042101e+07   4686039.5  7612.51336  53.609249  50.8810   \n1967  3.217478e+09  2.265830e+07   5170175.5  7906.31712  55.678290  53.8250   \n1972  3.576977e+09  2.518998e+07   5877996.5  8185.92888  57.647386  56.5300   \n1977  3.930046e+09  2.767638e+07   6404036.5  8458.96236  59.570157  59.6720   \n1982  4.289437e+09  3.020730e+07   7007320.0  8737.71400  61.533197  62.4415   \n1987  4.691477e+09  3.303857e+07   7774861.5  8976.19100  63.212613  65.8340   \n1992  5.110710e+09  3.599092e+07   8688686.5  9110.76800  64.160338  67.7030   \n1997  5.515204e+09  3.883947e+07   9735063.5  9232.08400  65.014676  69.3940   \n2002  5.886978e+09  4.145759e+07  10372918.5  9328.67900  65.694923  70.8255   \n2007  6.251013e+09  4.402122e+07  10517531.0  9515.05400  67.007423  71.9355   \n\n         gdpPercap                             \n               sum          mean       median  \nyear                                           \n1952  5.289892e+05   3725.276046  1968.528344  \n1957  6.105160e+05   4299.408345  2173.220291  \n1962  6.710654e+05   4725.812342  2335.439533  \n1967  7.786787e+05   5483.653047  2678.334740  \n1972  9.613518e+05   6770.082815  3339.129407  \n1977  1.038470e+06   7313.166421  3798.609244  \n1982  1.067684e+06   7518.901673  4216.228428  \n1987  1.121931e+06   7900.920218  4280.300366  \n1992  1.158522e+06   8158.608521  4386.085502  \n1997  1.290805e+06   9090.175363  4781.825478  \n2002  1.408334e+06   9917.848365  5319.804524  \n2007  1.658570e+06  11680.071820  6124.371108  ",
      "text/html": "<div>\n<style scoped>\n    .dataframe tbody tr th:only-of-type {\n        vertical-align: middle;\n    }\n\n    .dataframe tbody tr th {\n        vertical-align: top;\n    }\n\n    .dataframe thead tr th {\n        text-align: left;\n    }\n\n    .dataframe thead tr:last-of-type th {\n        text-align: right;\n    }\n</style>\n<table border=\"1\" class=\"dataframe\">\n  <thead>\n    <tr>\n      <th></th>\n      <th colspan=\"3\" halign=\"left\">pop</th>\n      <th colspan=\"3\" halign=\"left\">lifeExp</th>\n      <th colspan=\"3\" halign=\"left\">gdpPercap</th>\n    </tr>\n    <tr>\n      <th></th>\n      <th>sum</th>\n      <th>mean</th>\n      <th>median</th>\n      <th>sum</th>\n      <th>mean</th>\n      <th>median</th>\n      <th>sum</th>\n      <th>mean</th>\n      <th>median</th>\n    </tr>\n    <tr>\n      <th>year</th>\n      <th></th>\n      <th></th>\n      <th></th>\n      <th></th>\n      <th></th>\n      <th></th>\n      <th></th>\n      <th></th>\n      <th></th>\n    </tr>\n  </thead>\n  <tbody>\n    <tr>\n      <th>1952</th>\n      <td>2.406957e+09</td>\n      <td>1.695040e+07</td>\n      <td>3943953.0</td>\n      <td>6966.18200</td>\n      <td>49.057620</td>\n      <td>45.1355</td>\n      <td>5.289892e+05</td>\n      <td>3725.276046</td>\n      <td>1968.528344</td>\n    </tr>\n    <tr>\n      <th>1957</th>\n      <td>2.664405e+09</td>\n      <td>1.876341e+07</td>\n      <td>4282942.0</td>\n      <td>7314.05096</td>\n      <td>51.507401</td>\n      <td>48.3605</td>\n      <td>6.105160e+05</td>\n      <td>4299.408345</td>\n      <td>2173.220291</td>\n    </tr>\n    <tr>\n      <th>1962</th>\n      <td>2.899783e+09</td>\n      <td>2.042101e+07</td>\n      <td>4686039.5</td>\n      <td>7612.51336</td>\n      <td>53.609249</td>\n      <td>50.8810</td>\n      <td>6.710654e+05</td>\n      <td>4725.812342</td>\n      <td>2335.439533</td>\n    </tr>\n    <tr>\n      <th>1967</th>\n      <td>3.217478e+09</td>\n      <td>2.265830e+07</td>\n      <td>5170175.5</td>\n      <td>7906.31712</td>\n      <td>55.678290</td>\n      <td>53.8250</td>\n      <td>7.786787e+05</td>\n      <td>5483.653047</td>\n      <td>2678.334740</td>\n    </tr>\n    <tr>\n      <th>1972</th>\n      <td>3.576977e+09</td>\n      <td>2.518998e+07</td>\n      <td>5877996.5</td>\n      <td>8185.92888</td>\n      <td>57.647386</td>\n      <td>56.5300</td>\n      <td>9.613518e+05</td>\n      <td>6770.082815</td>\n      <td>3339.129407</td>\n    </tr>\n    <tr>\n      <th>1977</th>\n      <td>3.930046e+09</td>\n      <td>2.767638e+07</td>\n      <td>6404036.5</td>\n      <td>8458.96236</td>\n      <td>59.570157</td>\n      <td>59.6720</td>\n      <td>1.038470e+06</td>\n      <td>7313.166421</td>\n      <td>3798.609244</td>\n    </tr>\n    <tr>\n      <th>1982</th>\n      <td>4.289437e+09</td>\n      <td>3.020730e+07</td>\n      <td>7007320.0</td>\n      <td>8737.71400</td>\n      <td>61.533197</td>\n      <td>62.4415</td>\n      <td>1.067684e+06</td>\n      <td>7518.901673</td>\n      <td>4216.228428</td>\n    </tr>\n    <tr>\n      <th>1987</th>\n      <td>4.691477e+09</td>\n      <td>3.303857e+07</td>\n      <td>7774861.5</td>\n      <td>8976.19100</td>\n      <td>63.212613</td>\n      <td>65.8340</td>\n      <td>1.121931e+06</td>\n      <td>7900.920218</td>\n      <td>4280.300366</td>\n    </tr>\n    <tr>\n      <th>1992</th>\n      <td>5.110710e+09</td>\n      <td>3.599092e+07</td>\n      <td>8688686.5</td>\n      <td>9110.76800</td>\n      <td>64.160338</td>\n      <td>67.7030</td>\n      <td>1.158522e+06</td>\n      <td>8158.608521</td>\n      <td>4386.085502</td>\n    </tr>\n    <tr>\n      <th>1997</th>\n      <td>5.515204e+09</td>\n      <td>3.883947e+07</td>\n      <td>9735063.5</td>\n      <td>9232.08400</td>\n      <td>65.014676</td>\n      <td>69.3940</td>\n      <td>1.290805e+06</td>\n      <td>9090.175363</td>\n      <td>4781.825478</td>\n    </tr>\n    <tr>\n      <th>2002</th>\n      <td>5.886978e+09</td>\n      <td>4.145759e+07</td>\n      <td>10372918.5</td>\n      <td>9328.67900</td>\n      <td>65.694923</td>\n      <td>70.8255</td>\n      <td>1.408334e+06</td>\n      <td>9917.848365</td>\n      <td>5319.804524</td>\n    </tr>\n    <tr>\n      <th>2007</th>\n      <td>6.251013e+09</td>\n      <td>4.402122e+07</td>\n      <td>10517531.0</td>\n      <td>9515.05400</td>\n      <td>67.007423</td>\n      <td>71.9355</td>\n      <td>1.658570e+06</td>\n      <td>11680.071820</td>\n      <td>6124.371108</td>\n    </tr>\n  </tbody>\n</table>\n</div>"
     },
     "execution_count": 7,
     "metadata": {},
     "output_type": "execute_result"
    }
   ]
  },
  {
   "cell_type": "code",
   "source": [
    "gapminder.groupby(['year', 'country']).aggregate(['sum','mean','median'])"
   ],
   "metadata": {
    "colab": {
     "base_uri": "https://localhost:8080/",
     "height": 522
    },
    "id": "F5SPgi1hlBzY",
    "outputId": "6d737519-9be0-40c9-ee48-cb8d208beddf",
    "ExecuteTime": {
     "start_time": "2023-04-28T21:57:54.122031Z",
     "end_time": "2023-04-28T21:57:54.370510Z"
    }
   },
   "execution_count": 8,
   "outputs": [
    {
     "name": "stderr",
     "output_type": "stream",
     "text": [
      "C:\\Users\\abaci\\AppData\\Local\\Temp\\ipykernel_42360\\380224986.py:1: FutureWarning: ['continent'] did not aggregate successfully. If any error is raised this will raise in a future version of pandas. Drop these columns/ops to avoid this warning.\n",
      "  gapminder.groupby(['year', 'country']).aggregate(['sum','mean','median'])\n"
     ]
    },
    {
     "data": {
      "text/plain": "                                pop                         lifeExp          \\\n                                sum        mean      median     sum    mean   \nyear country                                                                  \n1952 Afghanistan          8425333.0   8425333.0   8425333.0  28.801  28.801   \n     Albania              1282697.0   1282697.0   1282697.0  55.230  55.230   \n     Algeria              9279525.0   9279525.0   9279525.0  43.077  43.077   \n     Angola               4232095.0   4232095.0   4232095.0  30.015  30.015   \n     Argentina           17876956.0  17876956.0  17876956.0  62.485  62.485   \n...                             ...         ...         ...     ...     ...   \n2007 Vietnam             85262356.0  85262356.0  85262356.0  74.249  74.249   \n     West Bank and Gaza   4018332.0   4018332.0   4018332.0  73.422  73.422   \n     Yemen Rep.          22211743.0  22211743.0  22211743.0  62.698  62.698   \n     Zambia              11746035.0  11746035.0  11746035.0  42.384  42.384   \n     Zimbabwe            12311143.0  12311143.0  12311143.0  43.487  43.487   \n\n                                   gdpPercap                            \n                         median          sum         mean       median  \nyear country                                                            \n1952 Afghanistan         28.801   779.445314   779.445314   779.445314  \n     Albania             55.230  1601.056136  1601.056136  1601.056136  \n     Algeria             43.077  2449.008185  2449.008185  2449.008185  \n     Angola              30.015  3520.610273  3520.610273  3520.610273  \n     Argentina           62.485  5911.315053  5911.315053  5911.315053  \n...                         ...          ...          ...          ...  \n2007 Vietnam             74.249  2441.576404  2441.576404  2441.576404  \n     West Bank and Gaza  73.422  3025.349798  3025.349798  3025.349798  \n     Yemen Rep.          62.698  2280.769906  2280.769906  2280.769906  \n     Zambia              42.384  1271.211593  1271.211593  1271.211593  \n     Zimbabwe            43.487   469.709298   469.709298   469.709298  \n\n[1704 rows x 9 columns]",
      "text/html": "<div>\n<style scoped>\n    .dataframe tbody tr th:only-of-type {\n        vertical-align: middle;\n    }\n\n    .dataframe tbody tr th {\n        vertical-align: top;\n    }\n\n    .dataframe thead tr th {\n        text-align: left;\n    }\n\n    .dataframe thead tr:last-of-type th {\n        text-align: right;\n    }\n</style>\n<table border=\"1\" class=\"dataframe\">\n  <thead>\n    <tr>\n      <th></th>\n      <th></th>\n      <th colspan=\"3\" halign=\"left\">pop</th>\n      <th colspan=\"3\" halign=\"left\">lifeExp</th>\n      <th colspan=\"3\" halign=\"left\">gdpPercap</th>\n    </tr>\n    <tr>\n      <th></th>\n      <th></th>\n      <th>sum</th>\n      <th>mean</th>\n      <th>median</th>\n      <th>sum</th>\n      <th>mean</th>\n      <th>median</th>\n      <th>sum</th>\n      <th>mean</th>\n      <th>median</th>\n    </tr>\n    <tr>\n      <th>year</th>\n      <th>country</th>\n      <th></th>\n      <th></th>\n      <th></th>\n      <th></th>\n      <th></th>\n      <th></th>\n      <th></th>\n      <th></th>\n      <th></th>\n    </tr>\n  </thead>\n  <tbody>\n    <tr>\n      <th rowspan=\"5\" valign=\"top\">1952</th>\n      <th>Afghanistan</th>\n      <td>8425333.0</td>\n      <td>8425333.0</td>\n      <td>8425333.0</td>\n      <td>28.801</td>\n      <td>28.801</td>\n      <td>28.801</td>\n      <td>779.445314</td>\n      <td>779.445314</td>\n      <td>779.445314</td>\n    </tr>\n    <tr>\n      <th>Albania</th>\n      <td>1282697.0</td>\n      <td>1282697.0</td>\n      <td>1282697.0</td>\n      <td>55.230</td>\n      <td>55.230</td>\n      <td>55.230</td>\n      <td>1601.056136</td>\n      <td>1601.056136</td>\n      <td>1601.056136</td>\n    </tr>\n    <tr>\n      <th>Algeria</th>\n      <td>9279525.0</td>\n      <td>9279525.0</td>\n      <td>9279525.0</td>\n      <td>43.077</td>\n      <td>43.077</td>\n      <td>43.077</td>\n      <td>2449.008185</td>\n      <td>2449.008185</td>\n      <td>2449.008185</td>\n    </tr>\n    <tr>\n      <th>Angola</th>\n      <td>4232095.0</td>\n      <td>4232095.0</td>\n      <td>4232095.0</td>\n      <td>30.015</td>\n      <td>30.015</td>\n      <td>30.015</td>\n      <td>3520.610273</td>\n      <td>3520.610273</td>\n      <td>3520.610273</td>\n    </tr>\n    <tr>\n      <th>Argentina</th>\n      <td>17876956.0</td>\n      <td>17876956.0</td>\n      <td>17876956.0</td>\n      <td>62.485</td>\n      <td>62.485</td>\n      <td>62.485</td>\n      <td>5911.315053</td>\n      <td>5911.315053</td>\n      <td>5911.315053</td>\n    </tr>\n    <tr>\n      <th>...</th>\n      <th>...</th>\n      <td>...</td>\n      <td>...</td>\n      <td>...</td>\n      <td>...</td>\n      <td>...</td>\n      <td>...</td>\n      <td>...</td>\n      <td>...</td>\n      <td>...</td>\n    </tr>\n    <tr>\n      <th rowspan=\"5\" valign=\"top\">2007</th>\n      <th>Vietnam</th>\n      <td>85262356.0</td>\n      <td>85262356.0</td>\n      <td>85262356.0</td>\n      <td>74.249</td>\n      <td>74.249</td>\n      <td>74.249</td>\n      <td>2441.576404</td>\n      <td>2441.576404</td>\n      <td>2441.576404</td>\n    </tr>\n    <tr>\n      <th>West Bank and Gaza</th>\n      <td>4018332.0</td>\n      <td>4018332.0</td>\n      <td>4018332.0</td>\n      <td>73.422</td>\n      <td>73.422</td>\n      <td>73.422</td>\n      <td>3025.349798</td>\n      <td>3025.349798</td>\n      <td>3025.349798</td>\n    </tr>\n    <tr>\n      <th>Yemen Rep.</th>\n      <td>22211743.0</td>\n      <td>22211743.0</td>\n      <td>22211743.0</td>\n      <td>62.698</td>\n      <td>62.698</td>\n      <td>62.698</td>\n      <td>2280.769906</td>\n      <td>2280.769906</td>\n      <td>2280.769906</td>\n    </tr>\n    <tr>\n      <th>Zambia</th>\n      <td>11746035.0</td>\n      <td>11746035.0</td>\n      <td>11746035.0</td>\n      <td>42.384</td>\n      <td>42.384</td>\n      <td>42.384</td>\n      <td>1271.211593</td>\n      <td>1271.211593</td>\n      <td>1271.211593</td>\n    </tr>\n    <tr>\n      <th>Zimbabwe</th>\n      <td>12311143.0</td>\n      <td>12311143.0</td>\n      <td>12311143.0</td>\n      <td>43.487</td>\n      <td>43.487</td>\n      <td>43.487</td>\n      <td>469.709298</td>\n      <td>469.709298</td>\n      <td>469.709298</td>\n    </tr>\n  </tbody>\n</table>\n<p>1704 rows × 9 columns</p>\n</div>"
     },
     "execution_count": 8,
     "metadata": {},
     "output_type": "execute_result"
    }
   ]
  },
  {
   "cell_type": "code",
   "source": [
    "gapminder.agg(                          \n",
    "    {\n",
    "        'pop': ['sum'],\n",
    "        'lifeExp': ['mean', 'median'],\n",
    "        'gdpPercap' : ['mean', 'median'],\n",
    "        \n",
    "    }\n",
    ")"
   ],
   "metadata": {
    "colab": {
     "base_uri": "https://localhost:8080/",
     "height": 143
    },
    "id": "-ROU4dmrihZo",
    "outputId": "13143989-6e8e-4f18-bcac-e346d90f10c4",
    "ExecuteTime": {
     "start_time": "2023-04-28T21:57:54.273627Z",
     "end_time": "2023-04-28T21:57:54.779416Z"
    }
   },
   "execution_count": 9,
   "outputs": [
    {
     "data": {
      "text/plain": "                 pop    lifeExp    gdpPercap\nsum     5.044047e+10        NaN          NaN\nmean             NaN  59.474439  7215.327081\nmedian           NaN  60.712500  3531.846988",
      "text/html": "<div>\n<style scoped>\n    .dataframe tbody tr th:only-of-type {\n        vertical-align: middle;\n    }\n\n    .dataframe tbody tr th {\n        vertical-align: top;\n    }\n\n    .dataframe thead th {\n        text-align: right;\n    }\n</style>\n<table border=\"1\" class=\"dataframe\">\n  <thead>\n    <tr style=\"text-align: right;\">\n      <th></th>\n      <th>pop</th>\n      <th>lifeExp</th>\n      <th>gdpPercap</th>\n    </tr>\n  </thead>\n  <tbody>\n    <tr>\n      <th>sum</th>\n      <td>5.044047e+10</td>\n      <td>NaN</td>\n      <td>NaN</td>\n    </tr>\n    <tr>\n      <th>mean</th>\n      <td>NaN</td>\n      <td>59.474439</td>\n      <td>7215.327081</td>\n    </tr>\n    <tr>\n      <th>median</th>\n      <td>NaN</td>\n      <td>60.712500</td>\n      <td>3531.846988</td>\n    </tr>\n  </tbody>\n</table>\n</div>"
     },
     "execution_count": 9,
     "metadata": {},
     "output_type": "execute_result"
    }
   ]
  },
  {
   "cell_type": "markdown",
   "source": [
    "4. ¿Sabías que en 1967 en Chile se inaugura el Aeropuerto Internacional\n",
    "Arturo Merino Benítez? Usando estos datos se puede especificar un año\n",
    "y obtener un marco de datos más pequeño para el año usando la función\n",
    "get_group(). Por ejemplo, podemos obtener el marco de datos\n",
    "agrupados para el año 1967. Comenta tus resultados. Escoge otro año\n",
    "explicando el porqué de la elección y qué resultados obtuviste."
   ],
   "metadata": {
    "id": "_KgIrqpggrJn"
   }
  },
  {
   "cell_type": "code",
   "source": [
    "gapminder.groupby('year').get_group(1967)"
   ],
   "metadata": {
    "colab": {
     "base_uri": "https://localhost:8080/",
     "height": 424
    },
    "id": "tWSEf4edgxDI",
    "outputId": "5919366b-90ca-4cfc-a3fd-8beab9d6e772",
    "ExecuteTime": {
     "start_time": "2023-04-28T21:57:54.389215Z",
     "end_time": "2023-04-28T21:57:55.090274Z"
    }
   },
   "execution_count": 10,
   "outputs": [
    {
     "data": {
      "text/plain": "                 country  year         pop continent  lifeExp    gdpPercap\n3            Afghanistan  1967  11537966.0      Asia   34.020   836.197138\n15               Albania  1967   1984060.0    Europe   66.220  2760.196931\n27               Algeria  1967  12760499.0    Africa   51.407  3246.991771\n39                Angola  1967   5247469.0    Africa   35.985  5522.776375\n51             Argentina  1967  22934225.0  Americas   65.634  8052.953021\n...                  ...   ...         ...       ...      ...          ...\n1647             Vietnam  1967  39463910.0      Asia   47.838   637.123289\n1659  West Bank and Gaza  1967   1142636.0      Asia   51.631  2649.715007\n1671          Yemen Rep.  1967   6740785.0      Asia   36.984   862.442146\n1683              Zambia  1967   3900000.0    Africa   47.768  1777.077318\n1695            Zimbabwe  1967   4995432.0    Africa   53.995   569.795071\n\n[142 rows x 6 columns]",
      "text/html": "<div>\n<style scoped>\n    .dataframe tbody tr th:only-of-type {\n        vertical-align: middle;\n    }\n\n    .dataframe tbody tr th {\n        vertical-align: top;\n    }\n\n    .dataframe thead th {\n        text-align: right;\n    }\n</style>\n<table border=\"1\" class=\"dataframe\">\n  <thead>\n    <tr style=\"text-align: right;\">\n      <th></th>\n      <th>country</th>\n      <th>year</th>\n      <th>pop</th>\n      <th>continent</th>\n      <th>lifeExp</th>\n      <th>gdpPercap</th>\n    </tr>\n  </thead>\n  <tbody>\n    <tr>\n      <th>3</th>\n      <td>Afghanistan</td>\n      <td>1967</td>\n      <td>11537966.0</td>\n      <td>Asia</td>\n      <td>34.020</td>\n      <td>836.197138</td>\n    </tr>\n    <tr>\n      <th>15</th>\n      <td>Albania</td>\n      <td>1967</td>\n      <td>1984060.0</td>\n      <td>Europe</td>\n      <td>66.220</td>\n      <td>2760.196931</td>\n    </tr>\n    <tr>\n      <th>27</th>\n      <td>Algeria</td>\n      <td>1967</td>\n      <td>12760499.0</td>\n      <td>Africa</td>\n      <td>51.407</td>\n      <td>3246.991771</td>\n    </tr>\n    <tr>\n      <th>39</th>\n      <td>Angola</td>\n      <td>1967</td>\n      <td>5247469.0</td>\n      <td>Africa</td>\n      <td>35.985</td>\n      <td>5522.776375</td>\n    </tr>\n    <tr>\n      <th>51</th>\n      <td>Argentina</td>\n      <td>1967</td>\n      <td>22934225.0</td>\n      <td>Americas</td>\n      <td>65.634</td>\n      <td>8052.953021</td>\n    </tr>\n    <tr>\n      <th>...</th>\n      <td>...</td>\n      <td>...</td>\n      <td>...</td>\n      <td>...</td>\n      <td>...</td>\n      <td>...</td>\n    </tr>\n    <tr>\n      <th>1647</th>\n      <td>Vietnam</td>\n      <td>1967</td>\n      <td>39463910.0</td>\n      <td>Asia</td>\n      <td>47.838</td>\n      <td>637.123289</td>\n    </tr>\n    <tr>\n      <th>1659</th>\n      <td>West Bank and Gaza</td>\n      <td>1967</td>\n      <td>1142636.0</td>\n      <td>Asia</td>\n      <td>51.631</td>\n      <td>2649.715007</td>\n    </tr>\n    <tr>\n      <th>1671</th>\n      <td>Yemen Rep.</td>\n      <td>1967</td>\n      <td>6740785.0</td>\n      <td>Asia</td>\n      <td>36.984</td>\n      <td>862.442146</td>\n    </tr>\n    <tr>\n      <th>1683</th>\n      <td>Zambia</td>\n      <td>1967</td>\n      <td>3900000.0</td>\n      <td>Africa</td>\n      <td>47.768</td>\n      <td>1777.077318</td>\n    </tr>\n    <tr>\n      <th>1695</th>\n      <td>Zimbabwe</td>\n      <td>1967</td>\n      <td>4995432.0</td>\n      <td>Africa</td>\n      <td>53.995</td>\n      <td>569.795071</td>\n    </tr>\n  </tbody>\n</table>\n<p>142 rows × 6 columns</p>\n</div>"
     },
     "execution_count": 10,
     "metadata": {},
     "output_type": "execute_result"
    }
   ]
  },
  {
   "cell_type": "code",
   "source": [
    "gapminder.groupby('year').get_group(2007)"
   ],
   "metadata": {
    "colab": {
     "base_uri": "https://localhost:8080/",
     "height": 424
    },
    "id": "TX-TQcnZldu9",
    "outputId": "008d15a0-4ebe-4ae0-de6e-8d5b21e682a8",
    "ExecuteTime": {
     "start_time": "2023-04-28T21:57:54.572723Z",
     "end_time": "2023-04-28T21:57:55.247871Z"
    }
   },
   "execution_count": 11,
   "outputs": [
    {
     "data": {
      "text/plain": "                 country  year         pop continent  lifeExp     gdpPercap\n11           Afghanistan  2007  31889923.0      Asia   43.828    974.580338\n23               Albania  2007   3600523.0    Europe   76.423   5937.029526\n35               Algeria  2007  33333216.0    Africa   72.301   6223.367465\n47                Angola  2007  12420476.0    Africa   42.731   4797.231267\n59             Argentina  2007  40301927.0  Americas   75.320  12779.379640\n...                  ...   ...         ...       ...      ...           ...\n1655             Vietnam  2007  85262356.0      Asia   74.249   2441.576404\n1667  West Bank and Gaza  2007   4018332.0      Asia   73.422   3025.349798\n1679          Yemen Rep.  2007  22211743.0      Asia   62.698   2280.769906\n1691              Zambia  2007  11746035.0    Africa   42.384   1271.211593\n1703            Zimbabwe  2007  12311143.0    Africa   43.487    469.709298\n\n[142 rows x 6 columns]",
      "text/html": "<div>\n<style scoped>\n    .dataframe tbody tr th:only-of-type {\n        vertical-align: middle;\n    }\n\n    .dataframe tbody tr th {\n        vertical-align: top;\n    }\n\n    .dataframe thead th {\n        text-align: right;\n    }\n</style>\n<table border=\"1\" class=\"dataframe\">\n  <thead>\n    <tr style=\"text-align: right;\">\n      <th></th>\n      <th>country</th>\n      <th>year</th>\n      <th>pop</th>\n      <th>continent</th>\n      <th>lifeExp</th>\n      <th>gdpPercap</th>\n    </tr>\n  </thead>\n  <tbody>\n    <tr>\n      <th>11</th>\n      <td>Afghanistan</td>\n      <td>2007</td>\n      <td>31889923.0</td>\n      <td>Asia</td>\n      <td>43.828</td>\n      <td>974.580338</td>\n    </tr>\n    <tr>\n      <th>23</th>\n      <td>Albania</td>\n      <td>2007</td>\n      <td>3600523.0</td>\n      <td>Europe</td>\n      <td>76.423</td>\n      <td>5937.029526</td>\n    </tr>\n    <tr>\n      <th>35</th>\n      <td>Algeria</td>\n      <td>2007</td>\n      <td>33333216.0</td>\n      <td>Africa</td>\n      <td>72.301</td>\n      <td>6223.367465</td>\n    </tr>\n    <tr>\n      <th>47</th>\n      <td>Angola</td>\n      <td>2007</td>\n      <td>12420476.0</td>\n      <td>Africa</td>\n      <td>42.731</td>\n      <td>4797.231267</td>\n    </tr>\n    <tr>\n      <th>59</th>\n      <td>Argentina</td>\n      <td>2007</td>\n      <td>40301927.0</td>\n      <td>Americas</td>\n      <td>75.320</td>\n      <td>12779.379640</td>\n    </tr>\n    <tr>\n      <th>...</th>\n      <td>...</td>\n      <td>...</td>\n      <td>...</td>\n      <td>...</td>\n      <td>...</td>\n      <td>...</td>\n    </tr>\n    <tr>\n      <th>1655</th>\n      <td>Vietnam</td>\n      <td>2007</td>\n      <td>85262356.0</td>\n      <td>Asia</td>\n      <td>74.249</td>\n      <td>2441.576404</td>\n    </tr>\n    <tr>\n      <th>1667</th>\n      <td>West Bank and Gaza</td>\n      <td>2007</td>\n      <td>4018332.0</td>\n      <td>Asia</td>\n      <td>73.422</td>\n      <td>3025.349798</td>\n    </tr>\n    <tr>\n      <th>1679</th>\n      <td>Yemen Rep.</td>\n      <td>2007</td>\n      <td>22211743.0</td>\n      <td>Asia</td>\n      <td>62.698</td>\n      <td>2280.769906</td>\n    </tr>\n    <tr>\n      <th>1691</th>\n      <td>Zambia</td>\n      <td>2007</td>\n      <td>11746035.0</td>\n      <td>Africa</td>\n      <td>42.384</td>\n      <td>1271.211593</td>\n    </tr>\n    <tr>\n      <th>1703</th>\n      <td>Zimbabwe</td>\n      <td>2007</td>\n      <td>12311143.0</td>\n      <td>Africa</td>\n      <td>43.487</td>\n      <td>469.709298</td>\n    </tr>\n  </tbody>\n</table>\n<p>142 rows × 6 columns</p>\n</div>"
     },
     "execution_count": 11,
     "metadata": {},
     "output_type": "execute_result"
    }
   ]
  },
  {
   "cell_type": "markdown",
   "source": [
    "Ahora con los datos anteriores construya tablas pivote según las siguientes\n",
    "instrucciones:\n",
    "1. Construya una tabla fijando “continent”, con las funciones vistas en\n",
    "clase\n",
    "2. Realice una tabla de doble entrada, fijando “continent” y “year”.\n",
    "Comente sus resultados.\n",
    "3. Con las variables anteriores, obtenga el promedio de la variable “pop”.\n",
    "4. Obtenga un gráfico de barras del punto 3, comente sus resultados."
   ],
   "metadata": {
    "id": "v8iGDxl2gxm1"
   }
  },
  {
   "cell_type": "code",
   "source": [
    "gapminder.pivot_table(\n",
    "    index='continent',\n",
    ")"
   ],
   "metadata": {
    "colab": {
     "base_uri": "https://localhost:8080/",
     "height": 293
    },
    "id": "1Fw7OZhdm2DY",
    "outputId": "27a29903-8456-4b79-8c01-8e7457f97bff",
    "ExecuteTime": {
     "start_time": "2023-04-28T21:57:54.837115Z",
     "end_time": "2023-04-28T21:57:55.409781Z"
    }
   },
   "execution_count": 12,
   "outputs": [
    {
     "name": "stderr",
     "output_type": "stream",
     "text": [
      "C:\\Users\\abaci\\AppData\\Local\\Temp\\ipykernel_42360\\1065110606.py:1: FutureWarning: pivot_table dropped a column because it failed to aggregate. This behavior is deprecated and will raise in a future version of pandas. Select only the columns that can be aggregated.\n",
      "  gapminder.pivot_table(\n"
     ]
    },
    {
     "data": {
      "text/plain": "              gdpPercap    lifeExp           pop    year\ncontinent                                               \nAfrica      2193.754578  48.865330  9.916003e+06  1979.5\nAmericas    7136.110356  64.658737  2.450479e+07  1979.5\nAsia        7902.150428  60.064903  7.703872e+07  1979.5\nEurope     14469.475533  71.903686  1.716976e+07  1979.5\nOceania    18621.609223  74.326208  8.874672e+06  1979.5",
      "text/html": "<div>\n<style scoped>\n    .dataframe tbody tr th:only-of-type {\n        vertical-align: middle;\n    }\n\n    .dataframe tbody tr th {\n        vertical-align: top;\n    }\n\n    .dataframe thead th {\n        text-align: right;\n    }\n</style>\n<table border=\"1\" class=\"dataframe\">\n  <thead>\n    <tr style=\"text-align: right;\">\n      <th></th>\n      <th>gdpPercap</th>\n      <th>lifeExp</th>\n      <th>pop</th>\n      <th>year</th>\n    </tr>\n    <tr>\n      <th>continent</th>\n      <th></th>\n      <th></th>\n      <th></th>\n      <th></th>\n    </tr>\n  </thead>\n  <tbody>\n    <tr>\n      <th>Africa</th>\n      <td>2193.754578</td>\n      <td>48.865330</td>\n      <td>9.916003e+06</td>\n      <td>1979.5</td>\n    </tr>\n    <tr>\n      <th>Americas</th>\n      <td>7136.110356</td>\n      <td>64.658737</td>\n      <td>2.450479e+07</td>\n      <td>1979.5</td>\n    </tr>\n    <tr>\n      <th>Asia</th>\n      <td>7902.150428</td>\n      <td>60.064903</td>\n      <td>7.703872e+07</td>\n      <td>1979.5</td>\n    </tr>\n    <tr>\n      <th>Europe</th>\n      <td>14469.475533</td>\n      <td>71.903686</td>\n      <td>1.716976e+07</td>\n      <td>1979.5</td>\n    </tr>\n    <tr>\n      <th>Oceania</th>\n      <td>18621.609223</td>\n      <td>74.326208</td>\n      <td>8.874672e+06</td>\n      <td>1979.5</td>\n    </tr>\n  </tbody>\n</table>\n</div>"
     },
     "execution_count": 12,
     "metadata": {},
     "output_type": "execute_result"
    }
   ]
  },
  {
   "cell_type": "code",
   "source": [
    "gapminder.pivot_table(\n",
    "    index='year',\n",
    "    columns= 'continent'\n",
    ")"
   ],
   "metadata": {
    "colab": {
     "base_uri": "https://localhost:8080/",
     "height": 544
    },
    "id": "qRG_fxU9nM9k",
    "outputId": "c6564a0a-fb67-4ec7-80d2-1f3f1825af1a",
    "ExecuteTime": {
     "start_time": "2023-04-28T21:57:54.941430Z",
     "end_time": "2023-04-28T21:57:56.187683Z"
    }
   },
   "execution_count": 13,
   "outputs": [
    {
     "name": "stderr",
     "output_type": "stream",
     "text": [
      "C:\\Users\\abaci\\AppData\\Local\\Temp\\ipykernel_42360\\3506154447.py:1: FutureWarning: pivot_table dropped a column because it failed to aggregate. This behavior is deprecated and will raise in a future version of pandas. Select only the columns that can be aggregated.\n",
      "  gapminder.pivot_table(\n"
     ]
    },
    {
     "data": {
      "text/plain": "             gdpPercap                                            \\\ncontinent       Africa      Americas          Asia        Europe   \nyear                                                               \n1952       1252.572466   4079.062552   5195.484004   5661.057435   \n1957       1385.236062   4616.043733   5787.732940   6963.012816   \n1962       1598.078825   4901.541870   5729.369625   8365.486814   \n1967       2050.363801   5668.253496   5971.173374  10143.823757   \n1972       2339.615674   6491.334139   8187.468699  12479.575246   \n1977       2585.938508   7352.007126   7791.314020  14283.979110   \n1982       2481.592960   7506.737088   7434.135157  15617.896551   \n1987       2282.668991   7793.400261   7608.226508  17214.310727   \n1992       2281.810333   8044.934406   8639.690248  17061.568084   \n1997       2378.759555   8889.300863   9834.093295  19076.781802   \n2002       2599.385159   9287.677107  10174.090397  21711.732422   \n2007       3089.032605  11003.031625  12473.026870  25054.481636   \n\n                           lifeExp                                           \\\ncontinent       Oceania     Africa  Americas       Asia     Europe  Oceania   \nyear                                                                          \n1952       10298.085650  39.135500  53.27984  46.314394  64.408500  69.2550   \n1957       11598.522455  41.266346  55.96028  49.318544  66.703067  70.2950   \n1962       12696.452430  43.319442  58.39876  51.563223  68.539233  71.0850   \n1967       14495.021790  45.334538  60.41092  54.663640  69.737600  71.3100   \n1972       16417.333380  47.450942  62.39492  57.319269  70.775033  71.9100   \n1977       17283.957605  49.580423  64.39156  59.610556  71.937767  72.8550   \n1982       18554.709840  51.592865  66.22884  62.617939  72.806400  74.2900   \n1987       20448.040160  53.344788  68.09072  64.851182  73.642167  75.3200   \n1992       20894.045885  53.629577  69.56836  66.537212  74.440100  76.9450   \n1997       24024.175170  53.598269  71.15048  68.020515  75.505167  78.1900   \n2002       26938.778040  53.325231  72.42204  69.233879  76.700600  79.7400   \n2007       29810.188275  54.806038  73.60812  70.728485  77.648600  80.7195   \n\n                    pop                                                       \ncontinent        Africa     Americas          Asia        Europe     Oceania  \nyear                                                                          \n1952       4.570010e+06  13806097.84  4.228356e+07  1.393736e+07   5343003.0  \n1957       5.093033e+06  15478156.64  4.735699e+07  1.459635e+07   5970988.0  \n1962       5.702247e+06  17330810.16  5.140476e+07  1.534517e+07   6641759.0  \n1967       6.447875e+06  19229864.92  5.774736e+07  1.603930e+07   7300207.0  \n1972       7.305376e+06  21175368.40  6.518098e+07  1.668784e+07   8053050.0  \n1977       8.328097e+06  23122707.96  7.225799e+07  1.723882e+07   8619500.0  \n1982       9.602857e+06  25211636.80  7.909502e+07  1.770890e+07   9197425.0  \n1987       1.105450e+07  27310158.84  8.700669e+07  1.810314e+07   9787207.5  \n1992       1.267464e+07  29570964.16  9.494825e+07  1.860476e+07  10459825.5  \n1997       1.430448e+07  31876016.40  1.025238e+08  1.896480e+07  11120715.0  \n2002       1.603315e+07  33990910.48  1.091455e+08  1.927413e+07  11727414.5  \n2007       1.787576e+07  35954847.36  1.155138e+08  1.953662e+07  12274973.5  ",
      "text/html": "<div>\n<style scoped>\n    .dataframe tbody tr th:only-of-type {\n        vertical-align: middle;\n    }\n\n    .dataframe tbody tr th {\n        vertical-align: top;\n    }\n\n    .dataframe thead tr th {\n        text-align: left;\n    }\n\n    .dataframe thead tr:last-of-type th {\n        text-align: right;\n    }\n</style>\n<table border=\"1\" class=\"dataframe\">\n  <thead>\n    <tr>\n      <th></th>\n      <th colspan=\"5\" halign=\"left\">gdpPercap</th>\n      <th colspan=\"5\" halign=\"left\">lifeExp</th>\n      <th colspan=\"5\" halign=\"left\">pop</th>\n    </tr>\n    <tr>\n      <th>continent</th>\n      <th>Africa</th>\n      <th>Americas</th>\n      <th>Asia</th>\n      <th>Europe</th>\n      <th>Oceania</th>\n      <th>Africa</th>\n      <th>Americas</th>\n      <th>Asia</th>\n      <th>Europe</th>\n      <th>Oceania</th>\n      <th>Africa</th>\n      <th>Americas</th>\n      <th>Asia</th>\n      <th>Europe</th>\n      <th>Oceania</th>\n    </tr>\n    <tr>\n      <th>year</th>\n      <th></th>\n      <th></th>\n      <th></th>\n      <th></th>\n      <th></th>\n      <th></th>\n      <th></th>\n      <th></th>\n      <th></th>\n      <th></th>\n      <th></th>\n      <th></th>\n      <th></th>\n      <th></th>\n      <th></th>\n    </tr>\n  </thead>\n  <tbody>\n    <tr>\n      <th>1952</th>\n      <td>1252.572466</td>\n      <td>4079.062552</td>\n      <td>5195.484004</td>\n      <td>5661.057435</td>\n      <td>10298.085650</td>\n      <td>39.135500</td>\n      <td>53.27984</td>\n      <td>46.314394</td>\n      <td>64.408500</td>\n      <td>69.2550</td>\n      <td>4.570010e+06</td>\n      <td>13806097.84</td>\n      <td>4.228356e+07</td>\n      <td>1.393736e+07</td>\n      <td>5343003.0</td>\n    </tr>\n    <tr>\n      <th>1957</th>\n      <td>1385.236062</td>\n      <td>4616.043733</td>\n      <td>5787.732940</td>\n      <td>6963.012816</td>\n      <td>11598.522455</td>\n      <td>41.266346</td>\n      <td>55.96028</td>\n      <td>49.318544</td>\n      <td>66.703067</td>\n      <td>70.2950</td>\n      <td>5.093033e+06</td>\n      <td>15478156.64</td>\n      <td>4.735699e+07</td>\n      <td>1.459635e+07</td>\n      <td>5970988.0</td>\n    </tr>\n    <tr>\n      <th>1962</th>\n      <td>1598.078825</td>\n      <td>4901.541870</td>\n      <td>5729.369625</td>\n      <td>8365.486814</td>\n      <td>12696.452430</td>\n      <td>43.319442</td>\n      <td>58.39876</td>\n      <td>51.563223</td>\n      <td>68.539233</td>\n      <td>71.0850</td>\n      <td>5.702247e+06</td>\n      <td>17330810.16</td>\n      <td>5.140476e+07</td>\n      <td>1.534517e+07</td>\n      <td>6641759.0</td>\n    </tr>\n    <tr>\n      <th>1967</th>\n      <td>2050.363801</td>\n      <td>5668.253496</td>\n      <td>5971.173374</td>\n      <td>10143.823757</td>\n      <td>14495.021790</td>\n      <td>45.334538</td>\n      <td>60.41092</td>\n      <td>54.663640</td>\n      <td>69.737600</td>\n      <td>71.3100</td>\n      <td>6.447875e+06</td>\n      <td>19229864.92</td>\n      <td>5.774736e+07</td>\n      <td>1.603930e+07</td>\n      <td>7300207.0</td>\n    </tr>\n    <tr>\n      <th>1972</th>\n      <td>2339.615674</td>\n      <td>6491.334139</td>\n      <td>8187.468699</td>\n      <td>12479.575246</td>\n      <td>16417.333380</td>\n      <td>47.450942</td>\n      <td>62.39492</td>\n      <td>57.319269</td>\n      <td>70.775033</td>\n      <td>71.9100</td>\n      <td>7.305376e+06</td>\n      <td>21175368.40</td>\n      <td>6.518098e+07</td>\n      <td>1.668784e+07</td>\n      <td>8053050.0</td>\n    </tr>\n    <tr>\n      <th>1977</th>\n      <td>2585.938508</td>\n      <td>7352.007126</td>\n      <td>7791.314020</td>\n      <td>14283.979110</td>\n      <td>17283.957605</td>\n      <td>49.580423</td>\n      <td>64.39156</td>\n      <td>59.610556</td>\n      <td>71.937767</td>\n      <td>72.8550</td>\n      <td>8.328097e+06</td>\n      <td>23122707.96</td>\n      <td>7.225799e+07</td>\n      <td>1.723882e+07</td>\n      <td>8619500.0</td>\n    </tr>\n    <tr>\n      <th>1982</th>\n      <td>2481.592960</td>\n      <td>7506.737088</td>\n      <td>7434.135157</td>\n      <td>15617.896551</td>\n      <td>18554.709840</td>\n      <td>51.592865</td>\n      <td>66.22884</td>\n      <td>62.617939</td>\n      <td>72.806400</td>\n      <td>74.2900</td>\n      <td>9.602857e+06</td>\n      <td>25211636.80</td>\n      <td>7.909502e+07</td>\n      <td>1.770890e+07</td>\n      <td>9197425.0</td>\n    </tr>\n    <tr>\n      <th>1987</th>\n      <td>2282.668991</td>\n      <td>7793.400261</td>\n      <td>7608.226508</td>\n      <td>17214.310727</td>\n      <td>20448.040160</td>\n      <td>53.344788</td>\n      <td>68.09072</td>\n      <td>64.851182</td>\n      <td>73.642167</td>\n      <td>75.3200</td>\n      <td>1.105450e+07</td>\n      <td>27310158.84</td>\n      <td>8.700669e+07</td>\n      <td>1.810314e+07</td>\n      <td>9787207.5</td>\n    </tr>\n    <tr>\n      <th>1992</th>\n      <td>2281.810333</td>\n      <td>8044.934406</td>\n      <td>8639.690248</td>\n      <td>17061.568084</td>\n      <td>20894.045885</td>\n      <td>53.629577</td>\n      <td>69.56836</td>\n      <td>66.537212</td>\n      <td>74.440100</td>\n      <td>76.9450</td>\n      <td>1.267464e+07</td>\n      <td>29570964.16</td>\n      <td>9.494825e+07</td>\n      <td>1.860476e+07</td>\n      <td>10459825.5</td>\n    </tr>\n    <tr>\n      <th>1997</th>\n      <td>2378.759555</td>\n      <td>8889.300863</td>\n      <td>9834.093295</td>\n      <td>19076.781802</td>\n      <td>24024.175170</td>\n      <td>53.598269</td>\n      <td>71.15048</td>\n      <td>68.020515</td>\n      <td>75.505167</td>\n      <td>78.1900</td>\n      <td>1.430448e+07</td>\n      <td>31876016.40</td>\n      <td>1.025238e+08</td>\n      <td>1.896480e+07</td>\n      <td>11120715.0</td>\n    </tr>\n    <tr>\n      <th>2002</th>\n      <td>2599.385159</td>\n      <td>9287.677107</td>\n      <td>10174.090397</td>\n      <td>21711.732422</td>\n      <td>26938.778040</td>\n      <td>53.325231</td>\n      <td>72.42204</td>\n      <td>69.233879</td>\n      <td>76.700600</td>\n      <td>79.7400</td>\n      <td>1.603315e+07</td>\n      <td>33990910.48</td>\n      <td>1.091455e+08</td>\n      <td>1.927413e+07</td>\n      <td>11727414.5</td>\n    </tr>\n    <tr>\n      <th>2007</th>\n      <td>3089.032605</td>\n      <td>11003.031625</td>\n      <td>12473.026870</td>\n      <td>25054.481636</td>\n      <td>29810.188275</td>\n      <td>54.806038</td>\n      <td>73.60812</td>\n      <td>70.728485</td>\n      <td>77.648600</td>\n      <td>80.7195</td>\n      <td>1.787576e+07</td>\n      <td>35954847.36</td>\n      <td>1.155138e+08</td>\n      <td>1.953662e+07</td>\n      <td>12274973.5</td>\n    </tr>\n  </tbody>\n</table>\n</div>"
     },
     "execution_count": 13,
     "metadata": {},
     "output_type": "execute_result"
    }
   ]
  },
  {
   "cell_type": "code",
   "source": [
    "gapminder.pivot_table(\n",
    "    values= 'pop',\n",
    "    index='year',\n",
    "    columns= 'continent',\n",
    "    aggfunc= 'mean'\n",
    ")"
   ],
   "metadata": {
    "colab": {
     "base_uri": "https://localhost:8080/",
     "height": 457
    },
    "id": "TTC8_eZ0ocZv",
    "outputId": "b14a3b42-046c-4cf3-c762-17e8a2b43299",
    "ExecuteTime": {
     "start_time": "2023-04-28T21:57:55.232792Z",
     "end_time": "2023-04-28T21:57:56.389825Z"
    }
   },
   "execution_count": 14,
   "outputs": [
    {
     "data": {
      "text/plain": "continent        Africa     Americas          Asia        Europe     Oceania\nyear                                                                        \n1952       4.570010e+06  13806097.84  4.228356e+07  1.393736e+07   5343003.0\n1957       5.093033e+06  15478156.64  4.735699e+07  1.459635e+07   5970988.0\n1962       5.702247e+06  17330810.16  5.140476e+07  1.534517e+07   6641759.0\n1967       6.447875e+06  19229864.92  5.774736e+07  1.603930e+07   7300207.0\n1972       7.305376e+06  21175368.40  6.518098e+07  1.668784e+07   8053050.0\n1977       8.328097e+06  23122707.96  7.225799e+07  1.723882e+07   8619500.0\n1982       9.602857e+06  25211636.80  7.909502e+07  1.770890e+07   9197425.0\n1987       1.105450e+07  27310158.84  8.700669e+07  1.810314e+07   9787207.5\n1992       1.267464e+07  29570964.16  9.494825e+07  1.860476e+07  10459825.5\n1997       1.430448e+07  31876016.40  1.025238e+08  1.896480e+07  11120715.0\n2002       1.603315e+07  33990910.48  1.091455e+08  1.927413e+07  11727414.5\n2007       1.787576e+07  35954847.36  1.155138e+08  1.953662e+07  12274973.5",
      "text/html": "<div>\n<style scoped>\n    .dataframe tbody tr th:only-of-type {\n        vertical-align: middle;\n    }\n\n    .dataframe tbody tr th {\n        vertical-align: top;\n    }\n\n    .dataframe thead th {\n        text-align: right;\n    }\n</style>\n<table border=\"1\" class=\"dataframe\">\n  <thead>\n    <tr style=\"text-align: right;\">\n      <th>continent</th>\n      <th>Africa</th>\n      <th>Americas</th>\n      <th>Asia</th>\n      <th>Europe</th>\n      <th>Oceania</th>\n    </tr>\n    <tr>\n      <th>year</th>\n      <th></th>\n      <th></th>\n      <th></th>\n      <th></th>\n      <th></th>\n    </tr>\n  </thead>\n  <tbody>\n    <tr>\n      <th>1952</th>\n      <td>4.570010e+06</td>\n      <td>13806097.84</td>\n      <td>4.228356e+07</td>\n      <td>1.393736e+07</td>\n      <td>5343003.0</td>\n    </tr>\n    <tr>\n      <th>1957</th>\n      <td>5.093033e+06</td>\n      <td>15478156.64</td>\n      <td>4.735699e+07</td>\n      <td>1.459635e+07</td>\n      <td>5970988.0</td>\n    </tr>\n    <tr>\n      <th>1962</th>\n      <td>5.702247e+06</td>\n      <td>17330810.16</td>\n      <td>5.140476e+07</td>\n      <td>1.534517e+07</td>\n      <td>6641759.0</td>\n    </tr>\n    <tr>\n      <th>1967</th>\n      <td>6.447875e+06</td>\n      <td>19229864.92</td>\n      <td>5.774736e+07</td>\n      <td>1.603930e+07</td>\n      <td>7300207.0</td>\n    </tr>\n    <tr>\n      <th>1972</th>\n      <td>7.305376e+06</td>\n      <td>21175368.40</td>\n      <td>6.518098e+07</td>\n      <td>1.668784e+07</td>\n      <td>8053050.0</td>\n    </tr>\n    <tr>\n      <th>1977</th>\n      <td>8.328097e+06</td>\n      <td>23122707.96</td>\n      <td>7.225799e+07</td>\n      <td>1.723882e+07</td>\n      <td>8619500.0</td>\n    </tr>\n    <tr>\n      <th>1982</th>\n      <td>9.602857e+06</td>\n      <td>25211636.80</td>\n      <td>7.909502e+07</td>\n      <td>1.770890e+07</td>\n      <td>9197425.0</td>\n    </tr>\n    <tr>\n      <th>1987</th>\n      <td>1.105450e+07</td>\n      <td>27310158.84</td>\n      <td>8.700669e+07</td>\n      <td>1.810314e+07</td>\n      <td>9787207.5</td>\n    </tr>\n    <tr>\n      <th>1992</th>\n      <td>1.267464e+07</td>\n      <td>29570964.16</td>\n      <td>9.494825e+07</td>\n      <td>1.860476e+07</td>\n      <td>10459825.5</td>\n    </tr>\n    <tr>\n      <th>1997</th>\n      <td>1.430448e+07</td>\n      <td>31876016.40</td>\n      <td>1.025238e+08</td>\n      <td>1.896480e+07</td>\n      <td>11120715.0</td>\n    </tr>\n    <tr>\n      <th>2002</th>\n      <td>1.603315e+07</td>\n      <td>33990910.48</td>\n      <td>1.091455e+08</td>\n      <td>1.927413e+07</td>\n      <td>11727414.5</td>\n    </tr>\n    <tr>\n      <th>2007</th>\n      <td>1.787576e+07</td>\n      <td>35954847.36</td>\n      <td>1.155138e+08</td>\n      <td>1.953662e+07</td>\n      <td>12274973.5</td>\n    </tr>\n  </tbody>\n</table>\n</div>"
     },
     "execution_count": 14,
     "metadata": {},
     "output_type": "execute_result"
    }
   ]
  },
  {
   "cell_type": "code",
   "source": [
    "\n",
    "\n",
    "resultado = gapminder.pivot_table(\n",
    "    values= 'pop',\n",
    "    index='year',\n",
    "    columns= 'continent',\n",
    "    aggfunc= 'sum'\n",
    ")\n",
    "\n",
    "resultado.histplot(kind='bar')\n",
    "\n",
    "#sns.histplot(data=resultado, x='year', multiple='dodge', stat='density')"
   ],
   "metadata": {
    "colab": {
     "base_uri": "https://localhost:8080/",
     "height": 467
    },
    "id": "ZmcbFf3vo-Tr",
    "outputId": "1abde2e8-7105-4cb8-ec7b-411e3c60630c",
    "ExecuteTime": {
     "start_time": "2023-04-28T21:59:28.741266Z",
     "end_time": "2023-04-28T21:59:32.595334Z"
    }
   },
   "execution_count": 16,
   "outputs": []
  },
  {
   "cell_type": "code",
   "execution_count": 15,
   "outputs": [],
   "source": [],
   "metadata": {
    "collapsed": false,
    "ExecuteTime": {
     "start_time": "2023-04-28T21:57:58.576144Z",
     "end_time": "2023-04-28T21:57:58.814289Z"
    }
   }
  }
 ]
}
