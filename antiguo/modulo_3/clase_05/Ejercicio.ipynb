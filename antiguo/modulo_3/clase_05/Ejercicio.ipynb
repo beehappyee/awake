{
 "cells": [
  {
   "cell_type": "code",
   "execution_count": 1,
   "metadata": {
    "collapsed": true,
    "ExecuteTime": {
     "start_time": "2023-04-28T20:51:20.742153Z",
     "end_time": "2023-04-28T20:51:20.823206Z"
    }
   },
   "outputs": [
    {
     "name": "stdout",
     "output_type": "stream",
     "text": [
      "          country  year         pop continent  lifeExp   gdpPercap\n",
      "0     Afghanistan  1952   8425333.0      Asia   28.801  779.445314\n",
      "1     Afghanistan  1957   9240934.0      Asia   30.332  820.853030\n",
      "2     Afghanistan  1962  10267083.0      Asia   31.997  853.100710\n",
      "3     Afghanistan  1967  11537966.0      Asia   34.020  836.197138\n",
      "4     Afghanistan  1972  13079460.0      Asia   36.088  739.981106\n",
      "...           ...   ...         ...       ...      ...         ...\n",
      "1699     Zimbabwe  1987   9216418.0    Africa   62.351  706.157306\n",
      "1700     Zimbabwe  1992  10704340.0    Africa   60.377  693.420786\n",
      "1701     Zimbabwe  1997  11404948.0    Africa   46.809  792.449960\n",
      "1702     Zimbabwe  2002  11926563.0    Africa   39.989  672.038623\n",
      "1703     Zimbabwe  2007  12311143.0    Africa   43.487  469.709298\n",
      "\n",
      "[1704 rows x 6 columns]\n"
     ]
    }
   ],
   "source": [
    "import pandas as pd\n",
    "\n",
    "dataframe = pd.read_csv('gapminder.csv')\n",
    "\n",
    "print(dataframe)"
   ]
  },
  {
   "cell_type": "code",
   "execution_count": 2,
   "outputs": [
    {
     "data": {
      "text/plain": "             year           pop      lifeExp      gdpPercap\ncount  1704.00000  1.704000e+03  1704.000000    1704.000000\nmean   1979.50000  2.960121e+07    59.474439    7215.327081\nstd      17.26533  1.061579e+08    12.917107    9857.454543\nmin    1952.00000  6.001100e+04    23.599000     241.165876\n25%    1965.75000  2.793664e+06    48.198000    1202.060309\n50%    1979.50000  7.023596e+06    60.712500    3531.846988\n75%    1993.25000  1.958522e+07    70.845500    9325.462346\nmax    2007.00000  1.318683e+09    82.603000  113523.132900",
      "text/html": "<div>\n<style scoped>\n    .dataframe tbody tr th:only-of-type {\n        vertical-align: middle;\n    }\n\n    .dataframe tbody tr th {\n        vertical-align: top;\n    }\n\n    .dataframe thead th {\n        text-align: right;\n    }\n</style>\n<table border=\"1\" class=\"dataframe\">\n  <thead>\n    <tr style=\"text-align: right;\">\n      <th></th>\n      <th>year</th>\n      <th>pop</th>\n      <th>lifeExp</th>\n      <th>gdpPercap</th>\n    </tr>\n  </thead>\n  <tbody>\n    <tr>\n      <th>count</th>\n      <td>1704.00000</td>\n      <td>1.704000e+03</td>\n      <td>1704.000000</td>\n      <td>1704.000000</td>\n    </tr>\n    <tr>\n      <th>mean</th>\n      <td>1979.50000</td>\n      <td>2.960121e+07</td>\n      <td>59.474439</td>\n      <td>7215.327081</td>\n    </tr>\n    <tr>\n      <th>std</th>\n      <td>17.26533</td>\n      <td>1.061579e+08</td>\n      <td>12.917107</td>\n      <td>9857.454543</td>\n    </tr>\n    <tr>\n      <th>min</th>\n      <td>1952.00000</td>\n      <td>6.001100e+04</td>\n      <td>23.599000</td>\n      <td>241.165876</td>\n    </tr>\n    <tr>\n      <th>25%</th>\n      <td>1965.75000</td>\n      <td>2.793664e+06</td>\n      <td>48.198000</td>\n      <td>1202.060309</td>\n    </tr>\n    <tr>\n      <th>50%</th>\n      <td>1979.50000</td>\n      <td>7.023596e+06</td>\n      <td>60.712500</td>\n      <td>3531.846988</td>\n    </tr>\n    <tr>\n      <th>75%</th>\n      <td>1993.25000</td>\n      <td>1.958522e+07</td>\n      <td>70.845500</td>\n      <td>9325.462346</td>\n    </tr>\n    <tr>\n      <th>max</th>\n      <td>2007.00000</td>\n      <td>1.318683e+09</td>\n      <td>82.603000</td>\n      <td>113523.132900</td>\n    </tr>\n  </tbody>\n</table>\n</div>"
     },
     "execution_count": 2,
     "metadata": {},
     "output_type": "execute_result"
    }
   ],
   "source": [
    "dataframe.describe()"
   ],
   "metadata": {
    "collapsed": false,
    "ExecuteTime": {
     "start_time": "2023-04-28T20:52:24.228612Z",
     "end_time": "2023-04-28T20:52:24.296450Z"
    }
   }
  },
  {
   "cell_type": "code",
   "execution_count": 8,
   "outputs": [
    {
     "name": "stderr",
     "output_type": "stream",
     "text": [
      "C:\\Users\\abaci\\AppData\\Local\\Temp\\ipykernel_6160\\3120998211.py:1: FutureWarning: ['country', 'continent'] did not aggregate successfully. If any error is raised this will raise in a future version of pandas. Drop these columns/ops to avoid this warning.\n",
      "  dataframe.groupby(['year']).aggregate(['mean','median','max','sum'])\n"
     ]
    },
    {
     "data": {
      "text/plain": "               pop                                            lifeExp  \\\n              mean      median           max           sum       mean   \nyear                                                                    \n1952  1.695040e+07   3943953.0  5.562635e+08  2.406957e+09  49.057620   \n1957  1.876341e+07   4282942.0  6.374080e+08  2.664405e+09  51.507401   \n1962  2.042101e+07   4686039.5  6.657700e+08  2.899783e+09  53.609249   \n1967  2.265830e+07   5170175.5  7.545500e+08  3.217478e+09  55.678290   \n1972  2.518998e+07   5877996.5  8.620300e+08  3.576977e+09  57.647386   \n1977  2.767638e+07   6404036.5  9.434550e+08  3.930046e+09  59.570157   \n1982  3.020730e+07   7007320.0  1.000281e+09  4.289437e+09  61.533197   \n1987  3.303857e+07   7774861.5  1.084035e+09  4.691477e+09  63.212613   \n1992  3.599092e+07   8688686.5  1.164970e+09  5.110710e+09  64.160338   \n1997  3.883947e+07   9735063.5  1.230075e+09  5.515204e+09  65.014676   \n2002  4.145759e+07  10372918.5  1.280400e+09  5.886978e+09  65.694923   \n2007  4.402122e+07  10517531.0  1.318683e+09  6.251013e+09  67.007423   \n\n                                      gdpPercap                             \\\n       median     max         sum          mean       median           max   \nyear                                                                         \n1952  45.1355  72.670  6966.18200   3725.276046  1968.528344  108382.35290   \n1957  48.3605  73.470  7314.05096   4299.408345  2173.220291  113523.13290   \n1962  50.8810  73.680  7612.51336   4725.812342  2335.439533   95458.11176   \n1967  53.8250  74.160  7906.31712   5483.653047  2678.334740   80894.88326   \n1972  56.5300  74.720  8185.92888   6770.082815  3339.129407  109347.86700   \n1977  59.6720  76.110  8458.96236   7313.166421  3798.609244   59265.47714   \n1982  62.4415  77.110  8737.71400   7518.901673  4216.228428   33693.17525   \n1987  65.8340  78.670  8976.19100   7900.920218  4280.300366   31540.97480   \n1992  67.7030  79.360  9110.76800   8158.608521  4386.085502   34932.91959   \n1997  69.3940  80.690  9232.08400   9090.175363  4781.825478   41283.16433   \n2002  70.8255  82.000  9328.67900   9917.848365  5319.804524   44683.97525   \n2007  71.9355  82.603  9515.05400  11680.071820  6124.371108   49357.19017   \n\n                    \n               sum  \nyear                \n1952  5.289892e+05  \n1957  6.105160e+05  \n1962  6.710654e+05  \n1967  7.786787e+05  \n1972  9.613518e+05  \n1977  1.038470e+06  \n1982  1.067684e+06  \n1987  1.121931e+06  \n1992  1.158522e+06  \n1997  1.290805e+06  \n2002  1.408334e+06  \n2007  1.658570e+06  ",
      "text/html": "<div>\n<style scoped>\n    .dataframe tbody tr th:only-of-type {\n        vertical-align: middle;\n    }\n\n    .dataframe tbody tr th {\n        vertical-align: top;\n    }\n\n    .dataframe thead tr th {\n        text-align: left;\n    }\n\n    .dataframe thead tr:last-of-type th {\n        text-align: right;\n    }\n</style>\n<table border=\"1\" class=\"dataframe\">\n  <thead>\n    <tr>\n      <th></th>\n      <th colspan=\"4\" halign=\"left\">pop</th>\n      <th colspan=\"4\" halign=\"left\">lifeExp</th>\n      <th colspan=\"4\" halign=\"left\">gdpPercap</th>\n    </tr>\n    <tr>\n      <th></th>\n      <th>mean</th>\n      <th>median</th>\n      <th>max</th>\n      <th>sum</th>\n      <th>mean</th>\n      <th>median</th>\n      <th>max</th>\n      <th>sum</th>\n      <th>mean</th>\n      <th>median</th>\n      <th>max</th>\n      <th>sum</th>\n    </tr>\n    <tr>\n      <th>year</th>\n      <th></th>\n      <th></th>\n      <th></th>\n      <th></th>\n      <th></th>\n      <th></th>\n      <th></th>\n      <th></th>\n      <th></th>\n      <th></th>\n      <th></th>\n      <th></th>\n    </tr>\n  </thead>\n  <tbody>\n    <tr>\n      <th>1952</th>\n      <td>1.695040e+07</td>\n      <td>3943953.0</td>\n      <td>5.562635e+08</td>\n      <td>2.406957e+09</td>\n      <td>49.057620</td>\n      <td>45.1355</td>\n      <td>72.670</td>\n      <td>6966.18200</td>\n      <td>3725.276046</td>\n      <td>1968.528344</td>\n      <td>108382.35290</td>\n      <td>5.289892e+05</td>\n    </tr>\n    <tr>\n      <th>1957</th>\n      <td>1.876341e+07</td>\n      <td>4282942.0</td>\n      <td>6.374080e+08</td>\n      <td>2.664405e+09</td>\n      <td>51.507401</td>\n      <td>48.3605</td>\n      <td>73.470</td>\n      <td>7314.05096</td>\n      <td>4299.408345</td>\n      <td>2173.220291</td>\n      <td>113523.13290</td>\n      <td>6.105160e+05</td>\n    </tr>\n    <tr>\n      <th>1962</th>\n      <td>2.042101e+07</td>\n      <td>4686039.5</td>\n      <td>6.657700e+08</td>\n      <td>2.899783e+09</td>\n      <td>53.609249</td>\n      <td>50.8810</td>\n      <td>73.680</td>\n      <td>7612.51336</td>\n      <td>4725.812342</td>\n      <td>2335.439533</td>\n      <td>95458.11176</td>\n      <td>6.710654e+05</td>\n    </tr>\n    <tr>\n      <th>1967</th>\n      <td>2.265830e+07</td>\n      <td>5170175.5</td>\n      <td>7.545500e+08</td>\n      <td>3.217478e+09</td>\n      <td>55.678290</td>\n      <td>53.8250</td>\n      <td>74.160</td>\n      <td>7906.31712</td>\n      <td>5483.653047</td>\n      <td>2678.334740</td>\n      <td>80894.88326</td>\n      <td>7.786787e+05</td>\n    </tr>\n    <tr>\n      <th>1972</th>\n      <td>2.518998e+07</td>\n      <td>5877996.5</td>\n      <td>8.620300e+08</td>\n      <td>3.576977e+09</td>\n      <td>57.647386</td>\n      <td>56.5300</td>\n      <td>74.720</td>\n      <td>8185.92888</td>\n      <td>6770.082815</td>\n      <td>3339.129407</td>\n      <td>109347.86700</td>\n      <td>9.613518e+05</td>\n    </tr>\n    <tr>\n      <th>1977</th>\n      <td>2.767638e+07</td>\n      <td>6404036.5</td>\n      <td>9.434550e+08</td>\n      <td>3.930046e+09</td>\n      <td>59.570157</td>\n      <td>59.6720</td>\n      <td>76.110</td>\n      <td>8458.96236</td>\n      <td>7313.166421</td>\n      <td>3798.609244</td>\n      <td>59265.47714</td>\n      <td>1.038470e+06</td>\n    </tr>\n    <tr>\n      <th>1982</th>\n      <td>3.020730e+07</td>\n      <td>7007320.0</td>\n      <td>1.000281e+09</td>\n      <td>4.289437e+09</td>\n      <td>61.533197</td>\n      <td>62.4415</td>\n      <td>77.110</td>\n      <td>8737.71400</td>\n      <td>7518.901673</td>\n      <td>4216.228428</td>\n      <td>33693.17525</td>\n      <td>1.067684e+06</td>\n    </tr>\n    <tr>\n      <th>1987</th>\n      <td>3.303857e+07</td>\n      <td>7774861.5</td>\n      <td>1.084035e+09</td>\n      <td>4.691477e+09</td>\n      <td>63.212613</td>\n      <td>65.8340</td>\n      <td>78.670</td>\n      <td>8976.19100</td>\n      <td>7900.920218</td>\n      <td>4280.300366</td>\n      <td>31540.97480</td>\n      <td>1.121931e+06</td>\n    </tr>\n    <tr>\n      <th>1992</th>\n      <td>3.599092e+07</td>\n      <td>8688686.5</td>\n      <td>1.164970e+09</td>\n      <td>5.110710e+09</td>\n      <td>64.160338</td>\n      <td>67.7030</td>\n      <td>79.360</td>\n      <td>9110.76800</td>\n      <td>8158.608521</td>\n      <td>4386.085502</td>\n      <td>34932.91959</td>\n      <td>1.158522e+06</td>\n    </tr>\n    <tr>\n      <th>1997</th>\n      <td>3.883947e+07</td>\n      <td>9735063.5</td>\n      <td>1.230075e+09</td>\n      <td>5.515204e+09</td>\n      <td>65.014676</td>\n      <td>69.3940</td>\n      <td>80.690</td>\n      <td>9232.08400</td>\n      <td>9090.175363</td>\n      <td>4781.825478</td>\n      <td>41283.16433</td>\n      <td>1.290805e+06</td>\n    </tr>\n    <tr>\n      <th>2002</th>\n      <td>4.145759e+07</td>\n      <td>10372918.5</td>\n      <td>1.280400e+09</td>\n      <td>5.886978e+09</td>\n      <td>65.694923</td>\n      <td>70.8255</td>\n      <td>82.000</td>\n      <td>9328.67900</td>\n      <td>9917.848365</td>\n      <td>5319.804524</td>\n      <td>44683.97525</td>\n      <td>1.408334e+06</td>\n    </tr>\n    <tr>\n      <th>2007</th>\n      <td>4.402122e+07</td>\n      <td>10517531.0</td>\n      <td>1.318683e+09</td>\n      <td>6.251013e+09</td>\n      <td>67.007423</td>\n      <td>71.9355</td>\n      <td>82.603</td>\n      <td>9515.05400</td>\n      <td>11680.071820</td>\n      <td>6124.371108</td>\n      <td>49357.19017</td>\n      <td>1.658570e+06</td>\n    </tr>\n  </tbody>\n</table>\n</div>"
     },
     "execution_count": 8,
     "metadata": {},
     "output_type": "execute_result"
    }
   ],
   "source": [
    "dataframe.groupby(['year']).aggregate(['mean','median','max','sum'])"
   ],
   "metadata": {
    "collapsed": false,
    "ExecuteTime": {
     "start_time": "2023-04-28T21:01:52.572970Z",
     "end_time": "2023-04-28T21:01:52.666805Z"
    }
   }
  },
  {
   "cell_type": "code",
   "execution_count": null,
   "outputs": [],
   "source": [],
   "metadata": {
    "collapsed": false
   }
  }
 ],
 "metadata": {
  "kernelspec": {
   "display_name": "Python 3",
   "language": "python",
   "name": "python3"
  },
  "language_info": {
   "codemirror_mode": {
    "name": "ipython",
    "version": 2
   },
   "file_extension": ".py",
   "mimetype": "text/x-python",
   "name": "python",
   "nbconvert_exporter": "python",
   "pygments_lexer": "ipython2",
   "version": "2.7.6"
  }
 },
 "nbformat": 4,
 "nbformat_minor": 0
}
