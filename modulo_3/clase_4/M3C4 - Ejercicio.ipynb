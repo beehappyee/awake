{
 "cells": [
  {
   "cell_type": "code",
   "execution_count": null,
   "metadata": {
    "collapsed": true,
    "ExecuteTime": {
     "end_time": "2023-05-20T00:48:40.607119300Z",
     "start_time": "2023-05-20T00:48:40.592580600Z"
    }
   },
   "outputs": [],
   "source": [
    "import matplotlib.pyplot as plt\n",
    "import pandas as pd\n",
    "import seaborn as sns"
   ]
  },
  {
   "cell_type": "code",
   "execution_count": null,
   "outputs": [
    {
     "name": "stdout",
     "output_type": "stream",
     "text": [
      "      Sex  Pclass  Survived  Count\n",
      "0     men       1         0     77\n",
      "1     men       1         1     45\n",
      "2     men       2         0     91\n",
      "3     men       2         1     17\n",
      "4     men       3         0    300\n",
      "5     men       3         1     47\n",
      "6   women       1         0      3\n",
      "7   women       1         1     91\n",
      "8   women       2         0      6\n",
      "9   women       2         1     70\n",
      "10  women       3         0     72\n",
      "11  women       3         1     72\n"
     ]
    },
    {
     "data": {
      "text/plain": "<Figure size 640x480 with 1 Axes>",
      "image/png": "[encoded data removed]"
     },
     "metadata": {},
     "output_type": "display_data"
    }
   ],
   "source": [
    "# A partir del fichero del Titanic, realizar los siguiente:\n",
    "# a) Confeccione un gráfico de barras para visualizar hombres y mujeres que han sobrevivido\n",
    "\n",
    "var_dataframe = pd.read_csv ('titanic.csv')\n",
    "\n",
    "var_dataframe ['Sex'].replace ({'female': 'women'}, inplace = True)\n",
    "var_dataframe ['Sex'].replace ({'male': 'men'}, inplace = True)\n",
    "\n",
    "var_survived_by_gender = var_dataframe.groupby (['Sex', 'Pclass', 'Survived']).size ().reset_index (name = 'Count')\n",
    "\n",
    "print (var_survived_by_gender)\n",
    "\n",
    "sns.barplot (x = 'Sex', y = 'Count', hue = 'Pclass', data = var_survived_by_gender)\n",
    "\n",
    "plt.title ('Survived')\n",
    "plt.xlabel ('Sex')\n",
    "plt.ylabel ('Count')\n",
    "\n",
    "plt.show ()"
   ],
   "metadata": {
    "collapsed": false,
    "ExecuteTime": {
     "end_time": "2023-05-20T00:48:41.780655Z",
     "start_time": "2023-05-20T00:48:40.609118500Z"
    }
   }
  },
  {
   "cell_type": "code",
   "execution_count": null,
   "outputs": [
    {
     "name": "stdout",
     "output_type": "stream",
     "text": [
      "Survived        0   1\n",
      "Sex   Pclass         \n",
      "men   1        77  45\n",
      "      2        91  17\n",
      "      3       300  47\n",
      "women 1         3  91\n",
      "      2         6  70\n",
      "      3        72  72\n"
     ]
    },
    {
     "ename": "AttributeError",
     "evalue": "'DataFrame' object has no attribute 'barplot'",
     "output_type": "error",
     "traceback": [
      "\u001B[1;31m---------------------------------------------------------------------------\u001B[0m",
      "\u001B[1;31mAttributeError\u001B[0m                            Traceback (most recent call last)",
      "Cell \u001B[1;32mIn[3], line 7\u001B[0m\n\u001B[0;32m      3\u001B[0m var_survived_by_class \u001B[38;5;241m=\u001B[39m var_dataframe\u001B[38;5;241m.\u001B[39mgroupby ([\u001B[38;5;124m'\u001B[39m\u001B[38;5;124mSex\u001B[39m\u001B[38;5;124m'\u001B[39m, \u001B[38;5;124m'\u001B[39m\u001B[38;5;124mPclass\u001B[39m\u001B[38;5;124m'\u001B[39m, \u001B[38;5;124m'\u001B[39m\u001B[38;5;124mSurvived\u001B[39m\u001B[38;5;124m'\u001B[39m])\u001B[38;5;241m.\u001B[39msize ()\u001B[38;5;241m.\u001B[39munstack ()\n\u001B[0;32m      5\u001B[0m \u001B[38;5;28mprint\u001B[39m (var_survived_by_class)\n\u001B[1;32m----> 7\u001B[0m \u001B[43mvar_survived_by_class\u001B[49m\u001B[38;5;241;43m.\u001B[39;49m\u001B[43mbarplot\u001B[49m (hue \u001B[38;5;241m=\u001B[39m \u001B[38;5;124m'\u001B[39m\u001B[38;5;124mPclass\u001B[39m\u001B[38;5;124m'\u001B[39m, color \u001B[38;5;241m=\u001B[39m [\u001B[38;5;124m'\u001B[39m\u001B[38;5;124mcyan\u001B[39m\u001B[38;5;124m'\u001B[39m, \u001B[38;5;124m'\u001B[39m\u001B[38;5;124mmagenta\u001B[39m\u001B[38;5;124m'\u001B[39m])\n\u001B[0;32m      9\u001B[0m plt\u001B[38;5;241m.\u001B[39mtitle (\u001B[38;5;124m'\u001B[39m\u001B[38;5;124mSurvived\u001B[39m\u001B[38;5;124m'\u001B[39m)\n\u001B[0;32m     10\u001B[0m plt\u001B[38;5;241m.\u001B[39mxlabel (\u001B[38;5;124m'\u001B[39m\u001B[38;5;124mGender and class\u001B[39m\u001B[38;5;124m'\u001B[39m)\n",
      "File \u001B[1;32m~\\.conda\\envs\\lib\\site-packages\\pandas\\core\\generic.py:5902\u001B[0m, in \u001B[0;36mNDFrame.__getattr__\u001B[1;34m(self, name)\u001B[0m\n\u001B[0;32m   5895\u001B[0m \u001B[38;5;28;01mif\u001B[39;00m (\n\u001B[0;32m   5896\u001B[0m     name \u001B[38;5;129;01mnot\u001B[39;00m \u001B[38;5;129;01min\u001B[39;00m \u001B[38;5;28mself\u001B[39m\u001B[38;5;241m.\u001B[39m_internal_names_set\n\u001B[0;32m   5897\u001B[0m     \u001B[38;5;129;01mand\u001B[39;00m name \u001B[38;5;129;01mnot\u001B[39;00m \u001B[38;5;129;01min\u001B[39;00m \u001B[38;5;28mself\u001B[39m\u001B[38;5;241m.\u001B[39m_metadata\n\u001B[0;32m   5898\u001B[0m     \u001B[38;5;129;01mand\u001B[39;00m name \u001B[38;5;129;01mnot\u001B[39;00m \u001B[38;5;129;01min\u001B[39;00m \u001B[38;5;28mself\u001B[39m\u001B[38;5;241m.\u001B[39m_accessors\n\u001B[0;32m   5899\u001B[0m     \u001B[38;5;129;01mand\u001B[39;00m \u001B[38;5;28mself\u001B[39m\u001B[38;5;241m.\u001B[39m_info_axis\u001B[38;5;241m.\u001B[39m_can_hold_identifiers_and_holds_name(name)\n\u001B[0;32m   5900\u001B[0m ):\n\u001B[0;32m   5901\u001B[0m     \u001B[38;5;28;01mreturn\u001B[39;00m \u001B[38;5;28mself\u001B[39m[name]\n\u001B[1;32m-> 5902\u001B[0m \u001B[38;5;28;01mreturn\u001B[39;00m \u001B[38;5;28;43mobject\u001B[39;49m\u001B[38;5;241;43m.\u001B[39;49m\u001B[38;5;21;43m__getattribute__\u001B[39;49m\u001B[43m(\u001B[49m\u001B[38;5;28;43mself\u001B[39;49m\u001B[43m,\u001B[49m\u001B[43m \u001B[49m\u001B[43mname\u001B[49m\u001B[43m)\u001B[49m\n",
      "\u001B[1;31mAttributeError\u001B[0m: 'DataFrame' object has no attribute 'barplot'"
     ]
    }
   ],
   "source": [
    "# b) Cambiar el color del gráfico\n",
    "\n",
    "var_survived_by_class = var_dataframe.groupby (['Sex', 'Pclass', 'Survived']).size ().unstack ()\n",
    "\n",
    "print (var_survived_by_class)\n",
    "\n",
    "var_survived_by_class.barplot (hue = 'Pclass', color = ['cyan', 'magenta'])\n",
    "\n",
    "plt.title ('Survived')\n",
    "plt.xlabel ('Gender and class')\n",
    "plt.ylabel ('Count')\n",
    "\n",
    "plt.show ()"
   ],
   "metadata": {
    "collapsed": false,
    "ExecuteTime": {
     "end_time": "2023-05-20T00:48:44.262593300Z",
     "start_time": "2023-05-20T00:48:41.786658900Z"
    }
   }
  },
  {
   "cell_type": "code",
   "execution_count": null,
   "outputs": [],
   "source": [
    "# c) Gráfico barras agrupados"
   ],
   "metadata": {
    "collapsed": false
   }
  }
 ],
 "metadata": {
  "kernelspec": {
   "display_name": "Python 3",
   "language": "python",
   "name": "python3"
  },
  "language_info": {
   "codemirror_mode": {
    "name": "ipython",
    "version": 2
   },
   "file_extension": ".py",
   "mimetype": "text/x-python",
   "name": "python",
   "nbconvert_exporter": "python",
   "pygments_lexer": "ipython2",
   "version": "2.7.6"
  }
 },
 "nbformat": 4,
 "nbformat_minor": 0
}
