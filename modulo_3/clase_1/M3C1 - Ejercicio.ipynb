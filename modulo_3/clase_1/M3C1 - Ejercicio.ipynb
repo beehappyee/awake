{
 "cells": [
  {
   "cell_type": "code",
   "execution_count": 1,
   "metadata": {
    "collapsed": true,
    "ExecuteTime": {
     "start_time": "2023-05-01T16:14:33.662588Z",
     "end_time": "2023-05-01T16:14:37.829337Z"
    }
   },
   "outputs": [],
   "source": [
    "import matplotlib.pyplot as plt\n",
    "import numpy as np"
   ]
  },
  {
   "cell_type": "code",
   "execution_count": 8,
   "outputs": [
    {
     "name": "stdout",
     "output_type": "stream",
     "text": [
      "[0.05  0.15  0.25  0.125 0.25  0.075 0.05  0.05 ]\n",
      "[0.05  0.2   0.45  0.575 0.825 0.9   0.95  1.   ]\n"
     ]
    },
    {
     "data": {
      "text/plain": "<Figure size 640x480 with 1 Axes>",
      "image/png": "[encoded data removed]"
     },
     "metadata": {},
     "output_type": "display_data"
    }
   ],
   "source": [
    "# En una clínica infantil se ha ido anotando, durante un mes, el número de metros que cada niño anda, seguido y sin caerse, el primer día que comienza a caminar, obteniéndose la tabla de información adjunta:\n",
    "# Metros 1 2 3 4 5 6 7 8\n",
    "# Niños 2 6 10 5 10 3 2 2\n",
    "# Se pide:\n",
    "# a) Tabla de Frecuencia. Diagrama de Barras para las frecuencias absolutas, relativas y acumuladas\n",
    "\n",
    "var_distance = [1, 2, 3, 4, 5, 6, 7, 8]\n",
    "var_kids = [2, 6, 10, 5, 10, 3, 2, 2]\n",
    "\n",
    "var_relative_frecuency = np.array (var_kids) / sum (var_kids)\n",
    "var_acumulative_frecuency = np.cumsum (var_relative_frecuency)\n",
    "\n",
    "print (var_relative_frecuency)\n",
    "print (var_acumulative_frecuency)\n",
    "\n",
    "fig, ax = plt.subplots ()\n",
    "ax.bar (var_distance, var_kids, label = 'Frecuencia Absoluta')\n",
    "ax.bar (var_distance, var_relative_frecuency, label = 'Frecuencia Relativa')\n",
    "ax.plot (var_distance, var_acumulative_frecuency, 'ro-', label = 'Frecuencia Acumulada')\n",
    "\n",
    "ax.set_xlabel ('Metros')\n",
    "ax.set_ylabel ('Frecuencia')\n",
    "ax.legend ()\n",
    "\n",
    "plt.show ()"
   ],
   "metadata": {
    "collapsed": false,
    "ExecuteTime": {
     "start_time": "2023-05-01T16:28:17.961019Z",
     "end_time": "2023-05-01T16:28:18.746356Z"
    }
   }
  },
  {
   "cell_type": "code",
   "execution_count": 10,
   "outputs": [
    {
     "name": "stdout",
     "output_type": "stream",
     "text": [
      "4.5\n",
      "4.5\n",
      "2\n",
      "[2.75 4.5  6.25]\n"
     ]
    }
   ],
   "source": [
    "# b) Mediana, media aritmética, moda y cuartiles\n",
    "\n",
    "var_median = np.median (var_distance)\n",
    "\n",
    "print (var_median)\n",
    "\n",
    "var_mean = np.mean (var_distance)\n",
    "\n",
    "print (var_mean)\n",
    "\n",
    "var_mode = np.argmax (np.bincount (var_kids))\n",
    "\n",
    "print (var_mode)\n",
    "\n",
    "var_quartiles = np.percentile (var_distance, [25, 50, 75])\n",
    "\n",
    "print (var_quartiles)"
   ],
   "metadata": {
    "collapsed": false,
    "ExecuteTime": {
     "start_time": "2023-05-01T16:39:03.862149Z",
     "end_time": "2023-05-01T16:39:03.882136Z"
    }
   }
  },
  {
   "cell_type": "code",
   "execution_count": 11,
   "outputs": [
    {
     "name": "stdout",
     "output_type": "stream",
     "text": [
      "5.25\n",
      "2.29128784747792\n"
     ]
    }
   ],
   "source": [
    "# c) Varianza y desviación Estándar\n",
    "\n",
    "var_var = np.var (var_distance)\n",
    "\n",
    "print (var_var)\n",
    "\n",
    "var_std = np.std (var_distance)\n",
    "\n",
    "print (var_std)"
   ],
   "metadata": {
    "collapsed": false,
    "ExecuteTime": {
     "start_time": "2023-05-01T16:46:29.150162Z",
     "end_time": "2023-05-01T16:46:29.206127Z"
    }
   }
  },
  {
   "cell_type": "code",
   "execution_count": 13,
   "outputs": [
    {
     "name": "stdout",
     "output_type": "stream",
     "text": [
      "[2.75 4.5  6.25]\n",
      "2.75\n",
      "6.25\n",
      "3.5\n"
     ]
    }
   ],
   "source": [
    "# d) ¿Entre qué dos valores se encuentra, como mínimo, el 75% de las observaciones?\n",
    "\n",
    "var_quartiles = np.percentile (var_distance, [25, 50, 75])\n",
    "\n",
    "print (var_quartiles)\n",
    "\n",
    "print (var_quartiles [0])\n",
    "print (var_quartiles [2])\n",
    "\n",
    "var_inter_quartile_range = var_quartiles [2] - var_quartiles [0]\n",
    "\n",
    "print (var_inter_quartile_range)"
   ],
   "metadata": {
    "collapsed": false,
    "ExecuteTime": {
     "start_time": "2023-05-01T16:57:40.163336Z",
     "end_time": "2023-05-01T16:57:40.197321Z"
    }
   }
  },
  {
   "cell_type": "code",
   "execution_count": null,
   "outputs": [],
   "source": [
    "# P: ¿Qué es la estadística descriptiva?\n",
    "# R : Es una rama de la estadística que se encarga de recopilar, analizar y presentar datos de una forma comprensible. Su objetivo es resumir y describir las características principales de un conjunto de datos, utilizando medidas estadísticas como la media, la mediana, la moda, la varianza y la desviación estándar\n",
    "\n",
    "# P: ¿Qué son las tablas de frecuencia?\n",
    "# R : Son una herramienta en estadística descriptiva que se utiliza para organizar y resumir un conjunto de datos en categorías o intervalos. Estas tablas presentan la cantidad o frecuencia de observaciones para cada categoría o intervalo en el conjunto de datos, lo que permite una fácil visualización de la distribución y patrones en los datos\n",
    "\n",
    "# P: ¿Cuáles son las medidas de tendencia central?\n",
    "# R : Son medidas estadísticas que buscan resumir o representar el valor típico o central de un conjunto de datos, y las mas comunes son la media aritmética, la mediana y la moda\n",
    "\n",
    "# P: ¿Qué son las medidas de dispersión?\n",
    "# R : Son estadísticas utilizadas para describir cuánto se extienden o dispersan los datos alrededor de una medida de tendencia central, como la media o la mediana. Dentro de las comunes está la desviaciòn estadar y la varianza"
   ],
   "metadata": {
    "collapsed": false
   }
  }
 ],
 "metadata": {
  "kernelspec": {
   "display_name": "Python 3",
   "language": "python",
   "name": "python3"
  },
  "language_info": {
   "codemirror_mode": {
    "name": "ipython",
    "version": 2
   },
   "file_extension": ".py",
   "mimetype": "text/x-python",
   "name": "python",
   "nbconvert_exporter": "python",
   "pygments_lexer": "ipython2",
   "version": "2.7.6"
  }
 },
 "nbformat": 4,
 "nbformat_minor": 0
}
