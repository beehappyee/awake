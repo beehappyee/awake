{
 "cells": [
  {
   "cell_type": "code",
   "execution_count": 33,
   "metadata": {
    "collapsed": true,
    "ExecuteTime": {
     "end_time": "2023-05-24T08:07:33.071780700Z",
     "start_time": "2023-05-24T08:07:32.920257600Z"
    }
   },
   "outputs": [],
   "source": [
    "import matplotlib.pyplot as plt\n",
    "import pandas as pd\n",
    "import warnings\n",
    "warnings.filterwarnings('ignore')"
   ]
  },
  {
   "cell_type": "markdown",
   "source": [
    "1. Realice un resumen estadístico de sus datos"
   ],
   "metadata": {
    "collapsed": false
   }
  },
  {
   "cell_type": "code",
   "execution_count": 34,
   "outputs": [
    {
     "name": "stdout",
     "output_type": "stream",
     "text": [
      "          country  year         pop continent  lifeExp   gdpPercap\n",
      "0     Afghanistan  1952   8425333.0      Asia   28.801  779.445314\n",
      "1     Afghanistan  1957   9240934.0      Asia   30.332  820.853030\n",
      "2     Afghanistan  1962  10267083.0      Asia   31.997  853.100710\n",
      "3     Afghanistan  1967  11537966.0      Asia   34.020  836.197138\n",
      "4     Afghanistan  1972  13079460.0      Asia   36.088  739.981106\n",
      "...           ...   ...         ...       ...      ...         ...\n",
      "1699     Zimbabwe  1987   9216418.0    Africa   62.351  706.157306\n",
      "1700     Zimbabwe  1992  10704340.0    Africa   60.377  693.420786\n",
      "1701     Zimbabwe  1997  11404948.0    Africa   46.809  792.449960\n",
      "1702     Zimbabwe  2002  11926563.0    Africa   39.989  672.038623\n",
      "1703     Zimbabwe  2007  12311143.0    Africa   43.487  469.709298\n",
      "\n",
      "[1704 rows x 6 columns]\n"
     ]
    }
   ],
   "source": [
    "var_dataframe = pd.read_csv('gapminder.csv')\n",
    "\n",
    "print(var_dataframe)"
   ],
   "metadata": {
    "collapsed": false,
    "ExecuteTime": {
     "end_time": "2023-05-24T08:07:33.196220600Z",
     "start_time": "2023-05-24T08:07:32.939244600Z"
    }
   }
  },
  {
   "cell_type": "code",
   "execution_count": 35,
   "outputs": [
    {
     "name": "stdout",
     "output_type": "stream",
     "text": [
      "             year           pop      lifeExp      gdpPercap\n",
      "count  1704.00000  1.704000e+03  1704.000000    1704.000000\n",
      "mean   1979.50000  2.960121e+07    59.474439    7215.327081\n",
      "std      17.26533  1.061579e+08    12.917107    9857.454543\n",
      "min    1952.00000  6.001100e+04    23.599000     241.165876\n",
      "25%    1965.75000  2.793664e+06    48.198000    1202.060309\n",
      "50%    1979.50000  7.023596e+06    60.712500    3531.846988\n",
      "75%    1993.25000  1.958522e+07    70.845500    9325.462346\n",
      "max    2007.00000  1.318683e+09    82.603000  113523.132900\n"
     ]
    }
   ],
   "source": [
    "var_statistics = var_dataframe.describe()\n",
    "\n",
    "print(var_statistics)"
   ],
   "metadata": {
    "collapsed": false,
    "ExecuteTime": {
     "end_time": "2023-05-24T08:07:33.202216200Z",
     "start_time": "2023-05-24T08:07:32.986737500Z"
    }
   }
  },
  {
   "cell_type": "markdown",
   "source": [
    "2. Agrupe por la variable “año”. Comente respecto al resultado al usar groupby"
   ],
   "metadata": {
    "collapsed": false
   }
  },
  {
   "cell_type": "code",
   "execution_count": 36,
   "outputs": [
    {
     "name": "stdout",
     "output_type": "stream",
     "text": [
      "               pop     lifeExp     gdpPercap\n",
      "year                                        \n",
      "1952  2.406957e+09  6966.18200  5.289892e+05\n",
      "1957  2.664405e+09  7314.05096  6.105160e+05\n",
      "1962  2.899783e+09  7612.51336  6.710654e+05\n",
      "1967  3.217478e+09  7906.31712  7.786787e+05\n",
      "1972  3.576977e+09  8185.92888  9.613518e+05\n",
      "1977  3.930046e+09  8458.96236  1.038470e+06\n",
      "1982  4.289437e+09  8737.71400  1.067684e+06\n",
      "1987  4.691477e+09  8976.19100  1.121931e+06\n",
      "1992  5.110710e+09  9110.76800  1.158522e+06\n",
      "1997  5.515204e+09  9232.08400  1.290805e+06\n",
      "2002  5.886978e+09  9328.67900  1.408334e+06\n",
      "2007  6.251013e+09  9515.05400  1.658570e+06\n"
     ]
    }
   ],
   "source": [
    "var_grouped = var_dataframe.groupby('year').sum()\n",
    "\n",
    "print(var_grouped)"
   ],
   "metadata": {
    "collapsed": false,
    "ExecuteTime": {
     "end_time": "2023-05-24T08:07:33.221206400Z",
     "start_time": "2023-05-24T08:07:33.029710300Z"
    }
   }
  },
  {
   "cell_type": "code",
   "execution_count": 37,
   "outputs": [
    {
     "name": "stdout",
     "output_type": "stream",
     "text": [
      "               pop    lifeExp     gdpPercap\n",
      "year                                       \n",
      "1952  1.695040e+07  49.057620   3725.276046\n",
      "1957  1.876341e+07  51.507401   4299.408345\n",
      "1962  2.042101e+07  53.609249   4725.812342\n",
      "1967  2.265830e+07  55.678290   5483.653047\n",
      "1972  2.518998e+07  57.647386   6770.082815\n",
      "1977  2.767638e+07  59.570157   7313.166421\n",
      "1982  3.020730e+07  61.533197   7518.901673\n",
      "1987  3.303857e+07  63.212613   7900.920218\n",
      "1992  3.599092e+07  64.160338   8158.608521\n",
      "1997  3.883947e+07  65.014676   9090.175363\n",
      "2002  4.145759e+07  65.694923   9917.848365\n",
      "2007  4.402122e+07  67.007423  11680.071820\n"
     ]
    }
   ],
   "source": [
    "var_grouped = var_dataframe.groupby('year').mean()\n",
    "\n",
    "print(var_grouped)"
   ],
   "metadata": {
    "collapsed": false,
    "ExecuteTime": {
     "end_time": "2023-05-24T08:07:33.222203800Z",
     "start_time": "2023-05-24T08:07:33.076779300Z"
    }
   }
  },
  {
   "cell_type": "code",
   "execution_count": 38,
   "outputs": [
    {
     "name": "stdout",
     "output_type": "stream",
     "text": [
      "      country  pop  continent  lifeExp  gdpPercap\n",
      "year                                             \n",
      "1952      142  142        142      142        142\n",
      "1957      142  142        142      142        142\n",
      "1962      142  142        142      142        142\n",
      "1967      142  142        142      142        142\n",
      "1972      142  142        142      142        142\n",
      "1977      142  142        142      142        142\n",
      "1982      142  142        142      142        142\n",
      "1987      142  142        142      142        142\n",
      "1992      142  142        142      142        142\n",
      "1997      142  142        142      142        142\n",
      "2002      142  142        142      142        142\n",
      "2007      142  142        142      142        142\n"
     ]
    }
   ],
   "source": [
    "var_grouped = var_dataframe.groupby('year').count()\n",
    "\n",
    "print(var_grouped)"
   ],
   "metadata": {
    "collapsed": false,
    "ExecuteTime": {
     "end_time": "2023-05-24T08:07:33.222203800Z",
     "start_time": "2023-05-24T08:07:33.105759900Z"
    }
   }
  },
  {
   "cell_type": "markdown",
   "source": [
    "R: Al agrupar el dataframe, las columnas con variables categoricas desaparecen"
   ],
   "metadata": {
    "collapsed": false
   }
  },
  {
   "cell_type": "markdown",
   "source": [
    "Usando estos datos se puede especificar un año y obtener un marco de datos más pequeño para el año usando la función get_group(). Por ejemplo, podemos obtener el marco de datos agrupados para el año 1967. Comenta tus resultados. Escoge otro año explicando el porqué de la elección y qué resultados obtuviste"
   ],
   "metadata": {
    "collapsed": false
   }
  },
  {
   "cell_type": "code",
   "execution_count": 39,
   "outputs": [
    {
     "name": "stdout",
     "output_type": "stream",
     "text": [
      "                 country  year         pop continent  lifeExp     gdpPercap\n",
      "11           Afghanistan  2007  31889923.0      Asia   43.828    974.580338\n",
      "23               Albania  2007   3600523.0    Europe   76.423   5937.029526\n",
      "35               Algeria  2007  33333216.0    Africa   72.301   6223.367465\n",
      "47                Angola  2007  12420476.0    Africa   42.731   4797.231267\n",
      "59             Argentina  2007  40301927.0  Americas   75.320  12779.379640\n",
      "...                  ...   ...         ...       ...      ...           ...\n",
      "1655             Vietnam  2007  85262356.0      Asia   74.249   2441.576404\n",
      "1667  West Bank and Gaza  2007   4018332.0      Asia   73.422   3025.349798\n",
      "1679          Yemen Rep.  2007  22211743.0      Asia   62.698   2280.769906\n",
      "1691              Zambia  2007  11746035.0    Africa   42.384   1271.211593\n",
      "1703            Zimbabwe  2007  12311143.0    Africa   43.487    469.709298\n",
      "\n",
      "[142 rows x 6 columns]\n"
     ]
    }
   ],
   "source": [
    "var_grouped = var_dataframe.groupby('year').get_group(2007)\n",
    "\n",
    "print(var_grouped)"
   ],
   "metadata": {
    "collapsed": false,
    "ExecuteTime": {
     "end_time": "2023-05-24T08:07:33.223204600Z",
     "start_time": "2023-05-24T08:07:33.137739900Z"
    }
   }
  },
  {
   "cell_type": "markdown",
   "source": [
    "R: He optado por el año 2007 pues es el ultimo. Observo que el dataframe es mas pequeño (142 columnas)"
   ],
   "metadata": {
    "collapsed": false
   }
  },
  {
   "cell_type": "markdown",
   "source": [
    "Ahora con los datos anteriores construya tablas pivote según las siguientes instrucciones:\n",
    "1. Construya una tabla fijando “continent”, con las funciones vistas en clase"
   ],
   "metadata": {
    "collapsed": false
   }
  },
  {
   "cell_type": "code",
   "execution_count": 40,
   "outputs": [
    {
     "name": "stdout",
     "output_type": "stream",
     "text": [
      "              gdpPercap    lifeExp           pop  year\n",
      "continent                                             \n",
      "Africa      3089.032605  54.806038  1.787576e+07  2007\n",
      "Americas   11003.031625  73.608120  3.595485e+07  2007\n",
      "Asia       12473.026870  70.728485  1.155138e+08  2007\n",
      "Europe     25054.481636  77.648600  1.953662e+07  2007\n",
      "Oceania    29810.188275  80.719500  1.227497e+07  2007\n"
     ]
    }
   ],
   "source": [
    "var_continent = pd.pivot_table(var_grouped, index='continent')\n",
    "\n",
    "print(var_continent)"
   ],
   "metadata": {
    "collapsed": false,
    "ExecuteTime": {
     "end_time": "2023-05-24T08:07:33.236195800Z",
     "start_time": "2023-05-24T08:07:33.171236100Z"
    }
   }
  },
  {
   "cell_type": "markdown",
   "source": [
    "2. Realice una tabla de doble entrada, fijando “continent” y “year”. Comente sus resultados"
   ],
   "metadata": {
    "collapsed": false
   }
  },
  {
   "cell_type": "code",
   "execution_count": 41,
   "outputs": [
    {
     "name": "stdout",
     "output_type": "stream",
     "text": [
      "              gdpPercap    lifeExp           pop\n",
      "year               2007       2007          2007\n",
      "continent                                       \n",
      "Africa      3089.032605  54.806038  1.787576e+07\n",
      "Americas   11003.031625  73.608120  3.595485e+07\n",
      "Asia       12473.026870  70.728485  1.155138e+08\n",
      "Europe     25054.481636  77.648600  1.953662e+07\n",
      "Oceania    29810.188275  80.719500  1.227497e+07\n"
     ]
    }
   ],
   "source": [
    "var_continent_year = pd.pivot_table(var_grouped, index='continent', columns='year')\n",
    "\n",
    "print(var_continent_year)"
   ],
   "metadata": {
    "collapsed": false,
    "ExecuteTime": {
     "end_time": "2023-05-24T08:07:33.467618800Z",
     "start_time": "2023-05-24T08:07:33.222203800Z"
    }
   }
  },
  {
   "cell_type": "markdown",
   "source": [
    "3. Con las variables anteriores, obtenga el promedio de la variable “pop”"
   ],
   "metadata": {
    "collapsed": false
   }
  },
  {
   "cell_type": "code",
   "execution_count": 42,
   "outputs": [
    {
     "name": "stdout",
     "output_type": "stream",
     "text": [
      "year               2007\n",
      "continent              \n",
      "Africa     1.787576e+07\n",
      "Americas   3.595485e+07\n",
      "Asia       1.155138e+08\n",
      "Europe     1.953662e+07\n",
      "Oceania    1.227497e+07\n"
     ]
    }
   ],
   "source": [
    "var_population = pd.pivot_table(var_grouped, values='pop', index='continent', columns='year', aggfunc='mean')\n",
    "\n",
    "print(var_population)"
   ],
   "metadata": {
    "collapsed": false,
    "ExecuteTime": {
     "end_time": "2023-05-24T08:07:33.469618100Z",
     "start_time": "2023-05-24T08:07:33.297681200Z"
    }
   }
  },
  {
   "cell_type": "markdown",
   "source": [
    "4. Obtenga un gráfico de barras del punto 3, comente sus resultados"
   ],
   "metadata": {
    "collapsed": false
   }
  },
  {
   "cell_type": "code",
   "execution_count": 43,
   "outputs": [
    {
     "data": {
      "text/plain": "<Figure size 640x480 with 1 Axes>",
      "image/png": "[encoded data removed]"
     },
     "metadata": {},
     "output_type": "display_data"
    }
   ],
   "source": [
    "var_population.plot(kind='bar')\n",
    "\n",
    "plt.xlabel('continent')\n",
    "plt.ylabel('population mean')\n",
    "plt.title('population mean by continent and year')\n",
    "\n",
    "plt.show()"
   ],
   "metadata": {
    "collapsed": false,
    "ExecuteTime": {
     "end_time": "2023-05-24T08:07:34.160591500Z",
     "start_time": "2023-05-24T08:07:33.359160700Z"
    }
   }
  },
  {
   "cell_type": "markdown",
   "source": [
    "R: el grafico pinta la poblacion media por continente para el set de datos del año 2007, que elegi anteriormente"
   ],
   "metadata": {
    "collapsed": false
   }
  }
 ],
 "metadata": {
  "kernelspec": {
   "display_name": "Python 3",
   "language": "python",
   "name": "python3"
  },
  "language_info": {
   "codemirror_mode": {
    "name": "ipython",
    "version": 2
   },
   "file_extension": ".py",
   "mimetype": "text/x-python",
   "name": "python",
   "nbconvert_exporter": "python",
   "pygments_lexer": "ipython2",
   "version": "2.7.6"
  }
 },
 "nbformat": 4,
 "nbformat_minor": 0
}
