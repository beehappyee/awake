{
 "cells": [
  {
   "cell_type": "code",
   "execution_count": 55,
   "metadata": {
    "collapsed": true,
    "ExecuteTime": {
     "start_time": "2023-04-27T21:53:03.467528Z",
     "end_time": "2023-04-27T21:53:03.504937Z"
    }
   },
   "outputs": [],
   "source": [
    "import matplotlib.pyplot as plt\n",
    "import pandas as pd\n",
    "import seaborn as sns\n",
    "\n",
    "dataframe = pd.read_csv('titanic.csv')"
   ]
  },
  {
   "cell_type": "code",
   "execution_count": 1,
   "outputs": [
    {
     "ename": "NameError",
     "evalue": "name 'sns' is not defined",
     "output_type": "error",
     "traceback": [
      "\u001B[1;31m---------------------------------------------------------------------------\u001B[0m",
      "\u001B[1;31mNameError\u001B[0m                                 Traceback (most recent call last)",
      "Cell \u001B[1;32mIn[1], line 1\u001B[0m\n\u001B[1;32m----> 1\u001B[0m \u001B[43msns\u001B[49m\u001B[38;5;241m.\u001B[39mhistplot(data\u001B[38;5;241m=\u001B[39mdataframe, x\u001B[38;5;241m=\u001B[39m\u001B[38;5;124m'\u001B[39m\u001B[38;5;124mSurvived\u001B[39m\u001B[38;5;124m'\u001B[39m, hue\u001B[38;5;241m=\u001B[39m\u001B[38;5;124m'\u001B[39m\u001B[38;5;124mSex\u001B[39m\u001B[38;5;124m'\u001B[39m, bins\u001B[38;5;241m=\u001B[39m\u001B[38;5;241m4\u001B[39m, multiple\u001B[38;5;241m=\u001B[39m\u001B[38;5;124m'\u001B[39m\u001B[38;5;124mdodge\u001B[39m\u001B[38;5;124m'\u001B[39m,stat\u001B[38;5;241m=\u001B[39m\u001B[38;5;124m'\u001B[39m\u001B[38;5;124mdensity\u001B[39m\u001B[38;5;124m'\u001B[39m)\n\u001B[0;32m      3\u001B[0m df_filtrado \u001B[38;5;241m=\u001B[39m dataframe\u001B[38;5;241m.\u001B[39mquery(\u001B[38;5;124m\"\u001B[39m\u001B[38;5;124mSurvived == 1\u001B[39m\u001B[38;5;124m\"\u001B[39m)\n\u001B[0;32m      5\u001B[0m \u001B[38;5;66;03m#sns.histplot(data=df_filtrado, x='Sex', bins=2, multiple='dodge')\u001B[39;00m\n",
      "\u001B[1;31mNameError\u001B[0m: name 'sns' is not defined"
     ]
    }
   ],
   "source": [
    "\n",
    "\n",
    "sns.histplot(data=dataframe, x='Survived', hue='Sex', bins=4, multiple='dodge',stat='density')\n",
    "\n",
    "df_filtrado = dataframe.query(\"Survived == 1\")\n",
    "\n",
    "#sns.histplot(data=df_filtrado, x='Sex', bins=2, multiple='dodge')\n",
    "\n",
    "plt.title('Titanic')\n",
    "plt.xlabel('Estado de sobrevivencia')\n",
    "plt.ylabel('Cantidad')\n",
    "\n",
    "#sns.barplot(data=dataframe, x='Survived', hue='Sex', multiple='dodge')\n",
    "#sns.histplot(dataframe, x='Survived', hue='Sex')\n",
    "\n",
    "#sns.histplot(data=dataframe, x='Survived', hue='Sex', multiple='dodge', bins=30)\n",
    "#sns.histplot(data=dataframe, x='Survived', hue='Pclass', multiple='dodge', bins=30)\n",
    "\n",
    "\n",
    "#sns.barplot(x=\"Embarked\", y=\"Survived\", hue=\"Sex\", data=dataframe)\n"
   ],
   "metadata": {
    "collapsed": false,
    "ExecuteTime": {
     "start_time": "2023-04-27T22:13:29.288244Z",
     "end_time": "2023-04-27T22:13:30.664707Z"
    }
   }
  },
  {
   "cell_type": "code",
   "execution_count": 50,
   "outputs": [
    {
     "data": {
      "text/plain": "<Axes: >"
     },
     "execution_count": 50,
     "metadata": {},
     "output_type": "execute_result"
    },
    {
     "data": {
      "text/plain": "<Figure size 640x480 with 1 Axes>",
      "image/png": "[encoded data removed]"
     },
     "metadata": {},
     "output_type": "display_data"
    }
   ],
   "source": [
    "survived_by_class = dataframe.groupby(['Sex', 'Pclass', 'Survived']).size().reset_index(name='Count')\n",
    "\n",
    "survived_by_class.plot(kind='bar')"
   ],
   "metadata": {
    "collapsed": false,
    "ExecuteTime": {
     "start_time": "2023-04-27T21:43:50.271778Z",
     "end_time": "2023-04-27T21:43:52.112243Z"
    }
   }
  },
  {
   "cell_type": "code",
   "execution_count": null,
   "outputs": [],
   "source": [],
   "metadata": {
    "collapsed": false
   }
  }
 ],
 "metadata": {
  "kernelspec": {
   "display_name": "Python 3",
   "language": "python",
   "name": "python3"
  },
  "language_info": {
   "codemirror_mode": {
    "name": "ipython",
    "version": 2
   },
   "file_extension": ".py",
   "mimetype": "text/x-python",
   "name": "python",
   "nbconvert_exporter": "python",
   "pygments_lexer": "ipython2",
   "version": "2.7.6"
  }
 },
 "nbformat": 4,
 "nbformat_minor": 0
}
