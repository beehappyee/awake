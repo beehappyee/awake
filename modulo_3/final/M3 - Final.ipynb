{
 "cells": [
  {
   "cell_type": "code",
   "execution_count": 54,
   "metadata": {
    "collapsed": true,
    "ExecuteTime": {
     "end_time": "2023-05-24T06:08:31.434092800Z",
     "start_time": "2023-05-24T06:08:31.280154100Z"
    }
   },
   "outputs": [],
   "source": [
    "import matplotlib.pyplot as plt\n",
    "import pandas as pd"
   ]
  },
  {
   "cell_type": "markdown",
   "source": [
    "Crear un programa utilizando la librería que realice lo siguiente:\n",
    "1. Crear el siguiente DataFrame indexado"
   ],
   "metadata": {
    "collapsed": false
   }
  },
  {
   "cell_type": "code",
   "execution_count": 55,
   "outputs": [
    {
     "name": "stdout",
     "output_type": "stream",
     "text": [
      "  tipo  calorias  tiempo\n",
      "0    L       420      60\n",
      "1    M       380      40\n",
      "2    X       390      75\n",
      "3    J       490      55\n",
      "4    V       300      45\n"
     ]
    }
   ],
   "source": [
    "var_dataset = {'tipo': ['L', 'M', 'X', 'J', 'V'],\n",
    "        'calorias': [420, 380, 390, 490, 300],\n",
    "        'tiempo': [60, 40, 75, 55, 45]}\n",
    "var_dataframe = pd.DataFrame(var_dataset)\n",
    "\n",
    "print(var_dataframe)"
   ],
   "metadata": {
    "collapsed": false,
    "ExecuteTime": {
     "end_time": "2023-05-24T06:08:31.441088200Z",
     "start_time": "2023-05-24T06:08:31.302140700Z"
    }
   }
  },
  {
   "cell_type": "markdown",
   "source": [
    "2. Calcular la media, mediana, y desviación típica de ambas columnas"
   ],
   "metadata": {
    "collapsed": false
   }
  },
  {
   "cell_type": "code",
   "execution_count": 61,
   "outputs": [
    {
     "name": "stdout",
     "output_type": "stream",
     "text": [
      "         calorias     tiempo\n",
      "count    5.000000   5.000000\n",
      "mean   396.000000  55.000000\n",
      "std     68.774995  13.693064\n",
      "min    300.000000  40.000000\n",
      "25%    380.000000  45.000000\n",
      "50%    390.000000  55.000000\n",
      "75%    420.000000  60.000000\n",
      "max    490.000000  75.000000\n"
     ]
    }
   ],
   "source": [
    "var_statistics = var_dataframe.describe()\n",
    "\n",
    "print(var_statistics)"
   ],
   "metadata": {
    "collapsed": false,
    "ExecuteTime": {
     "end_time": "2023-05-24T07:32:20.771649100Z",
     "start_time": "2023-05-24T07:32:20.618926300Z"
    }
   }
  },
  {
   "cell_type": "markdown",
   "source": [
    "3. Añadir otra columna booleana al DataFrame para ver si se ha\n",
    "cumplido el reto de quemar más de 400 calorías por hora. La nueva\n",
    "columna debe generarse aplicando una fórmula a las otras columnas."
   ],
   "metadata": {
    "collapsed": false
   }
  },
  {
   "cell_type": "code",
   "execution_count": 57,
   "outputs": [
    {
     "name": "stdout",
     "output_type": "stream",
     "text": [
      "  tipo  calorias  tiempo   reto\n",
      "0    L       420      60   True\n",
      "1    M       380      40   True\n",
      "2    X       390      75  False\n",
      "3    J       490      55   True\n",
      "4    V       300      45  False\n"
     ]
    }
   ],
   "source": [
    "var_dataframe['reto'] = var_dataframe['calorias'] / var_dataframe['tiempo'] > 400 / 60\n",
    "\n",
    "print(var_dataframe)"
   ],
   "metadata": {
    "collapsed": false,
    "ExecuteTime": {
     "end_time": "2023-05-24T06:08:31.448082200Z",
     "start_time": "2023-05-24T06:08:31.363617900Z"
    }
   }
  },
  {
   "cell_type": "markdown",
   "source": [
    "4. Filtrar el DataFrame y devolver otro DataFrame con las filas pares que\n",
    "cumplan que el número de calorías es mayor de 400"
   ],
   "metadata": {
    "collapsed": false
   }
  },
  {
   "cell_type": "code",
   "execution_count": 58,
   "outputs": [
    {
     "name": "stdout",
     "output_type": "stream",
     "text": [
      "  tipo  calorias  tiempo  reto\n",
      "0    L       420      60  True\n"
     ]
    }
   ],
   "source": [
    "var_dataframe_filtrado = var_dataframe[(var_dataframe.index % 2 == 0) & (var_dataframe['calorias'] > 400)]\n",
    "\n",
    "print(var_dataframe_filtrado)"
   ],
   "metadata": {
    "collapsed": false,
    "ExecuteTime": {
     "end_time": "2023-05-24T06:08:31.450080800Z",
     "start_time": "2023-05-24T06:08:31.393598300Z"
    }
   }
  },
  {
   "cell_type": "markdown",
   "source": [
    "5. Crear a partir del DataFrame una serie con los porcentajes de días que\n",
    "se ha conseguido el reto y los que no"
   ],
   "metadata": {
    "collapsed": false
   }
  },
  {
   "cell_type": "code",
   "execution_count": 59,
   "outputs": [
    {
     "name": "stdout",
     "output_type": "stream",
     "text": [
      "True     60.0\n",
      "False    40.0\n",
      "Name: reto, dtype: float64\n"
     ]
    }
   ],
   "source": [
    "var_reto = var_dataframe['reto'].value_counts(normalize=True) * 100\n",
    "\n",
    "print(var_reto)"
   ],
   "metadata": {
    "collapsed": false,
    "ExecuteTime": {
     "end_time": "2023-05-24T06:08:31.472067400Z",
     "start_time": "2023-05-24T06:08:31.434092800Z"
    }
   }
  },
  {
   "cell_type": "markdown",
   "source": [
    "6. Crear un gráfico que muestre la progresión de las calorías y tiempo durante la semana"
   ],
   "metadata": {
    "collapsed": false
   }
  },
  {
   "cell_type": "code",
   "execution_count": 60,
   "outputs": [
    {
     "data": {
      "text/plain": "<Figure size 640x480 with 1 Axes>",
      "image/png": "[encoded data removed]"
     },
     "metadata": {},
     "output_type": "display_data"
    }
   ],
   "source": [
    "plt.plot(var_dataframe['tipo'], var_dataframe['calorias'], label='calorías')\n",
    "plt.plot(var_dataframe['tipo'], var_dataframe['tiempo'], label='tiempo')\n",
    "\n",
    "plt.xlabel('dias')\n",
    "plt.ylabel('calorias')\n",
    "plt.legend()\n",
    "\n",
    "plt.show()"
   ],
   "metadata": {
    "collapsed": false,
    "ExecuteTime": {
     "end_time": "2023-05-24T06:08:32.041829600Z",
     "start_time": "2023-05-24T06:08:31.461074600Z"
    }
   }
  }
 ],
 "metadata": {
  "kernelspec": {
   "display_name": "Python 3",
   "language": "python",
   "name": "python3"
  },
  "language_info": {
   "codemirror_mode": {
    "name": "ipython",
    "version": 2
   },
   "file_extension": ".py",
   "mimetype": "text/x-python",
   "name": "python",
   "nbconvert_exporter": "python",
   "pygments_lexer": "ipython2",
   "version": "2.7.6"
  }
 },
 "nbformat": 4,
 "nbformat_minor": 0
}
