{
 "cells": [
  {
   "cell_type": "markdown",
   "source": [
    "Pregunta 1:\n",
    "Investigue respecto a los siguientes conceptos. Usted debe explicar esto de forma sencilla en no más de 5 líneas de texto\n",
    "● Aprendizaje supervisado\n",
    " Es un enfoque de aprendizaje automático donde se utilizan conjuntos de datos etiquetados para entrenar un modelo. El modelo aprende a realizar predicciones o tomar decisiones basándose en ejemplos previamente etiquetados por humanos. El objetivo es que el modelo pueda generalizar y hacer predicciones precisas sobre datos no etiquetados. En este enfoque, se supervisa y se proporciona retroalimentación al modelo durante el proceso de entrenamiento."
   ],
   "metadata": {
    "collapsed": false
   }
  },
  {
   "cell_type": "markdown",
   "source": [
    "● Aprendizaje sin supervisión\n",
    "Es un enfoque de aprendizaje automático en el que se utilizan conjuntos de datos no etiquetados. El objetivo principal es descubrir patrones ocultos o estructuras inherentes en los datos sin la guía de etiquetas preexistentes. En este enfoque, el modelo busca agrupar los datos o extraer características y relaciones útiles sin información previa sobre las categorías o clases de los datos."
   ],
   "metadata": {
    "collapsed": false
   }
  },
  {
   "cell_type": "markdown",
   "source": [
    "● Aprendizaje por refuerzo\n",
    "Es un enfoque de aprendizaje automático en el que un agente aprende a tomar decisiones secuenciales para maximizar una recompensa acumulativa. El agente interactúa con un entorno y aprende a través de prueba y error, recibiendo retroalimentación en forma de recompensas o castigos según las acciones que realice. El objetivo es que el agente aprenda una política óptima para tomar decisiones en un entorno específico."
   ],
   "metadata": {
    "collapsed": false
   }
  },
  {
   "cell_type": "markdown",
   "source": [
    "● Algoritmos de regresión\n",
    " Son técnicas de aprendizaje automático utilizadas para predecir valores numéricos continuos. Estos algoritmos analizan la relación entre una o más variables de entrada y una variable de salida continua para construir un modelo que pueda estimar valores numéricos para datos no vistos."
   ],
   "metadata": {
    "collapsed": false
   }
  },
  {
   "cell_type": "markdown",
   "source": [
    "● Algoritmos de agrupación\n",
    "Son técnicas de aprendizaje automático utilizadas para agrupar conjuntos de datos en categorías o grupos similares. Estos algoritmos analizan las similitudes y diferencias entre los datos para identificar estructuras o patrones que permitan agruparlos en conjuntos coherentes. No se proporciona información sobre las categorías o grupos específicos, sino que el algoritmo encuentra automáticamente las relaciones entre los datos y los organiza en grupos."
   ],
   "metadata": {
    "collapsed": false
   }
  },
  {
   "cell_type": "markdown",
   "source": [
    "● Algoritmos de Aprendizaje Profundo\n",
    "Son un tipo de modelo de aprendizaje automático inspirado en el funcionamiento del cerebro humano. Estos algoritmos utilizan redes neuronales artificiales con múltiples capas ocultas para aprender características y representaciones de alto nivel a partir de los datos de entrada. Los modelos de Aprendizaje Profundo han demostrado un gran rendimiento en tareas como reconocimiento de imágenes, procesamiento de lenguaje natural y otros problemas complejos de aprendizaje automático."
   ],
   "metadata": {
    "collapsed": false
   }
  },
  {
   "cell_type": "markdown",
   "source": [
    "Pregunta 2:\n",
    "Busque una imagen que una los conceptos anteriores o cree usted\n",
    "un diagrama que los relacione (Puede agregar otros conceptos si lo cree\n",
    "necesario)\n",
    "![Diagrama](./diagrama.jpg)"
   ],
   "metadata": {
    "collapsed": false
   }
  }
 ],
 "metadata": {
  "kernelspec": {
   "display_name": "Python 3",
   "language": "python",
   "name": "python3"
  },
  "language_info": {
   "codemirror_mode": {
    "name": "ipython",
    "version": 2
   },
   "file_extension": ".py",
   "mimetype": "text/x-python",
   "name": "python",
   "nbconvert_exporter": "python",
   "pygments_lexer": "ipython2",
   "version": "2.7.6"
  }
 },
 "nbformat": 4,
 "nbformat_minor": 0
}
