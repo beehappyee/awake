{
 "cells": [
  {
   "cell_type": "markdown",
   "source": [
    "Utilizaremos un set de datos de las policias de New York del año 2009 y 2010. (2009_1perc.csv y 2010_1perc.csv) los cuales nos darán información de los procedimientos policiales realizados. Además se le entregará el diccionario de variables para que pueda consultar que significa cada categoría dentro de las variables.\n",
    "● La variable respuesta 'arstmade' informa si los procedimientos policiales han terminado en arresto o no, y el objetivo será realizar un modelo de Machine Learning para predecir si un futuro procedimiento terminará en arresto."
   ],
   "metadata": {
    "collapsed": false
   }
  },
  {
   "cell_type": "markdown",
   "source": [
    "1.- Enliste todas las librerias que utilizará\n",
    "Nota: Se recomienda ir actualizando la lista conforme las necesidades vaya teniendo durante el desarrollo de la prueba"
   ],
   "metadata": {
    "collapsed": false
   }
  },
  {
   "cell_type": "code",
   "execution_count": 1,
   "outputs": [],
   "source": [
    "import pandas as pd"
   ],
   "metadata": {
    "collapsed": false,
    "ExecuteTime": {
     "end_time": "2023-06-05T04:36:49.227788600Z",
     "start_time": "2023-06-05T04:36:47.889006900Z"
    }
   }
  },
  {
   "cell_type": "markdown",
   "source": [
    "2. Importación y revisión de los datos:\n",
    "Importe ambos sets. Dado que la fuente de datos proviene de la misma base,tienen las mismas columnas. Consolide ambos sets y reporte una exploración básica de los datos (numero de filas/columnas, tipos de datos, estadísticas básicas, casos perdidos)"
   ],
   "metadata": {
    "collapsed": false
   }
  },
  {
   "cell_type": "code",
   "execution_count": 2,
   "id": "443eaf8c",
   "metadata": {
    "ExecuteTime": {
     "end_time": "2023-06-05T04:36:49.545133800Z",
     "start_time": "2023-06-05T04:36:49.232786200Z"
    }
   },
   "outputs": [
    {
     "name": "stdout",
     "output_type": "stream",
     "text": [
      "<class 'pandas.core.frame.DataFrame'>\n",
      "RangeIndex: 5812 entries, 0 to 5811\n",
      "Columns: 112 entries, Unnamed: 0 to detailcm\n",
      "dtypes: float64(1), int64(19), object(92)\n",
      "memory usage: 5.0+ MB\n",
      "None\n",
      "<class 'pandas.core.frame.DataFrame'>\n",
      "RangeIndex: 6013 entries, 0 to 6012\n",
      "Columns: 112 entries, Unnamed: 0 to detailcm\n",
      "dtypes: int64(17), object(95)\n",
      "memory usage: 5.1+ MB\n",
      "None\n"
     ]
    }
   ],
   "source": [
    "dataframe_2009 = pd.read_csv(\"2009_1perc.csv\")\n",
    "dataframe_2010 = pd.read_csv(\"2010_1perc.csv\")\n",
    "\n",
    "print(dataframe_2009.info())\n",
    "print(dataframe_2010.info())"
   ]
  },
  {
   "cell_type": "code",
   "execution_count": 3,
   "id": "3c94dbe0",
   "metadata": {
    "ExecuteTime": {
     "end_time": "2023-06-05T04:36:50.005290400Z",
     "start_time": "2023-06-05T04:36:49.548133300Z"
    }
   },
   "outputs": [
    {
     "name": "stdout",
     "output_type": "stream",
     "text": [
      "          Unnamed: 0    year          pct       ser_num      datestop  \\\n",
      "count    5812.000000  5812.0  5812.000000   5812.000000  5.812000e+03   \n",
      "mean   291666.632485  2009.0    69.051617   5769.119924  6.255350e+06   \n",
      "std    167435.992474     0.0    32.846903   5524.955522  3.447243e+06   \n",
      "min        52.000000  2009.0     1.000000      1.000000  1.012009e+06   \n",
      "25%    147489.750000  2009.0    42.000000   1902.750000  3.172009e+06   \n",
      "50%    292821.500000  2009.0    73.000000   4347.000000  6.142009e+06   \n",
      "75%    436008.750000  2009.0   102.000000   7616.750000  9.192009e+06   \n",
      "max    580847.000000  2009.0   123.000000  31694.000000  1.231201e+07   \n",
      "\n",
      "          timestop       perobs      perstop  compyear  comppct       repcmd  \\\n",
      "count  5812.000000  5812.000000  5812.000000    5812.0   5812.0  5812.000000   \n",
      "mean   1426.219202     2.665893     5.501893       0.0      0.0   252.115795   \n",
      "std     736.239726     4.816704     5.922592       0.0      0.0   305.058678   \n",
      "min       0.000000     0.000000     1.000000       0.0      0.0     1.000000   \n",
      "25%    1030.000000     1.000000     3.000000       0.0      0.0    70.000000   \n",
      "50%    1605.000000     1.000000     5.000000       0.0      0.0   105.000000   \n",
      "75%    2035.000000     3.000000     5.000000       0.0      0.0   178.000000   \n",
      "max    2830.000000   200.000000   200.000000       0.0      0.0   879.000000   \n",
      "\n",
      "            revcmd           dob          age      ht_feet      ht_inch  \\\n",
      "count  5812.000000  5.812000e+03  5812.000000  5812.000000  5812.000000   \n",
      "mean    249.074845  6.941142e+06    28.874054     5.188231     6.414315   \n",
      "std     306.222306  3.552806e+06    26.067172     0.402213     3.446479   \n",
      "min       1.000000  1.011900e+06     1.000000     3.000000     0.000000   \n",
      "25%      67.000000  4.061986e+06    19.000000     5.000000     4.000000   \n",
      "50%     103.000000  7.121980e+06    25.000000     5.000000     7.000000   \n",
      "75%     178.750000  1.012198e+07    34.000000     5.000000     9.000000   \n",
      "max     879.000000  1.231199e+07   999.000000     7.000000    11.000000   \n",
      "\n",
      "            weight      addrpct  linecm     detailcm  \n",
      "count  5812.000000  5812.000000  5812.0  5812.000000  \n",
      "mean    169.942533    69.051617     1.0    37.488644  \n",
      "std      37.653637    32.846903     0.0    25.059538  \n",
      "min       1.000000     1.000000     1.0     6.000000  \n",
      "25%     150.000000    42.000000     1.0    20.000000  \n",
      "50%     170.000000    73.000000     1.0    28.000000  \n",
      "75%     180.000000   102.000000     1.0    46.000000  \n",
      "max     999.000000   123.000000     1.0   113.000000  \n",
      "\n",
      "       recstat inout trhsloc crimsusp typeofid explnstp othpers arstmade  \\\n",
      "count     5812  5812    5812     5812     5812     5812    5812     5812   \n",
      "unique       2     2       4      388        4        2       2        2   \n",
      "top          A     O       P      CPW        P        Y       N        N   \n",
      "freq      3713  4389    4147      814     3246     5810    4678     5464   \n",
      "\n",
      "       arstoffn sumissue  ... aptnum      city state   zip sector  beat  post  \\\n",
      "count      5812     5812  ...   5812      5812  5812  5812   5812  5812  5812   \n",
      "unique      164        2  ...      1         5     1     1     19    34    83   \n",
      "top                    N  ...         BROOKLYN                  A               \n",
      "freq       5464     5454  ...   5812      2061  5812  5812    578  3622  5268   \n",
      "\n",
      "       xcoord ycoord dettypcm  \n",
      "count    5812   5812     5812  \n",
      "unique   4346   4430        1  \n",
      "top                        CM  \n",
      "freq      168    168     5812  \n",
      "\n",
      "[4 rows x 92 columns]\n"
     ]
    }
   ],
   "source": [
    "#Describe df_2009\n",
    "print(dataframe_2009.describe())\n",
    "print()\n",
    "print(dataframe_2009.describe(include = \"object\"))"
   ]
  },
  {
   "cell_type": "code",
   "execution_count": 4,
   "id": "d9321308",
   "metadata": {
    "ExecuteTime": {
     "end_time": "2023-06-05T04:36:50.333580Z",
     "start_time": "2023-06-05T04:36:50.008291Z"
    }
   },
   "outputs": [
    {
     "name": "stdout",
     "output_type": "stream",
     "text": [
      "          Unnamed: 0    year          pct       ser_num      datestop  \\\n",
      "count    6013.000000  6013.0  6013.000000   6013.000000  6.013000e+03   \n",
      "mean   300156.684184  2010.0    68.213870   5629.246300  6.469452e+06   \n",
      "std    173941.822364     0.0    33.218863   4764.331369  3.408437e+06   \n",
      "min       135.000000  2010.0     1.000000      1.000000  1.012010e+06   \n",
      "25%    147573.000000  2010.0    42.000000   2071.000000  3.302010e+06   \n",
      "50%    299643.000000  2010.0    72.000000   4393.000000  6.182010e+06   \n",
      "75%    450268.000000  2010.0   102.000000   8038.000000  9.262010e+06   \n",
      "max    601281.000000  2010.0   123.000000  28078.000000  1.231201e+07   \n",
      "\n",
      "          timestop       perobs      perstop  compyear  comppct       repcmd  \\\n",
      "count  6013.000000  6013.000000  6013.000000    6013.0   6013.0  6013.000000   \n",
      "mean   1401.649426     2.643273     5.792283       0.0      0.0   234.886912   \n",
      "std     752.702505    12.840711    12.383224       0.0      0.0   290.362984   \n",
      "min       0.000000     0.000000     1.000000       0.0      0.0     1.000000   \n",
      "25%     930.000000     1.000000     3.000000       0.0      0.0    69.000000   \n",
      "50%    1604.000000     1.000000     5.000000       0.0      0.0   106.000000   \n",
      "75%    2035.000000     2.000000     5.000000       0.0      0.0   175.000000   \n",
      "max    2359.000000   926.000000   857.000000       0.0      0.0   879.000000   \n",
      "\n",
      "            revcmd           dob          age      ht_feet      ht_inch  \\\n",
      "count  6013.000000  6.013000e+03  6013.000000  6013.000000  6013.000000   \n",
      "mean    229.235157  7.678712e+06    29.059870     5.178613     6.401962   \n",
      "std     292.338809  3.857909e+06    31.948786     0.395452     3.365698   \n",
      "min       1.000000  1.011900e+06     1.000000     3.000000     0.000000   \n",
      "25%      62.000000  4.181986e+06    19.000000     5.000000     4.000000   \n",
      "50%     102.000000  8.131990e+06    24.000000     5.000000     7.000000   \n",
      "75%     173.000000  1.205197e+07    34.000000     5.000000     9.000000   \n",
      "max     879.000000  1.231200e+07   999.000000     7.000000    11.000000   \n",
      "\n",
      "            weight  \n",
      "count  6013.000000  \n",
      "mean    170.239647  \n",
      "std      36.750557  \n",
      "min       1.000000  \n",
      "25%     150.000000  \n",
      "50%     170.000000  \n",
      "75%     180.000000  \n",
      "max     999.000000  \n",
      "\n",
      "       recstat inout trhsloc crimsusp typeofid explnstp othpers arstmade  \\\n",
      "count     6013  6013    6013     6013     6013     6013    6013     6013   \n",
      "unique       2     2       3      406        4        2       2        2   \n",
      "top          A     O       P      FEL        P        Y       N        N   \n",
      "freq      3494  4670    4722     1051     3270     6004    4741     5613   \n",
      "\n",
      "       arstoffn sumissue  ...   zip addrpct sector  beat  post xcoord ycoord  \\\n",
      "count      6013     6013  ...  6013    6013   6013  6013  6013   6013   6013   \n",
      "unique      151        2  ...     1      77     19    63   142   4553   4619   \n",
      "top                    N  ...            75      B                             \n",
      "freq       5614     5567  ...  6013     290    666  3822  5383    249    249   \n",
      "\n",
      "       dettypcm linecm detailcm  \n",
      "count      6013   6013     6013  \n",
      "unique        2      2       81  \n",
      "top          CM      1       20  \n",
      "freq       6012   6012     1376  \n",
      "\n",
      "[4 rows x 95 columns]\n"
     ]
    }
   ],
   "source": [
    "#Describe df_2010\n",
    "print(dataframe_2010.describe())\n",
    "print()\n",
    "print(dataframe_2010.describe(include = \"object\"))"
   ]
  },
  {
   "cell_type": "code",
   "execution_count": 5,
   "id": "62fd6000",
   "metadata": {
    "ExecuteTime": {
     "end_time": "2023-06-05T04:36:50.568455700Z",
     "start_time": "2023-06-05T04:36:50.340575800Z"
    }
   },
   "outputs": [
    {
     "name": "stdout",
     "output_type": "stream",
     "text": [
      "Unnamed: 0    0\n",
      "year          0\n",
      "pct           0\n",
      "ser_num       0\n",
      "datestop      0\n",
      "             ..\n",
      "xcoord        0\n",
      "ycoord        0\n",
      "dettypcm      0\n",
      "linecm        0\n",
      "detailcm      0\n",
      "Length: 112, dtype: int64\n",
      "\n",
      "Unnamed: 0    0\n",
      "year          0\n",
      "pct           0\n",
      "ser_num       0\n",
      "datestop      0\n",
      "             ..\n",
      "xcoord        0\n",
      "ycoord        0\n",
      "dettypcm      0\n",
      "linecm        0\n",
      "detailcm      0\n",
      "Length: 112, dtype: int64\n"
     ]
    }
   ],
   "source": [
    "#Casos perdidos\n",
    "print(dataframe_2009.isna().sum())\n",
    "print()\n",
    "print(dataframe_2009.isna().sum())"
   ]
  },
  {
   "cell_type": "code",
   "execution_count": 6,
   "id": "dcb7f42a",
   "metadata": {
    "ExecuteTime": {
     "end_time": "2023-06-05T04:36:50.640929700Z",
     "start_time": "2023-06-05T04:36:50.570454Z"
    }
   },
   "outputs": [
    {
     "name": "stdout",
     "output_type": "stream",
     "text": [
      "Los tipos de datos son diferentes en las siguientes columnas:\n",
      "perobs\n",
      "addrpct\n",
      "linecm\n",
      "detailcm\n"
     ]
    }
   ],
   "source": [
    "#Comparar tipos de datos de df's\n",
    "# Obtener los tipos de datos de cada DataFrame\n",
    "dtypes_2009 = dataframe_2009.dtypes\n",
    "dtypes_2010 = dataframe_2010.dtypes\n",
    "\n",
    "# Comparar los tipos de datos columna por columna\n",
    "diferentes = []\n",
    "for columna in dtypes_2009.index:\n",
    "    if dtypes_2009[columna] != dtypes_2010[columna]:\n",
    "        diferentes.append(columna)\n",
    "\n",
    "# Imprimir las columnas con tipos de datos diferentes\n",
    "if len(diferentes) == 0:\n",
    "    print(\"Los tipos de datos son iguales en todas las columnas.\")\n",
    "else:\n",
    "    print(\"Los tipos de datos son diferentes en las siguientes columnas:\")\n",
    "    for columna in diferentes:\n",
    "        print(columna)"
   ]
  },
  {
   "cell_type": "code",
   "execution_count": 7,
   "id": "d0f8ee2d",
   "metadata": {
    "ExecuteTime": {
     "end_time": "2023-06-05T04:36:50.640929700Z",
     "start_time": "2023-06-05T04:36:50.603952500Z"
    }
   },
   "outputs": [
    {
     "name": "stdout",
     "output_type": "stream",
     "text": [
      "perobs 2009: float64, perobs 2010: int64\n",
      "addrpct 2009: int64, addrpct 2010: object\n",
      "linecm 2009: int64, linecm 2010: object\n",
      "detailcm 2009: int64, detailcm 2010: object\n"
     ]
    }
   ],
   "source": [
    "#Revisar el tipo de datos de variables no coincidentes\n",
    "print(f\"perobs 2009: {dataframe_2009['perobs'].dtype}, perobs 2010: {dataframe_2010['perobs'].dtype}\")\n",
    "print(f\"addrpct 2009: {dataframe_2009['addrpct'].dtype}, addrpct 2010: {dataframe_2010['addrpct'].dtype}\")\n",
    "print(f\"linecm 2009: {dataframe_2009['linecm'].dtype}, linecm 2010: {dataframe_2010['linecm'].dtype}\")\n",
    "print(f\"detailcm 2009: {dataframe_2009['detailcm'].dtype}, detailcm 2010: {dataframe_2010['detailcm'].dtype}\")"
   ]
  },
  {
   "cell_type": "code",
   "execution_count": 8,
   "id": "c6ea0675",
   "metadata": {
    "ExecuteTime": {
     "end_time": "2023-06-05T04:36:50.720400600Z",
     "start_time": "2023-06-05T04:36:50.632934900Z"
    }
   },
   "outputs": [],
   "source": [
    "#Transformar todas las variables no concordantes en object\n",
    "dataframe_2009['perobs'] = dataframe_2009['perobs'].astype(object)\n",
    "dataframe_2010['perobs'] = dataframe_2010['perobs'].astype(object)\n",
    "dataframe_2009['addrpct'] = dataframe_2009['addrpct'].astype(object)\n",
    "dataframe_2010['addrpct'] = dataframe_2010['addrpct'].astype(object)\n",
    "dataframe_2009['linecm'] = dataframe_2009['linecm'].astype(object)\n",
    "dataframe_2010['linecm'] = dataframe_2010['linecm'].astype(object)\n",
    "dataframe_2009['detailcm'] = dataframe_2009['detailcm'].astype(object)\n",
    "dataframe_2010['detailcm'] = dataframe_2010['detailcm'].astype(object)"
   ]
  },
  {
   "cell_type": "code",
   "execution_count": 9,
   "id": "e35da881",
   "metadata": {
    "ExecuteTime": {
     "end_time": "2023-06-05T04:36:50.791893300Z",
     "start_time": "2023-06-05T04:36:50.720400600Z"
    }
   },
   "outputs": [
    {
     "data": {
      "text/plain": "   Unnamed: 0  year  pct  ser_num  datestop  timestop recstat inout trhsloc  \\\n0      178048  2009   41     1779   4032009       130       A     O       P   \n1      498873  2009  108     5805  10292009      1050       A     O       P   \n2      463573  2009   43     8340  10062009      1450       1     O       P   \n3       43626  2009   77      932   1232009      1843       A     O       P   \n4      563921  2009  110    11224  12132009      1655       A     O       P   \n\n  perobs  ... zip  addrpct sector beat post   xcoord   ycoord dettypcm linecm  \\\n0    1.0  ...           41      G    7       1013067  0238633       CM      1   \n1    3.0  ...          108      J            1012043  0212157       CM      1   \n2    1.0  ...           43      E            1017599  0240200       CM      1   \n3    5.0  ...           77      J    4   35  1002625  0183442       CM      1   \n4    3.0  ...          110      H            1024535  0209890       CM      1   \n\n   detailcm  \n0        20  \n1        14  \n2        20  \n3        24  \n4        20  \n\n[5 rows x 112 columns]",
      "text/html": "<div>\n<style scoped>\n    .dataframe tbody tr th:only-of-type {\n        vertical-align: middle;\n    }\n\n    .dataframe tbody tr th {\n        vertical-align: top;\n    }\n\n    .dataframe thead th {\n        text-align: right;\n    }\n</style>\n<table border=\"1\" class=\"dataframe\">\n  <thead>\n    <tr style=\"text-align: right;\">\n      <th></th>\n      <th>Unnamed: 0</th>\n      <th>year</th>\n      <th>pct</th>\n      <th>ser_num</th>\n      <th>datestop</th>\n      <th>timestop</th>\n      <th>recstat</th>\n      <th>inout</th>\n      <th>trhsloc</th>\n      <th>perobs</th>\n      <th>...</th>\n      <th>zip</th>\n      <th>addrpct</th>\n      <th>sector</th>\n      <th>beat</th>\n      <th>post</th>\n      <th>xcoord</th>\n      <th>ycoord</th>\n      <th>dettypcm</th>\n      <th>linecm</th>\n      <th>detailcm</th>\n    </tr>\n  </thead>\n  <tbody>\n    <tr>\n      <th>0</th>\n      <td>178048</td>\n      <td>2009</td>\n      <td>41</td>\n      <td>1779</td>\n      <td>4032009</td>\n      <td>130</td>\n      <td>A</td>\n      <td>O</td>\n      <td>P</td>\n      <td>1.0</td>\n      <td>...</td>\n      <td></td>\n      <td>41</td>\n      <td>G</td>\n      <td>7</td>\n      <td></td>\n      <td>1013067</td>\n      <td>0238633</td>\n      <td>CM</td>\n      <td>1</td>\n      <td>20</td>\n    </tr>\n    <tr>\n      <th>1</th>\n      <td>498873</td>\n      <td>2009</td>\n      <td>108</td>\n      <td>5805</td>\n      <td>10292009</td>\n      <td>1050</td>\n      <td>A</td>\n      <td>O</td>\n      <td>P</td>\n      <td>3.0</td>\n      <td>...</td>\n      <td></td>\n      <td>108</td>\n      <td>J</td>\n      <td></td>\n      <td></td>\n      <td>1012043</td>\n      <td>0212157</td>\n      <td>CM</td>\n      <td>1</td>\n      <td>14</td>\n    </tr>\n    <tr>\n      <th>2</th>\n      <td>463573</td>\n      <td>2009</td>\n      <td>43</td>\n      <td>8340</td>\n      <td>10062009</td>\n      <td>1450</td>\n      <td>1</td>\n      <td>O</td>\n      <td>P</td>\n      <td>1.0</td>\n      <td>...</td>\n      <td></td>\n      <td>43</td>\n      <td>E</td>\n      <td></td>\n      <td></td>\n      <td>1017599</td>\n      <td>0240200</td>\n      <td>CM</td>\n      <td>1</td>\n      <td>20</td>\n    </tr>\n    <tr>\n      <th>3</th>\n      <td>43626</td>\n      <td>2009</td>\n      <td>77</td>\n      <td>932</td>\n      <td>1232009</td>\n      <td>1843</td>\n      <td>A</td>\n      <td>O</td>\n      <td>P</td>\n      <td>5.0</td>\n      <td>...</td>\n      <td></td>\n      <td>77</td>\n      <td>J</td>\n      <td>4</td>\n      <td>35</td>\n      <td>1002625</td>\n      <td>0183442</td>\n      <td>CM</td>\n      <td>1</td>\n      <td>24</td>\n    </tr>\n    <tr>\n      <th>4</th>\n      <td>563921</td>\n      <td>2009</td>\n      <td>110</td>\n      <td>11224</td>\n      <td>12132009</td>\n      <td>1655</td>\n      <td>A</td>\n      <td>O</td>\n      <td>P</td>\n      <td>3.0</td>\n      <td>...</td>\n      <td></td>\n      <td>110</td>\n      <td>H</td>\n      <td></td>\n      <td></td>\n      <td>1024535</td>\n      <td>0209890</td>\n      <td>CM</td>\n      <td>1</td>\n      <td>20</td>\n    </tr>\n  </tbody>\n</table>\n<p>5 rows × 112 columns</p>\n</div>"
     },
     "execution_count": 9,
     "metadata": {},
     "output_type": "execute_result"
    }
   ],
   "source": [
    "df_consolidado = pd.concat([dataframe_2009, dataframe_2010], ignore_index=True)\n",
    "df_consolidado.head(5)"
   ]
  },
  {
   "cell_type": "code",
   "execution_count": 10,
   "id": "73da801a",
   "metadata": {
    "ExecuteTime": {
     "end_time": "2023-06-05T04:36:50.807889100Z",
     "start_time": "2023-06-05T04:36:50.793897800Z"
    }
   },
   "outputs": [
    {
     "name": "stdout",
     "output_type": "stream",
     "text": [
      "perobs consolidado: object\n",
      "addrpct consolidado: object\n",
      "linecm consolidado: object\n",
      "detailcm consolidado: object\n"
     ]
    }
   ],
   "source": [
    "#Revisar el tipo de datos de variables no coincidentes\n",
    "print(f\"perobs consolidado: {df_consolidado['perobs'].dtypes}\")\n",
    "print(f\"addrpct consolidado: {df_consolidado['addrpct'].dtypes}\")\n",
    "print(f\"linecm consolidado: {df_consolidado['linecm'].dtypes}\")\n",
    "print(f\"detailcm consolidado: {df_consolidado['detailcm'].dtypes}\")"
   ]
  },
  {
   "cell_type": "code",
   "execution_count": 11,
   "id": "0a3fa1cc",
   "metadata": {
    "ExecuteTime": {
     "end_time": "2023-06-05T04:36:50.958184Z",
     "start_time": "2023-06-05T04:36:50.808888700Z"
    }
   },
   "outputs": [],
   "source": [
    "#Castear a numeric\n",
    "df_consolidado['perobs'] = pd.to_numeric(df_consolidado[\"perobs\"], errors='coerce')\n",
    "df_consolidado['addrpct'] = pd.to_numeric(df_consolidado['addrpct'], errors='coerce')\n",
    "df_consolidado['linecm'] = pd.to_numeric(df_consolidado['linecm'], errors='coerce')\n",
    "df_consolidado['detailcm'] = pd.to_numeric(df_consolidado['detailcm'], errors='coerce')\n"
   ]
  },
  {
   "cell_type": "code",
   "execution_count": 12,
   "id": "4b68738d",
   "metadata": {
    "ExecuteTime": {
     "end_time": "2023-06-05T04:36:51.011677400Z",
     "start_time": "2023-06-05T04:36:50.886843400Z"
    }
   },
   "outputs": [],
   "source": [
    "#Eliminar NA\n",
    "#df_consolidado = df_consolidado.dropna(axis = 0)"
   ]
  },
  {
   "cell_type": "markdown",
   "id": "62126ccb",
   "metadata": {},
   "source": [
    "3. Preprocesamiento de datos:\n",
    "\n",
    "   Habrá notado que los datos parecen tener ciertas inconsistencias. Siga los siguientes pasos para limpiar este set:\n",
    "   1. Obtenga una lista con todas las variables categoricas que tengan entre 2 y 99 categorías (inclusive). (hint: son las variables tipo categoricas"
   ]
  },
  {
   "cell_type": "code",
   "execution_count": 13,
   "id": "e67b281f",
   "metadata": {
    "ExecuteTime": {
     "end_time": "2023-06-05T04:36:51.012675Z",
     "start_time": "2023-06-05T04:36:50.901222100Z"
    }
   },
   "outputs": [
    {
     "data": {
      "text/plain": "      recstat inout trhsloc   crimsusp typeofid explnstp othpers arstmade  \\\n0           A     O       P        CPW        P        Y       N        N   \n1           A     O       P       BURG        P        Y       Y        N   \n2           1     O       P       MISD        V        Y       N        N   \n3           A     O       P        MIS        P        Y       N        N   \n4           A     O       P        CPW        P        Y       Y        N   \n...       ...   ...     ...        ...      ...      ...     ...      ...   \n11820       1     O       H       MISD        P        Y       N        N   \n11821       A     O       P    ROBBERY        R        Y       N        N   \n11822       A     O       P        GLA        P        Y       N        N   \n11823       1     O       P     FELONY        P        Y       N        N   \n11824       1     I       T  CRIM MIS.        P        Y       N        N   \n\n      arstoffn sumissue  ... aptnum       city state zip sector beat post  \\\n0                     N  ...             BRONX                G    7        \n1                     N  ...            QUEENS                J             \n2                     N  ...             BRONX                E             \n3                     N  ...          BROOKLYN                J    4   35   \n4                     N  ...            QUEENS                H             \n...        ...      ...  ...    ...        ...   ...  ..    ...  ...  ...   \n11820                 N  ...          BROOKLYN                I             \n11821                 N  ...          BROOKLYN                A             \n11822                 Y  ...         STATEN IS                E             \n11823                 N  ...            QUEENS                E             \n11824                 N  ...         MANHATTAN                H   11        \n\n        xcoord   ycoord dettypcm  \n0      1013067  0238633       CM  \n1      1012043  0212157       CM  \n2      1017599  0240200       CM  \n3      1002625  0183442       CM  \n4      1024535  0209890       CM  \n...        ...      ...      ...  \n11820   989382   155162       CM  \n11821  1012757   186018       CM  \n11822   933868   138600       CM  \n11823  1014722   214388       CM  \n11824   987078   215157       CM  \n\n[11825 rows x 92 columns]",
      "text/html": "<div>\n<style scoped>\n    .dataframe tbody tr th:only-of-type {\n        vertical-align: middle;\n    }\n\n    .dataframe tbody tr th {\n        vertical-align: top;\n    }\n\n    .dataframe thead th {\n        text-align: right;\n    }\n</style>\n<table border=\"1\" class=\"dataframe\">\n  <thead>\n    <tr style=\"text-align: right;\">\n      <th></th>\n      <th>recstat</th>\n      <th>inout</th>\n      <th>trhsloc</th>\n      <th>crimsusp</th>\n      <th>typeofid</th>\n      <th>explnstp</th>\n      <th>othpers</th>\n      <th>arstmade</th>\n      <th>arstoffn</th>\n      <th>sumissue</th>\n      <th>...</th>\n      <th>aptnum</th>\n      <th>city</th>\n      <th>state</th>\n      <th>zip</th>\n      <th>sector</th>\n      <th>beat</th>\n      <th>post</th>\n      <th>xcoord</th>\n      <th>ycoord</th>\n      <th>dettypcm</th>\n    </tr>\n  </thead>\n  <tbody>\n    <tr>\n      <th>0</th>\n      <td>A</td>\n      <td>O</td>\n      <td>P</td>\n      <td>CPW</td>\n      <td>P</td>\n      <td>Y</td>\n      <td>N</td>\n      <td>N</td>\n      <td></td>\n      <td>N</td>\n      <td>...</td>\n      <td></td>\n      <td>BRONX</td>\n      <td></td>\n      <td></td>\n      <td>G</td>\n      <td>7</td>\n      <td></td>\n      <td>1013067</td>\n      <td>0238633</td>\n      <td>CM</td>\n    </tr>\n    <tr>\n      <th>1</th>\n      <td>A</td>\n      <td>O</td>\n      <td>P</td>\n      <td>BURG</td>\n      <td>P</td>\n      <td>Y</td>\n      <td>Y</td>\n      <td>N</td>\n      <td></td>\n      <td>N</td>\n      <td>...</td>\n      <td></td>\n      <td>QUEENS</td>\n      <td></td>\n      <td></td>\n      <td>J</td>\n      <td></td>\n      <td></td>\n      <td>1012043</td>\n      <td>0212157</td>\n      <td>CM</td>\n    </tr>\n    <tr>\n      <th>2</th>\n      <td>1</td>\n      <td>O</td>\n      <td>P</td>\n      <td>MISD</td>\n      <td>V</td>\n      <td>Y</td>\n      <td>N</td>\n      <td>N</td>\n      <td></td>\n      <td>N</td>\n      <td>...</td>\n      <td></td>\n      <td>BRONX</td>\n      <td></td>\n      <td></td>\n      <td>E</td>\n      <td></td>\n      <td></td>\n      <td>1017599</td>\n      <td>0240200</td>\n      <td>CM</td>\n    </tr>\n    <tr>\n      <th>3</th>\n      <td>A</td>\n      <td>O</td>\n      <td>P</td>\n      <td>MIS</td>\n      <td>P</td>\n      <td>Y</td>\n      <td>N</td>\n      <td>N</td>\n      <td></td>\n      <td>N</td>\n      <td>...</td>\n      <td></td>\n      <td>BROOKLYN</td>\n      <td></td>\n      <td></td>\n      <td>J</td>\n      <td>4</td>\n      <td>35</td>\n      <td>1002625</td>\n      <td>0183442</td>\n      <td>CM</td>\n    </tr>\n    <tr>\n      <th>4</th>\n      <td>A</td>\n      <td>O</td>\n      <td>P</td>\n      <td>CPW</td>\n      <td>P</td>\n      <td>Y</td>\n      <td>Y</td>\n      <td>N</td>\n      <td></td>\n      <td>N</td>\n      <td>...</td>\n      <td></td>\n      <td>QUEENS</td>\n      <td></td>\n      <td></td>\n      <td>H</td>\n      <td></td>\n      <td></td>\n      <td>1024535</td>\n      <td>0209890</td>\n      <td>CM</td>\n    </tr>\n    <tr>\n      <th>...</th>\n      <td>...</td>\n      <td>...</td>\n      <td>...</td>\n      <td>...</td>\n      <td>...</td>\n      <td>...</td>\n      <td>...</td>\n      <td>...</td>\n      <td>...</td>\n      <td>...</td>\n      <td>...</td>\n      <td>...</td>\n      <td>...</td>\n      <td>...</td>\n      <td>...</td>\n      <td>...</td>\n      <td>...</td>\n      <td>...</td>\n      <td>...</td>\n      <td>...</td>\n      <td>...</td>\n    </tr>\n    <tr>\n      <th>11820</th>\n      <td>1</td>\n      <td>O</td>\n      <td>H</td>\n      <td>MISD</td>\n      <td>P</td>\n      <td>Y</td>\n      <td>N</td>\n      <td>N</td>\n      <td></td>\n      <td>N</td>\n      <td>...</td>\n      <td></td>\n      <td>BROOKLYN</td>\n      <td></td>\n      <td></td>\n      <td>I</td>\n      <td></td>\n      <td></td>\n      <td>989382</td>\n      <td>155162</td>\n      <td>CM</td>\n    </tr>\n    <tr>\n      <th>11821</th>\n      <td>A</td>\n      <td>O</td>\n      <td>P</td>\n      <td>ROBBERY</td>\n      <td>R</td>\n      <td>Y</td>\n      <td>N</td>\n      <td>N</td>\n      <td></td>\n      <td>N</td>\n      <td>...</td>\n      <td></td>\n      <td>BROOKLYN</td>\n      <td></td>\n      <td></td>\n      <td>A</td>\n      <td></td>\n      <td></td>\n      <td>1012757</td>\n      <td>186018</td>\n      <td>CM</td>\n    </tr>\n    <tr>\n      <th>11822</th>\n      <td>A</td>\n      <td>O</td>\n      <td>P</td>\n      <td>GLA</td>\n      <td>P</td>\n      <td>Y</td>\n      <td>N</td>\n      <td>N</td>\n      <td></td>\n      <td>Y</td>\n      <td>...</td>\n      <td></td>\n      <td>STATEN IS</td>\n      <td></td>\n      <td></td>\n      <td>E</td>\n      <td></td>\n      <td></td>\n      <td>933868</td>\n      <td>138600</td>\n      <td>CM</td>\n    </tr>\n    <tr>\n      <th>11823</th>\n      <td>1</td>\n      <td>O</td>\n      <td>P</td>\n      <td>FELONY</td>\n      <td>P</td>\n      <td>Y</td>\n      <td>N</td>\n      <td>N</td>\n      <td></td>\n      <td>N</td>\n      <td>...</td>\n      <td></td>\n      <td>QUEENS</td>\n      <td></td>\n      <td></td>\n      <td>E</td>\n      <td></td>\n      <td></td>\n      <td>1014722</td>\n      <td>214388</td>\n      <td>CM</td>\n    </tr>\n    <tr>\n      <th>11824</th>\n      <td>1</td>\n      <td>I</td>\n      <td>T</td>\n      <td>CRIM MIS.</td>\n      <td>P</td>\n      <td>Y</td>\n      <td>N</td>\n      <td>N</td>\n      <td></td>\n      <td>N</td>\n      <td>...</td>\n      <td></td>\n      <td>MANHATTAN</td>\n      <td></td>\n      <td></td>\n      <td>H</td>\n      <td>11</td>\n      <td></td>\n      <td>987078</td>\n      <td>215157</td>\n      <td>CM</td>\n    </tr>\n  </tbody>\n</table>\n<p>11825 rows × 92 columns</p>\n</div>"
     },
     "execution_count": 13,
     "metadata": {},
     "output_type": "execute_result"
    }
   ],
   "source": [
    "#Filtrar categóricas\n",
    "variables_categoricas = df_consolidado.select_dtypes(include=['object'])\n",
    "variables_categoricas"
   ]
  },
  {
   "cell_type": "code",
   "execution_count": 14,
   "id": "368e68c4",
   "metadata": {
    "ExecuteTime": {
     "end_time": "2023-06-05T04:36:51.190083600Z",
     "start_time": "2023-06-05T04:36:50.992686900Z"
    }
   },
   "outputs": [
    {
     "data": {
      "text/plain": "trhsloc      4\ntypeofid     4\nsex          3\nrace         8\nhaircolr    11\neyecolor    11\nbuild        5\ncity         7\nsector      19\nbeat        64\ndtype: int64"
     },
     "execution_count": 14,
     "metadata": {},
     "output_type": "execute_result"
    }
   ],
   "source": [
    "#Listar las que tienen entre 2 y 99 categorías\n",
    "valores_distintos = variables_categoricas.nunique()\n",
    "valores_distintos[(valores_distintos > 2) & (valores_distintos < 99)]"
   ]
  },
  {
   "cell_type": "markdown",
   "id": "5388a6b7",
   "metadata": {},
   "source": [
    " B. Reemplaze las siguientes clases faltantes: -Si alguna categoría de las columnas officrid, offshld o offverb es igual a \"\"\n",
    "cambielo a 'N' y en caso contrario dejelo como 'Y' -Si alguna categoría de las columnas sector, trhsloc o beat es igual a \"\" (o NA, dependiendo de como haya catgado la base de datos), cambielo a 'U' y en caso contrario mantenga su valor Nota, los valores significan {N: No, Y: Yes, U: Unknown}"
   ]
  },
  {
   "cell_type": "code",
   "execution_count": 15,
   "id": "ee635241",
   "metadata": {
    "ExecuteTime": {
     "end_time": "2023-06-05T04:36:51.191588200Z",
     "start_time": "2023-06-05T04:36:51.138113500Z"
    }
   },
   "outputs": [
    {
     "name": "stdout",
     "output_type": "stream",
     "text": [
      "0\n",
      "True\n",
      "0\n",
      "True\n",
      "0\n",
      "True\n"
     ]
    }
   ],
   "source": [
    "#Revisar si las variables continen NA o \"\"\n",
    "print(df_consolidado[\"officrid\"].isna().sum())\n",
    "print(\" \"in df_consolidado[\"officrid\"].values)\n",
    "print(df_consolidado[\"offshld\"].isna().sum())\n",
    "print(\" \"in df_consolidado[\"offshld\"].values)\n",
    "print(df_consolidado[\"offverb\"].isna().sum())\n",
    "print(\" \"in df_consolidado[\"offverb\"].values)"
   ]
  }
 ],
 "metadata": {
  "kernelspec": {
   "display_name": "Python 3 (ipykernel)",
   "language": "python",
   "name": "python3"
  },
  "language_info": {
   "codemirror_mode": {
    "name": "ipython",
    "version": 3
   },
   "file_extension": ".py",
   "mimetype": "text/x-python",
   "name": "python",
   "nbconvert_exporter": "python",
   "pygments_lexer": "ipython3",
   "version": "3.9.12"
  }
 },
 "nbformat": 4,
 "nbformat_minor": 5
}
