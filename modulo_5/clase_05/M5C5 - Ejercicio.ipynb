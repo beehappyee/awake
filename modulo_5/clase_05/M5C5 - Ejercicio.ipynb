{
 "cells": [
  {
   "cell_type": "code",
   "execution_count": 85,
   "metadata": {
    "collapsed": true,
    "ExecuteTime": {
     "end_time": "2023-05-16T02:02:15.531965100Z",
     "start_time": "2023-05-16T02:02:14.069812600Z"
    }
   },
   "outputs": [
    {
     "data": {
      "text/plain": "  Sex  Length  Diameter  Height  Whole weight  Shucked weight  Viscera weight  \\\n0   M   0.455     0.365   0.095        0.5140          0.2245          0.1010   \n1   M   0.350     0.265   0.090        0.2255          0.0995          0.0485   \n2   F   0.530     0.420   0.135        0.6770          0.2565          0.1415   \n3   M   0.440     0.365   0.125        0.5160          0.2155          0.1140   \n4   I   0.330     0.255   0.080        0.2050          0.0895          0.0395   \n\n   Shell weight  Rings  \n0         0.150     15  \n1         0.070      7  \n2         0.210      9  \n3         0.155     10  \n4         0.055      7  ",
      "text/html": "<div>\n<style scoped>\n    .dataframe tbody tr th:only-of-type {\n        vertical-align: middle;\n    }\n\n    .dataframe tbody tr th {\n        vertical-align: top;\n    }\n\n    .dataframe thead th {\n        text-align: right;\n    }\n</style>\n<table border=\"1\" class=\"dataframe\">\n  <thead>\n    <tr style=\"text-align: right;\">\n      <th></th>\n      <th>Sex</th>\n      <th>Length</th>\n      <th>Diameter</th>\n      <th>Height</th>\n      <th>Whole weight</th>\n      <th>Shucked weight</th>\n      <th>Viscera weight</th>\n      <th>Shell weight</th>\n      <th>Rings</th>\n    </tr>\n  </thead>\n  <tbody>\n    <tr>\n      <th>0</th>\n      <td>M</td>\n      <td>0.455</td>\n      <td>0.365</td>\n      <td>0.095</td>\n      <td>0.5140</td>\n      <td>0.2245</td>\n      <td>0.1010</td>\n      <td>0.150</td>\n      <td>15</td>\n    </tr>\n    <tr>\n      <th>1</th>\n      <td>M</td>\n      <td>0.350</td>\n      <td>0.265</td>\n      <td>0.090</td>\n      <td>0.2255</td>\n      <td>0.0995</td>\n      <td>0.0485</td>\n      <td>0.070</td>\n      <td>7</td>\n    </tr>\n    <tr>\n      <th>2</th>\n      <td>F</td>\n      <td>0.530</td>\n      <td>0.420</td>\n      <td>0.135</td>\n      <td>0.6770</td>\n      <td>0.2565</td>\n      <td>0.1415</td>\n      <td>0.210</td>\n      <td>9</td>\n    </tr>\n    <tr>\n      <th>3</th>\n      <td>M</td>\n      <td>0.440</td>\n      <td>0.365</td>\n      <td>0.125</td>\n      <td>0.5160</td>\n      <td>0.2155</td>\n      <td>0.1140</td>\n      <td>0.155</td>\n      <td>10</td>\n    </tr>\n    <tr>\n      <th>4</th>\n      <td>I</td>\n      <td>0.330</td>\n      <td>0.255</td>\n      <td>0.080</td>\n      <td>0.2050</td>\n      <td>0.0895</td>\n      <td>0.0395</td>\n      <td>0.055</td>\n      <td>7</td>\n    </tr>\n  </tbody>\n</table>\n</div>"
     },
     "execution_count": 85,
     "metadata": {},
     "output_type": "execute_result"
    }
   ],
   "source": [
    "import numpy as np\n",
    "import pandas as pd\n",
    "import seaborn as sns\n",
    "import matplotlib.pyplot as plt\n",
    "from sklearn.model_selection import train_test_split\n",
    "\n",
    "url = (\n",
    "    \"https://archive.ics.uci.edu/ml/machine-learning-databases/abalone/abalone.data\"\n",
    ")\n",
    "abalone = pd.read_csv(url, header=None)\n",
    "abalone.columns = [\n",
    "    \"Sex\",\n",
    "    \"Length\",\n",
    "    \"Diameter\",\n",
    "    \"Height\",\n",
    "    \"Whole weight\",\n",
    "    \"Shucked weight\",\n",
    "    \"Viscera weight\",\n",
    "    \"Shell weight\",\n",
    "    \"Rings\",\n",
    "]\n",
    "abalone.head()"
   ]
  },
  {
   "cell_type": "code",
   "execution_count": 86,
   "outputs": [],
   "source": [
    "# 1. Lo primero que debe hacer es eliminar la variable “Sex”.\n",
    "\n",
    "abalone.drop(['Sex'], axis=1, inplace=True)"
   ],
   "metadata": {
    "collapsed": false,
    "ExecuteTime": {
     "end_time": "2023-05-16T02:02:15.626619800Z",
     "start_time": "2023-05-16T02:02:15.532965400Z"
    }
   }
  },
  {
   "cell_type": "code",
   "execution_count": 87,
   "outputs": [
    {
     "data": {
      "text/plain": "            Length     Diameter       Height  Whole weight  Shucked weight  \\\ncount  4177.000000  4177.000000  4177.000000   4177.000000     4177.000000   \nmean      0.523992     0.407881     0.139516      0.828742        0.359367   \nstd       0.120093     0.099240     0.041827      0.490389        0.221963   \nmin       0.075000     0.055000     0.000000      0.002000        0.001000   \n25%       0.450000     0.350000     0.115000      0.441500        0.186000   \n50%       0.545000     0.425000     0.140000      0.799500        0.336000   \n75%       0.615000     0.480000     0.165000      1.153000        0.502000   \nmax       0.815000     0.650000     1.130000      2.825500        1.488000   \n\n       Viscera weight  Shell weight        Rings  \ncount     4177.000000   4177.000000  4177.000000  \nmean         0.180594      0.238831     9.933684  \nstd          0.109614      0.139203     3.224169  \nmin          0.000500      0.001500     1.000000  \n25%          0.093500      0.130000     8.000000  \n50%          0.171000      0.234000     9.000000  \n75%          0.253000      0.329000    11.000000  \nmax          0.760000      1.005000    29.000000  ",
      "text/html": "<div>\n<style scoped>\n    .dataframe tbody tr th:only-of-type {\n        vertical-align: middle;\n    }\n\n    .dataframe tbody tr th {\n        vertical-align: top;\n    }\n\n    .dataframe thead th {\n        text-align: right;\n    }\n</style>\n<table border=\"1\" class=\"dataframe\">\n  <thead>\n    <tr style=\"text-align: right;\">\n      <th></th>\n      <th>Length</th>\n      <th>Diameter</th>\n      <th>Height</th>\n      <th>Whole weight</th>\n      <th>Shucked weight</th>\n      <th>Viscera weight</th>\n      <th>Shell weight</th>\n      <th>Rings</th>\n    </tr>\n  </thead>\n  <tbody>\n    <tr>\n      <th>count</th>\n      <td>4177.000000</td>\n      <td>4177.000000</td>\n      <td>4177.000000</td>\n      <td>4177.000000</td>\n      <td>4177.000000</td>\n      <td>4177.000000</td>\n      <td>4177.000000</td>\n      <td>4177.000000</td>\n    </tr>\n    <tr>\n      <th>mean</th>\n      <td>0.523992</td>\n      <td>0.407881</td>\n      <td>0.139516</td>\n      <td>0.828742</td>\n      <td>0.359367</td>\n      <td>0.180594</td>\n      <td>0.238831</td>\n      <td>9.933684</td>\n    </tr>\n    <tr>\n      <th>std</th>\n      <td>0.120093</td>\n      <td>0.099240</td>\n      <td>0.041827</td>\n      <td>0.490389</td>\n      <td>0.221963</td>\n      <td>0.109614</td>\n      <td>0.139203</td>\n      <td>3.224169</td>\n    </tr>\n    <tr>\n      <th>min</th>\n      <td>0.075000</td>\n      <td>0.055000</td>\n      <td>0.000000</td>\n      <td>0.002000</td>\n      <td>0.001000</td>\n      <td>0.000500</td>\n      <td>0.001500</td>\n      <td>1.000000</td>\n    </tr>\n    <tr>\n      <th>25%</th>\n      <td>0.450000</td>\n      <td>0.350000</td>\n      <td>0.115000</td>\n      <td>0.441500</td>\n      <td>0.186000</td>\n      <td>0.093500</td>\n      <td>0.130000</td>\n      <td>8.000000</td>\n    </tr>\n    <tr>\n      <th>50%</th>\n      <td>0.545000</td>\n      <td>0.425000</td>\n      <td>0.140000</td>\n      <td>0.799500</td>\n      <td>0.336000</td>\n      <td>0.171000</td>\n      <td>0.234000</td>\n      <td>9.000000</td>\n    </tr>\n    <tr>\n      <th>75%</th>\n      <td>0.615000</td>\n      <td>0.480000</td>\n      <td>0.165000</td>\n      <td>1.153000</td>\n      <td>0.502000</td>\n      <td>0.253000</td>\n      <td>0.329000</td>\n      <td>11.000000</td>\n    </tr>\n    <tr>\n      <th>max</th>\n      <td>0.815000</td>\n      <td>0.650000</td>\n      <td>1.130000</td>\n      <td>2.825500</td>\n      <td>1.488000</td>\n      <td>0.760000</td>\n      <td>1.005000</td>\n      <td>29.000000</td>\n    </tr>\n  </tbody>\n</table>\n</div>"
     },
     "execution_count": 87,
     "metadata": {},
     "output_type": "execute_result"
    }
   ],
   "source": [
    "#2. Realice estadística descriptiva para el conjunto de datos entregados.\n",
    "\n",
    "abalone.describe()"
   ],
   "metadata": {
    "collapsed": false,
    "ExecuteTime": {
     "end_time": "2023-05-16T02:02:15.732533200Z",
     "start_time": "2023-05-16T02:02:15.561530500Z"
    }
   }
  },
  {
   "cell_type": "code",
   "execution_count": 88,
   "outputs": [
    {
     "data": {
      "text/plain": "<Figure size 640x480 with 1 Axes>",
      "image/png": "[encoded data removed]"
     },
     "metadata": {},
     "output_type": "display_data"
    }
   ],
   "source": [
    "#3. La variable objetivo es “Rings”, por lo que muestre la distribución de estos datos e interprete.\n",
    "\n",
    "sns.histplot(data=abalone, x=\"Rings\", kde=True)\n",
    "\n",
    "plt.title(\"Distribución de Rings\")\n",
    "plt.xlabel(\"Rings\")\n",
    "plt.ylabel(\"Frecuencia\")\n",
    "plt.show()\n"
   ],
   "metadata": {
    "collapsed": false,
    "ExecuteTime": {
     "end_time": "2023-05-16T02:02:17.263505100Z",
     "start_time": "2023-05-16T02:02:15.701943400Z"
    }
   }
  },
  {
   "cell_type": "code",
   "execution_count": 89,
   "outputs": [
    {
     "name": "stdout",
     "output_type": "stream",
     "text": [
      "                  Length  Diameter    Height  Whole weight  Shucked weight  Viscera weight  Shell weight     Rings\n",
      "Length          1.000000  0.986812  0.827554      0.925261        0.897914        0.903018      0.897706  0.556720\n",
      "Diameter        0.986812  1.000000  0.833684      0.925452        0.893162        0.899724      0.905330  0.574660\n",
      "Height          0.827554  0.833684  1.000000      0.819221        0.774972        0.798319      0.817338  0.557467\n",
      "Whole weight    0.925261  0.925452  0.819221      1.000000        0.969405        0.966375      0.955355  0.540390\n",
      "Shucked weight  0.897914  0.893162  0.774972      0.969405        1.000000        0.931961      0.882617  0.420884\n",
      "Viscera weight  0.903018  0.899724  0.798319      0.966375        0.931961        1.000000      0.907656  0.503819\n",
      "Shell weight    0.897706  0.905330  0.817338      0.955355        0.882617        0.907656      1.000000  0.627574\n",
      "Rings           0.556720  0.574660  0.557467      0.540390        0.420884        0.503819      0.627574  1.000000\n"
     ]
    }
   ],
   "source": [
    "#4. Entregue la matriz de correlación ¿Qué variables pueden estar correlacionadas?\n",
    "\n",
    "correlation_matrix = abalone.corr ()\n",
    "print(correlation_matrix.to_string())\n",
    "\n"
   ],
   "metadata": {
    "collapsed": false,
    "ExecuteTime": {
     "end_time": "2023-05-16T02:02:17.410518800Z",
     "start_time": "2023-05-16T02:02:17.269046200Z"
    }
   }
  },
  {
   "cell_type": "markdown",
   "source": [],
   "metadata": {
    "collapsed": false
   }
  },
  {
   "cell_type": "code",
   "execution_count": 90,
   "outputs": [],
   "source": [
    "# 4 R: Length & Diameter / Whole weight & Shucked weight / Whole weight & Viscera weight / Whole weight & Shell weight\n",
    "\n"
   ],
   "metadata": {
    "collapsed": false,
    "ExecuteTime": {
     "end_time": "2023-05-16T02:02:17.410518800Z",
     "start_time": "2023-05-16T02:02:17.334700100Z"
    }
   }
  },
  {
   "cell_type": "code",
   "execution_count": 98,
   "outputs": [
    {
     "name": "stdout",
     "output_type": "stream",
     "text": [
      "Length             0.660000\n",
      "Diameter           0.525000\n",
      "Height             0.180000\n",
      "Whole weight       1.596500\n",
      "Shucked weight     0.776500\n",
      "Viscera weight     0.397000\n",
      "Shell weight       0.360500\n",
      "Rings             10.000000\n",
      "Distance           2.901109\n",
      "Name: 2960, dtype: float64\n",
      "***\n",
      "Length            0.515000\n",
      "Diameter          0.400000\n",
      "Height            0.125000\n",
      "Whole weight      0.592500\n",
      "Shucked weight    0.265000\n",
      "Viscera weight    0.117500\n",
      "Shell weight      0.168000\n",
      "Rings             9.000000\n",
      "Distance          0.265742\n",
      "Name: 2652, dtype: float64\n",
      "***\n",
      "Length            0.585000\n",
      "Diameter          0.455000\n",
      "Height            0.150000\n",
      "Whole weight      0.906000\n",
      "Shucked weight    0.409500\n",
      "Viscera weight    0.230000\n",
      "Shell weight      0.233500\n",
      "Rings             8.000000\n",
      "Distance          1.094366\n",
      "Name: 1482, dtype: float64\n",
      "***\n"
     ]
    },
    {
     "data": {
      "text/plain": "      Length  Diameter  Height  Whole weight  Shucked weight  Viscera weight  \\\n0      0.455     0.365   0.095        0.5140          0.2245          0.1010   \n3440   0.465     0.370   0.100        0.5055          0.2340          0.1100   \n37     0.450     0.355   0.105        0.5225          0.2370          0.1165   \n624    0.465     0.360   0.105        0.4980          0.2140          0.1160   \n146    0.460     0.350   0.120        0.5150          0.2240          0.1080   \n\n      Shell weight  Rings  Distance  \n0           0.1500     15  0.000000  \n3440        0.1400      7  0.054415  \n37          0.1450      8  0.065670  \n624         0.1400     15  0.074145  \n146         0.1565     10  0.076191  ",
      "text/html": "<div>\n<style scoped>\n    .dataframe tbody tr th:only-of-type {\n        vertical-align: middle;\n    }\n\n    .dataframe tbody tr th {\n        vertical-align: top;\n    }\n\n    .dataframe thead th {\n        text-align: right;\n    }\n</style>\n<table border=\"1\" class=\"dataframe\">\n  <thead>\n    <tr style=\"text-align: right;\">\n      <th></th>\n      <th>Length</th>\n      <th>Diameter</th>\n      <th>Height</th>\n      <th>Whole weight</th>\n      <th>Shucked weight</th>\n      <th>Viscera weight</th>\n      <th>Shell weight</th>\n      <th>Rings</th>\n      <th>Distance</th>\n    </tr>\n  </thead>\n  <tbody>\n    <tr>\n      <th>0</th>\n      <td>0.455</td>\n      <td>0.365</td>\n      <td>0.095</td>\n      <td>0.5140</td>\n      <td>0.2245</td>\n      <td>0.1010</td>\n      <td>0.1500</td>\n      <td>15</td>\n      <td>0.000000</td>\n    </tr>\n    <tr>\n      <th>3440</th>\n      <td>0.465</td>\n      <td>0.370</td>\n      <td>0.100</td>\n      <td>0.5055</td>\n      <td>0.2340</td>\n      <td>0.1100</td>\n      <td>0.1400</td>\n      <td>7</td>\n      <td>0.054415</td>\n    </tr>\n    <tr>\n      <th>37</th>\n      <td>0.450</td>\n      <td>0.355</td>\n      <td>0.105</td>\n      <td>0.5225</td>\n      <td>0.2370</td>\n      <td>0.1165</td>\n      <td>0.1450</td>\n      <td>8</td>\n      <td>0.065670</td>\n    </tr>\n    <tr>\n      <th>624</th>\n      <td>0.465</td>\n      <td>0.360</td>\n      <td>0.105</td>\n      <td>0.4980</td>\n      <td>0.2140</td>\n      <td>0.1160</td>\n      <td>0.1400</td>\n      <td>15</td>\n      <td>0.074145</td>\n    </tr>\n    <tr>\n      <th>146</th>\n      <td>0.460</td>\n      <td>0.350</td>\n      <td>0.120</td>\n      <td>0.5150</td>\n      <td>0.2240</td>\n      <td>0.1080</td>\n      <td>0.1565</td>\n      <td>10</td>\n      <td>0.076191</td>\n    </tr>\n  </tbody>\n</table>\n</div>"
     },
     "execution_count": 98,
     "metadata": {},
     "output_type": "execute_result"
    }
   ],
   "source": [
    "# 5. Defina las distancias en los vectores de las variables independientes. Para esto puede usar el atributo .values de Numpy\n",
    "\n",
    "print (abalone.iloc[3904])\n",
    "print ('***')\n",
    "print (abalone.iloc[506])\n",
    "print ('***')\n",
    "print (abalone.iloc[2223])\n",
    "print ('***')\n",
    "\n",
    "\n",
    "independent_vars = abalone.drop(\"Rings\", axis=1).values\n",
    "\n",
    "distances = np.linalg.norm (independent_vars - independent_vars[0], axis=1)\n",
    "\n",
    "abalone['Distance'] = distances\n",
    "\n",
    "abalone.sort_values('Distance', inplace=True)\n",
    "abalone.head()\n",
    "# Imprimir las distancias\n",
    "#print(distances)\n",
    "#print(np.sort(distances))\n",
    "#print (distances.size)\n"
   ],
   "metadata": {
    "collapsed": false,
    "ExecuteTime": {
     "end_time": "2023-05-16T02:24:39.322942Z",
     "start_time": "2023-05-16T02:24:39.083914900Z"
    }
   }
  },
  {
   "cell_type": "code",
   "execution_count": 92,
   "outputs": [],
   "source": [
    "# 6. Guarde los datos en una matriz y úselo en este código:\n",
    "# distances = np.linalg.norm(X - new_data_point, axis=1)"
   ],
   "metadata": {
    "collapsed": false,
    "ExecuteTime": {
     "end_time": "2023-05-16T02:02:17.513133900Z",
     "start_time": "2023-05-16T02:02:17.442381300Z"
    }
   }
  },
  {
   "cell_type": "code",
   "execution_count": 93,
   "outputs": [],
   "source": [
    "# 7. Determine cuáles son los tres vecinos más cercanos."
   ],
   "metadata": {
    "collapsed": false,
    "ExecuteTime": {
     "end_time": "2023-05-16T02:02:17.514132600Z",
     "start_time": "2023-05-16T02:02:17.492042300Z"
    }
   }
  },
  {
   "cell_type": "code",
   "execution_count": 93,
   "outputs": [],
   "source": [],
   "metadata": {
    "collapsed": false,
    "ExecuteTime": {
     "end_time": "2023-05-16T02:02:17.562761100Z",
     "start_time": "2023-05-16T02:02:17.506579200Z"
    }
   }
  }
 ],
 "metadata": {
  "kernelspec": {
   "display_name": "Python 3",
   "language": "python",
   "name": "python3"
  },
  "language_info": {
   "codemirror_mode": {
    "name": "ipython",
    "version": 2
   },
   "file_extension": ".py",
   "mimetype": "text/x-python",
   "name": "python",
   "nbconvert_exporter": "python",
   "pygments_lexer": "ipython2",
   "version": "2.7.6"
  }
 },
 "nbformat": 4,
 "nbformat_minor": 0
}
