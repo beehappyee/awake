{
 "cells": [
  {
   "cell_type": "code",
   "execution_count": null,
   "metadata": {
    "collapsed": true
   },
   "outputs": [],
   "source": []
  },
  {
   "cell_type": "code",
   "execution_count": null,
   "outputs": [],
   "source": [
    "# Entonces, escriba esta función ENFERMO() para marcar 0 como negativo y 1\n",
    "# como positivo, porque la regresión logística binaria requiere uno de dos\n",
    "# resultados.\n",
    "\n",
    "# Importar librerias\n",
    "from pyspark.sql.functions import udf\n",
    "\n",
    "# Crear la funcion\n",
    "def ENFERMO(x):\n",
    "    if x in(3, 6):\n",
    "        return 0\n",
    "    else:\n",
    "        return 1\n",
    "\n",
    "# Crear la funcion UDf\n",
    "udfENFERMO = udf(ENFERMO, IntegerType())\n",
    "\n",
    "# Aplicar la funcion UDF a la columna target usando el valor de that\n",
    "df = df.withColumn(\"Target\", udfENFERMO(\"Thal\") )\n",
    "\n",
    "# Ver los datos\n",
    "df.show(5)"
   ],
   "metadata": {
    "collapsed": false
   }
  }
 ],
 "metadata": {
  "kernelspec": {
   "display_name": "Python 3",
   "language": "python",
   "name": "python3"
  },
  "language_info": {
   "codemirror_mode": {
    "name": "ipython",
    "version": 2
   },
   "file_extension": ".py",
   "mimetype": "text/x-python",
   "name": "python",
   "nbconvert_exporter": "python",
   "pygments_lexer": "ipython2",
   "version": "2.7.6"
  }
 },
 "nbformat": 4,
 "nbformat_minor": 0
}
