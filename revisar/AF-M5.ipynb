{
 "cells": [
  {
   "cell_type": "markdown",
   "id": "64da54c2",
   "metadata": {},
   "source": [
    "1. Enliste todas las librerias que utilizará"
   ]
  },
  {
   "cell_type": "code",
   "execution_count": 45,
   "id": "9bd483a3",
   "metadata": {},
   "outputs": [],
   "source": [
    "#Importar librerías\n",
    "import seaborn as sns\n",
    "from sklearn.naive_bayes import GaussianNB\n",
    "from sklearn.metrics import confusion_matrix, accuracy_score\n",
    "from sklearn.preprocessing import StandardScaler\n",
    "from sklearn import preprocessing\n",
    "from sklearn.model_selection import GridSearchCV\n",
    "import matplotlib.pyplot as plt\n",
    "import pandas as pd\n",
    "from sklearn.model_selection import train_test_split\n",
    "from sklearn.linear_model import LogisticRegression\n",
    "import warnings\n",
    "warnings.filterwarnings(\"ignore\")\n",
    "import scipy.stats  as stats\n",
    "import numpy as np"
   ]
  },
  {
   "cell_type": "markdown",
   "id": "641fb008",
   "metadata": {},
   "source": [
    "2. Importación y revisión de los datos:\n",
    "\n",
    "\n",
    "   Importe ambos sets. Dado que la fuente de datos proviene de la misma base,tienen las mismas columnas. Consolide ambos sets y reporte una exploración básica de los datos (numero de filas/columnas, tipos de datos, estadísticas básicas, casos perdidos)"
   ]
  },
  {
   "cell_type": "code",
   "execution_count": 2,
   "id": "443eaf8c",
   "metadata": {},
   "outputs": [],
   "source": [
    "#Importar librerías\n",
    "\n",
    "df_2009 = pd.read_csv(\"2009_1perc.csv\")\n",
    "df_2010 = pd.read_csv(\"2010_1perc.csv\")"
   ]
  },
  {
   "cell_type": "code",
   "execution_count": 3,
   "id": "a0ef4b2e",
   "metadata": {},
   "outputs": [
    {
     "name": "stdout",
     "output_type": "stream",
     "text": [
      "<class 'pandas.core.frame.DataFrame'>\n",
      "RangeIndex: 5812 entries, 0 to 5811\n",
      "Columns: 112 entries, Unnamed: 0 to detailcm\n",
      "dtypes: float64(1), int64(19), object(92)\n",
      "memory usage: 5.0+ MB\n",
      "None\n",
      "\n",
      "<class 'pandas.core.frame.DataFrame'>\n",
      "RangeIndex: 6013 entries, 0 to 6012\n",
      "Columns: 112 entries, Unnamed: 0 to detailcm\n",
      "dtypes: int64(17), object(95)\n",
      "memory usage: 5.1+ MB\n",
      "None\n"
     ]
    }
   ],
   "source": [
    "#Info de los data set\n",
    "print(df_2009.info())\n",
    "print()\n",
    "print(df_2010.info())"
   ]
  },
  {
   "cell_type": "code",
   "execution_count": 4,
   "id": "3c94dbe0",
   "metadata": {},
   "outputs": [
    {
     "name": "stdout",
     "output_type": "stream",
     "text": [
      "          Unnamed: 0    year          pct       ser_num      datestop  \\\n",
      "count    5812.000000  5812.0  5812.000000   5812.000000  5.812000e+03   \n",
      "mean   291666.632485  2009.0    69.051617   5769.119924  6.255350e+06   \n",
      "std    167435.992474     0.0    32.846903   5524.955522  3.447243e+06   \n",
      "min        52.000000  2009.0     1.000000      1.000000  1.012009e+06   \n",
      "25%    147489.750000  2009.0    42.000000   1902.750000  3.172009e+06   \n",
      "50%    292821.500000  2009.0    73.000000   4347.000000  6.142009e+06   \n",
      "75%    436008.750000  2009.0   102.000000   7616.750000  9.192009e+06   \n",
      "max    580847.000000  2009.0   123.000000  31694.000000  1.231201e+07   \n",
      "\n",
      "          timestop       perobs      perstop  compyear  comppct       repcmd  \\\n",
      "count  5812.000000  5812.000000  5812.000000    5812.0   5812.0  5812.000000   \n",
      "mean   1426.219202     2.665893     5.501893       0.0      0.0   252.115795   \n",
      "std     736.239726     4.816704     5.922592       0.0      0.0   305.058678   \n",
      "min       0.000000     0.000000     1.000000       0.0      0.0     1.000000   \n",
      "25%    1030.000000     1.000000     3.000000       0.0      0.0    70.000000   \n",
      "50%    1605.000000     1.000000     5.000000       0.0      0.0   105.000000   \n",
      "75%    2035.000000     3.000000     5.000000       0.0      0.0   178.000000   \n",
      "max    2830.000000   200.000000   200.000000       0.0      0.0   879.000000   \n",
      "\n",
      "            revcmd           dob          age      ht_feet      ht_inch  \\\n",
      "count  5812.000000  5.812000e+03  5812.000000  5812.000000  5812.000000   \n",
      "mean    249.074845  6.941142e+06    28.874054     5.188231     6.414315   \n",
      "std     306.222306  3.552806e+06    26.067172     0.402213     3.446479   \n",
      "min       1.000000  1.011900e+06     1.000000     3.000000     0.000000   \n",
      "25%      67.000000  4.061986e+06    19.000000     5.000000     4.000000   \n",
      "50%     103.000000  7.121980e+06    25.000000     5.000000     7.000000   \n",
      "75%     178.750000  1.012198e+07    34.000000     5.000000     9.000000   \n",
      "max     879.000000  1.231199e+07   999.000000     7.000000    11.000000   \n",
      "\n",
      "            weight      addrpct  linecm     detailcm  \n",
      "count  5812.000000  5812.000000  5812.0  5812.000000  \n",
      "mean    169.942533    69.051617     1.0    37.488644  \n",
      "std      37.653637    32.846903     0.0    25.059538  \n",
      "min       1.000000     1.000000     1.0     6.000000  \n",
      "25%     150.000000    42.000000     1.0    20.000000  \n",
      "50%     170.000000    73.000000     1.0    28.000000  \n",
      "75%     180.000000   102.000000     1.0    46.000000  \n",
      "max     999.000000   123.000000     1.0   113.000000  \n",
      "\n",
      "       recstat inout trhsloc crimsusp typeofid explnstp othpers arstmade  \\\n",
      "count     5812  5812    5812     5812     5812     5812    5812     5812   \n",
      "unique       2     2       4      388        4        2       2        2   \n",
      "top          A     O       P      CPW        P        Y       N        N   \n",
      "freq      3713  4389    4147      814     3246     5810    4678     5464   \n",
      "\n",
      "       arstoffn sumissue  ... aptnum      city state   zip sector  beat  post  \\\n",
      "count      5812     5812  ...   5812      5812  5812  5812   5812  5812  5812   \n",
      "unique      164        2  ...      1         5     1     1     19    34    83   \n",
      "top                    N  ...         BROOKLYN                  A               \n",
      "freq       5464     5454  ...   5812      2061  5812  5812    578  3622  5268   \n",
      "\n",
      "       xcoord ycoord dettypcm  \n",
      "count    5812   5812     5812  \n",
      "unique   4346   4430        1  \n",
      "top                        CM  \n",
      "freq      168    168     5812  \n",
      "\n",
      "[4 rows x 92 columns]\n"
     ]
    }
   ],
   "source": [
    "#Describe df_2009\n",
    "print(df_2009.describe())\n",
    "print()\n",
    "print(df_2009.describe(include = \"object\"))"
   ]
  },
  {
   "cell_type": "code",
   "execution_count": 5,
   "id": "d9321308",
   "metadata": {},
   "outputs": [
    {
     "name": "stdout",
     "output_type": "stream",
     "text": [
      "          Unnamed: 0    year          pct       ser_num      datestop  \\\n",
      "count    6013.000000  6013.0  6013.000000   6013.000000  6.013000e+03   \n",
      "mean   300156.684184  2010.0    68.213870   5629.246300  6.469452e+06   \n",
      "std    173941.822364     0.0    33.218863   4764.331369  3.408437e+06   \n",
      "min       135.000000  2010.0     1.000000      1.000000  1.012010e+06   \n",
      "25%    147573.000000  2010.0    42.000000   2071.000000  3.302010e+06   \n",
      "50%    299643.000000  2010.0    72.000000   4393.000000  6.182010e+06   \n",
      "75%    450268.000000  2010.0   102.000000   8038.000000  9.262010e+06   \n",
      "max    601281.000000  2010.0   123.000000  28078.000000  1.231201e+07   \n",
      "\n",
      "          timestop       perobs      perstop  compyear  comppct       repcmd  \\\n",
      "count  6013.000000  6013.000000  6013.000000    6013.0   6013.0  6013.000000   \n",
      "mean   1401.649426     2.643273     5.792283       0.0      0.0   234.886912   \n",
      "std     752.702505    12.840711    12.383224       0.0      0.0   290.362984   \n",
      "min       0.000000     0.000000     1.000000       0.0      0.0     1.000000   \n",
      "25%     930.000000     1.000000     3.000000       0.0      0.0    69.000000   \n",
      "50%    1604.000000     1.000000     5.000000       0.0      0.0   106.000000   \n",
      "75%    2035.000000     2.000000     5.000000       0.0      0.0   175.000000   \n",
      "max    2359.000000   926.000000   857.000000       0.0      0.0   879.000000   \n",
      "\n",
      "            revcmd           dob          age      ht_feet      ht_inch  \\\n",
      "count  6013.000000  6.013000e+03  6013.000000  6013.000000  6013.000000   \n",
      "mean    229.235157  7.678712e+06    29.059870     5.178613     6.401962   \n",
      "std     292.338809  3.857909e+06    31.948786     0.395452     3.365698   \n",
      "min       1.000000  1.011900e+06     1.000000     3.000000     0.000000   \n",
      "25%      62.000000  4.181986e+06    19.000000     5.000000     4.000000   \n",
      "50%     102.000000  8.131990e+06    24.000000     5.000000     7.000000   \n",
      "75%     173.000000  1.205197e+07    34.000000     5.000000     9.000000   \n",
      "max     879.000000  1.231200e+07   999.000000     7.000000    11.000000   \n",
      "\n",
      "            weight  \n",
      "count  6013.000000  \n",
      "mean    170.239647  \n",
      "std      36.750557  \n",
      "min       1.000000  \n",
      "25%     150.000000  \n",
      "50%     170.000000  \n",
      "75%     180.000000  \n",
      "max     999.000000  \n",
      "\n",
      "       recstat inout trhsloc crimsusp typeofid explnstp othpers arstmade  \\\n",
      "count     6013  6013    6013     6013     6013     6013    6013     6013   \n",
      "unique       2     2       3      406        4        2       2        2   \n",
      "top          A     O       P      FEL        P        Y       N        N   \n",
      "freq      3494  4670    4722     1051     3270     6004    4741     5613   \n",
      "\n",
      "       arstoffn sumissue  ...   zip addrpct sector  beat  post xcoord ycoord  \\\n",
      "count      6013     6013  ...  6013    6013   6013  6013  6013   6013   6013   \n",
      "unique      151        2  ...     1      77     19    63   142   4553   4619   \n",
      "top                    N  ...            75      B                             \n",
      "freq       5614     5567  ...  6013     290    666  3822  5383    249    249   \n",
      "\n",
      "       dettypcm linecm detailcm  \n",
      "count      6013   6013     6013  \n",
      "unique        2      2       81  \n",
      "top          CM      1       20  \n",
      "freq       6012   6012     1376  \n",
      "\n",
      "[4 rows x 95 columns]\n"
     ]
    }
   ],
   "source": [
    "#Describe df_2010\n",
    "print(df_2010.describe())\n",
    "print()\n",
    "print(df_2010.describe(include = \"object\"))"
   ]
  },
  {
   "cell_type": "code",
   "execution_count": 6,
   "id": "62fd6000",
   "metadata": {},
   "outputs": [
    {
     "name": "stdout",
     "output_type": "stream",
     "text": [
      "Unnamed: 0    0\n",
      "year          0\n",
      "pct           0\n",
      "ser_num       0\n",
      "datestop      0\n",
      "             ..\n",
      "xcoord        0\n",
      "ycoord        0\n",
      "dettypcm      0\n",
      "linecm        0\n",
      "detailcm      0\n",
      "Length: 112, dtype: int64\n",
      "\n",
      "Unnamed: 0    0\n",
      "year          0\n",
      "pct           0\n",
      "ser_num       0\n",
      "datestop      0\n",
      "             ..\n",
      "xcoord        0\n",
      "ycoord        0\n",
      "dettypcm      0\n",
      "linecm        0\n",
      "detailcm      0\n",
      "Length: 112, dtype: int64\n"
     ]
    }
   ],
   "source": [
    "#Casos perdidos\n",
    "print(df_2009.isna().sum())\n",
    "print()\n",
    "print(df_2010.isna().sum())"
   ]
  },
  {
   "cell_type": "code",
   "execution_count": 7,
   "id": "dcb7f42a",
   "metadata": {},
   "outputs": [
    {
     "name": "stdout",
     "output_type": "stream",
     "text": [
      "Los tipos de datos son diferentes en las siguientes columnas:\n",
      "perobs\n",
      "addrpct\n",
      "linecm\n",
      "detailcm\n"
     ]
    }
   ],
   "source": [
    "#Comparar tipos de datos de df's\n",
    "# Obtener los tipos de datos de cada DataFrame\n",
    "dtypes1 = df_2009.dtypes\n",
    "dtypes2 = df_2010.dtypes\n",
    "\n",
    "# Comparar los tipos de datos columna por columna\n",
    "diferentes = []\n",
    "for columna in dtypes1.index:\n",
    "    if dtypes1[columna] != dtypes2[columna]:\n",
    "        diferentes.append(columna)\n",
    "\n",
    "# Imprimir las columnas con tipos de datos diferentes\n",
    "if len(diferentes) == 0:\n",
    "    print(\"Los tipos de datos son iguales en todas las columnas.\")\n",
    "else:\n",
    "    print(\"Los tipos de datos son diferentes en las siguientes columnas:\")\n",
    "    for columna in diferentes:\n",
    "        print(columna)"
   ]
  },
  {
   "cell_type": "code",
   "execution_count": 8,
   "id": "d0f8ee2d",
   "metadata": {},
   "outputs": [
    {
     "name": "stdout",
     "output_type": "stream",
     "text": [
      "perobs 2009: float64, perobs 2010: int64\n",
      "addrpct 2009: int64, addrpct 2010: object\n",
      "linecm 2009: int64, linecm 2010: object\n",
      "detailcm 2009: int64, detailcm 2010: object\n"
     ]
    }
   ],
   "source": [
    "#Revisar el tipo de datos de variables no coincidentes\n",
    "print(f\"perobs 2009: {df_2009['perobs'].dtype}, perobs 2010: {df_2010['perobs'].dtype}\")\n",
    "print(f\"addrpct 2009: {df_2009['addrpct'].dtype}, addrpct 2010: {df_2010['addrpct'].dtype}\")\n",
    "print(f\"linecm 2009: {df_2009['linecm'].dtype}, linecm 2010: {df_2010['linecm'].dtype}\")\n",
    "print(f\"detailcm 2009: {df_2009['detailcm'].dtype}, detailcm 2010: {df_2010['detailcm'].dtype}\")"
   ]
  },
  {
   "cell_type": "code",
   "execution_count": 9,
   "id": "c6ea0675",
   "metadata": {},
   "outputs": [],
   "source": [
    "#Transformar todas las variables no concordantes en object\n",
    "df_2009['perobs'] = df_2009['perobs'].astype(object)\n",
    "df_2010['perobs'] = df_2010['perobs'].astype(object)\n",
    "df_2009['addrpct'] = df_2009['addrpct'].astype(object)\n",
    "df_2010['addrpct'] = df_2010['addrpct'].astype(object)\n",
    "df_2009['linecm'] = df_2009['linecm'].astype(object)\n",
    "df_2010['linecm'] = df_2010['linecm'].astype(object)\n",
    "df_2009['detailcm'] = df_2009['detailcm'].astype(object)\n",
    "df_2010['detailcm'] = df_2010['detailcm'].astype(object)"
   ]
  },
  {
   "cell_type": "code",
   "execution_count": 10,
   "id": "e35da881",
   "metadata": {},
   "outputs": [
    {
     "data": {
      "text/html": [
       "<div>\n",
       "<style scoped>\n",
       "    .dataframe tbody tr th:only-of-type {\n",
       "        vertical-align: middle;\n",
       "    }\n",
       "\n",
       "    .dataframe tbody tr th {\n",
       "        vertical-align: top;\n",
       "    }\n",
       "\n",
       "    .dataframe thead th {\n",
       "        text-align: right;\n",
       "    }\n",
       "</style>\n",
       "<table border=\"1\" class=\"dataframe\">\n",
       "  <thead>\n",
       "    <tr style=\"text-align: right;\">\n",
       "      <th></th>\n",
       "      <th>Unnamed: 0</th>\n",
       "      <th>year</th>\n",
       "      <th>pct</th>\n",
       "      <th>ser_num</th>\n",
       "      <th>datestop</th>\n",
       "      <th>timestop</th>\n",
       "      <th>recstat</th>\n",
       "      <th>inout</th>\n",
       "      <th>trhsloc</th>\n",
       "      <th>perobs</th>\n",
       "      <th>...</th>\n",
       "      <th>zip</th>\n",
       "      <th>addrpct</th>\n",
       "      <th>sector</th>\n",
       "      <th>beat</th>\n",
       "      <th>post</th>\n",
       "      <th>xcoord</th>\n",
       "      <th>ycoord</th>\n",
       "      <th>dettypcm</th>\n",
       "      <th>linecm</th>\n",
       "      <th>detailcm</th>\n",
       "    </tr>\n",
       "  </thead>\n",
       "  <tbody>\n",
       "    <tr>\n",
       "      <th>0</th>\n",
       "      <td>178048</td>\n",
       "      <td>2009</td>\n",
       "      <td>41</td>\n",
       "      <td>1779</td>\n",
       "      <td>4032009</td>\n",
       "      <td>130</td>\n",
       "      <td>A</td>\n",
       "      <td>O</td>\n",
       "      <td>P</td>\n",
       "      <td>1.0</td>\n",
       "      <td>...</td>\n",
       "      <td></td>\n",
       "      <td>41</td>\n",
       "      <td>G</td>\n",
       "      <td>7</td>\n",
       "      <td></td>\n",
       "      <td>1013067</td>\n",
       "      <td>0238633</td>\n",
       "      <td>CM</td>\n",
       "      <td>1</td>\n",
       "      <td>20</td>\n",
       "    </tr>\n",
       "    <tr>\n",
       "      <th>1</th>\n",
       "      <td>498873</td>\n",
       "      <td>2009</td>\n",
       "      <td>108</td>\n",
       "      <td>5805</td>\n",
       "      <td>10292009</td>\n",
       "      <td>1050</td>\n",
       "      <td>A</td>\n",
       "      <td>O</td>\n",
       "      <td>P</td>\n",
       "      <td>3.0</td>\n",
       "      <td>...</td>\n",
       "      <td></td>\n",
       "      <td>108</td>\n",
       "      <td>J</td>\n",
       "      <td></td>\n",
       "      <td></td>\n",
       "      <td>1012043</td>\n",
       "      <td>0212157</td>\n",
       "      <td>CM</td>\n",
       "      <td>1</td>\n",
       "      <td>14</td>\n",
       "    </tr>\n",
       "    <tr>\n",
       "      <th>2</th>\n",
       "      <td>463573</td>\n",
       "      <td>2009</td>\n",
       "      <td>43</td>\n",
       "      <td>8340</td>\n",
       "      <td>10062009</td>\n",
       "      <td>1450</td>\n",
       "      <td>1</td>\n",
       "      <td>O</td>\n",
       "      <td>P</td>\n",
       "      <td>1.0</td>\n",
       "      <td>...</td>\n",
       "      <td></td>\n",
       "      <td>43</td>\n",
       "      <td>E</td>\n",
       "      <td></td>\n",
       "      <td></td>\n",
       "      <td>1017599</td>\n",
       "      <td>0240200</td>\n",
       "      <td>CM</td>\n",
       "      <td>1</td>\n",
       "      <td>20</td>\n",
       "    </tr>\n",
       "    <tr>\n",
       "      <th>3</th>\n",
       "      <td>43626</td>\n",
       "      <td>2009</td>\n",
       "      <td>77</td>\n",
       "      <td>932</td>\n",
       "      <td>1232009</td>\n",
       "      <td>1843</td>\n",
       "      <td>A</td>\n",
       "      <td>O</td>\n",
       "      <td>P</td>\n",
       "      <td>5.0</td>\n",
       "      <td>...</td>\n",
       "      <td></td>\n",
       "      <td>77</td>\n",
       "      <td>J</td>\n",
       "      <td>4</td>\n",
       "      <td>35</td>\n",
       "      <td>1002625</td>\n",
       "      <td>0183442</td>\n",
       "      <td>CM</td>\n",
       "      <td>1</td>\n",
       "      <td>24</td>\n",
       "    </tr>\n",
       "    <tr>\n",
       "      <th>4</th>\n",
       "      <td>563921</td>\n",
       "      <td>2009</td>\n",
       "      <td>110</td>\n",
       "      <td>11224</td>\n",
       "      <td>12132009</td>\n",
       "      <td>1655</td>\n",
       "      <td>A</td>\n",
       "      <td>O</td>\n",
       "      <td>P</td>\n",
       "      <td>3.0</td>\n",
       "      <td>...</td>\n",
       "      <td></td>\n",
       "      <td>110</td>\n",
       "      <td>H</td>\n",
       "      <td></td>\n",
       "      <td></td>\n",
       "      <td>1024535</td>\n",
       "      <td>0209890</td>\n",
       "      <td>CM</td>\n",
       "      <td>1</td>\n",
       "      <td>20</td>\n",
       "    </tr>\n",
       "  </tbody>\n",
       "</table>\n",
       "<p>5 rows × 112 columns</p>\n",
       "</div>"
      ],
      "text/plain": [
       "   Unnamed: 0  year  pct  ser_num  datestop  timestop recstat inout trhsloc  \\\n",
       "0      178048  2009   41     1779   4032009       130       A     O       P   \n",
       "1      498873  2009  108     5805  10292009      1050       A     O       P   \n",
       "2      463573  2009   43     8340  10062009      1450       1     O       P   \n",
       "3       43626  2009   77      932   1232009      1843       A     O       P   \n",
       "4      563921  2009  110    11224  12132009      1655       A     O       P   \n",
       "\n",
       "  perobs  ... zip  addrpct sector beat post   xcoord   ycoord dettypcm linecm  \\\n",
       "0    1.0  ...           41      G    7       1013067  0238633       CM      1   \n",
       "1    3.0  ...          108      J            1012043  0212157       CM      1   \n",
       "2    1.0  ...           43      E            1017599  0240200       CM      1   \n",
       "3    5.0  ...           77      J    4   35  1002625  0183442       CM      1   \n",
       "4    3.0  ...          110      H            1024535  0209890       CM      1   \n",
       "\n",
       "   detailcm  \n",
       "0        20  \n",
       "1        14  \n",
       "2        20  \n",
       "3        24  \n",
       "4        20  \n",
       "\n",
       "[5 rows x 112 columns]"
      ]
     },
     "execution_count": 10,
     "metadata": {},
     "output_type": "execute_result"
    }
   ],
   "source": [
    "df_consolidado = pd.concat([df_2009, df_2010], ignore_index=True)\n",
    "df_consolidado.head(5)"
   ]
  },
  {
   "cell_type": "code",
   "execution_count": 11,
   "id": "73da801a",
   "metadata": {},
   "outputs": [
    {
     "name": "stdout",
     "output_type": "stream",
     "text": [
      "perobs consolidado: object\n",
      "addrpct consolidado: object\n",
      "linecm consolidado: object\n",
      "detailcm consolidado: object\n"
     ]
    }
   ],
   "source": [
    "#Revisar el tipo de datos de variables no coincidentes\n",
    "print(f\"perobs consolidado: {df_consolidado['perobs'].dtypes}\")\n",
    "print(f\"addrpct consolidado: {df_consolidado['addrpct'].dtypes}\")\n",
    "print(f\"linecm consolidado: {df_consolidado['linecm'].dtypes}\")\n",
    "print(f\"detailcm consolidado: {df_consolidado['detailcm'].dtypes}\")"
   ]
  },
  {
   "cell_type": "code",
   "execution_count": 12,
   "id": "0a3fa1cc",
   "metadata": {},
   "outputs": [],
   "source": [
    "#Castear a numeric\n",
    "df_consolidado['perobs'] = pd.to_numeric(df_consolidado[\"perobs\"], errors='coerce')\n",
    "df_consolidado['addrpct'] = pd.to_numeric(df_consolidado['addrpct'], errors='coerce')\n",
    "df_consolidado['linecm'] = pd.to_numeric(df_consolidado['linecm'], errors='coerce')\n",
    "df_consolidado['detailcm'] = pd.to_numeric(df_consolidado['detailcm'], errors='coerce')\n"
   ]
  },
  {
   "cell_type": "code",
   "execution_count": 13,
   "id": "4b68738d",
   "metadata": {},
   "outputs": [],
   "source": [
    "#Eliminar NA\n",
    "#df_consolidado = df_consolidado.dropna(axis = 0)"
   ]
  },
  {
   "cell_type": "markdown",
   "id": "62126ccb",
   "metadata": {},
   "source": [
    "3. Preprocesamiento de datos:\n",
    "\n",
    "   Habrá notado que los datos parecen tener ciertas inconsistencias. Siga los siguientes pasos para limpiar este set:\n",
    "   1. Obtenga una lista con todas las variables categoricas que tengan entre 2 y 99 categorías (inclusive). (hint: son las variables tipo categoricas"
   ]
  },
  {
   "cell_type": "code",
   "execution_count": 14,
   "id": "e67b281f",
   "metadata": {},
   "outputs": [
    {
     "data": {
      "text/html": [
       "<div>\n",
       "<style scoped>\n",
       "    .dataframe tbody tr th:only-of-type {\n",
       "        vertical-align: middle;\n",
       "    }\n",
       "\n",
       "    .dataframe tbody tr th {\n",
       "        vertical-align: top;\n",
       "    }\n",
       "\n",
       "    .dataframe thead th {\n",
       "        text-align: right;\n",
       "    }\n",
       "</style>\n",
       "<table border=\"1\" class=\"dataframe\">\n",
       "  <thead>\n",
       "    <tr style=\"text-align: right;\">\n",
       "      <th></th>\n",
       "      <th>recstat</th>\n",
       "      <th>inout</th>\n",
       "      <th>trhsloc</th>\n",
       "      <th>crimsusp</th>\n",
       "      <th>typeofid</th>\n",
       "      <th>explnstp</th>\n",
       "      <th>othpers</th>\n",
       "      <th>arstmade</th>\n",
       "      <th>arstoffn</th>\n",
       "      <th>sumissue</th>\n",
       "      <th>...</th>\n",
       "      <th>aptnum</th>\n",
       "      <th>city</th>\n",
       "      <th>state</th>\n",
       "      <th>zip</th>\n",
       "      <th>sector</th>\n",
       "      <th>beat</th>\n",
       "      <th>post</th>\n",
       "      <th>xcoord</th>\n",
       "      <th>ycoord</th>\n",
       "      <th>dettypcm</th>\n",
       "    </tr>\n",
       "  </thead>\n",
       "  <tbody>\n",
       "    <tr>\n",
       "      <th>0</th>\n",
       "      <td>A</td>\n",
       "      <td>O</td>\n",
       "      <td>P</td>\n",
       "      <td>CPW</td>\n",
       "      <td>P</td>\n",
       "      <td>Y</td>\n",
       "      <td>N</td>\n",
       "      <td>N</td>\n",
       "      <td></td>\n",
       "      <td>N</td>\n",
       "      <td>...</td>\n",
       "      <td></td>\n",
       "      <td>BRONX</td>\n",
       "      <td></td>\n",
       "      <td></td>\n",
       "      <td>G</td>\n",
       "      <td>7</td>\n",
       "      <td></td>\n",
       "      <td>1013067</td>\n",
       "      <td>0238633</td>\n",
       "      <td>CM</td>\n",
       "    </tr>\n",
       "    <tr>\n",
       "      <th>1</th>\n",
       "      <td>A</td>\n",
       "      <td>O</td>\n",
       "      <td>P</td>\n",
       "      <td>BURG</td>\n",
       "      <td>P</td>\n",
       "      <td>Y</td>\n",
       "      <td>Y</td>\n",
       "      <td>N</td>\n",
       "      <td></td>\n",
       "      <td>N</td>\n",
       "      <td>...</td>\n",
       "      <td></td>\n",
       "      <td>QUEENS</td>\n",
       "      <td></td>\n",
       "      <td></td>\n",
       "      <td>J</td>\n",
       "      <td></td>\n",
       "      <td></td>\n",
       "      <td>1012043</td>\n",
       "      <td>0212157</td>\n",
       "      <td>CM</td>\n",
       "    </tr>\n",
       "    <tr>\n",
       "      <th>2</th>\n",
       "      <td>1</td>\n",
       "      <td>O</td>\n",
       "      <td>P</td>\n",
       "      <td>MISD</td>\n",
       "      <td>V</td>\n",
       "      <td>Y</td>\n",
       "      <td>N</td>\n",
       "      <td>N</td>\n",
       "      <td></td>\n",
       "      <td>N</td>\n",
       "      <td>...</td>\n",
       "      <td></td>\n",
       "      <td>BRONX</td>\n",
       "      <td></td>\n",
       "      <td></td>\n",
       "      <td>E</td>\n",
       "      <td></td>\n",
       "      <td></td>\n",
       "      <td>1017599</td>\n",
       "      <td>0240200</td>\n",
       "      <td>CM</td>\n",
       "    </tr>\n",
       "    <tr>\n",
       "      <th>3</th>\n",
       "      <td>A</td>\n",
       "      <td>O</td>\n",
       "      <td>P</td>\n",
       "      <td>MIS</td>\n",
       "      <td>P</td>\n",
       "      <td>Y</td>\n",
       "      <td>N</td>\n",
       "      <td>N</td>\n",
       "      <td></td>\n",
       "      <td>N</td>\n",
       "      <td>...</td>\n",
       "      <td></td>\n",
       "      <td>BROOKLYN</td>\n",
       "      <td></td>\n",
       "      <td></td>\n",
       "      <td>J</td>\n",
       "      <td>4</td>\n",
       "      <td>35</td>\n",
       "      <td>1002625</td>\n",
       "      <td>0183442</td>\n",
       "      <td>CM</td>\n",
       "    </tr>\n",
       "    <tr>\n",
       "      <th>4</th>\n",
       "      <td>A</td>\n",
       "      <td>O</td>\n",
       "      <td>P</td>\n",
       "      <td>CPW</td>\n",
       "      <td>P</td>\n",
       "      <td>Y</td>\n",
       "      <td>Y</td>\n",
       "      <td>N</td>\n",
       "      <td></td>\n",
       "      <td>N</td>\n",
       "      <td>...</td>\n",
       "      <td></td>\n",
       "      <td>QUEENS</td>\n",
       "      <td></td>\n",
       "      <td></td>\n",
       "      <td>H</td>\n",
       "      <td></td>\n",
       "      <td></td>\n",
       "      <td>1024535</td>\n",
       "      <td>0209890</td>\n",
       "      <td>CM</td>\n",
       "    </tr>\n",
       "    <tr>\n",
       "      <th>...</th>\n",
       "      <td>...</td>\n",
       "      <td>...</td>\n",
       "      <td>...</td>\n",
       "      <td>...</td>\n",
       "      <td>...</td>\n",
       "      <td>...</td>\n",
       "      <td>...</td>\n",
       "      <td>...</td>\n",
       "      <td>...</td>\n",
       "      <td>...</td>\n",
       "      <td>...</td>\n",
       "      <td>...</td>\n",
       "      <td>...</td>\n",
       "      <td>...</td>\n",
       "      <td>...</td>\n",
       "      <td>...</td>\n",
       "      <td>...</td>\n",
       "      <td>...</td>\n",
       "      <td>...</td>\n",
       "      <td>...</td>\n",
       "      <td>...</td>\n",
       "    </tr>\n",
       "    <tr>\n",
       "      <th>11820</th>\n",
       "      <td>1</td>\n",
       "      <td>O</td>\n",
       "      <td>H</td>\n",
       "      <td>MISD</td>\n",
       "      <td>P</td>\n",
       "      <td>Y</td>\n",
       "      <td>N</td>\n",
       "      <td>N</td>\n",
       "      <td></td>\n",
       "      <td>N</td>\n",
       "      <td>...</td>\n",
       "      <td></td>\n",
       "      <td>BROOKLYN</td>\n",
       "      <td></td>\n",
       "      <td></td>\n",
       "      <td>I</td>\n",
       "      <td></td>\n",
       "      <td></td>\n",
       "      <td>989382</td>\n",
       "      <td>155162</td>\n",
       "      <td>CM</td>\n",
       "    </tr>\n",
       "    <tr>\n",
       "      <th>11821</th>\n",
       "      <td>A</td>\n",
       "      <td>O</td>\n",
       "      <td>P</td>\n",
       "      <td>ROBBERY</td>\n",
       "      <td>R</td>\n",
       "      <td>Y</td>\n",
       "      <td>N</td>\n",
       "      <td>N</td>\n",
       "      <td></td>\n",
       "      <td>N</td>\n",
       "      <td>...</td>\n",
       "      <td></td>\n",
       "      <td>BROOKLYN</td>\n",
       "      <td></td>\n",
       "      <td></td>\n",
       "      <td>A</td>\n",
       "      <td></td>\n",
       "      <td></td>\n",
       "      <td>1012757</td>\n",
       "      <td>186018</td>\n",
       "      <td>CM</td>\n",
       "    </tr>\n",
       "    <tr>\n",
       "      <th>11822</th>\n",
       "      <td>A</td>\n",
       "      <td>O</td>\n",
       "      <td>P</td>\n",
       "      <td>GLA</td>\n",
       "      <td>P</td>\n",
       "      <td>Y</td>\n",
       "      <td>N</td>\n",
       "      <td>N</td>\n",
       "      <td></td>\n",
       "      <td>Y</td>\n",
       "      <td>...</td>\n",
       "      <td></td>\n",
       "      <td>STATEN IS</td>\n",
       "      <td></td>\n",
       "      <td></td>\n",
       "      <td>E</td>\n",
       "      <td></td>\n",
       "      <td></td>\n",
       "      <td>933868</td>\n",
       "      <td>138600</td>\n",
       "      <td>CM</td>\n",
       "    </tr>\n",
       "    <tr>\n",
       "      <th>11823</th>\n",
       "      <td>1</td>\n",
       "      <td>O</td>\n",
       "      <td>P</td>\n",
       "      <td>FELONY</td>\n",
       "      <td>P</td>\n",
       "      <td>Y</td>\n",
       "      <td>N</td>\n",
       "      <td>N</td>\n",
       "      <td></td>\n",
       "      <td>N</td>\n",
       "      <td>...</td>\n",
       "      <td></td>\n",
       "      <td>QUEENS</td>\n",
       "      <td></td>\n",
       "      <td></td>\n",
       "      <td>E</td>\n",
       "      <td></td>\n",
       "      <td></td>\n",
       "      <td>1014722</td>\n",
       "      <td>214388</td>\n",
       "      <td>CM</td>\n",
       "    </tr>\n",
       "    <tr>\n",
       "      <th>11824</th>\n",
       "      <td>1</td>\n",
       "      <td>I</td>\n",
       "      <td>T</td>\n",
       "      <td>CRIM MIS.</td>\n",
       "      <td>P</td>\n",
       "      <td>Y</td>\n",
       "      <td>N</td>\n",
       "      <td>N</td>\n",
       "      <td></td>\n",
       "      <td>N</td>\n",
       "      <td>...</td>\n",
       "      <td></td>\n",
       "      <td>MANHATTAN</td>\n",
       "      <td></td>\n",
       "      <td></td>\n",
       "      <td>H</td>\n",
       "      <td>11</td>\n",
       "      <td></td>\n",
       "      <td>987078</td>\n",
       "      <td>215157</td>\n",
       "      <td>CM</td>\n",
       "    </tr>\n",
       "  </tbody>\n",
       "</table>\n",
       "<p>11825 rows × 92 columns</p>\n",
       "</div>"
      ],
      "text/plain": [
       "      recstat inout trhsloc   crimsusp typeofid explnstp othpers arstmade  \\\n",
       "0           A     O       P        CPW        P        Y       N        N   \n",
       "1           A     O       P       BURG        P        Y       Y        N   \n",
       "2           1     O       P       MISD        V        Y       N        N   \n",
       "3           A     O       P        MIS        P        Y       N        N   \n",
       "4           A     O       P        CPW        P        Y       Y        N   \n",
       "...       ...   ...     ...        ...      ...      ...     ...      ...   \n",
       "11820       1     O       H       MISD        P        Y       N        N   \n",
       "11821       A     O       P    ROBBERY        R        Y       N        N   \n",
       "11822       A     O       P        GLA        P        Y       N        N   \n",
       "11823       1     O       P     FELONY        P        Y       N        N   \n",
       "11824       1     I       T  CRIM MIS.        P        Y       N        N   \n",
       "\n",
       "      arstoffn sumissue  ... aptnum       city state zip sector beat post  \\\n",
       "0                     N  ...             BRONX                G    7        \n",
       "1                     N  ...            QUEENS                J             \n",
       "2                     N  ...             BRONX                E             \n",
       "3                     N  ...          BROOKLYN                J    4   35   \n",
       "4                     N  ...            QUEENS                H             \n",
       "...        ...      ...  ...    ...        ...   ...  ..    ...  ...  ...   \n",
       "11820                 N  ...          BROOKLYN                I             \n",
       "11821                 N  ...          BROOKLYN                A             \n",
       "11822                 Y  ...         STATEN IS                E             \n",
       "11823                 N  ...            QUEENS                E             \n",
       "11824                 N  ...         MANHATTAN                H   11        \n",
       "\n",
       "        xcoord   ycoord dettypcm  \n",
       "0      1013067  0238633       CM  \n",
       "1      1012043  0212157       CM  \n",
       "2      1017599  0240200       CM  \n",
       "3      1002625  0183442       CM  \n",
       "4      1024535  0209890       CM  \n",
       "...        ...      ...      ...  \n",
       "11820   989382   155162       CM  \n",
       "11821  1012757   186018       CM  \n",
       "11822   933868   138600       CM  \n",
       "11823  1014722   214388       CM  \n",
       "11824   987078   215157       CM  \n",
       "\n",
       "[11825 rows x 92 columns]"
      ]
     },
     "execution_count": 14,
     "metadata": {},
     "output_type": "execute_result"
    }
   ],
   "source": [
    "#Filtrar categóricas\n",
    "variables_categoricas = df_consolidado.select_dtypes(include=['object'])\n",
    "variables_categoricas"
   ]
  },
  {
   "cell_type": "code",
   "execution_count": 22,
   "id": "368e68c4",
   "metadata": {},
   "outputs": [
    {
     "data": {
      "text/plain": [
       "trhsloc      4\n",
       "typeofid     4\n",
       "sex          3\n",
       "race         8\n",
       "haircolr    11\n",
       "eyecolor    11\n",
       "build        5\n",
       "city         7\n",
       "sector      19\n",
       "beat        64\n",
       "dtype: int64"
      ]
     },
     "execution_count": 22,
     "metadata": {},
     "output_type": "execute_result"
    }
   ],
   "source": [
    "#Listar las que tienen entre 2 y 99 categorías\n",
    "valores_distintos = variables_categoricas.nunique()\n",
    "var_filtradas = valores_distintos[(valores_distintos > 2) & (valores_distintos < 99)]\n",
    "var_filtradas"
   ]
  },
  {
   "cell_type": "markdown",
   "id": "5388a6b7",
   "metadata": {},
   "source": [
    " B. Reemplaze las siguientes clases faltantes: -Si alguna categoría de las columnas officrid, offshld o offverb es igual a \"\"\n",
    "cambielo a 'N' y en caso contrario dejelo como 'Y' -Si alguna categoría de las columnas sector, trhsloc o beat es igual a \"\" (o NA, dependiendo de como haya catgado la base de datos), cambielo a 'U' y en caso contrario mantenga su valor Nota, los valores significan {N: No, Y: Yes, U: Unknown}"
   ]
  },
  {
   "cell_type": "code",
   "execution_count": 17,
   "id": "ee635241",
   "metadata": {},
   "outputs": [
    {
     "name": "stdout",
     "output_type": "stream",
     "text": [
      "0\n",
      "True\n",
      "0\n",
      "True\n",
      "0\n",
      "True\n",
      "0\n",
      "True\n",
      "0\n",
      "True\n",
      "0\n",
      "True\n"
     ]
    }
   ],
   "source": [
    "#Revisar si las variables continen NA o \"\"\n",
    "print(df_consolidado[\"officrid\"].isna().sum())\n",
    "print(\" \"in df_consolidado[\"officrid\"].values)\n",
    "print(df_consolidado[\"offshld\"].isna().sum())\n",
    "print(\" \"in df_consolidado[\"offshld\"].values)\n",
    "print(df_consolidado[\"offverb\"].isna().sum())\n",
    "print(\" \"in df_consolidado[\"offverb\"].values)\n",
    "print(df_consolidado[\"sector\"].isna().sum())\n",
    "print(\" \"in df_consolidado[\"sector\"].values)\n",
    "print(df_consolidado[\"trhsloc\"].isna().sum())\n",
    "print(\" \"in df_consolidado[\"trhsloc\"].values)\n",
    "print(df_consolidado[\"beat\"].isna().sum())\n",
    "print(\" \"in df_consolidado[\"beat\"].values)\n"
   ]
  },
  {
   "cell_type": "code",
   "execution_count": 18,
   "id": "91d0b780",
   "metadata": {},
   "outputs": [],
   "source": [
    "#cambiar variables\n",
    "reemplazo = {\" \": \"N\"}\n",
    "df_consolidado[\"officrid\"] = df_consolidado[\"officrid\"].replace(reemplazo)\n",
    "df_consolidado[\"offshld\"] = df_consolidado[\"offshld\"].replace(reemplazo)\n",
    "df_consolidado[\"offverb\"] = df_consolidado[\"offverb\"].replace(reemplazo)\n",
    "\n",
    "reemplazo_1 = {\" \": \"U\"}\n",
    "df_consolidado[\"sector\"] = df_consolidado[\"sector\"].replace(reemplazo_1)\n",
    "df_consolidado[\"trhsloc\"] = df_consolidado[\"trhsloc\"].replace(reemplazo_1)\n",
    "df_consolidado[\"beat\"] = df_consolidado[\"beat\"].replace(reemplazo_1)"
   ]
  },
  {
   "cell_type": "markdown",
   "id": "f51837d0",
   "metadata": {},
   "source": [
    "3.3 Transforme las columnas ht_feet junto con ht_inch en una única columna (de la forma \"ht_feet.ht_inch\") llamado 'meters' (hint: transforme con el siguiente cálculo: metros = (pies+pulgadas)*0.3048)"
   ]
  },
  {
   "cell_type": "code",
   "execution_count": 19,
   "id": "c45d59dd",
   "metadata": {},
   "outputs": [],
   "source": [
    "df_consolidado[\"meters\"] = (df_consolidado[\"ht_feet\"] + df_consolidado[\"ht_inch\"])*0.3048"
   ]
  },
  {
   "cell_type": "markdown",
   "id": "6429186e",
   "metadata": {},
   "source": [
    "3.4 Note que la fecha viene en un formato MMDDAAAA en la columna datestop. Genere 2 nuevas columnas llamadas month y year que solo tenga el mes y el año respectivamente. Hint: Explore la libreria lubridate https://www.rstudio.com/resources/cheatsheets/"
   ]
  },
  {
   "cell_type": "code",
   "execution_count": 20,
   "id": "1927ab6a",
   "metadata": {},
   "outputs": [
    {
     "name": "stdout",
     "output_type": "stream",
     "text": [
      "   Unnamed: 0  year  pct  ser_num   datestop  timestop recstat inout trhsloc  \\\n",
      "0      178048  2009   41     1779 2009-04-03       130       A     O       P   \n",
      "1      498873  2009  108     5805 2009-10-29      1050       A     O       P   \n",
      "2      463573  2009   43     8340 2009-10-06      1450       1     O       P   \n",
      "3       43626  2009   77      932 2009-12-03      1843       A     O       P   \n",
      "4      563921  2009  110    11224 2009-12-13      1655       A     O       P   \n",
      "\n",
      "   perobs  ... beat  post   xcoord   ycoord dettypcm linecm detailcm  meters  \\\n",
      "0     1.0  ...    7        1013067  0238633       CM    1.0     20.0  4.2672   \n",
      "1     3.0  ...    U        1012043  0212157       CM    1.0     14.0  3.0480   \n",
      "2     1.0  ...    U        1017599  0240200       CM    1.0     20.0  2.7432   \n",
      "3     5.0  ...    4    35  1002625  0183442       CM    1.0     24.0  3.0480   \n",
      "4     3.0  ...    U        1024535  0209890       CM    1.0     20.0  3.3528   \n",
      "\n",
      "  Mes   Año  \n",
      "0   4  2009  \n",
      "1  10  2009  \n",
      "2  10  2009  \n",
      "3  12  2009  \n",
      "4  12  2009  \n",
      "\n",
      "[5 rows x 115 columns]\n"
     ]
    }
   ],
   "source": [
    "# Convertir la columna 'Fecha' a formato datetime\n",
    "df_consolidado['datestop'] = pd.to_datetime(df_consolidado['datestop'] , format='%m%d%Y')\n",
    "\n",
    "# Obtener columnas separadas de mes y año\n",
    "df_consolidado['Mes'] = df_consolidado['datestop'].dt.month\n",
    "df_consolidado['Año'] = df_consolidado['datestop'].dt.year\n",
    "\n",
    "# Mostrar el DataFrame resultante\n",
    "print(df_consolidado.head(5))"
   ]
  },
  {
   "cell_type": "markdown",
   "id": "19e957fb",
   "metadata": {},
   "source": [
    "3.5 Filtre su DataFrame y solo deje las columnas seleccionadas en el punto 3.1, el mes, el año, los metros y la edad. Luego solo deje los registros cuyas edades esten entre 18 y 100 años, ambos inclusive."
   ]
  },
  {
   "cell_type": "code",
   "execution_count": 31,
   "id": "2ca5609f",
   "metadata": {},
   "outputs": [
    {
     "data": {
      "text/html": [
       "<div>\n",
       "<style scoped>\n",
       "    .dataframe tbody tr th:only-of-type {\n",
       "        vertical-align: middle;\n",
       "    }\n",
       "\n",
       "    .dataframe tbody tr th {\n",
       "        vertical-align: top;\n",
       "    }\n",
       "\n",
       "    .dataframe thead th {\n",
       "        text-align: right;\n",
       "    }\n",
       "</style>\n",
       "<table border=\"1\" class=\"dataframe\">\n",
       "  <thead>\n",
       "    <tr style=\"text-align: right;\">\n",
       "      <th></th>\n",
       "      <th>trhsloc</th>\n",
       "      <th>typeofid</th>\n",
       "      <th>sex</th>\n",
       "      <th>race</th>\n",
       "      <th>haircolr</th>\n",
       "      <th>eyecolor</th>\n",
       "      <th>build</th>\n",
       "      <th>city</th>\n",
       "      <th>sector</th>\n",
       "      <th>beat</th>\n",
       "      <th>Mes</th>\n",
       "      <th>meters</th>\n",
       "      <th>Año</th>\n",
       "      <th>age</th>\n",
       "    </tr>\n",
       "  </thead>\n",
       "  <tbody>\n",
       "    <tr>\n",
       "      <th>0</th>\n",
       "      <td>P</td>\n",
       "      <td>P</td>\n",
       "      <td>M</td>\n",
       "      <td>B</td>\n",
       "      <td>BK</td>\n",
       "      <td>BR</td>\n",
       "      <td>M</td>\n",
       "      <td>BRONX</td>\n",
       "      <td>G</td>\n",
       "      <td>7</td>\n",
       "      <td>4</td>\n",
       "      <td>4.2672</td>\n",
       "      <td>2009</td>\n",
       "      <td>24</td>\n",
       "    </tr>\n",
       "    <tr>\n",
       "      <th>2</th>\n",
       "      <td>P</td>\n",
       "      <td>V</td>\n",
       "      <td>M</td>\n",
       "      <td>Q</td>\n",
       "      <td>BR</td>\n",
       "      <td>BR</td>\n",
       "      <td>M</td>\n",
       "      <td>BRONX</td>\n",
       "      <td>E</td>\n",
       "      <td>U</td>\n",
       "      <td>10</td>\n",
       "      <td>2.7432</td>\n",
       "      <td>2009</td>\n",
       "      <td>21</td>\n",
       "    </tr>\n",
       "    <tr>\n",
       "      <th>3</th>\n",
       "      <td>P</td>\n",
       "      <td>P</td>\n",
       "      <td>M</td>\n",
       "      <td>B</td>\n",
       "      <td>BK</td>\n",
       "      <td>BR</td>\n",
       "      <td>T</td>\n",
       "      <td>BROOKLYN</td>\n",
       "      <td>J</td>\n",
       "      <td>4</td>\n",
       "      <td>12</td>\n",
       "      <td>3.0480</td>\n",
       "      <td>2009</td>\n",
       "      <td>22</td>\n",
       "    </tr>\n",
       "    <tr>\n",
       "      <th>4</th>\n",
       "      <td>P</td>\n",
       "      <td>P</td>\n",
       "      <td>M</td>\n",
       "      <td>Q</td>\n",
       "      <td>BK</td>\n",
       "      <td>BR</td>\n",
       "      <td>M</td>\n",
       "      <td>QUEENS</td>\n",
       "      <td>H</td>\n",
       "      <td>U</td>\n",
       "      <td>12</td>\n",
       "      <td>3.3528</td>\n",
       "      <td>2009</td>\n",
       "      <td>18</td>\n",
       "    </tr>\n",
       "    <tr>\n",
       "      <th>5</th>\n",
       "      <td>T</td>\n",
       "      <td>V</td>\n",
       "      <td>M</td>\n",
       "      <td>B</td>\n",
       "      <td>BK</td>\n",
       "      <td>BR</td>\n",
       "      <td>M</td>\n",
       "      <td>MANHATTAN</td>\n",
       "      <td>F</td>\n",
       "      <td>16</td>\n",
       "      <td>5</td>\n",
       "      <td>3.9624</td>\n",
       "      <td>2009</td>\n",
       "      <td>47</td>\n",
       "    </tr>\n",
       "  </tbody>\n",
       "</table>\n",
       "</div>"
      ],
      "text/plain": [
       "  trhsloc typeofid sex race haircolr eyecolor build       city sector beat  \\\n",
       "0       P        P   M    B       BK       BR     M      BRONX      G    7   \n",
       "2       P        V   M    Q       BR       BR     M      BRONX      E    U   \n",
       "3       P        P   M    B       BK       BR     T   BROOKLYN      J    4   \n",
       "4       P        P   M    Q       BK       BR     M     QUEENS      H    U   \n",
       "5       T        V   M    B       BK       BR     M  MANHATTAN      F   16   \n",
       "\n",
       "   Mes  meters   Año  age  \n",
       "0    4  4.2672  2009   24  \n",
       "2   10  2.7432  2009   21  \n",
       "3   12  3.0480  2009   22  \n",
       "4   12  3.3528  2009   18  \n",
       "5    5  3.9624  2009   47  "
      ]
     },
     "execution_count": 31,
     "metadata": {},
     "output_type": "execute_result"
    }
   ],
   "source": [
    "#Crear lista con las variables a considerar\n",
    "variables = var_filtradas.index.tolist()\n",
    "variables.append(\"Mes\")\n",
    "variables.append(\"meters\")\n",
    "variables.append(\"Año\")\n",
    "variables.append(\"age\")\n",
    "\n",
    "#Generar nuevo df solo con variables seleccionadas\n",
    "df_filtrado = df_consolidado[variables]\n",
    "\n",
    "#Filtrar por edad\n",
    "df_filtrado = df_filtrado[(df_filtrado['age'] >= 18) & (df_filtrado['age'] <= 100)]\n",
    "\n",
    "df_filtrado.head(5)"
   ]
  },
  {
   "cell_type": "markdown",
   "id": "4a8d7392",
   "metadata": {},
   "source": [
    "4.1 Estudie la variable respuesta por si sola (arstmade), puede ayudarse de un gráfico. Comente"
   ]
  },
  {
   "cell_type": "code",
   "execution_count": 33,
   "id": "d510566c",
   "metadata": {},
   "outputs": [
    {
     "name": "stdout",
     "output_type": "stream",
     "text": [
      "count     11825\n",
      "unique        2\n",
      "top           N\n",
      "freq      11077\n",
      "Name: arstmade, dtype: object\n",
      "\n",
      "N    11077\n",
      "Y      748\n",
      "Name: arstmade, dtype: int64\n"
     ]
    }
   ],
   "source": [
    "print(df_consolidado[\"arstmade\"].describe()) #descriptivo variable\n",
    "print()\n",
    "print(df_consolidado[\"arstmade\"].value_counts()) #cantidad de registros por categoría"
   ]
  },
  {
   "cell_type": "code",
   "execution_count": 40,
   "id": "0e329026",
   "metadata": {},
   "outputs": [
    {
     "data": {
      "image/png": "[encoded data removed]",
      "text/plain": [
       "<Figure size 432x288 with 1 Axes>"
      ]
     },
     "metadata": {
      "needs_background": "light"
     },
     "output_type": "display_data"
    }
   ],
   "source": [
    "#gráfica de arstmade\n",
    "sns.countplot(df_consolidado[\"arstmade\"])\n",
    "plt.show()"
   ]
  },
  {
   "cell_type": "markdown",
   "id": "7053201e",
   "metadata": {},
   "source": [
    "4.2.- Estudie la relación de la variable respuesta en comportamiento con la raza (race), comente."
   ]
  },
  {
   "cell_type": "code",
   "execution_count": 41,
   "id": "3ee77a1d",
   "metadata": {},
   "outputs": [
    {
     "name": "stdout",
     "output_type": "stream",
     "text": [
      "count     11825\n",
      "unique        8\n",
      "top           B\n",
      "freq       6331\n",
      "Name: race, dtype: object\n",
      "\n",
      "B    6331\n",
      "Q    2922\n",
      "W    1118\n",
      "P     671\n",
      "A     364\n",
      "Z     289\n",
      "U      78\n",
      "I      52\n",
      "Name: race, dtype: int64\n"
     ]
    }
   ],
   "source": [
    "#Observar variable race\n",
    "print(df_consolidado[\"race\"].describe()) #descriptivo variable\n",
    "print()\n",
    "print(df_consolidado[\"race\"].value_counts()) #cantidad de registros por categoría"
   ]
  },
  {
   "cell_type": "code",
   "execution_count": 47,
   "id": "f5f91609",
   "metadata": {},
   "outputs": [
    {
     "name": "stdout",
     "output_type": "stream",
     "text": [
      "La correlación Chi cuadrado entre Race y arstmade es de: 3.59276 con un p-value de: 0.8253\n",
      "El valor V de Cramer es de: 0.01743\n"
     ]
    }
   ],
   "source": [
    "# Calcular coef de independencia chi cuadrado\n",
    "race_arstmade = np.array(pd.crosstab(df_consolidado[\"race\"], df_consolidado[\"arstmade\"]))\n",
    "X2 = round(stats.chi2_contingency(race_arstmade, correction=False) [0],5) #Obtención Chi cuadrado\n",
    "p = round(stats.chi2_contingency(race_arstmade, correction=False) [1],5) #Obtención p_value prueba de indepencencias\n",
    "n = np.sum(race_arstmade)\n",
    "minDim = min(race_arstmade.shape)-1\n",
    "V = round(np.sqrt((X2/n)/minDim),5) #cálculo V de Cramer   \n",
    "print (f\"La correlación Chi cuadrado entre Race y arstmade es de: {X2} con un p-value de: {p}\")\n",
    "print(f\"El valor V de Cramer es de: {V}\")"
   ]
  },
  {
   "cell_type": "markdown",
   "id": "ace9bfd1",
   "metadata": {},
   "source": [
    "Considerando un $\\alpha = 0.05$ no existe evidencia suficiente para rechazar la hipótesis nula. Por lo tanto, no existe asociación entre las variables."
   ]
  },
  {
   "cell_type": "code",
   "execution_count": 54,
   "id": "3f6981fd",
   "metadata": {},
   "outputs": [
    {
     "data": {
      "image/png": "[encoded data removed]",
      "text/plain": [
       "<Figure size 432x288 with 1 Axes>"
      ]
     },
     "metadata": {
      "needs_background": "light"
     },
     "output_type": "display_data"
    }
   ],
   "source": [
    "#gráfico de comportamiento\n",
    "\n",
    "sns.countplot(df_consolidado[\"race\"], hue = df_consolidado[\"arstmade\"])\n",
    "plt.show()"
   ]
  },
  {
   "cell_type": "markdown",
   "id": "d6b54cce",
   "metadata": {},
   "source": [
    "4.3 Estudie la relación de la variable respuesta en comportamiento con la sexo (sex), comente."
   ]
  },
  {
   "cell_type": "code",
   "execution_count": 55,
   "id": "bf82f3b7",
   "metadata": {},
   "outputs": [
    {
     "name": "stdout",
     "output_type": "stream",
     "text": [
      "count     11825\n",
      "unique        3\n",
      "top           M\n",
      "freq      10873\n",
      "Name: sex, dtype: object\n",
      "\n",
      "M    10873\n",
      "F      777\n",
      "Z      175\n",
      "Name: sex, dtype: int64\n"
     ]
    }
   ],
   "source": [
    "#Observar variable race\n",
    "print(df_consolidado[\"sex\"].describe()) #descriptivo variable\n",
    "print()\n",
    "print(df_consolidado[\"sex\"].value_counts()) #cantidad de registros por categoría"
   ]
  },
  {
   "cell_type": "code",
   "execution_count": 56,
   "id": "6963bb18",
   "metadata": {},
   "outputs": [
    {
     "name": "stdout",
     "output_type": "stream",
     "text": [
      "La correlación Chi cuadrado entre sex y arstmade es de: 16.22822 con un p-value de: 0.0003\n",
      "El valor V de Cramer es de: 0.03705\n"
     ]
    }
   ],
   "source": [
    "# Calcular coef de independencia chi cuadrado\n",
    "sex_arstmade = np.array(pd.crosstab(df_consolidado[\"sex\"], df_consolidado[\"arstmade\"]))\n",
    "X2 = round(stats.chi2_contingency(sex_arstmade, correction=False) [0],5) #Obtención Chi cuadrado\n",
    "p = round(stats.chi2_contingency(sex_arstmade, correction=False) [1],5) #Obtención p_value prueba de indepencencias\n",
    "n = np.sum(sex_arstmade)\n",
    "minDim = min(sex_arstmade.shape)-1\n",
    "V = round(np.sqrt((X2/n)/minDim),5) #cálculo V de Cramer   \n",
    "print (f\"La correlación Chi cuadrado entre sex y arstmade es de: {X2} con un p-value de: {p}\")\n",
    "print(f\"El valor V de Cramer es de: {V}\")"
   ]
  },
  {
   "cell_type": "markdown",
   "id": "e6bbf64e",
   "metadata": {},
   "source": [
    "Considerando un $\\alpha = 0.05$ se rechaza la hipotencias nula; por lo tanto, las variable no son independientes. Sin embargo, considerando el tamaño del efecto, a través del V de Cramer, la asociación es débil."
   ]
  },
  {
   "cell_type": "code",
   "execution_count": 57,
   "id": "5d269ebf",
   "metadata": {},
   "outputs": [
    {
     "data": {
      "image/png": "[encoded data removed]",
      "text/plain": [
       "<Figure size 432x288 with 1 Axes>"
      ]
     },
     "metadata": {
      "needs_background": "light"
     },
     "output_type": "display_data"
    }
   ],
   "source": [
    "#gráfico de comportamiento\n",
    "\n",
    "sns.countplot(df_consolidado[\"sex\"], hue = df_consolidado[\"arstmade\"])\n",
    "plt.show()"
   ]
  },
  {
   "cell_type": "markdown",
   "id": "da1fa19e",
   "metadata": {},
   "source": [
    "4.3 Estudie la relación de la variable respuesta en comportamiento con la sexo y la edad en su conjunto, comente."
   ]
  },
  {
   "cell_type": "code",
   "execution_count": 76,
   "id": "eb058001",
   "metadata": {},
   "outputs": [
    {
     "name": "stdout",
     "output_type": "stream",
     "text": [
      "const   -2.266800\n",
      "sex_Z   -0.696704\n",
      "sex_M   -0.475993\n",
      "age      0.000427\n",
      "dtype: float64\n"
     ]
    }
   ],
   "source": [
    "# Definir X y Y\n",
    "x = df_consolidado[[\"sex\", \"age\"]]\n",
    "x = pd.get_dummies(x, drop_first=True)\n",
    "y = df_consolidado[\"arstmade\"]\n",
    "model = LogisticRegression(max_iter=1000)\n",
    "\n",
    "# Train the model\n",
    "model.fit(x, y)\n",
    "\n",
    "#Model coef\n",
    "coefficients = model.coef_\n",
    "intercept = model.intercept_[0]\n",
    "\n",
    "predictors = x.columns.tolist()\n",
    "predictors.append(\"const\")\n",
    "\n",
    "coefficients = coefficients[0].tolist()\n",
    "coefficients.append(intercept)\n",
    "\n",
    "\n",
    "coef = pd.Series(coefficients, predictors).sort_values()\n",
    "\n",
    "print(coef)"
   ]
  },
  {
   "cell_type": "markdown",
   "id": "63a9244e",
   "metadata": {},
   "source": [
    "La variable sex se relaciona de manera negativa con el target arstmade y la edad de manera positiva. Sin embargo, hay que considerar que para ver el efecto real es necesario obtener los odds."
   ]
  },
  {
   "cell_type": "markdown",
   "id": "49cf9a25",
   "metadata": {},
   "source": [
    "4.4 Recodifique la variable respuesta a 1 y 0. Donde 0 es N y 1 es Y"
   ]
  },
  {
   "cell_type": "code",
   "execution_count": 77,
   "id": "1825619f",
   "metadata": {},
   "outputs": [
    {
     "data": {
      "text/plain": [
       "0    11077\n",
       "1      748\n",
       "Name: arstmade, dtype: int64"
      ]
     },
     "execution_count": 77,
     "metadata": {},
     "output_type": "execute_result"
    }
   ],
   "source": [
    "reemplazo_target = {\"N\": 0, \"Y\":1} #definir valores de reemplazo\n",
    "df_consolidado[\"arstmade\"] = df_consolidado[\"arstmade\"].replace(reemplazo_target) #realizar reemplazo de valores\n",
    "df_consolidado[\"arstmade\"].value_counts() #verificar el cambio"
   ]
  },
  {
   "cell_type": "markdown",
   "id": "05d25339",
   "metadata": {},
   "source": [
    "4.5 Muestre en un gráfico la probabilidad que un individuo sea arrestado,condicional al género y a la raza. ¿qué implicancias éticas tienen algunas conclusiones de lo que observa?."
   ]
  },
  {
   "cell_type": "code",
   "execution_count": 116,
   "id": "fa837e88",
   "metadata": {},
   "outputs": [
    {
     "ename": "ValueError",
     "evalue": "right_index parameter must be of type bool, not <class 'str'>",
     "output_type": "error",
     "traceback": [
      "\u001b[1;31m---------------------------------------------------------------------------\u001b[0m",
      "\u001b[1;31mValueError\u001b[0m                                Traceback (most recent call last)",
      "Input \u001b[1;32mIn [116]\u001b[0m, in \u001b[0;36m<cell line: 16>\u001b[1;34m()\u001b[0m\n\u001b[0;32m     13\u001b[0m prob_prior_raza \u001b[38;5;241m=\u001b[39m (df_consolidado[\u001b[38;5;124m'\u001b[39m\u001b[38;5;124mrace\u001b[39m\u001b[38;5;124m'\u001b[39m]\u001b[38;5;241m.\u001b[39mvalue_counts() \u001b[38;5;241m/\u001b[39m \u001b[38;5;28mlen\u001b[39m(df_consolidado))\u001b[38;5;241m.\u001b[39mreset_index()\n\u001b[0;32m     15\u001b[0m \u001b[38;5;66;03m# Combinar las probabilidades condicionales y previas\u001b[39;00m\n\u001b[1;32m---> 16\u001b[0m prob_arresto_condicional \u001b[38;5;241m=\u001b[39m \u001b[43mprobabilidad_condicional\u001b[49m\u001b[38;5;241;43m.\u001b[39;49m\u001b[43mmerge\u001b[49m\u001b[43m(\u001b[49m\u001b[43mprob_prior_genero\u001b[49m\u001b[43m,\u001b[49m\u001b[43m \u001b[49m\u001b[43mleft_on\u001b[49m\u001b[38;5;241;43m=\u001b[39;49m\u001b[38;5;124;43m\"\u001b[39;49m\u001b[38;5;124;43msex\u001b[39;49m\u001b[38;5;124;43m\"\u001b[39;49m\u001b[43m,\u001b[49m\u001b[43m \u001b[49m\u001b[43mright_index\u001b[49m\u001b[43m \u001b[49m\u001b[38;5;241;43m=\u001b[39;49m\u001b[43m \u001b[49m\u001b[38;5;124;43m\"\u001b[39;49m\u001b[38;5;124;43mindex\u001b[39;49m\u001b[38;5;124;43m\"\u001b[39;49m\u001b[43m,\u001b[49m\u001b[43m \u001b[49m\u001b[43mhow\u001b[49m\u001b[38;5;241;43m=\u001b[39;49m\u001b[38;5;124;43m'\u001b[39;49m\u001b[38;5;124;43mleft\u001b[39;49m\u001b[38;5;124;43m'\u001b[39;49m\u001b[43m)\u001b[49m\n\u001b[0;32m     17\u001b[0m \u001b[38;5;66;03m# prob_arresto_condicional = prob_arresto_condicional.merge(prob_prior_raza, on='race', how='left')\u001b[39;00m\n\u001b[0;32m     18\u001b[0m \u001b[38;5;66;03m# prob_arresto_condicional['probability'] = prob_arresto_condicional['arstmade'] * prob_arresto_condicional['sex'] * prob_arresto_condicional['race']\u001b[39;00m\n\u001b[0;32m     19\u001b[0m \u001b[38;5;66;03m# prob_arresto_condicional = prob_arresto_condicional.groupby(['sex', 'race'])['probability'].sum().reset_index()\u001b[39;00m\n\u001b[1;32m   (...)\u001b[0m\n\u001b[0;32m     30\u001b[0m \u001b[38;5;66;03m# # Mostrar el gráfico\u001b[39;00m\n\u001b[0;32m     31\u001b[0m \u001b[38;5;66;03m# plt.show()\u001b[39;00m\n\u001b[0;32m     32\u001b[0m probabilidad_condicional\n",
      "File \u001b[1;32m~\\anaconda3\\lib\\site-packages\\pandas\\core\\frame.py:9345\u001b[0m, in \u001b[0;36mDataFrame.merge\u001b[1;34m(self, right, how, on, left_on, right_on, left_index, right_index, sort, suffixes, copy, indicator, validate)\u001b[0m\n\u001b[0;32m   9326\u001b[0m \u001b[38;5;129m@Substitution\u001b[39m(\u001b[38;5;124m\"\u001b[39m\u001b[38;5;124m\"\u001b[39m)\n\u001b[0;32m   9327\u001b[0m \u001b[38;5;129m@Appender\u001b[39m(_merge_doc, indents\u001b[38;5;241m=\u001b[39m\u001b[38;5;241m2\u001b[39m)\n\u001b[0;32m   9328\u001b[0m \u001b[38;5;28;01mdef\u001b[39;00m \u001b[38;5;21mmerge\u001b[39m(\n\u001b[1;32m   (...)\u001b[0m\n\u001b[0;32m   9341\u001b[0m     validate: \u001b[38;5;28mstr\u001b[39m \u001b[38;5;241m|\u001b[39m \u001b[38;5;28;01mNone\u001b[39;00m \u001b[38;5;241m=\u001b[39m \u001b[38;5;28;01mNone\u001b[39;00m,\n\u001b[0;32m   9342\u001b[0m ) \u001b[38;5;241m-\u001b[39m\u001b[38;5;241m>\u001b[39m DataFrame:\n\u001b[0;32m   9343\u001b[0m     \u001b[38;5;28;01mfrom\u001b[39;00m \u001b[38;5;21;01mpandas\u001b[39;00m\u001b[38;5;21;01m.\u001b[39;00m\u001b[38;5;21;01mcore\u001b[39;00m\u001b[38;5;21;01m.\u001b[39;00m\u001b[38;5;21;01mreshape\u001b[39;00m\u001b[38;5;21;01m.\u001b[39;00m\u001b[38;5;21;01mmerge\u001b[39;00m \u001b[38;5;28;01mimport\u001b[39;00m merge\n\u001b[1;32m-> 9345\u001b[0m     \u001b[38;5;28;01mreturn\u001b[39;00m \u001b[43mmerge\u001b[49m\u001b[43m(\u001b[49m\n\u001b[0;32m   9346\u001b[0m \u001b[43m        \u001b[49m\u001b[38;5;28;43mself\u001b[39;49m\u001b[43m,\u001b[49m\n\u001b[0;32m   9347\u001b[0m \u001b[43m        \u001b[49m\u001b[43mright\u001b[49m\u001b[43m,\u001b[49m\n\u001b[0;32m   9348\u001b[0m \u001b[43m        \u001b[49m\u001b[43mhow\u001b[49m\u001b[38;5;241;43m=\u001b[39;49m\u001b[43mhow\u001b[49m\u001b[43m,\u001b[49m\n\u001b[0;32m   9349\u001b[0m \u001b[43m        \u001b[49m\u001b[43mon\u001b[49m\u001b[38;5;241;43m=\u001b[39;49m\u001b[43mon\u001b[49m\u001b[43m,\u001b[49m\n\u001b[0;32m   9350\u001b[0m \u001b[43m        \u001b[49m\u001b[43mleft_on\u001b[49m\u001b[38;5;241;43m=\u001b[39;49m\u001b[43mleft_on\u001b[49m\u001b[43m,\u001b[49m\n\u001b[0;32m   9351\u001b[0m \u001b[43m        \u001b[49m\u001b[43mright_on\u001b[49m\u001b[38;5;241;43m=\u001b[39;49m\u001b[43mright_on\u001b[49m\u001b[43m,\u001b[49m\n\u001b[0;32m   9352\u001b[0m \u001b[43m        \u001b[49m\u001b[43mleft_index\u001b[49m\u001b[38;5;241;43m=\u001b[39;49m\u001b[43mleft_index\u001b[49m\u001b[43m,\u001b[49m\n\u001b[0;32m   9353\u001b[0m \u001b[43m        \u001b[49m\u001b[43mright_index\u001b[49m\u001b[38;5;241;43m=\u001b[39;49m\u001b[43mright_index\u001b[49m\u001b[43m,\u001b[49m\n\u001b[0;32m   9354\u001b[0m \u001b[43m        \u001b[49m\u001b[43msort\u001b[49m\u001b[38;5;241;43m=\u001b[39;49m\u001b[43msort\u001b[49m\u001b[43m,\u001b[49m\n\u001b[0;32m   9355\u001b[0m \u001b[43m        \u001b[49m\u001b[43msuffixes\u001b[49m\u001b[38;5;241;43m=\u001b[39;49m\u001b[43msuffixes\u001b[49m\u001b[43m,\u001b[49m\n\u001b[0;32m   9356\u001b[0m \u001b[43m        \u001b[49m\u001b[43mcopy\u001b[49m\u001b[38;5;241;43m=\u001b[39;49m\u001b[43mcopy\u001b[49m\u001b[43m,\u001b[49m\n\u001b[0;32m   9357\u001b[0m \u001b[43m        \u001b[49m\u001b[43mindicator\u001b[49m\u001b[38;5;241;43m=\u001b[39;49m\u001b[43mindicator\u001b[49m\u001b[43m,\u001b[49m\n\u001b[0;32m   9358\u001b[0m \u001b[43m        \u001b[49m\u001b[43mvalidate\u001b[49m\u001b[38;5;241;43m=\u001b[39;49m\u001b[43mvalidate\u001b[49m\u001b[43m,\u001b[49m\n\u001b[0;32m   9359\u001b[0m \u001b[43m    \u001b[49m\u001b[43m)\u001b[49m\n",
      "File \u001b[1;32m~\\anaconda3\\lib\\site-packages\\pandas\\core\\reshape\\merge.py:107\u001b[0m, in \u001b[0;36mmerge\u001b[1;34m(left, right, how, on, left_on, right_on, left_index, right_index, sort, suffixes, copy, indicator, validate)\u001b[0m\n\u001b[0;32m     90\u001b[0m \u001b[38;5;129m@Substitution\u001b[39m(\u001b[38;5;124m\"\u001b[39m\u001b[38;5;130;01m\\n\u001b[39;00m\u001b[38;5;124mleft : DataFrame or named Series\u001b[39m\u001b[38;5;124m\"\u001b[39m)\n\u001b[0;32m     91\u001b[0m \u001b[38;5;129m@Appender\u001b[39m(_merge_doc, indents\u001b[38;5;241m=\u001b[39m\u001b[38;5;241m0\u001b[39m)\n\u001b[0;32m     92\u001b[0m \u001b[38;5;28;01mdef\u001b[39;00m \u001b[38;5;21mmerge\u001b[39m(\n\u001b[1;32m   (...)\u001b[0m\n\u001b[0;32m    105\u001b[0m     validate: \u001b[38;5;28mstr\u001b[39m \u001b[38;5;241m|\u001b[39m \u001b[38;5;28;01mNone\u001b[39;00m \u001b[38;5;241m=\u001b[39m \u001b[38;5;28;01mNone\u001b[39;00m,\n\u001b[0;32m    106\u001b[0m ) \u001b[38;5;241m-\u001b[39m\u001b[38;5;241m>\u001b[39m DataFrame:\n\u001b[1;32m--> 107\u001b[0m     op \u001b[38;5;241m=\u001b[39m \u001b[43m_MergeOperation\u001b[49m\u001b[43m(\u001b[49m\n\u001b[0;32m    108\u001b[0m \u001b[43m        \u001b[49m\u001b[43mleft\u001b[49m\u001b[43m,\u001b[49m\n\u001b[0;32m    109\u001b[0m \u001b[43m        \u001b[49m\u001b[43mright\u001b[49m\u001b[43m,\u001b[49m\n\u001b[0;32m    110\u001b[0m \u001b[43m        \u001b[49m\u001b[43mhow\u001b[49m\u001b[38;5;241;43m=\u001b[39;49m\u001b[43mhow\u001b[49m\u001b[43m,\u001b[49m\n\u001b[0;32m    111\u001b[0m \u001b[43m        \u001b[49m\u001b[43mon\u001b[49m\u001b[38;5;241;43m=\u001b[39;49m\u001b[43mon\u001b[49m\u001b[43m,\u001b[49m\n\u001b[0;32m    112\u001b[0m \u001b[43m        \u001b[49m\u001b[43mleft_on\u001b[49m\u001b[38;5;241;43m=\u001b[39;49m\u001b[43mleft_on\u001b[49m\u001b[43m,\u001b[49m\n\u001b[0;32m    113\u001b[0m \u001b[43m        \u001b[49m\u001b[43mright_on\u001b[49m\u001b[38;5;241;43m=\u001b[39;49m\u001b[43mright_on\u001b[49m\u001b[43m,\u001b[49m\n\u001b[0;32m    114\u001b[0m \u001b[43m        \u001b[49m\u001b[43mleft_index\u001b[49m\u001b[38;5;241;43m=\u001b[39;49m\u001b[43mleft_index\u001b[49m\u001b[43m,\u001b[49m\n\u001b[0;32m    115\u001b[0m \u001b[43m        \u001b[49m\u001b[43mright_index\u001b[49m\u001b[38;5;241;43m=\u001b[39;49m\u001b[43mright_index\u001b[49m\u001b[43m,\u001b[49m\n\u001b[0;32m    116\u001b[0m \u001b[43m        \u001b[49m\u001b[43msort\u001b[49m\u001b[38;5;241;43m=\u001b[39;49m\u001b[43msort\u001b[49m\u001b[43m,\u001b[49m\n\u001b[0;32m    117\u001b[0m \u001b[43m        \u001b[49m\u001b[43msuffixes\u001b[49m\u001b[38;5;241;43m=\u001b[39;49m\u001b[43msuffixes\u001b[49m\u001b[43m,\u001b[49m\n\u001b[0;32m    118\u001b[0m \u001b[43m        \u001b[49m\u001b[43mcopy\u001b[49m\u001b[38;5;241;43m=\u001b[39;49m\u001b[43mcopy\u001b[49m\u001b[43m,\u001b[49m\n\u001b[0;32m    119\u001b[0m \u001b[43m        \u001b[49m\u001b[43mindicator\u001b[49m\u001b[38;5;241;43m=\u001b[39;49m\u001b[43mindicator\u001b[49m\u001b[43m,\u001b[49m\n\u001b[0;32m    120\u001b[0m \u001b[43m        \u001b[49m\u001b[43mvalidate\u001b[49m\u001b[38;5;241;43m=\u001b[39;49m\u001b[43mvalidate\u001b[49m\u001b[43m,\u001b[49m\n\u001b[0;32m    121\u001b[0m \u001b[43m    \u001b[49m\u001b[43m)\u001b[49m\n\u001b[0;32m    122\u001b[0m     \u001b[38;5;28;01mreturn\u001b[39;00m op\u001b[38;5;241m.\u001b[39mget_result()\n",
      "File \u001b[1;32m~\\anaconda3\\lib\\site-packages\\pandas\\core\\reshape\\merge.py:667\u001b[0m, in \u001b[0;36m_MergeOperation.__init__\u001b[1;34m(self, left, right, how, on, left_on, right_on, axis, left_index, right_index, sort, suffixes, copy, indicator, validate)\u001b[0m\n\u001b[0;32m    663\u001b[0m     \u001b[38;5;28;01mraise\u001b[39;00m \u001b[38;5;167;01mValueError\u001b[39;00m(\n\u001b[0;32m    664\u001b[0m         \u001b[38;5;124mf\u001b[39m\u001b[38;5;124m\"\u001b[39m\u001b[38;5;124mleft_index parameter must be of type bool, not \u001b[39m\u001b[38;5;132;01m{\u001b[39;00m\u001b[38;5;28mtype\u001b[39m(left_index)\u001b[38;5;132;01m}\u001b[39;00m\u001b[38;5;124m\"\u001b[39m\n\u001b[0;32m    665\u001b[0m     )\n\u001b[0;32m    666\u001b[0m \u001b[38;5;28;01mif\u001b[39;00m \u001b[38;5;129;01mnot\u001b[39;00m is_bool(right_index):\n\u001b[1;32m--> 667\u001b[0m     \u001b[38;5;28;01mraise\u001b[39;00m \u001b[38;5;167;01mValueError\u001b[39;00m(\n\u001b[0;32m    668\u001b[0m         \u001b[38;5;124mf\u001b[39m\u001b[38;5;124m\"\u001b[39m\u001b[38;5;124mright_index parameter must be of type bool, not \u001b[39m\u001b[38;5;132;01m{\u001b[39;00m\u001b[38;5;28mtype\u001b[39m(right_index)\u001b[38;5;132;01m}\u001b[39;00m\u001b[38;5;124m\"\u001b[39m\n\u001b[0;32m    669\u001b[0m     )\n\u001b[0;32m    671\u001b[0m \u001b[38;5;66;03m# warn user when merging between different levels\u001b[39;00m\n\u001b[0;32m    672\u001b[0m \u001b[38;5;28;01mif\u001b[39;00m _left\u001b[38;5;241m.\u001b[39mcolumns\u001b[38;5;241m.\u001b[39mnlevels \u001b[38;5;241m!=\u001b[39m _right\u001b[38;5;241m.\u001b[39mcolumns\u001b[38;5;241m.\u001b[39mnlevels:\n",
      "\u001b[1;31mValueError\u001b[0m: right_index parameter must be of type bool, not <class 'str'>"
     ]
    }
   ],
   "source": [
    "# Calcular la probabilidad condicional de arresto por género y raza\n",
    "\n",
    "# Graficar la probabilidad condicional\n",
    "\n",
    "import pandas as pd\n",
    "\n",
    "# Calcular la probabilidad condicional de arresto por género y raza\n",
    "probabilidad_condicional = df_consolidado.groupby(['sex', 'race'])['arstmade'].mean().reset_index()\n",
    "probabilidad_condicional = probabilidad_condicional[probabilidad_condicional[\"arstmade\"] != 0]\n",
    "\n",
    "# Calcular las probabilidades previas de género y raza\n",
    "prob_prior_genero = (df_consolidado['sex'].value_counts() / len(df_consolidado)).reset_index()\n",
    "prob_prior_raza = (df_consolidado['race'].value_counts() / len(df_consolidado)).reset_index()\n",
    "\n",
    "# Combinar las probabilidades condicionales y previas\n",
    "prob_arresto_condicional = probabilidad_condicional.merge(prob_prior_genero, left_on=\"sex\", right_index = \"index\", how='left')\n",
    "# prob_arresto_condicional = prob_arresto_condicional.merge(prob_prior_raza, on='race', how='left')\n",
    "# prob_arresto_condicional['probability'] = prob_arresto_condicional['arstmade'] * prob_arresto_condicional['sex'] * prob_arresto_condicional['race']\n",
    "# prob_arresto_condicional = prob_arresto_condicional.groupby(['sex', 'race'])['probability'].sum().reset_index()\n",
    "\n",
    "# # Crear el gráfico de barras\n",
    "# plt.figure(figsize=(8, 6))\n",
    "# prob_arresto_condicional.plot(kind='bar', x='race', y='probability', stacked=True)\n",
    "\n",
    "# # Personalizar el gráfico\n",
    "# plt.xlabel('Raza')\n",
    "# plt.ylabel('Probabilidad de Arresto')\n",
    "# plt.title('Probabilidad de Arresto condicional al Género y a la Raza')\n",
    "\n",
    "# # Mostrar el gráfico\n",
    "# plt.show()\n",
    "probabilidad_condicional\n",
    "prob_prior_genero"
   ]
  }
 ],
 "metadata": {
  "kernelspec": {
   "display_name": "Python 3 (ipykernel)",
   "language": "python",
   "name": "python3"
  },
  "language_info": {
   "codemirror_mode": {
    "name": "ipython",
    "version": 3
   },
   "file_extension": ".py",
   "mimetype": "text/x-python",
   "name": "python",
   "nbconvert_exporter": "python",
   "pygments_lexer": "ipython3",
   "version": "3.9.12"
  }
 },
 "nbformat": 4,
 "nbformat_minor": 5
}
