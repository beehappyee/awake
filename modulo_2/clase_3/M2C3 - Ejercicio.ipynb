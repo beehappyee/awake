{
 "cells": [
  {
   "cell_type": "code",
   "execution_count": 140,
   "metadata": {
    "collapsed": true,
    "ExecuteTime": {
     "start_time": "2023-05-01T15:25:34.170523Z",
     "end_time": "2023-05-01T15:25:34.185514Z"
    }
   },
   "outputs": [],
   "source": [
    "import math\n",
    "import numpy as np\n",
    "import pandas as pd"
   ]
  },
  {
   "cell_type": "code",
   "execution_count": 141,
   "outputs": [
    {
     "name": "stdout",
     "output_type": "stream",
     "text": [
      "                   Nombre  Calificacion   Precio\n",
      "0                 Cuphead           100   180.00\n",
      "1            Doom eternal            99  1400.00\n",
      "2       Horizon Zero Dawn            90   450.70\n",
      "3  Resident Evil 2 Remake            95   450.88\n",
      "4     Super Mario Odyssey            90  1700.05\n",
      "5               Minecraft            95   550.54\n",
      "Mean of price:  788.695\n",
      "Mean of score:  94.83333333333333\n"
     ]
    }
   ],
   "source": [
    "# Crear un programa que sea capaz de leer el archivo videojuegos.csv, luego sacar el promedio de los precios y el promedio de la calificación\n",
    "\n",
    "var_dataframe = pd.read_csv (filepath_or_buffer = 'videojuegos_1.csv')\n",
    "\n",
    "print (var_dataframe)\n",
    "\n",
    "var_price = var_dataframe ['Precio'].mean ()\n",
    "var_score = var_dataframe ['Calificacion'].mean ()\n",
    "\n",
    "print (\"Mean of price: \", var_price)\n",
    "print (\"Mean of score: \", var_score)"
   ],
   "metadata": {
    "collapsed": false,
    "ExecuteTime": {
     "start_time": "2023-05-01T15:25:34.183516Z",
     "end_time": "2023-05-01T15:25:34.208500Z"
    }
   }
  },
  {
   "cell_type": "code",
   "execution_count": 142,
   "outputs": [
    {
     "name": "stdout",
     "output_type": "stream",
     "text": [
      "                Nombre  Año              Consola  Calificacion\n",
      "0  The Legend of Zelda   86  Famicom Disk System           3.5\n",
      "1        Double Dragon   87               Arcade           3.7\n",
      "2  The Legend of Zelda   88                  NES           4.3\n",
      "4          Curse of Ra   82        Commodore PET           3.0\n",
      "              Nombre  Año   Consola  Calificacion\n",
      "3  Halo 5: Guardians   15  Xbox One           4.0\n",
      "5      Battlefield 1   16  Xbox One           4.8\n"
     ]
    }
   ],
   "source": [
    "# a) La función juegosConsolas(nomArchivo, categoria, decada) que recibe el nombre del archivo con la información de los videojuegos, una categoría y número de cuatro dígitos representando una década de años. La función retorna una tupla con 2 elementos. El primer elemento es la lista con los valores únicos de todos los juegos de esa década para esa categoría. El segundo elemento es la lista con valores únicos de todas las consolas que tienen juegos para esa década y categoría\n",
    "\n",
    "def juegosConsolas (nomArchivo, categoria, decada):\n",
    "\n",
    "    var_dataframe = pd.read_csv (filepath_or_buffer = nomArchivo)\n",
    "\n",
    "    if decada >= 2000:\n",
    "\n",
    "        var_decade_initial = decada - 2000\n",
    "        var_decade_final = decada - 2000 + 10\n",
    "\n",
    "    else:\n",
    "\n",
    "        var_decade_initial = decada - 1900\n",
    "        var_decade_final = decada - 1900 + 10\n",
    "\n",
    "    var_decade_dataframe = var_dataframe.query (f'Año >= {var_decade_initial} and Año < {var_decade_final}')\n",
    "\n",
    "    var_console_dataframe = var_dataframe.query (f'Consola == \"{categoria}\"')\n",
    "\n",
    "    return var_decade_dataframe, var_console_dataframe\n",
    "\n",
    "var_result = juegosConsolas ('videojuegos_2.csv', 'Xbox One', 1980)\n",
    "\n",
    "print (var_result[0])\n",
    "print (var_result[1])"
   ],
   "metadata": {
    "collapsed": false,
    "ExecuteTime": {
     "start_time": "2023-05-01T15:25:34.215497Z",
     "end_time": "2023-05-01T15:25:34.280979Z"
    }
   }
  },
  {
   "cell_type": "code",
   "execution_count": 143,
   "outputs": [
    {
     "name": "stdout",
     "output_type": "stream",
     "text": [
      "                    The Legend of Zelda Double Dragon Curse of Ra  \\\n",
      "Famicom Disk System                 3.5           0.0         0.0   \n",
      "Arcade                              0.0           3.7         0.0   \n",
      "NES                                 4.3           0.0         0.0   \n",
      "Commodore PET                       0.0           0.0         3.0   \n",
      "Xbox One                            0.0           0.0         0.0   \n",
      "\n",
      "                    Halo 5: Guardians Battlefield 1  \n",
      "Famicom Disk System               0.0           0.0  \n",
      "Arcade                            0.0           0.0  \n",
      "NES                               0.0           0.0  \n",
      "Commodore PET                     0.0           0.0  \n",
      "Xbox One                          4.0           4.8  \n"
     ]
    }
   ],
   "source": [
    "# b) La función crearMatriz(nomArchivo, categoria, decada) que recibe el nombre del archivo con la información de los videojuegos, el nombre de una categoría de videojuegos y un número de cuatro dígitos representando una década de años. La función deberá leer el archivo y retorna una matriz donde las filas representan los juegos de categoría para la década , las columnas representan las consolas que tienen juegos de categoría para la década y las celdas son las calificaciones de cada juego para cada consola. Si un juego no existe para una consola, su calificación deberá ser cero (0)\n",
    "\n",
    "def crearMatriz (nomArchivo, categoria, decada):\n",
    "\n",
    "    var_dataframe = pd.read_csv (filepath_or_buffer = nomArchivo)\n",
    "\n",
    "    if decada >= 2000:\n",
    "\n",
    "        var_decade_initial = decada - 2000\n",
    "        var_decade_final = decada - 2000 + 10\n",
    "\n",
    "    else:\n",
    "\n",
    "        var_decade_initial = decada - 1900\n",
    "        var_decade_final = decada - 1900 + 10\n",
    "\n",
    "    var_decade_dataframe = var_dataframe.query (f'Año >= {var_decade_initial} and Año < {var_decade_final}')\n",
    "\n",
    "    var_console_dataframe = var_decade_dataframe ['Consola'].unique ()\n",
    "\n",
    "    var_game_dataframe = var_decade_dataframe ['Nombre'].unique ()\n",
    "\n",
    "    var_matrix_dataframe = pd.DataFrame (np.zeros ((len (var_console_dataframe), len (var_game_dataframe))), index = var_console_dataframe, columns = var_game_dataframe)\n",
    "\n",
    "    for _, var_row in var_dataframe.iterrows ():\n",
    "\n",
    "        var_matrix_dataframe.loc [var_row ['Consola'], var_row ['Nombre']] = str (var_row ['Calificacion'])\n",
    "\n",
    "    var_matrix_dataframe = var_matrix_dataframe.fillna (0.0)\n",
    "\n",
    "    return var_matrix_dataframe\n",
    "\n",
    "var_result = crearMatriz ('videojuegos_2.csv', 'Xbox One', 1980)\n",
    "\n",
    "print (var_result)"
   ],
   "metadata": {
    "collapsed": false,
    "ExecuteTime": {
     "start_time": "2023-05-01T15:25:34.265986Z",
     "end_time": "2023-05-01T15:25:34.343938Z"
    }
   }
  },
  {
   "cell_type": "code",
   "execution_count": 144,
   "outputs": [],
   "source": [
    "# P: ¿Cómo obtenemos datos desde CSV?\n",
    "# R: Utilizando la función data = pd.read_csv ('archivo.csv')\n",
    "\n",
    "# P: ¿Cómo obtenemos datos desde Excel?\n",
    "# R: Utilizando la función data = pd.read_excel ('archivo.xlsx', sheet_name='nombre_de_la_hoja')"
   ],
   "metadata": {
    "collapsed": false,
    "ExecuteTime": {
     "start_time": "2023-05-01T15:25:34.306961Z",
     "end_time": "2023-05-01T15:25:34.354940Z"
    }
   }
  }
 ],
 "metadata": {
  "kernelspec": {
   "display_name": "Python 3",
   "language": "python",
   "name": "python3"
  },
  "language_info": {
   "codemirror_mode": {
    "name": "ipython",
    "version": 2
   },
   "file_extension": ".py",
   "mimetype": "text/x-python",
   "name": "python",
   "nbconvert_exporter": "python",
   "pygments_lexer": "ipython2",
   "version": "2.7.6"
  }
 },
 "nbformat": 4,
 "nbformat_minor": 0
}
