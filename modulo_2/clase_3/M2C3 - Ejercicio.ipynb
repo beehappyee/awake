{
 "cells": [
  {
   "cell_type": "code",
   "execution_count": 2,
   "metadata": {
    "collapsed": true,
    "ExecuteTime": {
     "start_time": "2023-04-29T19:13:37.450440Z",
     "end_time": "2023-04-29T19:13:37.459970Z"
    }
   },
   "outputs": [],
   "source": [
    "import pandas as pd"
   ]
  },
  {
   "cell_type": "code",
   "execution_count": 4,
   "outputs": [
    {
     "name": "stdout",
     "output_type": "stream",
     "text": [
      "                   Nombre  Calificacion   Precio\n",
      "0                 Cuphead           100   180.00\n",
      "1            Doom eternal            99  1400.00\n",
      "2       Horizon Zero Dawn            90   450.70\n",
      "3  Resident Evil 2 Remake            95   450.88\n",
      "4     Super Mario Odyssey            90  1700.05\n",
      "5               Minecraft            95   550.54\n",
      "Mean of price:  788.695\n",
      "Mean of score:  94.83333333333333\n"
     ]
    }
   ],
   "source": [
    "# Crear un programa que sea capaz de leer el archivo videojuegos.csv, luego sacar el promedio de los precios y el promedio de la calificación\n",
    "\n",
    "var_dataframe = pd.read_csv ('videojuegos_1.csv')\n",
    "\n",
    "print (var_dataframe)\n",
    "\n",
    "var_price = var_dataframe ['Precio'].mean ()\n",
    "var_score = var_dataframe ['Calificacion'].mean ()\n",
    "\n",
    "print (\"Mean of price: \", var_price)\n",
    "print (\"Mean of score: \", var_score)"
   ],
   "metadata": {
    "collapsed": false,
    "ExecuteTime": {
     "start_time": "2023-04-29T19:16:58.540953Z",
     "end_time": "2023-04-29T19:16:58.566240Z"
    }
   }
  },
  {
   "cell_type": "code",
   "execution_count": 3,
   "outputs": [],
   "source": [
    "# Se tiene el archivo videojuegos2.csv con información sobre todo el contenido de su biblioteca de videojuegos. Note que un juego aparecerá listado en el archivo una vez por cada consola en la que fue lanzado.\n",
    "# La categoría del juego se especifica siempre en el primer Tag. Por ejemplo, Double Dragon pertenece a la categoría Beat-‘em up\n",
    "\n"
   ],
   "metadata": {
    "collapsed": false,
    "ExecuteTime": {
     "start_time": "2023-04-29T19:13:37.540647Z",
     "end_time": "2023-04-29T19:13:37.578250Z"
    }
   }
  },
  {
   "cell_type": "code",
   "execution_count": null,
   "outputs": [],
   "source": [
    "# P: ¿Cómo obtenemos datos desde CSV?\n",
    "# R: Utilizando la función data = pd.read_csv ('archivo.csv')\n",
    "\n",
    "# P: ¿Cómo obtenemos datos desde Excel?\n",
    "# R: Utilizando la función data = pd.read_excel ('archivo.xlsx', sheet_name='nombre_de_la_hoja')"
   ],
   "metadata": {
    "collapsed": false
   }
  }
 ],
 "metadata": {
  "kernelspec": {
   "display_name": "Python 3",
   "language": "python",
   "name": "python3"
  },
  "language_info": {
   "codemirror_mode": {
    "name": "ipython",
    "version": 2
   },
   "file_extension": ".py",
   "mimetype": "text/x-python",
   "name": "python",
   "nbconvert_exporter": "python",
   "pygments_lexer": "ipython2",
   "version": "2.7.6"
  }
 },
 "nbformat": 4,
 "nbformat_minor": 0
}
