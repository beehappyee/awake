{
 "cells": [
  {
   "cell_type": "code",
   "execution_count": 24,
   "metadata": {
    "collapsed": true,
    "ExecuteTime": {
     "start_time": "2023-04-29T19:06:07.896368Z",
     "end_time": "2023-04-29T19:06:07.946016Z"
    }
   },
   "outputs": [],
   "source": [
    "import pandas as pd\n",
    "import random\n",
    "import string"
   ]
  },
  {
   "cell_type": "code",
   "execution_count": 26,
   "outputs": [],
   "source": [
    "# Funciones intermedias para generar los diccionarios de prueba\n",
    "\n",
    "var_name_length = 10\n",
    "var_students_length = 10\n",
    "\n",
    "def get_name ():\n",
    "\n",
    "    var_letters = ''.join (set (string.ascii_lowercase) - set (\"aeiou\"))\n",
    "\n",
    "    var_name = ''.join (random.choice (var_letters) for _ in range (var_name_length))\n",
    "\n",
    "    return var_name\n",
    "\n",
    "def get_dictionary ():\n",
    "\n",
    "    var_result = {}\n",
    "\n",
    "    for var_offset in range (var_students_length):\n",
    "\n",
    "        var_name = get_name ()\n",
    "\n",
    "        var_value = random.randint (0, 100)\n",
    "\n",
    "        var_result [var_name] = var_value\n",
    "\n",
    "    return var_result\n",
    "\n"
   ],
   "metadata": {
    "collapsed": false,
    "ExecuteTime": {
     "start_time": "2023-04-29T19:06:15.383928Z",
     "end_time": "2023-04-29T19:06:15.436832Z"
    }
   }
  },
  {
   "cell_type": "code",
   "execution_count": 25,
   "outputs": [
    {
     "name": "stdout",
     "output_type": "stream",
     "text": [
      "      sales  discount  final\n",
      "2000    100      10.0   90.0\n",
      "2001    200      20.0  180.0\n",
      "2002    100      10.0   90.0\n"
     ]
    }
   ],
   "source": [
    "# Escribir un programa que pregunte al usuario por las ventas de un rango de años y muestre por pantalla una serie con los datos de las ventas indexada por los años, antes y después de aplicarles un descuento del 10%\n",
    "\n",
    "var_discount = 10\n",
    "\n",
    "var_start = int (input ('Staring year: '))\n",
    "var_end = int (input ('Ending year: '))\n",
    "\n",
    "var_range = list (range (var_start, var_end + 1))\n",
    "\n",
    "var_sales = []\n",
    "\n",
    "for var_offset in var_range:\n",
    "\n",
    "    var_incoming = int (input (f'Sales by year {var_offset}: '))\n",
    "\n",
    "    var_sales.append (var_incoming)\n",
    "\n",
    "\n",
    "var_dataframe = pd.DataFrame ({'sales': var_sales}, index = var_range)\n",
    "\n",
    "var_dataframe ['discount'] = var_dataframe ['sales'] * var_discount / 100\n",
    "var_dataframe ['final'] = var_dataframe ['sales'] - var_dataframe ['discount']\n",
    "\n",
    "print (var_dataframe)"
   ],
   "metadata": {
    "collapsed": false
   }
  },
  {
   "cell_type": "code",
   "execution_count": 27,
   "outputs": [
    {
     "name": "stdout",
     "output_type": "stream",
     "text": [
      "min     4.000000\n",
      "max    91.000000\n",
      "avg    53.600000\n",
      "std    26.617455\n",
      "dtype: float64\n"
     ]
    }
   ],
   "source": [
    "# Escribir una función que reciba un diccionario con las notas de los alumnos en curso en un examen y devuelva una serie con la nota mínima, la máxima, media y la desviación típica\n",
    "\n",
    "def get_statistics (in_dictionary):\n",
    "\n",
    "    var_dataframe = pd.DataFrame (list (in_dictionary.items ()), columns= ['student', 'score'])\n",
    "\n",
    "    var_min = var_dataframe ['score'].min ()\n",
    "    var_max = var_dataframe ['score'].max ()\n",
    "    var_avg = var_dataframe ['score'].mean ()\n",
    "    var_std = var_dataframe ['score'].std ()\n",
    "\n",
    "    var_result = pd.Series ({\n",
    "        'min': var_min,\n",
    "        'max': var_max,\n",
    "        'avg': var_avg,\n",
    "        'std': var_std\n",
    "    })\n",
    "\n",
    "    return var_result\n",
    "\n",
    "var_dictionary = get_dictionary ()\n",
    "\n",
    "var_statistics = get_statistics (var_dictionary)\n",
    "\n",
    "print (var_statistics)"
   ],
   "metadata": {
    "collapsed": false,
    "ExecuteTime": {
     "start_time": "2023-04-29T19:06:15.422385Z",
     "end_time": "2023-04-29T19:06:15.454354Z"
    }
   }
  },
  {
   "cell_type": "code",
   "execution_count": 28,
   "outputs": [
    {
     "name": "stdout",
     "output_type": "stream",
     "text": [
      "vcymzsdbdk    100\n",
      "wwqzyvcnbc     97\n",
      "yszxcbtwvt     94\n",
      "kxmzjzvnst     88\n",
      "zmcfrwtqvv     80\n",
      "dtype: int64\n"
     ]
    }
   ],
   "source": [
    "#  Escribir una función que reciba una diccionario con las notas de los alumnos en curso en un examen y devuelva una serie con las notas de los alumnos aprobados ordenadas de mayor a menor\n",
    "\n",
    "var_threshold = 60\n",
    "\n",
    "def get_approved (var_dictionary):\n",
    "\n",
    "    var_scores = pd.Series (var_dictionary)\n",
    "\n",
    "    var_approved = var_scores [var_scores >= var_threshold]\n",
    "\n",
    "    var_approved_sorted = var_approved.sort_values (ascending = False)\n",
    "\n",
    "    return var_approved_sorted\n",
    "\n",
    "var_dictionary = get_dictionary ()\n",
    "\n",
    "var_statistics = get_approved (var_dictionary)\n",
    "\n",
    "print (var_statistics)"
   ],
   "metadata": {
    "collapsed": false,
    "ExecuteTime": {
     "start_time": "2023-04-29T19:06:15.446347Z",
     "end_time": "2023-04-29T19:06:15.530751Z"
    }
   }
  },
  {
   "cell_type": "code",
   "execution_count": 29,
   "outputs": [
    {
     "name": "stdout",
     "output_type": "stream",
     "text": [
      "       Mes  Ventas  Gastos\n",
      "0    Enero   30500   22000\n",
      "1  Febrero   35600   23400\n",
      "2    Marzo   28300   18100\n",
      "3    Abril   33900   20700\n"
     ]
    }
   ],
   "source": [
    "# Escribir programa que genere y muestre por pantalla un DataFrame con los datos de la tabla siguiente:\n",
    "#   Mes     Ventas  Gastos\n",
    "#   Enero   30500   22000\n",
    "#   Febrero 35600   23400\n",
    "#   Marzo   28300   18100\n",
    "#   Abril   33900   20700\n",
    "\n",
    "var_incoming = {'Mes': ['Enero', 'Febrero', 'Marzo', 'Abril'],\n",
    "         'Ventas': [30500, 35600, 28300, 33900],\n",
    "         'Gastos': [22000, 23400, 18100, 20700]}\n",
    "\n",
    "var_dataframe = pd.DataFrame (var_incoming)\n",
    "\n",
    "print (var_dataframe)"
   ],
   "metadata": {
    "collapsed": false,
    "ExecuteTime": {
     "start_time": "2023-04-29T19:06:15.474433Z",
     "end_time": "2023-04-29T19:06:15.544310Z"
    }
   }
  },
  {
   "cell_type": "code",
   "execution_count": null,
   "outputs": [],
   "source": [
    "# P: ¿Qué es la librería Pandas?\n",
    "# R: Es una biblioteca de Python que se utiliza principalmente para el análisis de datos y la manipulación de conjuntos de datos estructurados\n",
    "\n",
    "# P: ¿Qué son los DataFrame?\n",
    "# R: Es una estructura de datos tabular bidimensional que consta de filas y columnas, similar a una hoja de cálculo de Excel o una tabla en una base de datos"
   ],
   "metadata": {
    "collapsed": false
   }
  }
 ],
 "metadata": {
  "kernelspec": {
   "display_name": "Python 3",
   "language": "python",
   "name": "python3"
  },
  "language_info": {
   "codemirror_mode": {
    "name": "ipython",
    "version": 2
   },
   "file_extension": ".py",
   "mimetype": "text/x-python",
   "name": "python",
   "nbconvert_exporter": "python",
   "pygments_lexer": "ipython2",
   "version": "2.7.6"
  }
 },
 "nbformat": 4,
 "nbformat_minor": 0
}
