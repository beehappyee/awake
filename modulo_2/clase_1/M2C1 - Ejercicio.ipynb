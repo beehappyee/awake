{
 "cells": [
  {
   "cell_type": "code",
   "execution_count": 14,
   "outputs": [],
   "source": [
    "import numpy as np"
   ],
   "metadata": {
    "collapsed": false,
    "ExecuteTime": {
     "start_time": "2023-04-29T18:10:33.326079Z",
     "end_time": "2023-04-29T18:10:33.347642Z"
    }
   }
  },
  {
   "cell_type": "code",
   "execution_count": 15,
   "outputs": [
    {
     "name": "stdout",
     "output_type": "stream",
     "text": [
      "[[129 914 400 266]\n",
      " [140 877 367 484]\n",
      " [932  68 582 524]\n",
      " [885  20  43 779]]\n",
      "[[414 249 368 634]\n",
      " [770 659 368 516]\n",
      " [940 635 990 770]\n",
      " [ 71 108 764 287]]\n",
      "[[ 543 1163  768  900]\n",
      " [ 910 1536  735 1000]\n",
      " [1872  703 1572 1294]\n",
      " [ 956  128  807 1066]]\n"
     ]
    }
   ],
   "source": [
    "# Dadas 2 matrices con dimensiones similares, ¿cómo obtener una salida de matriz en la que cada elemento es una suma de elementos de las 2 matrices? (solo puede usar numpy como librería, si realiza la matriz con otro paquete el ejercicio no es válido)\n",
    "\n",
    "var_rows = 4\n",
    "var_cols = 4\n",
    "\n",
    "var_random_matrix_1 = np.random.randint (0, 1000, size = (var_rows, var_cols))\n",
    "var_random_matrix_2 = np.random.randint (0, 1000, size = (var_rows, var_cols))\n",
    "\n",
    "var_summed_matrix = np.add (var_random_matrix_1, var_random_matrix_2)\n",
    "\n",
    "print (var_random_matrix_1)\n",
    "print (var_random_matrix_2)\n",
    "print (var_summed_matrix)"
   ],
   "metadata": {
    "collapsed": false,
    "ExecuteTime": {
     "start_time": "2023-04-29T18:10:33.343135Z",
     "end_time": "2023-04-29T18:10:33.378749Z"
    }
   }
  },
  {
   "cell_type": "code",
   "execution_count": 16,
   "outputs": [
    {
     "name": "stdout",
     "output_type": "stream",
     "text": [
      "[[1. 0. 0. 0.]\n",
      " [0. 1. 0. 0.]\n",
      " [0. 0. 1. 0.]\n",
      " [0. 0. 0. 1.]]\n"
     ]
    }
   ],
   "source": [
    "# Cree una matriz de identidad de dimensión 4\n",
    "\n",
    "var_rows = 4\n",
    "\n",
    "var_identity_matrix = np.eye (var_rows)\n",
    "\n",
    "print (var_identity_matrix)"
   ],
   "metadata": {
    "collapsed": false,
    "ExecuteTime": {
     "start_time": "2023-04-29T18:10:33.356678Z",
     "end_time": "2023-04-29T18:10:33.379749Z"
    }
   }
  },
  {
   "cell_type": "code",
   "execution_count": 17,
   "outputs": [
    {
     "name": "stdout",
     "output_type": "stream",
     "text": [
      "[[1 0 0 1]\n",
      " [0 1 0 0]\n",
      " [1 0 1 1]\n",
      " [0 0 0 1]]\n",
      "[[ True False False  True]\n",
      " [False  True False False]\n",
      " [ True False  True  True]\n",
      " [False False False  True]]\n"
     ]
    }
   ],
   "source": [
    "# Convierte una matriz numpy binaria (que contiene solo 0 y 1) en una matriz numpy booleana\n",
    "\n",
    "var_rows = 4\n",
    "var_cols = 4\n",
    "\n",
    "var_random_matrix = np.random.randint (0, 2, size = (var_rows, var_cols))\n",
    "\n",
    "print (var_random_matrix)\n",
    "\n",
    "var_random_matrix = np.asarray (var_random_matrix, dtype = bool)\n",
    "\n",
    "print (var_random_matrix)"
   ],
   "metadata": {
    "collapsed": false,
    "ExecuteTime": {
     "start_time": "2023-04-29T18:10:33.375731Z",
     "end_time": "2023-04-29T18:10:33.401792Z"
    }
   }
  },
  {
   "cell_type": "code",
   "execution_count": 18,
   "outputs": [
    {
     "name": "stdout",
     "output_type": "stream",
     "text": [
      "[  0   2   4   6   8  10  12  14  16  18  20  22  24  26  28  30  32  34\n",
      "  36  38  40  42  44  46  48  50  52  54  56  58  60  62  64  66  68  70\n",
      "  72  74  76  78  80  82  84  86  88  90  92  94  96  98 100 102 104 106\n",
      " 108 110 112 114 116 118 120 122 124 126 128 130 132 134 136 138 140 142\n",
      " 144 146 148 150 152 154 156 158 160 162 164 166 168 170 172 174 176 178\n",
      " 180 182 184 186 188 190 192 194 196 198 200 202 204 206 208 210 212 214\n",
      " 216 218 220 222 224 226 228 230 232 234 236 238 240 242 244 246 248 250\n",
      " 252 254 256 258 260 262 264 266 268 270 272 274 276 278 280 282 284 286\n",
      " 288 290 292 294 296 298 300 302 304 306 308 310 312 314 316 318 320 322\n",
      " 324 326 328 330 332 334 336 338 340 342 344 346 348 350 352 354 356 358\n",
      " 360 362 364 366 368 370 372 374 376 378 380 382 384 386 388 390 392 394\n",
      " 396 398 400 402 404 406 408 410 412 414 416 418 420 422 424 426 428 430\n",
      " 432 434 436 438 440 442 444 446 448 450 452 454 456 458 460 462 464 466\n",
      " 468 470 472 474 476 478 480 482 484 486 488 490 492 494 496 498 500 502\n",
      " 504 506 508 510 512 514 516 518 520 522 524 526 528 530 532 534 536 538\n",
      " 540 542 544 546 548 550 552 554 556 558 560 562 564 566 568 570 572 574\n",
      " 576 578 580 582 584 586 588 590 592 594 596 598 600 602 604 606 608 610\n",
      " 612 614 616 618 620 622 624 626 628 630 632 634 636 638 640 642 644 646\n",
      " 648 650 652 654 656 658 660 662 664 666 668 670 672 674 676 678 680 682\n",
      " 684 686 688 690 692 694 696 698 700 702 704 706 708 710 712 714 716 718\n",
      " 720 722 724 726 728 730 732 734 736 738 740 742 744 746 748 750 752 754\n",
      " 756 758 760 762 764 766 768 770 772 774 776 778 780 782 784 786 788 790\n",
      " 792 794 796 798 800 802 804 806 808 810 812 814 816 818 820 822 824 826\n",
      " 828 830 832 834 836 838 840 842 844 846 848 850 852 854 856 858 860 862\n",
      " 864 866 868 870 872 874 876 878 880 882 884 886 888 890 892 894 896 898\n",
      " 900 902 904 906 908 910 912 914 916 918 920 922 924 926 928 930 932 934\n",
      " 936 938 940 942 944 946 948 950 952 954 956 958 960 962 964 966 968 970\n",
      " 972 974 976 978 980 982 984 986 988 990 992 994 996 998]\n",
      "[ 0  2  4  6  8 10 12 14 16 18 20 22 24 26 28]\n",
      "[[ 0  2  4  6  8]\n",
      " [10 12 14 16 18]\n",
      " [20 22 24 26 28]]\n"
     ]
    }
   ],
   "source": [
    "# Genere una secuencia de números en forma de matriz numpy de 0 a 100 con espacios de 2 números, por ejemplo: 0, 2, 4 ...\n",
    "\n",
    "var_rows = 3\n",
    "var_cols = 5\n",
    "\n",
    "var_sequence = np.arange (0, 1000, 2)\n",
    "\n",
    "print (var_sequence)\n",
    "\n",
    "var_sequence = var_sequence[:(var_rows * var_cols)]\n",
    "\n",
    "print (var_sequence)\n",
    "\n",
    "var_sequence = var_sequence.reshape (var_rows, var_cols)\n",
    "\n",
    "print (var_sequence)"
   ],
   "metadata": {
    "collapsed": false,
    "ExecuteTime": {
     "start_time": "2023-04-29T18:10:33.405790Z",
     "end_time": "2023-04-29T18:10:33.494737Z"
    }
   }
  }
 ],
 "metadata": {
  "kernelspec": {
   "display_name": "Python 3",
   "language": "python",
   "name": "python3"
  },
  "language_info": {
   "codemirror_mode": {
    "name": "ipython",
    "version": 2
   },
   "file_extension": ".py",
   "mimetype": "text/x-python",
   "name": "python",
   "nbconvert_exporter": "python",
   "pygments_lexer": "ipython2",
   "version": "2.7.6"
  }
 },
 "nbformat": 4,
 "nbformat_minor": 0
}
