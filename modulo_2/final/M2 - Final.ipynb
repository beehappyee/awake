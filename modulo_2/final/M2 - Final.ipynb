{
 "cells": [
  {
   "cell_type": "code",
   "execution_count": 186,
   "metadata": {
    "collapsed": true,
    "ExecuteTime": {
     "start_time": "2023-05-01T06:27:35.128328Z",
     "end_time": "2023-05-01T06:27:35.156310Z"
    }
   },
   "outputs": [],
   "source": [
    "import pandas as pd"
   ]
  },
  {
   "cell_type": "code",
   "execution_count": 187,
   "outputs": [],
   "source": [
    "# Cargue los tres datasets usando pandas\n",
    "\n",
    "var_state_abbrevs = pd.read_csv ('state-abbrevs.csv', sep=';')\n",
    "var_state_area = pd.read_csv ('state-area.csv', sep=';')\n",
    "var_state_population = pd.read_csv ('state-population.csv', sep=';')"
   ],
   "metadata": {
    "collapsed": false,
    "ExecuteTime": {
     "start_time": "2023-05-01T06:27:35.147315Z",
     "end_time": "2023-05-01T06:27:35.197285Z"
    }
   }
  },
  {
   "cell_type": "code",
   "execution_count": 188,
   "outputs": [
    {
     "name": "stdout",
     "output_type": "stream",
     "text": [
      "        state abbreviation  Unnamed: 2  Unnamed: 3  Unnamed: 4  Unnamed: 5  \\\n",
      "0     Alabama           AL         NaN         NaN         NaN         NaN   \n",
      "1      Alaska           AK         NaN         NaN         NaN         NaN   \n",
      "2     Arizona           AZ         NaN         NaN         NaN         NaN   \n",
      "3    Arkansas           AR         NaN         NaN         NaN         NaN   \n",
      "4  California           CA         NaN         NaN         NaN         NaN   \n",
      "\n",
      "   Unnamed: 6  \n",
      "0         NaN  \n",
      "1         NaN  \n",
      "2         NaN  \n",
      "3         NaN  \n",
      "4         NaN  \n",
      "        state  area (sq. mi)  Unnamed: 2  Unnamed: 3  Unnamed: 4  Unnamed: 5  \\\n",
      "0     Alabama          52423         NaN         NaN         NaN         NaN   \n",
      "1      Alaska         656425         NaN         NaN         NaN         NaN   \n",
      "2     Arizona         114006         NaN         NaN         NaN         NaN   \n",
      "3    Arkansas          53182         NaN         NaN         NaN         NaN   \n",
      "4  California         163707         NaN         NaN         NaN         NaN   \n",
      "\n",
      "   Unnamed: 6  \n",
      "0         NaN  \n",
      "1         NaN  \n",
      "2         NaN  \n",
      "3         NaN  \n",
      "4         NaN  \n",
      "  state/region     ages  year  population  Unnamed: 4  Unnamed: 5  Unnamed: 6\n",
      "0           AL  under18  2012   1117489.0         NaN         NaN         NaN\n",
      "1           AL    total  2012   4817528.0         NaN         NaN         NaN\n",
      "2           AL  under18  2010   1130966.0         NaN         NaN         NaN\n",
      "3           AL    total  2010   4785570.0         NaN         NaN         NaN\n",
      "4           AL  under18  2011   1125763.0         NaN         NaN         NaN\n"
     ]
    }
   ],
   "source": [
    "#Revise los datos cargados y realice las modificaciones necesarias para empezar a trabajar\n",
    "\n",
    "print (var_state_abbrevs.head ())\n",
    "print (var_state_area.head ())\n",
    "print (var_state_population.head ())"
   ],
   "metadata": {
    "collapsed": false,
    "ExecuteTime": {
     "start_time": "2023-05-01T06:27:35.179295Z",
     "end_time": "2023-05-01T06:27:35.205280Z"
    }
   }
  },
  {
   "cell_type": "code",
   "execution_count": 189,
   "outputs": [
    {
     "name": "stdout",
     "output_type": "stream",
     "text": [
      "        state abbreviation\n",
      "0     Alabama           AL\n",
      "1      Alaska           AK\n",
      "2     Arizona           AZ\n",
      "3    Arkansas           AR\n",
      "4  California           CA\n",
      "        state  area (sq. mi)\n",
      "0     Alabama          52423\n",
      "1      Alaska         656425\n",
      "2     Arizona         114006\n",
      "3    Arkansas          53182\n",
      "4  California         163707\n",
      "  state/region     ages  year  population\n",
      "0           AL  under18  2012   1117489.0\n",
      "1           AL    total  2012   4817528.0\n",
      "2           AL  under18  2010   1130966.0\n",
      "3           AL    total  2010   4785570.0\n",
      "4           AL  under18  2011   1125763.0\n"
     ]
    }
   ],
   "source": [
    "# Elimine las columnas que no aportan información\n",
    "\n",
    "var_state_abbrevs = var_state_abbrevs.dropna (axis = 1, how = 'all')\n",
    "var_state_area = var_state_area.dropna (axis = 1, how = 'all')\n",
    "var_state_population = var_state_population.dropna (axis = 1, how = 'all')\n",
    "\n",
    "print (var_state_abbrevs.head ())\n",
    "print (var_state_area.head ())\n",
    "print (var_state_population.head ())"
   ],
   "metadata": {
    "collapsed": false,
    "ExecuteTime": {
     "start_time": "2023-05-01T06:27:35.214274Z",
     "end_time": "2023-05-01T06:27:35.297225Z"
    }
   }
  },
  {
   "cell_type": "code",
   "execution_count": 190,
   "outputs": [
    {
     "name": "stdout",
     "output_type": "stream",
     "text": [
      "     state/region     ages  year   population\n",
      "0              AL  under18  2012    1117489.0\n",
      "1              AL    total  2012    4817528.0\n",
      "2              AL  under18  2010    1130966.0\n",
      "3              AL    total  2010    4785570.0\n",
      "4              AL  under18  2011    1125763.0\n",
      "...           ...      ...   ...          ...\n",
      "2539          USA    total  2010  309326295.0\n",
      "2540          USA  under18  2011   73902222.0\n",
      "2541          USA    total  2011  311582564.0\n",
      "2542          USA  under18  2012   73708179.0\n",
      "2543          USA    total  2012  313873685.0\n",
      "\n",
      "[2544 rows x 4 columns]\n",
      "<pandas.core.groupby.generic.DataFrameGroupBy object at 0x00000215FCB90CA0>\n",
      "                        year                      population             \\\n",
      "                        mean   min   max count          mean        min   \n",
      "state/region ages                                                         \n",
      "AK           total    2001.5  1990  2013    24  6.462048e+05   553290.0   \n",
      "             under18  2001.5  1990  2013    24  1.866730e+05   177502.0   \n",
      "AL           total    2001.5  1990  2013    24  4.484528e+06  4050055.0   \n",
      "             under18  2001.5  1990  2013    24  1.111197e+06  1050041.0   \n",
      "AR           total    2001.5  1990  2013    24  2.693178e+06  2356586.0   \n",
      "...                      ...   ...   ...   ...           ...        ...   \n",
      "WI           under18  2001.5  1990  2013    24  1.344394e+06  1302869.0   \n",
      "WV           total    2001.5  1990  2013    24  1.823426e+06  1792548.0   \n",
      "             under18  2001.5  1990  2013    24  4.049168e+05   381678.0   \n",
      "WY           total    2001.5  1990  2013    24  5.103280e+05   453690.0   \n",
      "             under18  2001.5  1990  2013    24  1.322450e+05   123974.0   \n",
      "\n",
      "                                       \n",
      "                            max count  \n",
      "state/region ages                      \n",
      "AK           total     735132.0    24  \n",
      "             under18   192636.0    24  \n",
      "AL           total    4833722.0    24  \n",
      "             under18  1134927.0    24  \n",
      "AR           total    2959373.0    24  \n",
      "...                         ...   ...  \n",
      "WI           under18  1370440.0    24  \n",
      "WV           total    1856680.0    24  \n",
      "             under18   436797.0    24  \n",
      "WY           total     582658.0    24  \n",
      "             under18   137733.0    24  \n",
      "\n",
      "[106 rows x 8 columns]\n"
     ]
    }
   ],
   "source": [
    "# Agrupe por state/region y ages, para luego agregar usando promedio, mínimo, máximo y contar\n",
    "\n",
    "print (var_state_population)\n",
    "\n",
    "var_state_population_grouped = var_state_population.groupby (['state/region', 'ages'])\n",
    "\n",
    "print (var_state_population_grouped)\n",
    "\n",
    "var_state_population_grouped = var_state_population_grouped.agg (['mean', 'min', 'max', 'count'])\n",
    "\n",
    "print (var_state_population_grouped)"
   ],
   "metadata": {
    "collapsed": false,
    "ExecuteTime": {
     "start_time": "2023-05-01T06:27:35.245256Z",
     "end_time": "2023-05-01T06:27:35.307216Z"
    }
   }
  },
  {
   "cell_type": "code",
   "execution_count": 191,
   "outputs": [
    {
     "name": "stdout",
     "output_type": "stream",
     "text": [
      "(51, 2)\n",
      "Empty DataFrame\n",
      "Columns: [state, abbreviation]\n",
      "Index: []\n",
      "(52, 2)\n",
      "          state  area (sq. mi)\n",
      "51  Puerto Rico           3515\n",
      "                   state state/region  area (sq. mi)\n",
      "0                Alabama           AL          52423\n",
      "1                 Alaska           AK         656425\n",
      "2                Arizona           AZ         114006\n",
      "3               Arkansas           AR          53182\n",
      "4             California           CA         163707\n",
      "5               Colorado           CO         104100\n",
      "6            Connecticut           CT           5544\n",
      "7               Delaware           DE           1954\n",
      "8   District of Columbia           DC             68\n",
      "9                Florida           FL          65758\n",
      "10               Georgia           GA          59441\n",
      "11                Hawaii           HI          10932\n",
      "12                 Idaho           ID          83574\n",
      "13              Illinois           IL          57918\n",
      "14               Indiana           IN          36420\n",
      "15                  Iowa           IA          56276\n",
      "16                Kansas           KS          82282\n",
      "17              Kentucky           KY          40411\n",
      "18             Louisiana           LA          51843\n",
      "19                 Maine           ME          35387\n",
      "20               Montana           MT         147046\n",
      "21              Nebraska           NE          77358\n",
      "22                Nevada           NV         110567\n",
      "23         New Hampshire           NH           9351\n",
      "24            New Jersey           NJ           8722\n",
      "25            New Mexico           NM         121593\n",
      "26              New York           NY          54475\n",
      "27        North Carolina           NC          53821\n",
      "28          North Dakota           ND          70704\n",
      "29                  Ohio           OH          44828\n",
      "30              Oklahoma           OK          69903\n",
      "31                Oregon           OR          98386\n",
      "32              Maryland           MD          12407\n",
      "33         Massachusetts           MA          10555\n",
      "34              Michigan           MI          96810\n",
      "35             Minnesota           MN          86943\n",
      "36           Mississippi           MS          48434\n",
      "37              Missouri           MO          69709\n",
      "38          Pennsylvania           PA          46058\n",
      "39          Rhode Island           RI           1545\n",
      "40        South Carolina           SC          32007\n",
      "41          South Dakota           SD          77121\n",
      "42             Tennessee           TN          42146\n",
      "43                 Texas           TX         268601\n",
      "44                  Utah           UT          84904\n",
      "45               Vermont           VT           9615\n",
      "46              Virginia           VA          42769\n",
      "47            Washington           WA          71303\n",
      "48         West Virginia           WV          24231\n",
      "49             Wisconsin           WI          65503\n",
      "50               Wyoming           WY          97818\n",
      "     state/region     ages  year  population    state  area (sq. mi)\n",
      "0              AL  under18  2012   1117489.0  Alabama          52423\n",
      "1              AL    total  2012   4817528.0  Alabama          52423\n",
      "2              AL  under18  2010   1130966.0  Alabama          52423\n",
      "3              AL    total  2010   4785570.0  Alabama          52423\n",
      "4              AL  under18  2011   1125763.0  Alabama          52423\n",
      "...           ...      ...   ...         ...      ...            ...\n",
      "2443           WY  under18  1993    137458.0  Wyoming          97818\n",
      "2444           WY    total  1991    459260.0  Wyoming          97818\n",
      "2445           WY  under18  1991    136720.0  Wyoming          97818\n",
      "2446           WY  under18  1990    136078.0  Wyoming          97818\n",
      "2447           WY    total  1990    453690.0  Wyoming          97818\n",
      "\n",
      "[2448 rows x 6 columns]\n"
     ]
    }
   ],
   "source": [
    "# Forme un nuevo dataset llamado df que tenga la información de los 3 sets importados. Use las llaves necesarias\n",
    "\n",
    "# var_state_abbrevs - var_state_area\n",
    "var_not_exist_in_state_area = var_state_abbrevs [~var_state_abbrevs ['state'].isin (var_state_area ['state'])]\n",
    "\n",
    "print (var_state_abbrevs.shape)\n",
    "print (var_not_exist_in_state_area)\n",
    "\n",
    "# var_state_area - var_state_abbrevs\n",
    "var_not_exist_state_abbrevs = var_state_area [~var_state_area ['state'].isin (var_state_abbrevs ['state'])]\n",
    "\n",
    "print (var_state_area.shape)\n",
    "print (var_not_exist_state_abbrevs)\n",
    "\n",
    "# var_state_abbrevs + var_state_area by state\n",
    "var_dataframe = pd.merge (var_state_abbrevs, var_state_area, on = 'state')\n",
    "var_dataframe.rename (columns = {'abbreviation': 'state/region'}, inplace = True)\n",
    "\n",
    "print (var_dataframe)\n",
    "\n",
    "# var_state_population + var_dataframe by state/region\n",
    "var_dataframe = pd.merge (var_state_population, var_dataframe, on = 'state/region')\n",
    "\n",
    "print (var_dataframe)"
   ],
   "metadata": {
    "collapsed": false,
    "ExecuteTime": {
     "start_time": "2023-05-01T06:27:35.292228Z",
     "end_time": "2023-05-01T06:27:35.376172Z"
    }
   }
  },
  {
   "cell_type": "code",
   "execution_count": 194,
   "outputs": [
    {
     "name": "stdout",
     "output_type": "stream",
     "text": [
      "     state/region     ages  year   population\n",
      "0              AL  under18  2012    1117489.0\n",
      "1              AL    total  2012    4817528.0\n",
      "2              AL  under18  2010    1130966.0\n",
      "3              AL    total  2010    4785570.0\n",
      "4              AL  under18  2011    1125763.0\n",
      "...           ...      ...   ...          ...\n",
      "2539          USA    total  2010  309326295.0\n",
      "2540          USA  under18  2011   73902222.0\n",
      "2541          USA    total  2011  311582564.0\n",
      "2542          USA  under18  2012   73708179.0\n",
      "2543          USA    total  2012  313873685.0\n",
      "\n",
      "[2544 rows x 4 columns]\n"
     ]
    }
   ],
   "source": [
    "# Calcule la población por área para cada estado. Para esto agrupe por state/region y calcule el promedio de la población. Guarde dicha información en un data frame con las columnas 'state' y 'pop/area'(hint: puede extraer los valores de un objeto groupby, finalizando su sentencia con .values, o extraer sus etiquetas con .index\n",
    "\n",
    "var_mean_population_by_state = var_state_population.groupby ('state/region') ['population'].mean ()\n",
    "\n",
    "#print (var_mean_population_by_state)\n",
    "\n",
    "var_state_population_xxxx = pd.merge (var_state_population, var_mean_population_by_state, left_on = 'state/region', right_index = True)\n",
    "\n",
    "\n",
    "print (var_state_population)\n",
    "#print (var_state_population_xxxx)\n",
    "\n",
    "#var_state_population ['pop/area'] = var_population_by_state\n",
    "\n",
    "\n",
    "#print (var_state_population)"
   ],
   "metadata": {
    "collapsed": false,
    "ExecuteTime": {
     "start_time": "2023-05-01T06:27:55.937100Z",
     "end_time": "2023-05-01T06:27:55.970081Z"
    }
   }
  },
  {
   "cell_type": "code",
   "execution_count": 193,
   "outputs": [],
   "source": [
    "# Finalmente, cree un dataframe que posea: El estado, el área, la población, la población por área y como índice la abreviación del nombre del estado"
   ],
   "metadata": {
    "collapsed": false,
    "ExecuteTime": {
     "start_time": "2023-05-01T06:27:35.383169Z",
     "end_time": "2023-05-01T06:27:35.397161Z"
    }
   }
  }
 ],
 "metadata": {
  "kernelspec": {
   "display_name": "Python 3",
   "language": "python",
   "name": "python3"
  },
  "language_info": {
   "codemirror_mode": {
    "name": "ipython",
    "version": 2
   },
   "file_extension": ".py",
   "mimetype": "text/x-python",
   "name": "python",
   "nbconvert_exporter": "python",
   "pygments_lexer": "ipython2",
   "version": "2.7.6"
  }
 },
 "nbformat": 4,
 "nbformat_minor": 0
}
