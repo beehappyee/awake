{
 "cells": [
  {
   "cell_type": "code",
   "execution_count": 27,
   "metadata": {
    "collapsed": true,
    "ExecuteTime": {
     "start_time": "2023-05-01T03:17:34.508765Z",
     "end_time": "2023-05-01T03:17:34.525753Z"
    }
   },
   "outputs": [],
   "source": [
    "import pandas as pd\n",
    "import random"
   ]
  },
  {
   "cell_type": "code",
   "execution_count": 34,
   "outputs": [
    {
     "name": "stdout",
     "output_type": "stream",
     "text": [
      "    B   I   N   G   O\n",
      "0   5  17  32  52  62\n",
      "1   6  19  33  53  64\n",
      "2  13  26  36  54  66\n",
      "3  14  27  39  55  68\n",
      "4  15  29  40  59  75\n",
      "    B   I      N   G   O\n",
      "0   5  17     32  52  62\n",
      "1   6  19     33  53  64\n",
      "2  13  26  libre  54  66\n",
      "3  14  27     39  55  68\n",
      "4  15  29     40  59  75\n"
     ]
    }
   ],
   "source": [
    "# 1. Una Tabla de BINGO\n",
    "# Para una tarde de bingo se usarán tablas generadas con las siguientes reglas:\n",
    "# Los 5 números en cada columna son aleatorios ordenados no repetidos de acuerdo al rango asignado por columna\n",
    "# La casilla central de la tabla tiene valor marcado cero o ‘libre’\n",
    "# Realice un programa para generar una tabla de bingo.\n",
    "\n",
    "var_column_b = random.sample (range (1, 16), 5)\n",
    "var_column_i = random.sample (range (16, 31), 5)\n",
    "var_column_n = random.sample (range (31, 46), 5)\n",
    "var_column_g = random.sample (range (46, 61), 5)\n",
    "var_column_o = random.sample (range (61, 76), 5)\n",
    "\n",
    "var_column_b = sorted (var_column_b)\n",
    "var_column_i = sorted (var_column_i)\n",
    "var_column_n = sorted (var_column_n)\n",
    "var_column_g = sorted (var_column_g)\n",
    "var_column_o = sorted (var_column_o)\n",
    "\n",
    "var_dataframe = pd.DataFrame ({'B': var_column_b, 'I': var_column_i, 'N': var_column_n, 'G': var_column_g, 'O': var_column_o})\n",
    "\n",
    "print (var_dataframe)\n",
    "\n",
    "var_dataframe.at [2, 'N'] = 'libre'\n",
    "\n",
    "print (var_dataframe)"
   ],
   "metadata": {
    "collapsed": false,
    "ExecuteTime": {
     "start_time": "2023-05-01T03:21:11.132325Z",
     "end_time": "2023-05-01T03:21:11.192288Z"
    }
   }
  },
  {
   "cell_type": "code",
   "execution_count": 28,
   "outputs": [],
   "source": [
    "# P: ¿Qué son los datos perdidos en Python?\n",
    "# R: Son valores faltantes o ausentes en un conjunto de datos. En términos simples, son valores que deberían estar presentes en un conjunto de datos pero no lo están\n",
    "\n",
    "# P: ¿Cómo manipular datos perdidos?\n",
    "# R: Eliminando las filas o columnas que contienen valores perdidos usando la función dropna ()\n",
    "# R: Reemplazando los valores perdidos usando la función fillna ()\n",
    "# R: Identificando los valores perdidos usando la función isna ()\n",
    "# R: Rellenando valores perdidos en función de una condición usando la función where ()"
   ],
   "metadata": {
    "collapsed": false,
    "ExecuteTime": {
     "start_time": "2023-05-01T03:17:34.568728Z",
     "end_time": "2023-05-01T03:17:34.605705Z"
    }
   }
  }
 ],
 "metadata": {
  "kernelspec": {
   "display_name": "Python 3",
   "language": "python",
   "name": "python3"
  },
  "language_info": {
   "codemirror_mode": {
    "name": "ipython",
    "version": 2
   },
   "file_extension": ".py",
   "mimetype": "text/x-python",
   "name": "python",
   "nbconvert_exporter": "python",
   "pygments_lexer": "ipython2",
   "version": "2.7.6"
  }
 },
 "nbformat": 4,
 "nbformat_minor": 0
}
