{
 "cells": [
  {
   "cell_type": "code",
   "execution_count": 3,
   "metadata": {
    "collapsed": true,
    "ExecuteTime": {
     "start_time": "2023-04-29T19:34:59.925143Z",
     "end_time": "2023-04-29T19:34:59.956735Z"
    }
   },
   "outputs": [],
   "source": [
    "import pandas as pd"
   ]
  },
  {
   "cell_type": "code",
   "execution_count": 4,
   "outputs": [
    {
     "name": "stdout",
     "output_type": "stream",
     "text": [
      "     PassengerId  Survived  Pclass  \\\n",
      "0              1         0       3   \n",
      "1              2         1       1   \n",
      "2              3         1       3   \n",
      "3              4         1       1   \n",
      "4              5         0       3   \n",
      "..           ...       ...     ...   \n",
      "886          887         0       2   \n",
      "887          888         1       1   \n",
      "888          889         0       3   \n",
      "889          890         1       1   \n",
      "890          891         0       3   \n",
      "\n",
      "                                                  Name     Sex   Age  SibSp  \\\n",
      "0                              Braund, Mr. Owen Harris    male  22.0      1   \n",
      "1    Cumings, Mrs. John Bradley (Florence Briggs Th...  female  38.0      1   \n",
      "2                               Heikkinen, Miss. Laina  female  26.0      0   \n",
      "3         Futrelle, Mrs. Jacques Heath (Lily May Peel)  female  35.0      1   \n",
      "4                             Allen, Mr. William Henry    male  35.0      0   \n",
      "..                                                 ...     ...   ...    ...   \n",
      "886                              Montvila, Rev. Juozas    male  27.0      0   \n",
      "887                       Graham, Miss. Margaret Edith  female  19.0      0   \n",
      "888           Johnston, Miss. Catherine Helen \"Carrie\"  female   NaN      1   \n",
      "889                              Behr, Mr. Karl Howell    male  26.0      0   \n",
      "890                                Dooley, Mr. Patrick    male  32.0      0   \n",
      "\n",
      "     Parch            Ticket     Fare Cabin Embarked  \n",
      "0        0         A/5 21171   7.2500   NaN        S  \n",
      "1        0          PC 17599  71.2833   C85        C  \n",
      "2        0  STON/O2. 3101282   7.9250   NaN        S  \n",
      "3        0            113803  53.1000  C123        S  \n",
      "4        0            373450   8.0500   NaN        S  \n",
      "..     ...               ...      ...   ...      ...  \n",
      "886      0            211536  13.0000   NaN        S  \n",
      "887      0            112053  30.0000   B42        S  \n",
      "888      2        W./C. 6607  23.4500   NaN        S  \n",
      "889      0            111369  30.0000  C148        C  \n",
      "890      0            370376   7.7500   NaN        Q  \n",
      "\n",
      "[891 rows x 12 columns]\n"
     ]
    }
   ],
   "source": [
    "#El fichero titanic.csv contiene información sobre los pasajeros del Titanic. Escribir un programa con los siguientes requisitos:\n",
    "# a) Generar un DataFrame con los datos del fichero.\n",
    "\n",
    "var_dataframe = pd.read_csv ('titanic.csv')\n",
    "\n",
    "print (var_dataframe)\n"
   ],
   "metadata": {
    "collapsed": false,
    "ExecuteTime": {
     "start_time": "2023-04-29T19:34:59.933198Z",
     "end_time": "2023-04-29T19:35:00.012287Z"
    }
   }
  },
  {
   "cell_type": "code",
   "execution_count": 5,
   "outputs": [
    {
     "name": "stdout",
     "output_type": "stream",
     "text": [
      "(891, 12)\n",
      "       PassengerId    Survived      Pclass         Age       SibSp  \\\n",
      "count   891.000000  891.000000  891.000000  714.000000  891.000000   \n",
      "mean    446.000000    0.383838    2.308642   29.699118    0.523008   \n",
      "std     257.353842    0.486592    0.836071   14.526497    1.102743   \n",
      "min       1.000000    0.000000    1.000000    0.420000    0.000000   \n",
      "25%     223.500000    0.000000    2.000000   20.125000    0.000000   \n",
      "50%     446.000000    0.000000    3.000000   28.000000    0.000000   \n",
      "75%     668.500000    1.000000    3.000000   38.000000    1.000000   \n",
      "max     891.000000    1.000000    3.000000   80.000000    8.000000   \n",
      "\n",
      "            Parch        Fare  \n",
      "count  891.000000  891.000000  \n",
      "mean     0.381594   32.204208  \n",
      "std      0.806057   49.693429  \n",
      "min      0.000000    0.000000  \n",
      "25%      0.000000    7.910400  \n",
      "50%      0.000000   14.454200  \n",
      "75%      0.000000   31.000000  \n",
      "max      6.000000  512.329200  \n",
      "PassengerId      int64\n",
      "Survived         int64\n",
      "Pclass           int64\n",
      "Name            object\n",
      "Sex             object\n",
      "Age            float64\n",
      "SibSp            int64\n",
      "Parch            int64\n",
      "Ticket          object\n",
      "Fare           float64\n",
      "Cabin           object\n",
      "Embarked        object\n",
      "dtype: object\n",
      "   PassengerId  Survived  Pclass  \\\n",
      "0            1         0       3   \n",
      "1            2         1       1   \n",
      "2            3         1       3   \n",
      "3            4         1       1   \n",
      "4            5         0       3   \n",
      "5            6         0       3   \n",
      "6            7         0       1   \n",
      "7            8         0       3   \n",
      "8            9         1       3   \n",
      "9           10         1       2   \n",
      "\n",
      "                                                Name     Sex   Age  SibSp  \\\n",
      "0                            Braund, Mr. Owen Harris    male  22.0      1   \n",
      "1  Cumings, Mrs. John Bradley (Florence Briggs Th...  female  38.0      1   \n",
      "2                             Heikkinen, Miss. Laina  female  26.0      0   \n",
      "3       Futrelle, Mrs. Jacques Heath (Lily May Peel)  female  35.0      1   \n",
      "4                           Allen, Mr. William Henry    male  35.0      0   \n",
      "5                                   Moran, Mr. James    male   NaN      0   \n",
      "6                            McCarthy, Mr. Timothy J    male  54.0      0   \n",
      "7                     Palsson, Master. Gosta Leonard    male   2.0      3   \n",
      "8  Johnson, Mrs. Oscar W (Elisabeth Vilhelmina Berg)  female  27.0      0   \n",
      "9                Nasser, Mrs. Nicholas (Adele Achem)  female  14.0      1   \n",
      "\n",
      "   Parch            Ticket     Fare Cabin Embarked  \n",
      "0      0         A/5 21171   7.2500   NaN        S  \n",
      "1      0          PC 17599  71.2833   C85        C  \n",
      "2      0  STON/O2. 3101282   7.9250   NaN        S  \n",
      "3      0            113803  53.1000  C123        S  \n",
      "4      0            373450   8.0500   NaN        S  \n",
      "5      0            330877   8.4583   NaN        Q  \n",
      "6      0             17463  51.8625   E46        S  \n",
      "7      1            349909  21.0750   NaN        S  \n",
      "8      2            347742  11.1333   NaN        S  \n",
      "9      0            237736  30.0708   NaN        C  \n",
      "     PassengerId  Survived  Pclass                                      Name  \\\n",
      "881          882         0       3                        Markun, Mr. Johann   \n",
      "882          883         0       3              Dahlberg, Miss. Gerda Ulrika   \n",
      "883          884         0       2             Banfield, Mr. Frederick James   \n",
      "884          885         0       3                    Sutehall, Mr. Henry Jr   \n",
      "885          886         0       3      Rice, Mrs. William (Margaret Norton)   \n",
      "886          887         0       2                     Montvila, Rev. Juozas   \n",
      "887          888         1       1              Graham, Miss. Margaret Edith   \n",
      "888          889         0       3  Johnston, Miss. Catherine Helen \"Carrie\"   \n",
      "889          890         1       1                     Behr, Mr. Karl Howell   \n",
      "890          891         0       3                       Dooley, Mr. Patrick   \n",
      "\n",
      "        Sex   Age  SibSp  Parch            Ticket     Fare Cabin Embarked  \n",
      "881    male  33.0      0      0            349257   7.8958   NaN        S  \n",
      "882  female  22.0      0      0              7552  10.5167   NaN        S  \n",
      "883    male  28.0      0      0  C.A./SOTON 34068  10.5000   NaN        S  \n",
      "884    male  25.0      0      0   SOTON/OQ 392076   7.0500   NaN        S  \n",
      "885  female  39.0      0      5            382652  29.1250   NaN        Q  \n",
      "886    male  27.0      0      0            211536  13.0000   NaN        S  \n",
      "887  female  19.0      0      0            112053  30.0000   B42        S  \n",
      "888  female   NaN      1      2        W./C. 6607  23.4500   NaN        S  \n",
      "889    male  26.0      0      0            111369  30.0000  C148        C  \n",
      "890    male  32.0      0      0            370376   7.7500   NaN        Q  \n"
     ]
    }
   ],
   "source": [
    "# Mostrar por pantalla las dimensiones del DataFrame, el número de datos que contiene, los nombres de sus columnas y filas, los tipos de datos de las columnas, las 10 primeras filas y las 10 últimas filas\n",
    "\n",
    "print (var_dataframe.shape)\n",
    "print (var_dataframe.describe ())\n",
    "print (var_dataframe.dtypes)\n",
    "print (var_dataframe.iloc [:10])\n",
    "print (var_dataframe.iloc [-10:])"
   ],
   "metadata": {
    "collapsed": false,
    "ExecuteTime": {
     "start_time": "2023-04-29T19:34:59.994261Z",
     "end_time": "2023-04-29T19:35:00.313851Z"
    }
   }
  },
  {
   "cell_type": "code",
   "execution_count": 6,
   "outputs": [],
   "source": [
    "# Mostrar por pantalla los datos del pasajero con identificador 148"
   ],
   "metadata": {
    "collapsed": false,
    "ExecuteTime": {
     "start_time": "2023-04-29T19:35:00.252637Z",
     "end_time": "2023-04-29T19:35:00.332388Z"
    }
   }
  },
  {
   "cell_type": "code",
   "execution_count": 7,
   "outputs": [
    {
     "name": "stdout",
     "output_type": "stream",
     "text": [
      "     PassengerId  Survived  Pclass  \\\n",
      "0              1         0       3   \n",
      "2              3         1       3   \n",
      "4              5         0       3   \n",
      "6              7         0       1   \n",
      "8              9         1       3   \n",
      "..           ...       ...     ...   \n",
      "882          883         0       3   \n",
      "884          885         0       3   \n",
      "886          887         0       2   \n",
      "888          889         0       3   \n",
      "890          891         0       3   \n",
      "\n",
      "                                                  Name     Sex   Age  SibSp  \\\n",
      "0                              Braund, Mr. Owen Harris    male  22.0      1   \n",
      "2                               Heikkinen, Miss. Laina  female  26.0      0   \n",
      "4                             Allen, Mr. William Henry    male  35.0      0   \n",
      "6                              McCarthy, Mr. Timothy J    male  54.0      0   \n",
      "8    Johnson, Mrs. Oscar W (Elisabeth Vilhelmina Berg)  female  27.0      0   \n",
      "..                                                 ...     ...   ...    ...   \n",
      "882                       Dahlberg, Miss. Gerda Ulrika  female  22.0      0   \n",
      "884                             Sutehall, Mr. Henry Jr    male  25.0      0   \n",
      "886                              Montvila, Rev. Juozas    male  27.0      0   \n",
      "888           Johnston, Miss. Catherine Helen \"Carrie\"  female   NaN      1   \n",
      "890                                Dooley, Mr. Patrick    male  32.0      0   \n",
      "\n",
      "     Parch            Ticket     Fare Cabin Embarked  \n",
      "0        0         A/5 21171   7.2500   NaN        S  \n",
      "2        0  STON/O2. 3101282   7.9250   NaN        S  \n",
      "4        0            373450   8.0500   NaN        S  \n",
      "6        0             17463  51.8625   E46        S  \n",
      "8        2            347742  11.1333   NaN        S  \n",
      "..     ...               ...      ...   ...      ...  \n",
      "882      0              7552  10.5167   NaN        S  \n",
      "884      0   SOTON/OQ 392076   7.0500   NaN        S  \n",
      "886      0            211536  13.0000   NaN        S  \n",
      "888      2        W./C. 6607  23.4500   NaN        S  \n",
      "890      0            370376   7.7500   NaN        Q  \n",
      "\n",
      "[446 rows x 12 columns]\n"
     ]
    }
   ],
   "source": [
    "# Mostrar por pantalla las filas pares del DataFrame\n",
    "\n",
    "print (var_dataframe.iloc [::2])"
   ],
   "metadata": {
    "collapsed": false,
    "ExecuteTime": {
     "start_time": "2023-04-29T19:35:00.276697Z",
     "end_time": "2023-04-29T19:35:00.332893Z"
    }
   }
  },
  {
   "cell_type": "code",
   "execution_count": 8,
   "outputs": [
    {
     "name": "stdout",
     "output_type": "stream",
     "text": [
      "730                      Allen, Miss. Elisabeth Walton\n",
      "305                     Allison, Master. Hudson Trevor\n",
      "297                       Allison, Miss. Helen Loraine\n",
      "498    Allison, Mrs. Hudson J C (Bessie Waldo Daniels)\n",
      "460                                Anderson, Mr. Harry\n",
      "                            ...                       \n",
      "155                        Williams, Mr. Charles Duane\n",
      "351             Williams-Lambert, Mr. Fletcher Fellows\n",
      "55                                   Woolner, Mr. Hugh\n",
      "555                                 Wright, Mr. George\n",
      "325                           Young, Miss. Marie Grice\n",
      "Name: Name, Length: 216, dtype: object\n"
     ]
    }
   ],
   "source": [
    "# Mostrar por pantalla los nombres de las personas que iban en  primera clase ordenadas alfabéticamente\n",
    "\n",
    "print (var_dataframe [var_dataframe ['Pclass'] == 1] ['Name'].sort_values  ())"
   ],
   "metadata": {
    "collapsed": false,
    "ExecuteTime": {
     "start_time": "2023-04-29T19:35:00.319849Z",
     "end_time": "2023-04-29T19:35:00.408621Z"
    }
   }
  },
  {
   "cell_type": "code",
   "execution_count": 9,
   "outputs": [
    {
     "name": "stdout",
     "output_type": "stream",
     "text": [
      "0    0.616162\n",
      "1    0.383838\n",
      "Name: Survived, dtype: float64\n"
     ]
    }
   ],
   "source": [
    "# Mostrar por pantalla el porcentaje de personas que sobrevivieron y murieron\n",
    "\n",
    "print (var_dataframe ['Survived'].value_counts (normalize = True))"
   ],
   "metadata": {
    "collapsed": false,
    "ExecuteTime": {
     "start_time": "2023-04-29T19:35:00.351414Z",
     "end_time": "2023-04-29T19:35:00.433170Z"
    }
   }
  },
  {
   "cell_type": "code",
   "execution_count": 10,
   "outputs": [
    {
     "data": {
      "text/plain": "Pclass  Survived\n1       1           0.629630\n        0           0.370370\n2       0           0.527174\n        1           0.472826\n3       0           0.757637\n        1           0.242363\nName: Survived, dtype: float64"
     },
     "execution_count": 10,
     "metadata": {},
     "output_type": "execute_result"
    }
   ],
   "source": [
    "# Mostrar por pantalla el porcentaje de personas que sobrevivieron en cada clase\n",
    "\n",
    "var_dataframe.groupby ('Pclass') ['Survived'].value_counts (normalize = True)"
   ],
   "metadata": {
    "collapsed": false,
    "ExecuteTime": {
     "start_time": "2023-04-29T19:35:00.385545Z",
     "end_time": "2023-04-29T19:35:00.536102Z"
    }
   }
  },
  {
   "cell_type": "code",
   "execution_count": 11,
   "outputs": [
    {
     "name": "stdout",
     "output_type": "stream",
     "text": [
      "(891, 12)\n",
      "(177, 12)\n",
      "(714, 12)\n",
      "(714, 12)\n"
     ]
    }
   ],
   "source": [
    "# Eliminar del DataFrame los pasajeros con edad desconocida\n",
    "\n",
    "var_dataframe = pd.read_csv('titanic.csv')\n",
    "print(var_dataframe.shape)\n",
    "print(var_dataframe[var_dataframe['Age'].isnull()].shape)\n",
    "print(var_dataframe[var_dataframe['Age'].notnull()].shape)\n",
    "\n",
    "var_dataframe.dropna(how='all', subset=['Age'], inplace=True)\n",
    "print(var_dataframe.shape)"
   ],
   "metadata": {
    "collapsed": false,
    "ExecuteTime": {
     "start_time": "2023-04-29T19:35:00.473800Z",
     "end_time": "2023-04-29T19:35:00.560173Z"
    }
   }
  },
  {
   "cell_type": "code",
   "execution_count": 12,
   "outputs": [
    {
     "name": "stdout",
     "output_type": "stream",
     "text": [
      "27.915708812260537\n"
     ]
    }
   ],
   "source": [
    "# Mostrar por pantalla la edad media de las mujeres que viajaban en cada clase\n",
    "\n",
    "var_dataframe = pd.read_csv('titanic.csv')\n",
    "print(var_dataframe[var_dataframe['Sex'] == 'female']['Age'].mean())"
   ],
   "metadata": {
    "collapsed": false,
    "ExecuteTime": {
     "start_time": "2023-04-29T19:35:00.537107Z",
     "end_time": "2023-04-29T19:35:00.663038Z"
    }
   }
  },
  {
   "cell_type": "code",
   "execution_count": 13,
   "outputs": [
    {
     "name": "stdout",
     "output_type": "stream",
     "text": [
      "   PassengerId  Survived  Pclass  \\\n",
      "0            1         0       3   \n",
      "1            2         1       1   \n",
      "2            3         1       3   \n",
      "3            4         1       1   \n",
      "4            5         0       3   \n",
      "\n",
      "                                                Name     Sex   Age  SibSp  \\\n",
      "0                            Braund, Mr. Owen Harris    male  22.0      1   \n",
      "1  Cumings, Mrs. John Bradley (Florence Briggs Th...  female  38.0      1   \n",
      "2                             Heikkinen, Miss. Laina  female  26.0      0   \n",
      "3       Futrelle, Mrs. Jacques Heath (Lily May Peel)  female  35.0      1   \n",
      "4                           Allen, Mr. William Henry    male  35.0      0   \n",
      "\n",
      "   Parch            Ticket     Fare Cabin Embarked  is_minor  \n",
      "0      0         A/5 21171   7.2500   NaN        S     False  \n",
      "1      0          PC 17599  71.2833   C85        C     False  \n",
      "2      0  STON/O2. 3101282   7.9250   NaN        S     False  \n",
      "3      0            113803  53.1000  C123        S     False  \n",
      "4      0            373450   8.0500   NaN        S     False  \n"
     ]
    }
   ],
   "source": [
    "# Añadir una nueva columna booleana para ver si el pasajero era menor de edad o no\n",
    "\n",
    "var_dataframe = pd.read_csv('titanic.csv')\n",
    "var_dataframe['is_minor'] = var_dataframe['Age'] < 18\n",
    "print(var_dataframe.head())"
   ],
   "metadata": {
    "collapsed": false,
    "ExecuteTime": {
     "start_time": "2023-04-29T19:35:00.610807Z",
     "end_time": "2023-04-29T19:35:00.664037Z"
    }
   }
  },
  {
   "cell_type": "code",
   "execution_count": 14,
   "outputs": [
    {
     "name": "stderr",
     "output_type": "stream",
     "text": [
      "C:\\Users\\abaci\\AppData\\Local\\Temp\\ipykernel_44556\\2550277426.py:10: FutureWarning: Not prepending group keys to the result index of transform-like apply. In the future, the group keys will be included in the index, regardless of whether the applied function returns a like-indexed object.\n",
      "To preserve the previous behavior, use\n",
      "\n",
      "\t>>> .groupby(..., group_keys=False)\n",
      "\n",
      "To adopt the future behavior and silence this warning, use \n",
      "\n",
      "\t>>> .groupby(..., group_keys=True)\n",
      "  var_dataframe.groupby(['Pclass', 'is_minor'])['Survived'].value_counts(normalize=True).groupby(level=0).apply(lambda x: x / x.sum())\n"
     ]
    },
    {
     "data": {
      "text/plain": "Pclass  is_minor  Survived\n1       False     1           0.306373\n                  0           0.193627\n        True      1           0.458333\n                  0           0.041667\n2       False     0           0.295031\n                  1           0.204969\n        True      1           0.456522\n                  0           0.043478\n3       False     0           0.391041\n                  1           0.108959\n        True      0           0.314103\n                  1           0.185897\nName: Survived, dtype: float64"
     },
     "execution_count": 14,
     "metadata": {},
     "output_type": "execute_result"
    }
   ],
   "source": [
    "# Mostrar por pantalla el porcentaje de menores y mayores de edad que sobrevivieron en cada clase\n",
    "\n",
    "var_dataframe = pd.read_csv('titanic.csv')\n",
    "var_dataframe['is_minor'] = var_dataframe['Age'] < 18\n",
    "var_dataframe.groupby(['Pclass', 'is_minor'])['Survived'].value_counts(normalize=True)\n",
    "\n",
    "var_dataframe.groupby(['Pclass', 'is_minor'])['Survived'].value_counts(normalize=True)\n",
    "\n",
    "# agregar el total de sobrevivientes\n",
    "var_dataframe.groupby(['Pclass', 'is_minor'])['Survived'].value_counts(normalize=True).groupby(level=0).apply(lambda x: x / x.sum())"
   ],
   "metadata": {
    "collapsed": false,
    "ExecuteTime": {
     "start_time": "2023-04-29T19:35:00.656487Z",
     "end_time": "2023-04-29T19:35:00.766728Z"
    }
   }
  }
 ],
 "metadata": {
  "kernelspec": {
   "display_name": "Python 3",
   "language": "python",
   "name": "python3"
  },
  "language_info": {
   "codemirror_mode": {
    "name": "ipython",
    "version": 2
   },
   "file_extension": ".py",
   "mimetype": "text/x-python",
   "name": "python",
   "nbconvert_exporter": "python",
   "pygments_lexer": "ipython2",
   "version": "2.7.6"
  }
 },
 "nbformat": 4,
 "nbformat_minor": 0
}
