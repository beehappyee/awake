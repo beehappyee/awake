{
 "cells": [
  {
   "cell_type": "code",
   "execution_count": 15,
   "metadata": {
    "collapsed": true,
    "ExecuteTime": {
     "end_time": "2023-05-24T08:31:09.676493900Z",
     "start_time": "2023-05-24T08:31:09.591030100Z"
    }
   },
   "outputs": [],
   "source": [
    "import pandas as pd"
   ]
  },
  {
   "cell_type": "markdown",
   "source": [
    "Caso 1:\n",
    "Un dado está trucado, de forma que las probabilidades de obtener las distintas caras son proporcionales a los números de estas.\n",
    "Hallar:\n",
    "● La probabilidad de obtener el 6 en un lanzamiento."
   ],
   "metadata": {
    "collapsed": false
   }
  },
  {
   "cell_type": "code",
   "execution_count": 16,
   "outputs": [
    {
     "name": "stdout",
     "output_type": "stream",
     "text": [
      "21\n"
     ]
    }
   ],
   "source": [
    "var_dataset = {\n",
    "    'edge': [1, 2, 3, 4, 5, 6],\n",
    "    'frequency': [1, 2, 3, 4, 5, 6]\n",
    "}\n",
    "var_dataframe = pd.DataFrame(var_dataset)\n",
    "\n",
    "var_cases = var_dataframe['frequency'].sum()\n",
    "\n",
    "print(var_cases)"
   ],
   "metadata": {
    "collapsed": false,
    "ExecuteTime": {
     "end_time": "2023-05-24T08:31:09.728464400Z",
     "start_time": "2023-05-24T08:31:09.610016500Z"
    }
   }
  },
  {
   "cell_type": "code",
   "execution_count": 17,
   "outputs": [
    {
     "name": "stdout",
     "output_type": "stream",
     "text": [
      "5    0.285714\n",
      "Name: frequency, dtype: float64\n"
     ]
    }
   ],
   "source": [
    "var_probability = var_dataframe.loc[var_dataframe['edge'] == 6, 'frequency'] / var_cases\n",
    "\n",
    "print(var_probability)"
   ],
   "metadata": {
    "collapsed": false,
    "ExecuteTime": {
     "end_time": "2023-05-24T08:31:09.731462800Z",
     "start_time": "2023-05-24T08:31:09.627012700Z"
    }
   }
  },
  {
   "cell_type": "markdown",
   "source": [
    "● La probabilidad de conseguir un número impar en un lanzamiento."
   ],
   "metadata": {
    "collapsed": false
   }
  },
  {
   "cell_type": "code",
   "execution_count": 18,
   "outputs": [],
   "source": [
    "var_odd = var_dataframe.loc[var_dataframe['edge'] % 2 != 0, 'frequency']\n",
    "\n",
    "var_probability = var_odd.sum() / var_cases\n",
    "\n",
    "print(var_probability)"
   ],
   "metadata": {
    "collapsed": false,
    "ExecuteTime": {
     "end_time": "2023-05-24T08:31:09.755375Z",
     "start_time": "2023-05-24T08:31:09.657507500Z"
    }
   }
  },
  {
   "cell_type": "markdown",
   "source": [
    "Caso 2\n",
    "Se lanzan dos dados al aire y se anota la suma de los puntos obtenidos. Se pide:\n",
    "● probabilidad de que salga el 7.\n",
    "● La probabilidad de que el número obtenido sea par.\n",
    "● La probabilidad de que el número obtenido sea múltiplo de 3."
   ],
   "metadata": {
    "collapsed": false
   }
  },
  {
   "cell_type": "code",
   "execution_count": 18,
   "outputs": [],
   "source": [],
   "metadata": {
    "collapsed": false
   }
  },
  {
   "cell_type": "markdown",
   "source": [
    "Caso 3\n",
    "Se lanzan al aire 3 monedas iguales. Calcula la probabilidad de que salgan dos caras y una cruz"
   ],
   "metadata": {
    "collapsed": false
   }
  },
  {
   "cell_type": "code",
   "execution_count": 18,
   "outputs": [],
   "source": [],
   "metadata": {
    "collapsed": false
   }
  },
  {
   "cell_type": "markdown",
   "source": [
    "Caso 4\n",
    "Una bolsa contiene 2 bolas negras y 3 bolas blancas. Otra bolsa tiene 4 bolas negras y 2 blancas. Se elige una de las bolsas al azar y se extrae una bola. Calcular la probabilidad de:\n",
    "a.- La bola es blanca y de la primera bolsa.\n",
    "b.- La bola es blanca.\n",
    "c.- Si la bola es negra, ¿cuál es la probabilidad de que sea de la segunda bolsa?"
   ],
   "metadata": {
    "collapsed": false
   }
  },
  {
   "cell_type": "code",
   "execution_count": 18,
   "outputs": [],
   "source": [],
   "metadata": {
    "collapsed": false
   }
  }
 ],
 "metadata": {
  "kernelspec": {
   "display_name": "Python 3",
   "language": "python",
   "name": "python3"
  },
  "language_info": {
   "codemirror_mode": {
    "name": "ipython",
    "version": 2
   },
   "file_extension": ".py",
   "mimetype": "text/x-python",
   "name": "python",
   "nbconvert_exporter": "python",
   "pygments_lexer": "ipython2",
   "version": "2.7.6"
  }
 },
 "nbformat": 4,
 "nbformat_minor": 0
}
