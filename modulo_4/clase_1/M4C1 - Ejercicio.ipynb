{
 "cells": [
  {
   "cell_type": "code",
   "execution_count": 46,
   "metadata": {
    "collapsed": true,
    "ExecuteTime": {
     "end_time": "2023-05-30T05:20:46.407130800Z",
     "start_time": "2023-05-30T05:20:45.999314300Z"
    }
   },
   "outputs": [],
   "source": [
    "import numpy as np\n",
    "import pandas as pd"
   ]
  },
  {
   "cell_type": "markdown",
   "source": [
    "Caso 1:\n",
    "Un dado está trucado, de forma que las probabilidades de obtener las distintas caras son proporcionales a los números de estas.\n",
    "Hallar:\n",
    "● La probabilidad de obtener el 6 en un lanzamiento"
   ],
   "metadata": {
    "collapsed": false
   }
  },
  {
   "cell_type": "code",
   "execution_count": 47,
   "outputs": [
    {
     "name": "stdout",
     "output_type": "stream",
     "text": [
      "cases = 21\n"
     ]
    }
   ],
   "source": [
    "dataset = {\n",
    "    'edge': [1, 2, 3, 4, 5, 6],\n",
    "    'frequency': [1, 2, 3, 4, 5, 6]\n",
    "}\n",
    "\n",
    "dataframe = pd.DataFrame(dataset)\n",
    "\n",
    "cases = dataframe['frequency'].sum()\n",
    "\n",
    "print(f\"cases = {cases}\")"
   ],
   "metadata": {
    "collapsed": false,
    "ExecuteTime": {
     "end_time": "2023-05-30T05:20:46.418123600Z",
     "start_time": "2023-05-30T05:20:46.033293200Z"
    }
   }
  },
  {
   "cell_type": "code",
   "execution_count": 48,
   "outputs": [
    {
     "name": "stdout",
     "output_type": "stream",
     "text": [
      "probability_6 = 21\n"
     ]
    }
   ],
   "source": [
    "probability_6 = dataframe.loc[dataframe['edge'] == 6, 'frequency'].values[0] / cases\n",
    "\n",
    "print(f\"probability_6 = {cases}\")"
   ],
   "metadata": {
    "collapsed": false,
    "ExecuteTime": {
     "end_time": "2023-05-30T05:20:46.424119800Z",
     "start_time": "2023-05-30T05:20:46.071269400Z"
    }
   }
  },
  {
   "cell_type": "markdown",
   "source": [
    "● La probabilidad de conseguir un número impar en un lanzamiento."
   ],
   "metadata": {
    "collapsed": false
   }
  },
  {
   "cell_type": "code",
   "execution_count": 49,
   "outputs": [
    {
     "name": "stdout",
     "output_type": "stream",
     "text": [
      "probability_odd = 0.4286\n"
     ]
    }
   ],
   "source": [
    "odd = dataframe.loc[dataframe['edge'] % 2 != 0, 'frequency']\n",
    "\n",
    "probability_odd = odd.sum() / cases\n",
    "\n",
    "print(f\"probability_odd = {probability_odd:.4f}\")"
   ],
   "metadata": {
    "collapsed": false,
    "ExecuteTime": {
     "end_time": "2023-05-30T05:20:46.427120300Z",
     "start_time": "2023-05-30T05:20:46.097766400Z"
    }
   }
  },
  {
   "cell_type": "markdown",
   "source": [
    "Caso 2\n",
    "Se lanzan dos dados al aire y se anota la suma de los puntos obtenidos. Se pide:\n",
    "● probabilidad de que salga el 7"
   ],
   "metadata": {
    "collapsed": false
   }
  },
  {
   "cell_type": "code",
   "execution_count": 50,
   "outputs": [
    {
     "name": "stdout",
     "output_type": "stream",
     "text": [
      "probability_7 = 0.1650\n"
     ]
    }
   ],
   "source": [
    "plays = 1000\n",
    "\n",
    "dice_rolls = np.random.randint(1, 7, size=(plays, 2))\n",
    "\n",
    "points = dice_rolls.sum(axis=1)\n",
    "\n",
    "plays_7 = np.count_nonzero(points == 7)\n",
    "\n",
    "probability_7 = plays_7 / plays\n",
    "\n",
    "print(f\"probability_7 = {probability_7:.4f}\")"
   ],
   "metadata": {
    "collapsed": false,
    "ExecuteTime": {
     "end_time": "2023-05-30T05:20:46.433113100Z",
     "start_time": "2023-05-30T05:20:46.132745800Z"
    }
   }
  },
  {
   "cell_type": "markdown",
   "source": [
    "● La probabilidad de que el número obtenido sea par"
   ],
   "metadata": {
    "collapsed": false
   }
  },
  {
   "cell_type": "code",
   "execution_count": 51,
   "outputs": [
    {
     "name": "stdout",
     "output_type": "stream",
     "text": [
      "probability_pair = 0.5000\n"
     ]
    }
   ],
   "source": [
    "dataset = np.arange(1, 7)\n",
    "\n",
    "dataframe = pd.DataFrame(dataset, columns=['edge'])\n",
    "\n",
    "combinations = pd.merge(dataframe, dataframe, how='cross', suffixes=['_1', '_2'])\n",
    "\n",
    "combinations['sum'] = combinations['edge_1'] + combinations['edge_2']\n",
    "\n",
    "combinations_odd = combinations[combinations['sum'] % 2 != 0]\n",
    "combinations_pair = combinations[combinations['sum'] % 2 == 0]\n",
    "\n",
    "probability_pair = len(combinations_pair) / len(combinations)\n",
    "\n",
    "print(f\"probability_pair = {probability_pair:.4f}\")"
   ],
   "metadata": {
    "collapsed": false,
    "ExecuteTime": {
     "end_time": "2023-05-30T05:20:46.439108600Z",
     "start_time": "2023-05-30T05:20:46.164725600Z"
    }
   }
  },
  {
   "cell_type": "markdown",
   "source": [
    "● La probabilidad de que el número obtenido sea múltiplo de 3"
   ],
   "metadata": {
    "collapsed": false
   }
  },
  {
   "cell_type": "code",
   "execution_count": 52,
   "outputs": [
    {
     "name": "stdout",
     "output_type": "stream",
     "text": [
      "probability_triple = 0.3333\n"
     ]
    }
   ],
   "source": [
    "combinations_triple = combinations[combinations['sum'] % 3 == 0]\n",
    "\n",
    "probability_triple = len(combinations_triple) / len(combinations)\n",
    "\n",
    "print(f\"probability_triple = {probability_triple:.4f}\")"
   ],
   "metadata": {
    "collapsed": false,
    "ExecuteTime": {
     "end_time": "2023-05-30T05:20:46.440109Z",
     "start_time": "2023-05-30T05:20:46.208217900Z"
    }
   }
  },
  {
   "cell_type": "markdown",
   "source": [
    "Caso 3\n",
    "● Se lanzan al aire 3 monedas iguales. Calcula la probabilidad de que salgan dos caras y una cruz"
   ],
   "metadata": {
    "collapsed": false
   }
  },
  {
   "cell_type": "code",
   "execution_count": 53,
   "outputs": [
    {
     "name": "stdout",
     "output_type": "stream",
     "text": [
      "  coin_1 coin_2 coin\n",
      "0      C      C    C\n",
      "1      C      C    X\n",
      "2      C      X    C\n",
      "3      C      X    X\n",
      "4      X      C    C\n",
      "5      X      C    X\n",
      "6      X      X    C\n",
      "7      X      X    X\n",
      "probability_ccx = 0.3750\n"
     ]
    }
   ],
   "source": [
    "dataset = ['C', 'X']\n",
    "\n",
    "dataframe = pd.DataFrame(dataset, columns=['coin'])\n",
    "\n",
    "combinations = pd.merge(dataframe, dataframe, how='cross', suffixes=['_1', '_2'])\n",
    "combinations = pd.merge(combinations, dataframe, how='cross', suffixes=['', '_3'])\n",
    "\n",
    "print(combinations)\n",
    "\n",
    "combination_ccx = combinations[combinations.apply(lambda x: x.tolist().count('C') == 2 and x.tolist().count('X') == 1, axis=1)]\n",
    "\n",
    "probability_ccx = len(combination_ccx) / len(combinations)\n",
    "\n",
    "print(f\"probability_ccx = {probability_ccx:.4f}\")"
   ],
   "metadata": {
    "collapsed": false,
    "ExecuteTime": {
     "end_time": "2023-05-30T05:20:46.441108600Z",
     "start_time": "2023-05-30T05:20:46.250191500Z"
    }
   }
  },
  {
   "cell_type": "markdown",
   "source": [
    "Caso 4\n",
    "Una bolsa contiene 2 bolas negras y 3 bolas blancas. Otra bolsa tiene 4 bolas negras y 2 blancas. Se elige una de las bolsas al azar y se extrae una bola. Calcular la probabilidad de:\n",
    "● La bola es blanca y de la primera bolsa."
   ],
   "metadata": {
    "collapsed": false
   }
  },
  {
   "cell_type": "code",
   "execution_count": 54,
   "outputs": [
    {
     "name": "stdout",
     "output_type": "stream",
     "text": [
      "probability_w_1 = 0.3000\n"
     ]
    }
   ],
   "source": [
    "dataset = {\n",
    "    'black': [2, 4],\n",
    "    'white': [3, 2],\n",
    "    'probability': [.5, .5],\n",
    "}\n",
    "\n",
    "dataframe = pd.DataFrame(dataset)\n",
    "\n",
    "probability_w_1 = (dataframe['white'][0] / (dataframe['black'][0] + dataframe['white'][0])) * dataframe['probability'][0]\n",
    "\n",
    "print(f\"probability_w_1 = {probability_w_1:.4f}\")"
   ],
   "metadata": {
    "collapsed": false,
    "ExecuteTime": {
     "end_time": "2023-05-30T05:20:46.444106500Z",
     "start_time": "2023-05-30T05:20:46.323663200Z"
    }
   }
  },
  {
   "cell_type": "markdown",
   "source": [
    "● La bola es blanca"
   ],
   "metadata": {
    "collapsed": false
   }
  },
  {
   "cell_type": "code",
   "execution_count": 55,
   "outputs": [
    {
     "name": "stdout",
     "output_type": "stream",
     "text": [
      "probability_w = 0.4545\n"
     ]
    }
   ],
   "source": [
    "combinations = dataframe['black'].sum() + dataframe['white'].sum()\n",
    "\n",
    "probability_w = (dataframe['white'].sum() / combinations)\n",
    "\n",
    "print(f\"probability_w = {probability_w:.4f}\")"
   ],
   "metadata": {
    "collapsed": false,
    "ExecuteTime": {
     "end_time": "2023-05-30T05:20:46.448104800Z",
     "start_time": "2023-05-30T05:20:46.349646200Z"
    }
   }
  },
  {
   "cell_type": "markdown",
   "source": [
    "● Si la bola es negra, ¿cuál es la probabilidad de que sea de la segunda bolsa?"
   ],
   "metadata": {
    "collapsed": false
   }
  },
  {
   "cell_type": "code",
   "execution_count": 56,
   "outputs": [
    {
     "name": "stdout",
     "output_type": "stream",
     "text": [
      "probability_b_2 = 0.6250\n"
     ]
    }
   ],
   "source": [
    "probability_b_2 = (dataframe['black'][1] / (dataframe['black'][1] + dataframe['white'][1])) * dataframe['probability'][1] / (\n",
    "    (dataframe['black'][0] / (dataframe['black'][0] + dataframe['white'][0])) * dataframe['probability'][0] +\n",
    "    (dataframe['black'][1] / (dataframe['black'][1] + dataframe['white'][1])) * dataframe['probability'][1])\n",
    "\n",
    "print(f\"probability_b_2 = {probability_b_2:.4f}\")"
   ],
   "metadata": {
    "collapsed": false,
    "ExecuteTime": {
     "end_time": "2023-05-30T05:20:46.448104800Z",
     "start_time": "2023-05-30T05:20:46.391626500Z"
    }
   }
  },
  {
   "cell_type": "markdown",
   "source": [
    "P: Concepto de probabilidad\n",
    "R: Posibilidad de que ocurra un evento en particular. Esta probabilidad se expresa como un número entre 0 y 1, donde 0 representa la certeza de que un evento no ocurrirá y 1 representa la certeza de que un evento ocurrirá."
   ],
   "metadata": {
    "collapsed": false
   }
  }
 ],
 "metadata": {
  "kernelspec": {
   "display_name": "Python 3",
   "language": "python",
   "name": "python3"
  },
  "language_info": {
   "codemirror_mode": {
    "name": "ipython",
    "version": 2
   },
   "file_extension": ".py",
   "mimetype": "text/x-python",
   "name": "python",
   "nbconvert_exporter": "python",
   "pygments_lexer": "ipython2",
   "version": "2.7.6"
  }
 },
 "nbformat": 4,
 "nbformat_minor": 0
}
