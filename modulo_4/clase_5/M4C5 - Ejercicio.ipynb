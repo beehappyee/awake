{
 "cells": [
  {
   "cell_type": "code",
   "execution_count": 11,
   "metadata": {
    "collapsed": true,
    "ExecuteTime": {
     "end_time": "2023-05-30T07:09:43.424313500Z",
     "start_time": "2023-05-30T07:09:43.360832800Z"
    }
   },
   "outputs": [],
   "source": [
    "from scipy import stats\n",
    "import numpy as np"
   ]
  },
  {
   "cell_type": "code",
   "execution_count": 12,
   "outputs": [
    {
     "name": "stdout",
     "output_type": "stream",
     "text": [
      "mean = 744.8500\n"
     ]
    }
   ],
   "source": [
    "dataset = np.array([710, 774, 814, 768, 823, 732, 675, 755, 770, 660, 654, 757, 736, 677, 797, 760, 718, 774, 747, 796])\n",
    "\n",
    "mean = np.mean(dataset)\n",
    "print(f\"mean = {mean:.4f}\")"
   ],
   "metadata": {
    "collapsed": false,
    "ExecuteTime": {
     "end_time": "2023-05-30T07:09:43.425314300Z",
     "start_time": "2023-05-30T07:09:43.382824500Z"
    }
   }
  },
  {
   "cell_type": "code",
   "execution_count": 13,
   "outputs": [
    {
     "name": "stdout",
     "output_type": "stream",
     "text": [
      "Hay evidencia suficiente para afirmar que los empleados consumen más que el promedio provincial.\n",
      "p_value = 0.0111\n"
     ]
    }
   ],
   "source": [
    "provincial_mean  = 721\n",
    "\n",
    "# Realizar prueba de hipótesis\n",
    "result = stats.ttest_1samp(dataset, provincial_mean , alternative='greater')\n",
    "\n",
    "# Obtener el valor p dividiendo entre 2 para obtener un valor de cola única (prueba de una cola)\n",
    "p_value = result.pvalue / 2\n",
    "\n",
    "# Comparar el valor p con el nivel de significancia\n",
    "if p_value < 0.05:\n",
    "    print(\"Hay evidencia suficiente para afirmar que los empleados consumen más que el promedio provincial.\")\n",
    "else:\n",
    "    print(\"No hay suficiente evidencia para afirmar que los empleados consumen más que el promedio provincial.\")\n",
    "\n",
    "print(f\"p_value = {p_value:.4f}\")"
   ],
   "metadata": {
    "collapsed": false,
    "ExecuteTime": {
     "end_time": "2023-05-30T07:09:43.427312Z",
     "start_time": "2023-05-30T07:09:43.397330900Z"
    }
   }
  },
  {
   "cell_type": "markdown",
   "source": [
    "P: Pruebas de hipótesis\n",
    "R: método estadístico utilizado para tomar decisiones sobre una afirmación o suposición acerca de una población basada en información o evidencia muestral"
   ],
   "metadata": {
    "collapsed": false
   }
  },
  {
   "cell_type": "markdown",
   "source": [
    "P: Hipótesis nulas y alternativas\n",
    "R: son dos afirmaciones opuestas que se comparan y evalúan utilizando datos muestrales"
   ],
   "metadata": {
    "collapsed": false
   }
  },
  {
   "cell_type": "markdown",
   "source": [
    "P: El valor P\n",
    "R: es una medida que ayuda a tomar decisiones en las pruebas de hipótesis"
   ],
   "metadata": {
    "collapsed": false
   }
  }
 ],
 "metadata": {
  "kernelspec": {
   "display_name": "Python 3",
   "language": "python",
   "name": "python3"
  },
  "language_info": {
   "codemirror_mode": {
    "name": "ipython",
    "version": 2
   },
   "file_extension": ".py",
   "mimetype": "text/x-python",
   "name": "python",
   "nbconvert_exporter": "python",
   "pygments_lexer": "ipython2",
   "version": "2.7.6"
  }
 },
 "nbformat": 4,
 "nbformat_minor": 0
}
