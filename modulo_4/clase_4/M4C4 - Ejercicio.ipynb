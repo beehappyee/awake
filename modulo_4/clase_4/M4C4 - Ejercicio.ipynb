{
 "cells": [
  {
   "cell_type": "code",
   "execution_count": 1,
   "metadata": {
    "collapsed": true,
    "ExecuteTime": {
     "end_time": "2023-05-30T06:56:43.044904100Z",
     "start_time": "2023-05-30T06:56:42.720286200Z"
    }
   },
   "outputs": [],
   "source": [
    "import numpy as np"
   ]
  },
  {
   "cell_type": "markdown",
   "source": [
    "Caso 1:\n",
    "Para estimar la proporción de habitantes de una ciudad que poseen ordenador personal se toma una muestra de tamaño n. Calcula el valor mínimo de n para garantizar, con un nivel de confianza del 95 %, que el error de estimación no supera el 2 %. (Como se desconoce la proporción, se hará a partir del caso más desfavorable, que será 0,5)"
   ],
   "metadata": {
    "collapsed": false
   }
  },
  {
   "cell_type": "code",
   "execution_count": 2,
   "outputs": [
    {
     "name": "stdout",
     "output_type": "stream",
     "text": [
      "Minimum sample size = 2401\n"
     ]
    }
   ],
   "source": [
    "confidence = .95\n",
    "maximum_error = .02\n",
    "maximum_proportion = .5\n",
    "\n",
    "# Calcular tamaño de la muestra mediante valor aleatorio de la distribucion\n",
    "z = np.abs(np.random.standard_normal())\n",
    "\n",
    "sample_size = np.ceil((z**2 * maximum_proportion * (1 - maximum_proportion)) / maximum_error**2)\n",
    "\n",
    "# Ajustar tamaño de la muestra para garantizar nivel de confianza\n",
    "while True:\n",
    "\n",
    "    sample = np.random.choice([0, 1], size=int(sample_size), p=[1 - maximum_proportion, maximum_proportion])\n",
    "\n",
    "    estimated_proportion = np.mean(sample)\n",
    "\n",
    "    estimation_error = np.sqrt((estimated_proportion * (1 - estimated_proportion)) / sample_size)\n",
    "\n",
    "    # Valor crítico para un nivel de confianza del 95%\n",
    "    confidence_interval = 1.96 * estimation_error\n",
    "\n",
    "    if confidence_interval <= maximum_error:\n",
    "        break\n",
    "\n",
    "    sample_size += 1\n",
    "\n",
    "print(f\"Minimum sample size = {int(sample_size)}\")"
   ],
   "metadata": {
    "collapsed": false,
    "ExecuteTime": {
     "end_time": "2023-05-30T06:56:43.420335700Z",
     "start_time": "2023-05-30T06:56:43.043904800Z"
    }
   }
  },
  {
   "cell_type": "markdown",
   "source": [
    "Caso 2\n",
    "Un fabricante de electrodomésticos sabe que la vida media de estos sigue una\n",
    "distribución normal con media 100 meses y desviación típica 12 meses.\n",
    "Determina el mínimo tamaño muestral que garantiza, con una probabilidad\n",
    "de 0,98, que la vida media de los electrodomésticos en dicha muestra se\n",
    "encuentre entre 90 y 100 meses."
   ],
   "metadata": {
    "collapsed": false
   }
  },
  {
   "cell_type": "code",
   "execution_count": 3,
   "outputs": [
    {
     "name": "stdout",
     "output_type": "stream",
     "text": [
      "Minimum sample size = 28\n"
     ]
    }
   ],
   "source": [
    "probability = 0.98\n",
    "mean = 100\n",
    "standard_deviation = 12\n",
    "range = 100 - 90\n",
    "maximum_error = range / 2\n",
    "\n",
    "# Calcular tamaño de la muestra mediante valor aleatorio de la distribucion\n",
    "z = np.abs(np.random.standard_normal())\n",
    "\n",
    "sample_size = np.ceil((z * standard_deviation / maximum_error) ** 2)\n",
    "\n",
    "# Ajustar tamaño de la muestra para garantizar la probabilidad deseada\n",
    "while True:\n",
    "    sample = np.random.normal(loc=mean, scale=standard_deviation, size=int(sample_size))\n",
    "    estimated_mean = np.mean(sample)\n",
    "    estimation_error = np.abs(estimated_mean - mean)\n",
    "    confidence = 1 - estimation_error / maximum_error\n",
    "\n",
    "    if confidence >= probability:\n",
    "        break\n",
    "\n",
    "    sample_size += 1\n",
    "\n",
    "print(f\"Minimum sample size = {int(sample_size)}\")"
   ],
   "metadata": {
    "collapsed": false,
    "ExecuteTime": {
     "end_time": "2023-05-30T06:56:43.498360700Z",
     "start_time": "2023-05-30T06:56:43.431332400Z"
    }
   }
  },
  {
   "cell_type": "markdown",
   "source": [
    "Caso 3\n",
    "Se desea obtener la media de una variable aleatoria que se distribuye normalmente con una desviación típica de 3,2. Para ello se toma una muestra de 64 individuos obteniéndose una media de 32,5.\n",
    "● ¿Con qué nivel de confianza se puede afirmar que la media de la\n",
    "población está entre 31,5 y 33,5?"
   ],
   "metadata": {
    "collapsed": false
   }
  },
  {
   "cell_type": "code",
   "execution_count": 4,
   "outputs": [
    {
     "name": "stdout",
     "output_type": "stream",
     "text": [
      "Confidence level: 90.0%\n"
     ]
    }
   ],
   "source": [
    "standard_deviation = 3.2\n",
    "sample_mean = 32.5\n",
    "significance_level = 0.05\n",
    "samples = 64\n",
    "\n",
    "# Calcular error estándar de la media muestral\n",
    "standard_error = standard_deviation / np.sqrt(samples)\n",
    "\n",
    "# Calcular intervalo de confianza con un valor critico del 95%\n",
    "critical_value = 1.96\n",
    "\n",
    "interval = (sample_mean - critical_value * standard_error, sample_mean + critical_value * standard_error)\n",
    "\n",
    "# Verificar el intervalo de confianza\n",
    "if interval[0] <= 31.5 and interval[1] >= 33.5:\n",
    "    confidence_level = 1 - significance_level\n",
    "else:\n",
    "    confidence_level = 1 - (significance_level * 2)  # Two-tailed test\n",
    "\n",
    "print(f\"Confidence level: {confidence_level * 100}%\")"
   ],
   "metadata": {
    "collapsed": false,
    "ExecuteTime": {
     "end_time": "2023-05-30T06:56:43.515356800Z",
     "start_time": "2023-05-30T06:56:43.447320300Z"
    }
   }
  },
  {
   "cell_type": "markdown",
   "source": [
    "● Si la desviación típica de la población fuera 3, ¿qué tamaño mínimo debería tener la muestra con la cual estimamos la media poblacional si queremos que el nivel de confianza sea del 99 %, y el error admisible no supere el valor de 0,75?"
   ],
   "metadata": {
    "collapsed": false
   }
  },
  {
   "cell_type": "code",
   "execution_count": 5,
   "outputs": [
    {
     "name": "stdout",
     "output_type": "stream",
     "text": [
      "Minimum sample size: 20\n"
     ]
    }
   ],
   "source": [
    "confidence_level = 0.99\n",
    "maximum_error = 0.75\n",
    "standard_deviation = 3\n",
    "\n",
    "# Calcular Z para el nivel de confianza deseado basado en valores aleatorio de una distribucion normal estandar\n",
    "z = np.abs(np.random.standard_normal())\n",
    "\n",
    "z_score = np.abs(np.random.standard_normal()) # Random value from standard normal distribution\n",
    "\n",
    "# Calcular tamaño mínimo de muestra\n",
    "samples = np.ceil((z_score * standard_deviation / maximum_error)**2)\n",
    "\n",
    "print(f\"Minimum sample size: {int(samples)}\")"
   ],
   "metadata": {
    "collapsed": false,
    "ExecuteTime": {
     "end_time": "2023-05-30T06:56:43.528653700Z",
     "start_time": "2023-05-30T06:56:43.473304500Z"
    }
   }
  },
  {
   "cell_type": "markdown",
   "source": [
    "P: Técnicas de muestreo\n",
    "R: son herramientas utilizadas para seleccionar muestras representativas de poblaciones más grandes, permitiendo hacer inferencias y generalizaciones sobre las características de la población en base a los datos obtenidos de la muestra seleccionada"
   ],
   "metadata": {
    "collapsed": false
   }
  },
  {
   "cell_type": "markdown",
   "source": [
    "P: Muestreo probabilístico\n",
    "R: se basa en la asignación de probabilidades conocidas y no nulas a cada elemento de la población, lo que garantiza una selección imparcial y permite realizar inferencias confiables sobre la población más amplia"
   ],
   "metadata": {
    "collapsed": false
   }
  },
  {
   "cell_type": "markdown",
   "source": [
    "P: Muestreo no probabilístico\n",
    "R: implica la selección de elementos de la población de manera no aleatoria, basada en criterios subjetivos o conveniencia"
   ],
   "metadata": {
    "collapsed": false
   }
  }
 ],
 "metadata": {
  "kernelspec": {
   "display_name": "Python 3",
   "language": "python",
   "name": "python3"
  },
  "language_info": {
   "codemirror_mode": {
    "name": "ipython",
    "version": 2
   },
   "file_extension": ".py",
   "mimetype": "text/x-python",
   "name": "python",
   "nbconvert_exporter": "python",
   "pygments_lexer": "ipython2",
   "version": "2.7.6"
  }
 },
 "nbformat": 4,
 "nbformat_minor": 0
}
