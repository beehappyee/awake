{
 "cells": [
  {
   "cell_type": "code",
   "execution_count": null,
   "metadata": {
    "collapsed": true
   },
   "outputs": [],
   "source": [
    "# Se desea tomar una muestra aleatoria estratificada de las personas mayores\n",
    "# de edad de un municipio, cuyos estratos son los siguientes intervalos de\n",
    "# edades, en años: de 18 a 30, de 31 a 45, de 46 a 60 y mayores de 60. En el\n",
    "# primer intervalo hay 7500 personas, en el segundo hay 8400, en el tercero\n",
    "# 5700 y en el cuarto 3000.\n",
    "# Calcule el tamaño de la muestra total y su composición, sabiendo que el\n",
    "# muestreo se hace con afijación proporcional y se han elegido al azar 375\n",
    "# personas del primer estrato.\n",
    "\n",
    "# n_h = (N_h / N) * n\n",
    "# n_h = 375\n",
    "# N_h = 7500\n",
    "# N = 24600\n",
    "# n = ?\n",
    "\n",
    "# n = 1230\n"
   ]
  },
  {
   "cell_type": "markdown",
   "source": [
    "# Si el contenido en gr. de un determinado medicamento X sigue una\n",
    "# distribución N(7.5,0.3), calcular la probabilidad de que para una muestra de\n",
    "# tamaño n=5, se obtenga medio menor que 7, Pr ( X ≤ 7).\n",
    "\n",
    "\n",
    "\n",
    "\n",
    "Dado que el contenido en gramos del medicamento X sigue una distribución normal con media μ = 7.5 y desviación estándar σ = 0.3, podemos estandarizar la variable aleatoria X para calcular la probabilidad de que para una muestra de tamaño n=5, se obtenga medio menor que 7 (Pr(X ≤ 7)).\n",
    "\n",
    "La estandarización se hace a través de la transformación Z = (X - μ) / (σ / sqrt(n)), donde Z sigue una distribución normal estándar N(0,1).\n",
    "\n",
    "Por lo tanto, tenemos:\n",
    "\n",
    "Z = (X - μ) / (σ / sqrt(n)) = (7 - 7.5) / (0.3 / sqrt(5))\n",
    "\n",
    "Pr(X ≤ 7) = Pr(Z ≤ (7 - 7.5) / (0.3 / sqrt(5)))\n",
    "\n",
    "Este si ---> Pr(Z ≤ -3.73) --> 0.0001\n",
    "\n",
    "\n",
    "\n",
    "\n",
    "\n",
    "Para calcular esta probabilidad, podemos utilizar una tabla de valores estándar de la distribución normal o una calculadora que proporcione la función de distribución acumulada de la distribución normal estándar.\n",
    "\n",
    "Usando una tabla de la distribución normal estándar, tenemos:\n",
    "\n",
    "Pr(Z ≤ -2.91) = 0.002\n",
    "\n",
    "Por lo tanto, la probabilidad de que para una muestra de tamaño n=5, se obtenga medio menor que 7 (Pr(X ≤ 7)) es de aproximadamente 0.002 o 0.2%.\n",
    "\n",
    "\n",
    "\n",
    "\n",
    "\n",
    "\n",
    "\n",
    "Para resolver este problema, necesitamos encontrar la distribución de la media muestral. Dado que la distribución de la población es normal, la distribución de la media muestral también será normal. La media de la distribución de la media muestral será igual a la media de la población, es decir, 7.5 gramos. La desviación estándar de la distribución de la media muestral será igual a la desviación estándar de la población dividida por la raíz cuadrada del tamaño de la muestra. Es decir,\n",
    "\n",
    "σXˉ=σn=0.35=0.134σXˉ​=n\n",
    "​σ​=5\n",
    "\n",
    "​0.3​=0.134\n",
    "\n",
    "Ahora podemos estandarizar la variable aleatoria $\\bar{X}$ para calcular la probabilidad requerida:\n",
    "\n",
    "P(Xˉ≤7)=P(Xˉ−μXˉσXˉ≤7−7.50.134)=P(Z≤−3.73)P(Xˉ≤7)​=P(σXˉ​Xˉ−μXˉ​​≤0.1347−7.5​)=P(Z≤−3.73)​\n",
    "\n",
    "donde $Z$ es una variable aleatoria estándar normal.\n",
    "\n",
    "Usando una tabla de la distribución normal estándar o una calculadora, podemos encontrar que $P(Z \\leq -3.73) \\approx 0.0001$.\n",
    "\n",
    "Por lo tanto, la probabilidad de que para una muestra de tamaño $n=5$ se obtenga medio menor que 7 es aproximadamente 0.0001. Es decir, es muy poco probable que esto ocurra."
   ],
   "metadata": {
    "collapsed": false
   }
  }
 ],
 "metadata": {
  "kernelspec": {
   "display_name": "Python 3",
   "language": "python",
   "name": "python3"
  },
  "language_info": {
   "codemirror_mode": {
    "name": "ipython",
    "version": 2
   },
   "file_extension": ".py",
   "mimetype": "text/x-python",
   "name": "python",
   "nbconvert_exporter": "python",
   "pygments_lexer": "ipython2",
   "version": "2.7.6"
  }
 },
 "nbformat": 4,
 "nbformat_minor": 0
}
