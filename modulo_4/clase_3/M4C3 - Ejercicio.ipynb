{
 "cells": [
  {
   "cell_type": "code",
   "execution_count": 32,
   "outputs": [],
   "source": [
    "import numpy as np\n",
    "import scipy.stats as stats"
   ],
   "metadata": {
    "collapsed": false,
    "ExecuteTime": {
     "end_time": "2023-05-30T06:15:51.717431600Z",
     "start_time": "2023-05-30T06:15:51.585999300Z"
    }
   }
  },
  {
   "cell_type": "markdown",
   "source": [
    "Caso 1: Muestreo estratificado con afijación proporcional\n",
    "Se desea tomar una muestra aleatoria estratificada de las personas mayores de edad de un municipio, cuyos estratos son los siguientes intervalos de edades, en años: de 18 a 30, de 31 a 45, de 46 a 60 y mayores de 60. En el primer intervalo hay 7500 personas, en el segundo hay 8400, en el tercero 5700 y en el cuarto 3000.\n",
    "Calcule el tamaño de la muestra total y su composición, sabiendo que el muestreo se hace con afijación proporcional y se han elegido al azar 375 personas del primer estrato."
   ],
   "metadata": {
    "collapsed": false
   }
  },
  {
   "cell_type": "code",
   "execution_count": 33,
   "outputs": [
    {
     "name": "stdout",
     "output_type": "stream",
     "text": [
      "samples = 1230\n",
      "composition =  [375. 420. 285. 150.]\n"
     ]
    }
   ],
   "source": [
    "# determinar la proporción de cada estrato\n",
    "layers = np.array([7500, 8400, 5700, 3000])\n",
    "\n",
    "# definir la muestra del primer estrato\n",
    "samples_1 = 375\n",
    "\n",
    "# obtener totalidad de personas\n",
    "total = np.sum(layers)\n",
    "\n",
    "# proporcion por estrato\n",
    "layers_size = layers / total\n",
    "\n",
    "# tamaño total de la muestra\n",
    "samples = np.sum(layers) * (samples_1 / layers[0])\n",
    "\n",
    "# composicion de la muestra por estrato\n",
    "composition = layers * (samples / total)\n",
    "\n",
    "print(f\"samples = {samples:.0f}\")\n",
    "\n",
    "print(\"composition = \", composition)"
   ],
   "metadata": {
    "collapsed": false,
    "ExecuteTime": {
     "end_time": "2023-05-30T06:15:51.718431400Z",
     "start_time": "2023-05-30T06:15:51.614981300Z"
    }
   }
  },
  {
   "cell_type": "markdown",
   "source": [
    "Caso 2:\n",
    "Si el contenido en gr. de un determinado medicamento X sigue una distribución N(7.5,0.3), calcular la probabilidad de que para una muestra de tamaño n=5, se obtenga medio menor que 7, Pr ( X ≤ 7)"
   ],
   "metadata": {
    "collapsed": false
   }
  },
  {
   "cell_type": "code",
   "execution_count": 34,
   "outputs": [
    {
     "name": "stdout",
     "output_type": "stream",
     "text": [
      "probability = 0.0001\n"
     ]
    }
   ],
   "source": [
    "mean = 7.5\n",
    "sigma = 0.3\n",
    "samples = 5\n",
    "\n",
    "# desviacion estandar de la media muestral\n",
    "desviation = sigma / (samples ** 0.5)\n",
    "\n",
    "# Valor a evaluar (7) estandarizado\n",
    "standarized = (7 - mean) / desviation\n",
    "\n",
    "# Calcular la probabilidad\n",
    "probability = stats.norm.cdf(standarized)\n",
    "\n",
    "# Imprimir resultado\n",
    "print(f\"probability = {probability:.4f}\")"
   ],
   "metadata": {
    "collapsed": false,
    "ExecuteTime": {
     "end_time": "2023-05-30T06:15:51.718431400Z",
     "start_time": "2023-05-30T06:15:51.644967100Z"
    }
   }
  },
  {
   "cell_type": "markdown",
   "source": [
    "P: Técnicas de muestreo\n",
    "R: son herramientas utilizadas para seleccionar muestras representativas de poblaciones más grandes, permitiendo hacer inferencias y generalizaciones sobre las características de la población en base a los datos obtenidos de la muestra seleccionada"
   ],
   "metadata": {
    "collapsed": false
   }
  },
  {
   "cell_type": "markdown",
   "source": [
    "P: Muestreo probabilístico\n",
    "R: se basa en la asignación de probabilidades conocidas y no nulas a cada elemento de la población, lo que garantiza una selección imparcial y permite realizar inferencias confiables sobre la población más amplia"
   ],
   "metadata": {
    "collapsed": false
   }
  },
  {
   "cell_type": "markdown",
   "source": [
    "P: Muestreo no probabilístico\n",
    "R: implica la selección de elementos de la población de manera no aleatoria, basada en criterios subjetivos o conveniencia"
   ],
   "metadata": {
    "collapsed": false
   }
  }
 ],
 "metadata": {
  "kernelspec": {
   "display_name": "Python 3",
   "language": "python",
   "name": "python3"
  },
  "language_info": {
   "codemirror_mode": {
    "name": "ipython",
    "version": 2
   },
   "file_extension": ".py",
   "mimetype": "text/x-python",
   "name": "python",
   "nbconvert_exporter": "python",
   "pygments_lexer": "ipython2",
   "version": "2.7.6"
  }
 },
 "nbformat": 4,
 "nbformat_minor": 0
}
