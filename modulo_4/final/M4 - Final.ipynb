{
 "cells": [
  {
   "cell_type": "code",
   "execution_count": 5,
   "metadata": {
    "collapsed": true,
    "ExecuteTime": {
     "end_time": "2023-05-30T07:39:29.031032600Z",
     "start_time": "2023-05-30T07:39:28.928577400Z"
    }
   },
   "outputs": [],
   "source": [
    "import numpy as np\n",
    "import scipy.stats as stats"
   ]
  },
  {
   "cell_type": "markdown",
   "source": [
    "Caso 1:\n",
    "Cierta compañía aérea ha requerido de sus servicios profesionales para llevar a cabo un estudio relacionado con la cantidad de pasajeros que llegan al país en vuelos internacionales, dicho estudio tiene relación con la enfermedad de COVID\u000219. De acuerdo a la información que maneja la compañía, la cantidad de pasajeros que llegan en vuelos internacionales se comporta aproximadamente normal con una media de 120 pasajeros y una varianza de 25.\n",
    "\n",
    "● Asumiendo que cada día llegan a Santiago 16 vuelos internacionales, determine la probabilidad de que durante el año (52 semanas) la cantidad total de pasajeros sea de al menos de 699500."
   ],
   "metadata": {
    "collapsed": false
   }
  },
  {
   "cell_type": "code",
   "execution_count": 6,
   "outputs": [
    {
     "name": "stdout",
     "output_type": "stream",
     "text": [
      "probability = 0.0\n"
     ]
    }
   ],
   "source": [
    "mean = 120\n",
    "variance = 25\n",
    "num_flights = 16\n",
    "weeks = 52\n",
    "total_passengers = num_flights * mean * weeks\n",
    "standard_deviation = (variance * num_flights * weeks) ** 0.5\n",
    "\n",
    "z_score = (699500 - total_passengers) / standard_deviation\n",
    "probability = 1 - stats.norm.cdf(z_score)\n",
    "\n",
    "print(f\"probability = {probability}\")"
   ],
   "metadata": {
    "collapsed": false,
    "ExecuteTime": {
     "end_time": "2023-05-30T07:39:29.045032Z",
     "start_time": "2023-05-30T07:39:28.956566100Z"
    }
   }
  },
  {
   "cell_type": "markdown",
   "source": [
    "La probabilidad obtenida es extremadamente baja y se aproxima a cero.\n",
    "Esto podría deberse a que el valor de 699,500 es muy alto en comparación con la distribución normal con media 120 y desviación estándar 25. La mayoría de los valores de la distribución se concentran cerca de la media, por lo que es muy poco probable obtener una cantidad total de pasajeros tan alta.\n",
    "Por lo tanto, la probabilidad de que la cantidad total de pasajeros sea al menos 699,500 es extremadamente baja y se acerca a cero."
   ],
   "metadata": {
    "collapsed": false
   }
  },
  {
   "cell_type": "markdown",
   "source": [
    "● De acuerdo con registros históricos se sabe que aproximadamente un 7% de los pasajeros son niños. Considerando un potencial de 400 pasajeros que llegarían en los próximos días,determine la probabilidad que menos de un 5% sean niños"
   ],
   "metadata": {
    "collapsed": false
   }
  },
  {
   "cell_type": "code",
   "execution_count": 6,
   "outputs": [],
   "source": [],
   "metadata": {
    "collapsed": false,
    "ExecuteTime": {
     "end_time": "2023-05-30T07:39:29.045032Z",
     "start_time": "2023-05-30T07:39:28.982063100Z"
    }
   }
  },
  {
   "cell_type": "code",
   "execution_count": 7,
   "outputs": [
    {
     "name": "stdout",
     "output_type": "stream",
     "text": [
      "probability = 0.0657\n"
     ]
    }
   ],
   "source": [
    "p = 0.07\n",
    "samples = 400\n",
    "x = 20 # 5% de samples\n",
    "\n",
    "# distribucion acumuluativa de la distribucion binomial\n",
    "probability = stats.binom.cdf(x, samples, p)\n",
    "\n",
    "print(f\"probability = {probability:.4f}\")"
   ],
   "metadata": {
    "collapsed": false,
    "ExecuteTime": {
     "end_time": "2023-05-30T07:39:29.046030Z",
     "start_time": "2023-05-30T07:39:28.997054300Z"
    }
   }
  },
  {
   "cell_type": "markdown",
   "source": [
    "Caso 2:\n",
    "Una empresa que se dedica a hacer en cuestas se queja de que un agente realiza en promedio 53 encuestas por semana. Se ha introducido una forma más moderna de realizar las encuestas y la empresa quiere evaluar su efectividad. Los números de encuestas realizadas en una semana por una muestra aleatoria de agentes son:\n",
    "53 57 50 55 58 54 60 52 59 62 60 60 51 59"
   ],
   "metadata": {
    "collapsed": false
   }
  },
  {
   "cell_type": "markdown",
   "source": [
    "En el nivel de significancia 0,05, puede concluirse que la cantidad media de\n",
    "entrevistas realizadas por los agentes es superior a 53 por semana? Evalúe el valor p."
   ],
   "metadata": {
    "collapsed": false
   }
  },
  {
   "cell_type": "code",
   "execution_count": 8,
   "outputs": [
    {
     "name": "stdout",
     "output_type": "stream",
     "text": [
      "p_score = 0.0000\n"
     ]
    }
   ],
   "source": [
    "dataset = [53, 57, 50, 55, 58, 54, 60, 52, 59, 62, 60, 60, 51, 59]\n",
    "\n",
    "sample_mean = np.mean(dataset)\n",
    "\n",
    "samples = len(dataset)\n",
    "\n",
    "population_mean = 53\n",
    "\n",
    "sample_std = np.std(dataset, ddof=1)\n",
    "\n",
    "p_score = 1 - stats.t.cdf(mean, df=samples-1, loc=population_mean , scale=sample_std )\n",
    "\n",
    "print(f\"p_score = {p_score:.4f}\")"
   ],
   "metadata": {
    "collapsed": false,
    "ExecuteTime": {
     "end_time": "2023-05-30T07:39:29.081385600Z",
     "start_time": "2023-05-30T07:39:29.012044600Z"
    }
   }
  }
 ],
 "metadata": {
  "kernelspec": {
   "display_name": "Python 3",
   "language": "python",
   "name": "python3"
  },
  "language_info": {
   "codemirror_mode": {
    "name": "ipython",
    "version": 2
   },
   "file_extension": ".py",
   "mimetype": "text/x-python",
   "name": "python",
   "nbconvert_exporter": "python",
   "pygments_lexer": "ipython2",
   "version": "2.7.6"
  }
 },
 "nbformat": 4,
 "nbformat_minor": 0
}
